{
 "cells": [
  {
   "cell_type": "markdown",
   "id": "d1922be4",
   "metadata": {},
   "source": [
    "### Encontro 1 - 01 de julho de 2021\n",
    "\n",
    "* Usando o JupyterLab\n",
    "    * Tipos de célula\n",
    "    * Atalhos do teclado\n",
    "* Revisão Python básico\n",
    "    * Jogo de pergunta/resposta\n",
    "        * Interpretador Python sempre RETORNA algo (pode ser nada).\n",
    "    * Variáveis\n",
    "    * Tipos de dados\n",
    "        * `str` -> texto (\"a string of characters\")\n",
    "        * `int` -> inteiro\n",
    "        * `float` -> número com vírgula (ponto flutuante)\n",
    "        * `bool` -> `True` ou `False`\n",
    "        * __Também servem como funções built-in!__\n",
    "    * Operadores matemáticos\n",
    "    * Operadores lógicos\n",
    "* Funções embutidas (_built-in_)\n",
    "    * [Docs Python](https://docs.python.org/pt-br/3/library/functions.html) \n",
    "    * `type()`\n",
    "    * `print()`\n",
    "    \n",
    "### Ponto-chave\n",
    "* O tipo de um objeto determina as operações que posso fazer com ele.\n",
    "* Objetos podem ser de tipos diferentes e compartilhar propriedades em comum."
   ]
  },
  {
   "cell_type": "code",
   "execution_count": null,
   "id": "273ccbff",
   "metadata": {},
   "outputs": [],
   "source": [
    "# operadores matemáticos\n",
    "2 + 2\n",
    "2 - 2\n",
    "2 * 2\n",
    "2 / 2\n",
    "2 ** 3  # power\n",
    "10 % 3  # modulo\n",
    "10 // 3  # floor division"
   ]
  },
  {
   "cell_type": "code",
   "execution_count": null,
   "id": "b356e5c6",
   "metadata": {},
   "outputs": [],
   "source": [
    "resultado = 10 // 3"
   ]
  },
  {
   "cell_type": "code",
   "execution_count": null,
   "id": "d7a98f90",
   "metadata": {},
   "outputs": [],
   "source": [
    "resultado"
   ]
  },
  {
   "cell_type": "code",
   "execution_count": null,
   "id": "719550b5",
   "metadata": {},
   "outputs": [],
   "source": [
    "resultado_print = print(resultado)"
   ]
  },
  {
   "cell_type": "code",
   "execution_count": null,
   "id": "30276348",
   "metadata": {},
   "outputs": [],
   "source": [
    "print(resultado_print)"
   ]
  },
  {
   "cell_type": "code",
   "execution_count": null,
   "id": "43d386a0",
   "metadata": {},
   "outputs": [],
   "source": [
    "resultado = '2' + 2"
   ]
  },
  {
   "cell_type": "code",
   "execution_count": null,
   "id": "9d218d88",
   "metadata": {},
   "outputs": [],
   "source": [
    "'2' + '2'"
   ]
  },
  {
   "cell_type": "code",
   "execution_count": null,
   "id": "b4adca68",
   "metadata": {},
   "outputs": [],
   "source": [
    "2.0 + 2.5"
   ]
  },
  {
   "cell_type": "code",
   "execution_count": null,
   "id": "71c85b27",
   "metadata": {},
   "outputs": [],
   "source": [
    "2 + 2.5"
   ]
  },
  {
   "cell_type": "code",
   "execution_count": null,
   "id": "279af43f",
   "metadata": {},
   "outputs": [],
   "source": [
    "10 / 5"
   ]
  },
  {
   "cell_type": "code",
   "execution_count": null,
   "id": "e197271a",
   "metadata": {},
   "outputs": [],
   "source": [
    "2 * 2"
   ]
  },
  {
   "cell_type": "code",
   "execution_count": null,
   "id": "3b49ec17",
   "metadata": {},
   "outputs": [],
   "source": [
    "type(2 * 2.5)"
   ]
  },
  {
   "cell_type": "code",
   "execution_count": null,
   "id": "e4d5c44b",
   "metadata": {},
   "outputs": [],
   "source": [
    "float(2)"
   ]
  },
  {
   "cell_type": "code",
   "execution_count": null,
   "id": "c0f43c16",
   "metadata": {},
   "outputs": [],
   "source": [
    "int(2.5)"
   ]
  },
  {
   "cell_type": "code",
   "execution_count": null,
   "id": "4adefcc1",
   "metadata": {},
   "outputs": [],
   "source": [
    "str(3.14) + \" é o número Pi\""
   ]
  },
  {
   "cell_type": "code",
   "execution_count": null,
   "id": "70f1c6a6",
   "metadata": {},
   "outputs": [],
   "source": [
    "type(1 > 0)"
   ]
  },
  {
   "cell_type": "code",
   "execution_count": null,
   "id": "26f6ec4f",
   "metadata": {},
   "outputs": [],
   "source": [
    "bool(1)"
   ]
  },
  {
   "cell_type": "code",
   "execution_count": null,
   "id": "77fbe048",
   "metadata": {},
   "outputs": [],
   "source": [
    "bool(0)"
   ]
  },
  {
   "cell_type": "code",
   "execution_count": null,
   "id": "69437802",
   "metadata": {},
   "outputs": [],
   "source": [
    "bool(0)"
   ]
  },
  {
   "cell_type": "code",
   "execution_count": null,
   "id": "9cf72e77",
   "metadata": {},
   "outputs": [],
   "source": [
    "1 > 0"
   ]
  },
  {
   "cell_type": "code",
   "execution_count": null,
   "id": "456d472d",
   "metadata": {},
   "outputs": [],
   "source": [
    "1 < 0"
   ]
  },
  {
   "cell_type": "code",
   "execution_count": null,
   "id": "b7aff06c",
   "metadata": {},
   "outputs": [],
   "source": [
    "1 == 1"
   ]
  },
  {
   "cell_type": "code",
   "execution_count": null,
   "id": "37a48398",
   "metadata": {},
   "outputs": [],
   "source": [
    "1 != 0"
   ]
  },
  {
   "cell_type": "code",
   "execution_count": null,
   "id": "7a7b47f8",
   "metadata": {},
   "outputs": [],
   "source": [
    "1 >= 0"
   ]
  },
  {
   "cell_type": "code",
   "execution_count": null,
   "id": "dd0a021d",
   "metadata": {},
   "outputs": [],
   "source": [
    "0 <= 1"
   ]
  },
  {
   "cell_type": "code",
   "execution_count": null,
   "id": "c4e7ffc2",
   "metadata": {},
   "outputs": [],
   "source": [
    "'A' * 3"
   ]
  },
  {
   "cell_type": "code",
   "execution_count": null,
   "id": "9d484bcd",
   "metadata": {},
   "outputs": [],
   "source": [
    "'A' * 3.0  # dá erro"
   ]
  },
  {
   "cell_type": "code",
   "execution_count": null,
   "id": "8b2bf77b",
   "metadata": {},
   "outputs": [],
   "source": [
    "['a', 'b', 'c'] * 3.0  # listas e strings são ambas 'sequências'"
   ]
  },
  {
   "cell_type": "code",
   "execution_count": null,
   "id": "92a96a8b",
   "metadata": {},
   "outputs": [],
   "source": [
    "lista_com_varios_tipos = ['uma_string',\n",
    "                          42,\n",
    "                          3.14,\n",
    "                          ['outra_listra', 'outra_lista']\n",
    "                         ]  # no entanto, listas podem ter valores de qualquer tipo"
   ]
  },
  {
   "cell_type": "code",
   "execution_count": null,
   "id": "ee96ba05",
   "metadata": {},
   "outputs": [],
   "source": [
    "frutas = ['maçã', 'laranja', 'banana']\n",
    "palavra = 'amendoim'"
   ]
  },
  {
   "cell_type": "code",
   "execution_count": null,
   "id": "dd8a721d",
   "metadata": {},
   "outputs": [],
   "source": [
    "for fruta in frutas:\n",
    "    print(fruta)"
   ]
  },
  {
   "cell_type": "code",
   "execution_count": null,
   "id": "4d722bbe",
   "metadata": {},
   "outputs": [],
   "source": [
    "for letra in palavra:\n",
    "    print(letra)"
   ]
  },
  {
   "cell_type": "code",
   "execution_count": null,
   "id": "8937dddc",
   "metadata": {},
   "outputs": [],
   "source": [
    "print(frutas[0] == 'maçã')\n",
    "print(palavra[0] == 'a')"
   ]
  },
  {
   "cell_type": "markdown",
   "id": "524c59c8",
   "metadata": {},
   "source": [
    "### Encontro 2 - 06 de julho de 2021\n",
    "\n",
    "### Estudo\n",
    "* Exercícios HackerRank\n",
    "* Funções embutidas\n",
    "    * `len()`\n",
    "    * `max()`\n",
    "    * `min()`\n",
    "    * `range()`\n",
    "    * `help()`\n",
    "* Condicionais\n",
    "* Bibliotecas\n",
    "    * `time`\n",
    "* Site [QuantConnect](http://quantconnect.com)\n",
    "    * Cloud com dados\n",
    "\n",
    "### Conteúdo\n",
    "* Funções\n",
    "    * **Para que servem funções?** Para abstrair tarefas dentro do nosso programa, assim evitando a duplicação de informação.\n",
    "* Bibliotecas\n",
    "    * Três formas de importar bibliotecas\n",
    "        * Lib inteira `import math`\n",
    "        * Funções específicas `from math import cos, pi`\n",
    "        * Com atalho `import math as m`\n",
    "* Pedindo ajuda\n",
    "    * Três formas diferentes\n",
    "        * Com a função embutida `help(funcao)`\n",
    "        * `funcao?` -> mostra a docstring\n",
    "        * `funcao??` -> mostra docstring + código fonte\n",
    "    * Usando a tecla TAB\n",
    "* Zen do Python\n",
    "    * Filosofia por trás da linguagem com princípios para escrever código bonito/Pythonico\n",
    "    * `import this`\n",
    "    \n",
    "### Homework\n",
    "\n",
    "Usando o módulo `math` e dado uma esfera de raio `r`, criar funções para:\n",
    "- determinar a circunferência\n",
    "- determinar a área\n",
    "- determinar o volume\n",
    "- imprimir todas essas informações"
   ]
  },
  {
   "cell_type": "markdown",
   "id": "11e035bf",
   "metadata": {},
   "source": [
    "#### Exemplo de função\n",
    "\n",
    "Quero escrever uma função que diz se um ano é bissexto ou não.\n",
    "\n",
    "Um ano é bissexto se:\n",
    " - é divisível por 4, a não ser que\n",
    " - seja divisível por 100, a não ser que seja divisível por 400\n",
    " \n",
    "**Entrada:** um ano (`int`)  \n",
    "**O que faz:** faz as operações para determinar se o ano é bissexto  \n",
    "**Saída:** `bool`"
   ]
  },
  {
   "cell_type": "code",
   "execution_count": null,
   "id": "e3b69124",
   "metadata": {},
   "outputs": [],
   "source": [
    "import this"
   ]
  },
  {
   "cell_type": "code",
   "execution_count": null,
   "id": "443e2027",
   "metadata": {},
   "outputs": [],
   "source": [
    "def calcular_bissexto(ano):\n",
    "    \"\"\"\n",
    "    Calcula se um ano é bissexto ou não.\n",
    "    \n",
    "    args:\n",
    "        ano -> ano dado como inteiro (int)\n",
    "        \n",
    "    retorna:\n",
    "        bool -> se o ano é bissexto (True) ou não (False)\n",
    "    \"\"\"\n",
    "    divisivel_por_4 = ano % 4 == 0  # bool\n",
    "    divisivel_por_100 = ano % 100 == 0  # bool\n",
    "    divisivel_por_400 = ano % 400 == 0  # bool\n",
    "    \n",
    "    bissexto = divisivel_por_4 and (divisivel_por_400 or not divisivel_por_100)\n",
    "    return bissexto"
   ]
  },
  {
   "cell_type": "code",
   "execution_count": null,
   "id": "77000982",
   "metadata": {},
   "outputs": [],
   "source": [
    "def assar_bolo(farinha, ovos, acucar, tempo_de_forno):\n",
    "    massa = farinha + ovos + acucar\n",
    "    bolo = Forno.assar(massa, tempo_de_forno)\n",
    "    \n",
    "    return bolo"
   ]
  },
  {
   "cell_type": "code",
   "execution_count": null,
   "id": "a9ee8c48",
   "metadata": {},
   "outputs": [],
   "source": [
    "import math  # importa a lib inteira (acessar com math.)\n",
    "from math import cos, pi  # importo funções específicas\n",
    "import math as m  # como atalho"
   ]
  },
  {
   "cell_type": "markdown",
   "id": "1fc6d585",
   "metadata": {},
   "source": [
    "### Encontro 3 - 07 de julho de 2021\n",
    "\n",
    "- Observações homework\n",
    "    - Cuidar com o nome das funções (para não sobreescrever)\n",
    "        - Dar nomes descritivos, colocar docstring\n",
    "    - Observar parâmetros de entrada -> `def calcular_area(raio)` recebe o valor de `raio` como entrada\n",
    "    - Observar parâmetros de saída -> `return round(circunferencia, 2)` retorna a circunferência arredondada em duas casas\n",
    "    - Diferença entre definir e chamar a função\n",
    "- Aprofundamento de funções\n",
    "    - Escopo da função -> variáveis só existem no corpo da função\n",
    "    \n",
    "### Encontro que vem\n",
    "- Listas\n",
    "- Loops\n",
    "- Condicionais"
   ]
  },
  {
   "cell_type": "code",
   "execution_count": null,
   "id": "5dc65d08",
   "metadata": {},
   "outputs": [],
   "source": [
    "from math import pi\n",
    "\n",
    "\n",
    "def calcular_circunferencia(raio):\n",
    "    \"\"\"\n",
    "    Calcula a circunferência de um círculo a partir do raio.\n",
    "    \"\"\"\n",
    "    circunferencia = 2 * pi * raio\n",
    "    return round(circunferencia, 2)\n",
    "\n",
    "\n",
    "def calcular_area(raio):\n",
    "    \"\"\"\n",
    "    Calcula a área de superfície da esfera a partir do raio.\n",
    "    \"\"\"\n",
    "    area = 4 * pi * (raio ** 2)\n",
    "    return round(area, 2)\n",
    "\n",
    "\n",
    "def calcular_volume(raio):\n",
    "    \"\"\"\n",
    "    Calcula o volume da esfera a partir do raio.      \n",
    "    \"\"\"\n",
    "    volume = 4/3 * pi * (raio ** 3)\n",
    "    return round(volume, 2)\n",
    "\n",
    "\n",
    "def calcular_estatisticas_esfera(raio):\n",
    "    \"\"\"\n",
    "    Calcula a circunferência, área de superfície e volume de\n",
    "    uma esfera a partir do raio.\n",
    "    \"\"\"\n",
    "    circunferencia = calcular_circunferencia(raio)\n",
    "    area = calcular_area(raio)\n",
    "    volume = calcular_volume(raio)\n",
    "    \n",
    "    print(\"O raio é\", raio)\n",
    "    print(\"A sua circunferência é\", circunferencia)\n",
    "    print(\"A área é\", area)\n",
    "    print(\"O volume é\", volume)\n",
    "    \n",
    "    return circunferencia, area, volume"
   ]
  },
  {
   "cell_type": "code",
   "execution_count": null,
   "id": "3dbc2308",
   "metadata": {},
   "outputs": [],
   "source": [
    "raio = int(input(\"Dê o tamanho do raio: \"))\n",
    "calcular_estatisticas_esfera(raio)"
   ]
  },
  {
   "cell_type": "code",
   "execution_count": null,
   "id": "3f2d091a",
   "metadata": {},
   "outputs": [],
   "source": [
    "raio = 5.5\n",
    "calcular_circunferencia(raio)"
   ]
  },
  {
   "cell_type": "code",
   "execution_count": null,
   "id": "02146100",
   "metadata": {},
   "outputs": [],
   "source": [
    "def imprime_e_retorna_algo(algo):\n",
    "    print(\"O valor de algo é\", algo)\n",
    "    return algo"
   ]
  },
  {
   "cell_type": "code",
   "execution_count": null,
   "id": "f2c0c36c",
   "metadata": {},
   "outputs": [],
   "source": [
    "resultado = imprime_e_retorna_algo(10)"
   ]
  },
  {
   "cell_type": "code",
   "execution_count": null,
   "id": "364140c1",
   "metadata": {},
   "outputs": [],
   "source": [
    "def elevar_a_potencia(valor, expoente):\n",
    "    return valor ** expoente"
   ]
  },
  {
   "cell_type": "code",
   "execution_count": null,
   "id": "5b367009",
   "metadata": {},
   "outputs": [],
   "source": [
    "elevar_a_potencia(2, 3)"
   ]
  },
  {
   "cell_type": "code",
   "execution_count": null,
   "id": "778ddd71",
   "metadata": {},
   "outputs": [],
   "source": [
    "elevar_a_potencia = lambda valor, expoente: valor ** expoente"
   ]
  },
  {
   "cell_type": "code",
   "execution_count": null,
   "id": "910225cb",
   "metadata": {},
   "outputs": [],
   "source": [
    "elevar_a_potencia(2, 3)"
   ]
  },
  {
   "cell_type": "markdown",
   "id": "468c2cde",
   "metadata": {},
   "source": [
    "### Listas\n",
    "\n",
    "- Sequência (coleção de valores ordenados) de valores de qualquer tipo\n",
    "- Mutável (posso modificar, acrescentar ou retirar valores)\n",
    "    - Diferente de tuplas, que são imutáveis\n",
    "    \n",
    "#### Em seguida: métodos de listas e strings + strings como sequências"
   ]
  },
  {
   "cell_type": "code",
   "execution_count": null,
   "id": "2727401c",
   "metadata": {},
   "outputs": [],
   "source": [
    "lista = ['a', 0, 'b', 1, 'c', 3.0, True]"
   ]
  },
  {
   "cell_type": "code",
   "execution_count": null,
   "id": "c01106d7",
   "metadata": {},
   "outputs": [],
   "source": [
    "# tamanho da lista\n",
    "len(lista)\n",
    "\n",
    "# indexando\n",
    "lista[0]\n",
    "lista[-1]\n",
    "\n",
    "# fatiando\n",
    "lista[1:]\n",
    "lista[:3]"
   ]
  },
  {
   "cell_type": "code",
   "execution_count": null,
   "id": "c17328e6",
   "metadata": {},
   "outputs": [],
   "source": [
    "# sintaxe das fatias\n",
    "inicio = 0\n",
    "fim = 8\n",
    "step = 2\n",
    "lista[inicio:fim]\n",
    "lista[inicio:fim:step]"
   ]
  },
  {
   "cell_type": "code",
   "execution_count": null,
   "id": "0765b9bf",
   "metadata": {},
   "outputs": [],
   "source": [
    "lista = ['a', 0, 'b', 1, 'c', 2]\n",
    "letras, numeros = lista[::2], lista[1::2]"
   ]
  },
  {
   "cell_type": "code",
   "execution_count": null,
   "id": "2712386c",
   "metadata": {},
   "outputs": [],
   "source": [
    "lista[::-1]"
   ]
  },
  {
   "cell_type": "code",
   "execution_count": null,
   "id": "a47ed376",
   "metadata": {},
   "outputs": [],
   "source": [
    "# listas tentam lidar com fatias da melhor forma\n",
    "lista[3:757]\n",
    "\n",
    "# o mesmo não acontece para itens individuais\n",
    "lista[757]"
   ]
  },
  {
   "cell_type": "code",
   "execution_count": null,
   "id": "1205cd00",
   "metadata": {},
   "outputs": [],
   "source": [
    "locality = \"Sydney/NSW\"\n",
    "state = locality[-3:]"
   ]
  },
  {
   "cell_type": "markdown",
   "id": "5a17a88f",
   "metadata": {},
   "source": [
    "### Homework\n",
    "\n",
    "Escreva uma função que, dada uma string representando um tempo no formato `\"HH:MM:SS\"`, retornar o número total de segundos.\n",
    "\n",
    "Exemplo: `\"01:00:00\"` retorna `3600`.\n",
    "\n",
    "Bônus = fazer uma versão alternativa que retorna o dia em formato de fração. \n",
    "\n",
    "Exemplo: `\"12:00:00\"` retorna `0.5`"
   ]
  },
  {
   "cell_type": "markdown",
   "id": "1b2422cc",
   "metadata": {},
   "source": [
    "### Encontro 3 - 08 de julho de 2021\n",
    "\n",
    "* Uso do Git e GitHub\n",
    "    * Criando um fork\n",
    "    * Adicionando um remote\n",
    "    * `git add` e `git commit`\n",
    "    * `git push <nome-do-remote>`\n",
    "* Métodos de listas e strings\n",
    "- **Métodos:** funções próprios de um determinado **tipo** (`str`, `int`, `list`, etc)\n",
    "- `obj.` + `TAB`: métodos disponíveis no objeto\n",
    "- `Shift` + `TAB`: help interativo\n",
    "\n",
    "### Homework\n",
    "- Completar a função abaixo\n",
    "- Explorar métodos de listas e strings\n",
    "\n",
    "### Próximo encontro\n",
    "- For loops\n",
    "- Condicionais"
   ]
  },
  {
   "cell_type": "code",
   "execution_count": null,
   "id": "ee2bfcbe",
   "metadata": {},
   "outputs": [],
   "source": [
    "# Home work\n",
    "def get_capital_and_state(locality):\n",
    "    \"\"\"\n",
    "    Splits 'locality' into capital and state.\n",
    "    \"\"\"\n",
    "    # Preencha usando o split\n",
    "    \n",
    "    return capital, state"
   ]
  },
  {
   "cell_type": "code",
   "execution_count": null,
   "id": "e6e4596c",
   "metadata": {},
   "outputs": [],
   "source": [
    "lista = ['a', 0, 'b', 1, 'c', 2]\n",
    "locality = \"Sydney/NSW\"\n",
    "state = locality[-3:]"
   ]
  },
  {
   "cell_type": "code",
   "execution_count": null,
   "id": "4649152a",
   "metadata": {},
   "outputs": [],
   "source": [
    "capitals = [\"Sydney/NSW\",\n",
    "            \"Melbourne/VIC\",\n",
    "            \"Perth/WA\",\n",
    "            \"Darwin/NT\",\n",
    "            \"Adelaide/SA\",\n",
    "            \"Brisbane/QLD\",\n",
    "            \"Canberra/ACT\"]"
   ]
  },
  {
   "cell_type": "code",
   "execution_count": null,
   "id": "8bf3f4d7",
   "metadata": {},
   "outputs": [],
   "source": []
  },
  {
   "cell_type": "code",
   "execution_count": null,
   "id": "d2d88f83",
   "metadata": {},
   "outputs": [],
   "source": [
    "get_capital_and_state(capitals[2])"
   ]
  },
  {
   "cell_type": "code",
   "execution_count": null,
   "id": "239e23d2",
   "metadata": {},
   "outputs": [],
   "source": [
    "nsw = \"Sydney/NSW\""
   ]
  },
  {
   "cell_type": "code",
   "execution_count": null,
   "id": "c311e82f",
   "metadata": {},
   "outputs": [],
   "source": [
    "nsw.split(\"/\")"
   ]
  },
  {
   "cell_type": "code",
   "execution_count": null,
   "id": "3ef51363",
   "metadata": {},
   "outputs": [],
   "source": [
    "cidade = \"Florianópolis SC           Brasil\""
   ]
  },
  {
   "cell_type": "code",
   "execution_count": null,
   "id": "8e0f8077",
   "metadata": {},
   "outputs": [],
   "source": [
    "cidade.split()"
   ]
  },
  {
   "cell_type": "code",
   "execution_count": null,
   "id": "e1a7d2a8",
   "metadata": {},
   "outputs": [],
   "source": [
    "capitals.append(\"Hobart/TAS\")"
   ]
  },
  {
   "cell_type": "code",
   "execution_count": null,
   "id": "06e01b12",
   "metadata": {},
   "outputs": [],
   "source": [
    "capitals.pop()"
   ]
  },
  {
   "cell_type": "code",
   "execution_count": null,
   "id": "7af6dd0a",
   "metadata": {},
   "outputs": [],
   "source": [
    "capitals"
   ]
  },
  {
   "cell_type": "code",
   "execution_count": null,
   "id": "48e82746",
   "metadata": {},
   "outputs": [],
   "source": [
    "for city in capitals:\n",
    "    print(city)"
   ]
  },
  {
   "cell_type": "code",
   "execution_count": null,
   "id": "9d45b627",
   "metadata": {},
   "outputs": [],
   "source": [
    "for letra in nsw:\n",
    "    # corpo do loop\n",
    "    print(letra)"
   ]
  },
  {
   "cell_type": "code",
   "execution_count": null,
   "id": "70cb65aa",
   "metadata": {},
   "outputs": [],
   "source": [
    "for letra in nsw:\n",
    "    print(character)"
   ]
  },
  {
   "cell_type": "markdown",
   "id": "e4fd96ed",
   "metadata": {},
   "source": [
    "### Encontro 4 - 13 de julho de 2021\n",
    "\n",
    "- Revisão funções, listas e strings\n",
    "- Praticando funções e loops\n",
    "\n",
    "\n",
    "### Aula que vem\n",
    "- Condicionais"
   ]
  },
  {
   "cell_type": "code",
   "execution_count": null,
   "id": "4549e7ea",
   "metadata": {},
   "outputs": [],
   "source": [
    "capitals = [\"Sydney/NSW\",\n",
    "            \"Melbourne/VIC\",\n",
    "            \"Perth/WA\",\n",
    "            \"Darwin/NT\",\n",
    "            \"Adelaide/SA\",\n",
    "            \"Brisbane/QLD\",\n",
    "            \"Canberra/ACT\",\n",
    "            \"Hobart/TAS\"\n",
    "           ]"
   ]
  },
  {
   "cell_type": "code",
   "execution_count": null,
   "id": "f8be41eb",
   "metadata": {},
   "outputs": [],
   "source": [
    "def split_location(location):\n",
    "    \"\"\"\n",
    "    Splits location into [city, state] by the '/' character.\n",
    "    \n",
    "    args:\n",
    "        location -> string in the format city/STATE, e.g. 'Hobart/TAS'\n",
    "        \n",
    "    return:\n",
    "        list with [city, state]\n",
    "    \"\"\"\n",
    "    city_state = location.split(\"/\")\n",
    "    return city_state"
   ]
  },
  {
   "cell_type": "code",
   "execution_count": null,
   "id": "eb5a4f29",
   "metadata": {},
   "outputs": [],
   "source": [
    "split_location(\"Rio de Janeiro - RJ\")"
   ]
  },
  {
   "cell_type": "code",
   "execution_count": null,
   "id": "c1c1fc9b",
   "metadata": {},
   "outputs": [],
   "source": [
    "for location in capitals:\n",
    "    lista = split_location(location)\n",
    "    print(lista)"
   ]
  },
  {
   "cell_type": "code",
   "execution_count": null,
   "id": "13aa5695",
   "metadata": {},
   "outputs": [],
   "source": [
    "def split_locations_list(locations_list):\n",
    "    \"\"\"\n",
    "    Docstring.\n",
    "    \"\"\"\n",
    "    split_locations_list = []\n",
    "    for location in locations_list:\n",
    "        split_locations_list.append(split_location(location))\n",
    "        \n",
    "    return split_locations_list"
   ]
  },
  {
   "cell_type": "code",
   "execution_count": null,
   "id": "8defbbb9",
   "metadata": {},
   "outputs": [],
   "source": [
    "split_locations_list(capitals)"
   ]
  },
  {
   "cell_type": "code",
   "execution_count": null,
   "id": "c251bc58",
   "metadata": {},
   "outputs": [],
   "source": [
    "brazil_capitals = [\"Rio de Janeiro/RJ\", \"Florianópolis/SC\", \"Belo Horizonte/MG\"]"
   ]
  },
  {
   "cell_type": "code",
   "execution_count": null,
   "id": "8aba51c8",
   "metadata": {},
   "outputs": [],
   "source": [
    "split_locations_list(brazil_capitals)"
   ]
  },
  {
   "cell_type": "code",
   "execution_count": null,
   "id": "9019c5f5",
   "metadata": {},
   "outputs": [],
   "source": [
    "def imprimir_algo(numero):\n",
    "    print(numero + 10)"
   ]
  },
  {
   "cell_type": "code",
   "execution_count": null,
   "id": "12446434",
   "metadata": {},
   "outputs": [],
   "source": [
    "capitals = [\"Sydney/NSW\",\n",
    "            \"Melbourne/VIC\",\n",
    "            \"Perth/WA\",\n",
    "            \"Darwin/NT\",\n",
    "            \"Adelaide/SA\",\n",
    "            \"Brisbane/QLD\",\n",
    "            \"Canberra/ACT\",\n",
    "            \"Hobart/TAS\"\n",
    "           ]"
   ]
  },
  {
   "cell_type": "markdown",
   "id": "46c6f24c",
   "metadata": {},
   "source": [
    "### Desafio\n",
    "\n",
    "A partir da lista `capitals`, criar uma lista só com os estados."
   ]
  },
  {
   "cell_type": "code",
   "execution_count": null,
   "id": "e0ba98f5",
   "metadata": {},
   "outputs": [],
   "source": [
    "states_list = []\n",
    "cities_list = []\n",
    "for location in capitals:\n",
    "    city_state_split = location.split(\"/\")\n",
    "    city = city_state_split[0]\n",
    "    state = city_state_split[1]\n",
    "    cities_list.append(city)\n",
    "    states_list.append(state)"
   ]
  },
  {
   "cell_type": "code",
   "execution_count": null,
   "id": "e7047f47",
   "metadata": {},
   "outputs": [],
   "source": [
    "states_list, cities_list = [], []\n",
    "for location in capitals:\n",
    "    city, state = location.split(\"/\")\n",
    "    cities_list.append(city)\n",
    "    states_list.append(state)"
   ]
  },
  {
   "cell_type": "code",
   "execution_count": null,
   "id": "4791f958",
   "metadata": {},
   "outputs": [],
   "source": [
    "peso = 100\n",
    "\n",
    "if peso > 80:\n",
    "    print(peso, \"kg é pesado\")"
   ]
  },
  {
   "cell_type": "code",
   "execution_count": null,
   "id": "a961b70a",
   "metadata": {},
   "outputs": [],
   "source": [
    "pesos = [100, 80, 60, 120, 56]\n",
    "\n",
    "for p in pesos:\n",
    "    if p > 70:\n",
    "        print(p, \"kg é pesado\")"
   ]
  },
  {
   "cell_type": "code",
   "execution_count": null,
   "id": "ee11f7a0",
   "metadata": {},
   "outputs": [],
   "source": [
    "p = 10`"
   ]
  },
  {
   "cell_type": "markdown",
   "id": "14d5fa05",
   "metadata": {},
   "source": [
    "### Encontro 5 - 14 de julho de 2021\n",
    "\n",
    "* Condicionais"
   ]
  },
  {
   "cell_type": "code",
   "execution_count": null,
   "id": "d37262b2",
   "metadata": {},
   "outputs": [],
   "source": [
    "velocidades = [50, 100, 20, 30, 40, -20]\n",
    "\n",
    "# Sempre tenho um 'if'\n",
    "for v in velocidades:\n",
    "    if v > 50:\n",
    "        print(\"Objeto rápido!\")\n",
    "        \n",
    "    # Posso ter um ou mais elif\n",
    "    elif 20 < v <= 50:\n",
    "        print(\"Objeto em velocidade OK.\")\n",
    "    elif v < 0:\n",
    "        print(\"Andando para trás!\")\n",
    "    \n",
    "    # Posso ter um else para todos os outros casos\n",
    "    else:\n",
    "        print(\"Objeto lento.\")"
   ]
  },
  {
   "cell_type": "code",
   "execution_count": null,
   "id": "00f99e98",
   "metadata": {},
   "outputs": [],
   "source": [
    "# A ordem das condicionais importa\n",
    "nota = 100\n",
    "\n",
    "if nota >= 70:\n",
    "    print(\"Nota C\")  \n",
    "elif nota >= 80:\n",
    "    print(\"Nota B\")\n",
    "elif nota >= 90:\n",
    "    print(\"Nota A\")\n",
    "else:\n",
    "    print(\"Nota insuficiente.\")"
   ]
  },
  {
   "cell_type": "code",
   "execution_count": null,
   "id": "e0918d29",
   "metadata": {},
   "outputs": [],
   "source": [
    "for i in range(5):\n",
    "    print(i+1)"
   ]
  },
  {
   "cell_type": "code",
   "execution_count": null,
   "id": "6108d772",
   "metadata": {},
   "outputs": [],
   "source": [
    "# Condicionais que modificam variáveis\n",
    "velocidade = 10.0\n",
    "\n",
    "for i in range(5):  # executo o loop 5x\n",
    "    print(i, ':', velocidade)\n",
    "    if velocidade > 20.0:\n",
    "        print('Muito rápido!')\n",
    "        velocidade = velocidade - 5.0\n",
    "    else:\n",
    "        print('Muito lento!')\n",
    "        velocidade = velocidade + 10.0\n",
    "        \n",
    "print('Velocidade final:', velocidade)"
   ]
  },
  {
   "cell_type": "code",
   "execution_count": null,
   "id": "e8aeec07",
   "metadata": {},
   "outputs": [],
   "source": [
    "pressao = 72.9\n",
    "\n",
    "if pressao > 50.0:\n",
    "    pressao = 25.0\n",
    "elif pressao <= 50.0:\n",
    "    pressao = 0.0\n",
    "    \n",
    "print(pressao)"
   ]
  },
  {
   "cell_type": "code",
   "execution_count": null,
   "id": "5242c722",
   "metadata": {},
   "outputs": [],
   "source": [
    "# Preencher \n",
    "original = [-1.5, 0.2, 0.42, -1, -0.75, 0.3]\n",
    "resultado = ___\n",
    "\n",
    "for value in original:\n",
    "    if ___:\n",
    "        resultado.append(0)\n",
    "    else:\n",
    "        ___\n",
    "        \n",
    "print(resultado)"
   ]
  },
  {
   "cell_type": "code",
   "execution_count": null,
   "id": "03aa4be0",
   "metadata": {},
   "outputs": [],
   "source": [
    "# Saída esperada\n",
    "[0, 1, 1, 0, 0, 1]"
   ]
  },
  {
   "cell_type": "code",
   "execution_count": null,
   "id": "e5feaba5",
   "metadata": {},
   "outputs": [],
   "source": [
    "lista = ['a', 'b', 'c']\n",
    "\n",
    "# Variável acumuladora\n",
    "ix = 0\n",
    "for value in lista:\n",
    "    value = lista[ix]\n",
    "    print(value)\n",
    "    ix += 1  # equivalente a `ix = ix + 1`"
   ]
  },
  {
   "cell_type": "code",
   "execution_count": null,
   "id": "c9b87176",
   "metadata": {},
   "outputs": [],
   "source": [
    "frutas = ['Banana',\n",
    "          'Uva',\n",
    "          'Coco',\n",
    "          'Kiwi',\n",
    "          'Melancia',\n",
    "          'Abacate']\n",
    "\n",
    "for f in frutas:\n",
    "    if f[-1] == 'a' or len(f) < 5:\n",
    "        print(f, 'é uma fruta que termina em \"a\".')\n",
    "    elif f[-1] != 'a':\n",
    "        print(f, 'não termina em \"a\".')\n",
    "    else:\n",
    "        print(f, 'não atendeu nenhuma condição.')"
   ]
  },
  {
   "cell_type": "code",
   "execution_count": null,
   "id": "bc434dc9",
   "metadata": {},
   "outputs": [],
   "source": [
    "frutas = ['Coco',\n",
    "          'Kiwi',\n",
    "          'Pêssego',\n",
    "          'Umbu',\n",
    "          'Figo',\n",
    "          'Abacate',\n",
    "          'Banana'\n",
    "         ]\n",
    "\n",
    "# imprimir frutas sem a letra 'a'\n",
    "for f in frutas:\n",
    "    if 'a' not in f:  # Dá na mesma que `if not 'a' in f`\n",
    "        print(f, 'não tem a letra \"a\".')\n",
    "    else:\n",
    "        print(f, 'tem a letra \"a\".')"
   ]
  },
  {
   "cell_type": "code",
   "execution_count": null,
   "id": "ec12aa80",
   "metadata": {},
   "outputs": [],
   "source": [
    "print('Coco' in frutas)\n",
    "print('Morango' in frutas)\n",
    "print('Morango' not in frutas)"
   ]
  },
  {
   "cell_type": "code",
   "execution_count": null,
   "id": "669ea846",
   "metadata": {},
   "outputs": [],
   "source": [
    "print(1 > 0)\n",
    "print(2 == 2)\n",
    "print('a' in 'Banana')\n",
    "print('a' in 'Côco')"
   ]
  },
  {
   "cell_type": "code",
   "execution_count": null,
   "id": "b69e60a0",
   "metadata": {},
   "outputs": [],
   "source": [
    "if not False:\n",
    "    print(\"Verdadeiro\")\n",
    "else:\n",
    "    print(\"Falso\")"
   ]
  },
  {
   "cell_type": "code",
   "execution_count": null,
   "id": "a62b7c76",
   "metadata": {},
   "outputs": [],
   "source": [
    "not True or not False"
   ]
  },
  {
   "cell_type": "markdown",
   "id": "408ede39",
   "metadata": {},
   "source": [
    "### Encontro 6\n",
    "- Dependências\n",
    "    - Ambientes Conda\n",
    "    - Usando ambientes Conda dentro do Jupyter\n",
    "- Introdução ao Pandas\n",
    "    - Importar a planilha\n",
    "    - Selecionar dados"
   ]
  },
  {
   "cell_type": "code",
   "execution_count": null,
   "id": "326ab86e",
   "metadata": {},
   "outputs": [],
   "source": [
    "import pandas as pd"
   ]
  },
  {
   "cell_type": "code",
   "execution_count": null,
   "id": "b8c3f027",
   "metadata": {},
   "outputs": [],
   "source": [
    "df = pd.read_excel(\"ANZ synthesised transaction dataset.xlsx\")"
   ]
  },
  {
   "cell_type": "code",
   "execution_count": null,
   "id": "8c073a5f",
   "metadata": {},
   "outputs": [],
   "source": [
    "type(df)"
   ]
  },
  {
   "cell_type": "code",
   "execution_count": null,
   "id": "8f617e32",
   "metadata": {},
   "outputs": [],
   "source": [
    "# Inspecionar as N primeiras linhas\n",
    "df.head()"
   ]
  },
  {
   "cell_type": "code",
   "execution_count": null,
   "id": "a3c08cc6",
   "metadata": {},
   "outputs": [],
   "source": [
    "df.tail()"
   ]
  },
  {
   "cell_type": "code",
   "execution_count": null,
   "id": "4c6e03a1",
   "metadata": {},
   "outputs": [],
   "source": [
    "df.info()"
   ]
  },
  {
   "cell_type": "code",
   "execution_count": null,
   "id": "99f395a3",
   "metadata": {},
   "outputs": [],
   "source": [
    "df.columns"
   ]
  },
  {
   "cell_type": "code",
   "execution_count": null,
   "id": "f9fb218c",
   "metadata": {},
   "outputs": [],
   "source": [
    "df.index"
   ]
  },
  {
   "cell_type": "code",
   "execution_count": null,
   "id": "6d7b4bfe",
   "metadata": {},
   "outputs": [],
   "source": [
    "df.head()"
   ]
  },
  {
   "cell_type": "code",
   "execution_count": null,
   "id": "6fc1d2b2",
   "metadata": {},
   "outputs": [],
   "source": [
    "amount = df['amount']"
   ]
  },
  {
   "cell_type": "code",
   "execution_count": null,
   "id": "b42bea4e",
   "metadata": {},
   "outputs": [],
   "source": [
    "type(amount)"
   ]
  },
  {
   "cell_type": "code",
   "execution_count": null,
   "id": "f6304bc0",
   "metadata": {},
   "outputs": [],
   "source": [
    "df['amount']"
   ]
  },
  {
   "cell_type": "code",
   "execution_count": null,
   "id": "c28b4579",
   "metadata": {},
   "outputs": [],
   "source": [
    "df.head()"
   ]
  },
  {
   "cell_type": "code",
   "execution_count": null,
   "id": "5ca71bae",
   "metadata": {},
   "outputs": [],
   "source": [
    "# .iloc seleciona pela posição numérica\n",
    "df.iloc[1, 3]"
   ]
  },
  {
   "cell_type": "code",
   "execution_count": null,
   "id": "9ea4b24b",
   "metadata": {},
   "outputs": [],
   "source": [
    "# .loc seleciona pelo NOME da linha/coluna\n",
    "df.loc[0, 'amount']"
   ]
  },
  {
   "cell_type": "markdown",
   "id": "73acfcc5",
   "metadata": {},
   "source": [
    "### Semana que vem\n",
    "- Explorar mais as fatias com `.loc` e `.iloc`\n",
    "- Explorar outros métodos do `DataFrame`\n",
    "\n",
    "### Exercício\n",
    "- Tente selecionar múltiplas linhas/colunas\n",
    "    - Tanto \"ranges\" quanto conjuntos específicos\n",
    "    \n",
    "## Encontro 7 - 20 de julho de 2021\n",
    "- Explorando o objeto `DataFrame`\n",
    "    - `.loc` e `.iloc`\n",
    "        - Diferentes consultas retornam objetos diferentes\n",
    "    - Condicionais"
   ]
  },
  {
   "cell_type": "code",
   "execution_count": null,
   "id": "4a9294fb",
   "metadata": {},
   "outputs": [],
   "source": [
    "import pandas as pd"
   ]
  },
  {
   "cell_type": "code",
   "execution_count": null,
   "id": "8ebadc9a",
   "metadata": {},
   "outputs": [],
   "source": [
    "df = pd.read_excel(\"ANZ synthesised transaction dataset.xlsx\")"
   ]
  },
  {
   "cell_type": "code",
   "execution_count": null,
   "id": "51978309",
   "metadata": {},
   "outputs": [],
   "source": [
    "# Ponto\n",
    "type(df.loc[0, 'amount'])"
   ]
  },
  {
   "cell_type": "code",
   "execution_count": null,
   "id": "2442056f",
   "metadata": {},
   "outputs": [],
   "source": [
    "# 'Linha' ou vetor\n",
    "type(df.iloc[:5, 17])"
   ]
  },
  {
   "cell_type": "code",
   "execution_count": null,
   "id": "9950086e",
   "metadata": {},
   "outputs": [],
   "source": [
    "# 'Plano' ou objeto 2D (DataFrame)\n",
    "type(df.iloc[:4, [17, 21]])"
   ]
  },
  {
   "cell_type": "code",
   "execution_count": null,
   "id": "c3fdc4e7",
   "metadata": {},
   "outputs": [],
   "source": [
    "df.iloc[0, :5]"
   ]
  },
  {
   "cell_type": "code",
   "execution_count": null,
   "id": "3ab76341",
   "metadata": {},
   "outputs": [],
   "source": [
    "df.iloc[[0], :5]"
   ]
  },
  {
   "cell_type": "code",
   "execution_count": null,
   "id": "e0969c0b",
   "metadata": {},
   "outputs": [],
   "source": [
    "df.iloc[[0], [0]]"
   ]
  },
  {
   "cell_type": "code",
   "execution_count": null,
   "id": "7cec6d6e",
   "metadata": {},
   "outputs": [],
   "source": [
    "# Intervalos: posso usar o ':'\n",
    "df.loc[:5, 'amount':'merchant_long_lat']"
   ]
  },
  {
   "cell_type": "code",
   "execution_count": null,
   "id": "8afb9d39",
   "metadata": {},
   "outputs": [],
   "source": [
    "colunas_interesse = ['merchant_long_lat', 'amount']\n",
    "df.loc[:5, colunas_interesse]"
   ]
  },
  {
   "cell_type": "code",
   "execution_count": null,
   "id": "da49e81e",
   "metadata": {},
   "outputs": [],
   "source": [
    "# Quando quero colunas específicas, não preciso do loc/iloc\n",
    "df.loc[:, colunas_interesse]\n",
    "df[colunas_interesse]"
   ]
  },
  {
   "cell_type": "code",
   "execution_count": null,
   "id": "35bfbf88",
   "metadata": {},
   "outputs": [],
   "source": [
    "# Posso usar a notação para reordenar\n",
    "colunas_reordenadas = [...]\n",
    "df = df[colunas_reordenadas]"
   ]
  },
  {
   "cell_type": "markdown",
   "id": "0631ddd1",
   "metadata": {},
   "source": [
    "### Condicionais"
   ]
  },
  {
   "cell_type": "code",
   "execution_count": null,
   "id": "1d5bd95a",
   "metadata": {},
   "outputs": [],
   "source": [
    "# Python 'puro'\n",
    "rich_people = []\n",
    "for row in df:\n",
    "    if row['amount'] > 1000:\n",
    "        rich_people.append(row)"
   ]
  },
  {
   "cell_type": "code",
   "execution_count": null,
   "id": "384a0afc",
   "metadata": {},
   "outputs": [],
   "source": [
    "# Selecione todos os IDs de transações maiores que $1000\n",
    "df[df['amount'] > 1000]['transaction_id']\n",
    "\n",
    "# equivalente em SQL\n",
    "# SELECT 'transaction_id' FROM df WHERE amount > 1000;"
   ]
  },
  {
   "cell_type": "code",
   "execution_count": null,
   "id": "40b58357",
   "metadata": {},
   "outputs": [],
   "source": [
    "df['status'].value_counts()"
   ]
  },
  {
   "cell_type": "code",
   "execution_count": null,
   "id": "7bab2305",
   "metadata": {},
   "outputs": [],
   "source": [
    "# Combinando diferentes condições\n",
    "cond1 = df['amount'] > 1000\n",
    "cond2 = df['status'] == 'authorized'\n",
    "df[cond1 & cond2].head()  # equivalente do Pandas de 'and'\n",
    "df[cond1 | cond2].head()  # equivalente do Pandas de 'or'"
   ]
  },
  {
   "cell_type": "code",
   "execution_count": null,
   "id": "db2af62d",
   "metadata": {},
   "outputs": [],
   "source": [
    "df[(df['amount'] < 50) | (df['merchant_state'] == 'NSW')].head()"
   ]
  },
  {
   "cell_type": "code",
   "execution_count": null,
   "id": "5bae7d33",
   "metadata": {},
   "outputs": [],
   "source": [
    "df[~(df['merchant_state'] == 'NSW')]  # equivalente do Pandas de 'not'"
   ]
  },
  {
   "cell_type": "code",
   "execution_count": null,
   "id": "742f19b0",
   "metadata": {},
   "outputs": [],
   "source": [
    "df['txn_description'].value_counts()"
   ]
  },
  {
   "cell_type": "code",
   "execution_count": null,
   "id": "f9746249",
   "metadata": {},
   "outputs": [],
   "source": [
    "cond1 = df['txn_description'] == 'PHONE BANK'\n",
    "cond2 = df['txn_description'] == 'INTER BANK'\n",
    "df[cond1 | cond2].head()"
   ]
  },
  {
   "cell_type": "code",
   "execution_count": null,
   "id": "2713fea5",
   "metadata": {},
   "outputs": [],
   "source": [
    "descriptions = [\"PHONE BANK\", \"INTER BANK\", \"POS\"]\n",
    "df[df['txn_description'].isin(descriptions)]"
   ]
  },
  {
   "cell_type": "markdown",
   "id": "2cda8623",
   "metadata": {},
   "source": [
    "### Encontro 8 - 21 de julho 2021\n",
    "- Groupby - agrupando dados"
   ]
  },
  {
   "cell_type": "code",
   "execution_count": null,
   "id": "b5665541",
   "metadata": {},
   "outputs": [],
   "source": [
    "import pandas as pd\n",
    "from matplotlib import pyplot as plt"
   ]
  },
  {
   "cell_type": "code",
   "execution_count": null,
   "id": "53963e57",
   "metadata": {},
   "outputs": [],
   "source": [
    "df = pd.read_excel(\"ANZ synthesised transaction dataset.xlsx\")"
   ]
  },
  {
   "cell_type": "code",
   "execution_count": null,
   "id": "7204f40d",
   "metadata": {},
   "outputs": [],
   "source": [
    "# Variáveis contínuas e categóricas\n",
    "ss = df[[\"amount\", \"merchant_state\"]] # <- ss quer dizer 'subset'"
   ]
  },
  {
   "cell_type": "code",
   "execution_count": null,
   "id": "5d84f346",
   "metadata": {},
   "outputs": [],
   "source": [
    "# 'value_counts' útil para variáveis categóricas\n",
    "ss[\"merchant_state\"].value_counts()"
   ]
  },
  {
   "cell_type": "code",
   "execution_count": null,
   "id": "a361aafb",
   "metadata": {},
   "outputs": [],
   "source": [
    "# 'describe' útil para variáveis contínuas\n",
    "ss[\"amount\"].describe()"
   ]
  },
  {
   "cell_type": "code",
   "execution_count": null,
   "id": "da635b45",
   "metadata": {},
   "outputs": [],
   "source": [
    "# Método `hist` para 'olhar a cara' das distribuições\n",
    "ss[\"amount\"].hist(bins=100)\n",
    "plt.xlim(0, 1000)"
   ]
  },
  {
   "cell_type": "code",
   "execution_count": null,
   "id": "13539fdc",
   "metadata": {},
   "outputs": [],
   "source": [
    "gb = df.groupby(\"merchant_state\")  # <- 'gb' quer dizer GroupBy"
   ]
  },
  {
   "cell_type": "code",
   "execution_count": null,
   "id": "837a9032",
   "metadata": {},
   "outputs": [],
   "source": [
    "gb.describe()['amount'].loc[:, 'mean']\n",
    "\n",
    "# é equivalente a:\n",
    "gb.mean()['amount']"
   ]
  },
  {
   "cell_type": "code",
   "execution_count": null,
   "id": "e64683f1",
   "metadata": {},
   "outputs": [],
   "source": [
    "df['status'].value_counts()"
   ]
  },
  {
   "cell_type": "code",
   "execution_count": null,
   "id": "2085f004",
   "metadata": {},
   "outputs": [],
   "source": [
    "gb = df.groupby(['merchant_state',\n",
    "                 'txn_description']).sum()"
   ]
  },
  {
   "cell_type": "code",
   "execution_count": null,
   "id": "ed370111",
   "metadata": {},
   "outputs": [],
   "source": [
    "gb"
   ]
  },
  {
   "cell_type": "markdown",
   "id": "2ca5143b",
   "metadata": {},
   "source": [
    "### Encontro 9 - 22 de julho de 2021\n",
    "\n",
    "- Merge, join e concatenate\n",
    "- **Merge** é o nome que o Pandas dá para um JOIN\n",
    "- [Explicação visual dos tipos de join](https://blog.codinghorror.com/a-visual-explanation-of-sql-joins/)\n",
    "\n",
    "Métodos Pandas\n",
    "- `idxmax()` e `idxmin()`: retornam o nome da linha (index) para o maior (no caso de max) ou menor valor\n",
    "- `.copy()` cria uma cópia do DataFrame, invés de só uma **view**\n",
    "- `.reset_index()` reseta o nome das linhas"
   ]
  },
  {
   "cell_type": "code",
   "execution_count": null,
   "id": "5f162f41",
   "metadata": {},
   "outputs": [],
   "source": [
    "import pandas as pd"
   ]
  },
  {
   "cell_type": "code",
   "execution_count": null,
   "id": "d61cf244",
   "metadata": {},
   "outputs": [],
   "source": [
    "df = pd.read_excel(\"ANZ synthesised transaction dataset.xlsx\")"
   ]
  },
  {
   "cell_type": "code",
   "execution_count": null,
   "id": "9185f2a5",
   "metadata": {},
   "outputs": [],
   "source": [
    "cond1 = df['status'] == 'authorized'\n",
    "cond2 = df['status'] == 'posted'\n",
    "auth = df[cond1].copy().reset_index(drop=True)\n",
    "post = df[cond2].copy().reset_index(drop=True)"
   ]
  },
  {
   "cell_type": "code",
   "execution_count": null,
   "id": "75fd4865",
   "metadata": {},
   "outputs": [],
   "source": [
    "# Concatenar ao longo das linhas\n",
    "df = pd.concat([auth, post], ignore_index=True)  # 'ignore_index' é similar ao 'reset_index'"
   ]
  },
  {
   "cell_type": "code",
   "execution_count": null,
   "id": "4ca33615",
   "metadata": {},
   "outputs": [],
   "source": [
    "# Concatenar ao longo das colunas\n",
    "pd.concat([df['amount'], df['merchant_state']], axis=1)"
   ]
  },
  {
   "cell_type": "markdown",
   "id": "e219fd8e",
   "metadata": {},
   "source": [
    "### JOINS (ou `merge` no Pandas)"
   ]
  },
  {
   "cell_type": "code",
   "execution_count": null,
   "id": "3bc56855",
   "metadata": {},
   "outputs": [],
   "source": [
    "# Criando dois dataframes com uma coluna em comum\n",
    "df1 = df[['amount', 'transaction_id']]\n",
    "df2 = df[['transaction_id', 'customer_id']]\n",
    "\n",
    "# Embaralhando os dataframes\n",
    "df1 = df1.sample(frac=1).reset_index(drop=True)\n",
    "df2 = df2.sample(frac=1).reset_index(drop=True)"
   ]
  },
  {
   "cell_type": "code",
   "execution_count": null,
   "id": "1a1579d7",
   "metadata": {},
   "outputs": [],
   "source": [
    "df1.merge(df2, on='transaction_id')"
   ]
  },
  {
   "cell_type": "markdown",
   "id": "188be12e",
   "metadata": {},
   "source": [
    "### Encontro 10 - 27 de julho de 2021\n",
    "\n",
    "* Conversa sobre stack científico Python e aplicações para finanças\n",
    "* Dicionários\n",
    "* Aula de Git: no Anaconda Prompt\n",
    "    * `git init` *\n",
    "    * `git status`\n",
    "    * `git diff`\n",
    "    * `git stash`\n",
    "    * `git pull`\n",
    "    * `git add` *\n",
    "    * `git commit` *\n",
    "    * `git push` *\n",
    "\n",
    "### Encontro 11 - 28 de julho de 2021\n",
    "\n",
    "* Evitar de versionar dados - incluir somente código no controle de versão\n",
    "* Revisão de conceitos do Git\n",
    "\n",
    "### Para amanhã\n",
    "Explicação do código em `ANZ_dataset.ipynb`"
   ]
  },
  {
   "cell_type": "code",
   "execution_count": null,
   "id": "7afb04af",
   "metadata": {},
   "outputs": [],
   "source": [
    "import pandas as pd"
   ]
  },
  {
   "cell_type": "code",
   "execution_count": null,
   "id": "f2f54ecd",
   "metadata": {},
   "outputs": [],
   "source": [
    "df = pd.read_excel(\"ANZ synthesised transaction dataset.xlsx\")"
   ]
  },
  {
   "cell_type": "markdown",
   "id": "0d36b5b9",
   "metadata": {},
   "source": [
    "### Perguntas\n",
    "\n",
    "Execute as seguintes consultas no Pandas:\n",
    "- Qual o valor médio das transações por gênero?\n",
    "- Qual o valor médio das transações por faixa etária?"
   ]
  },
  {
   "cell_type": "code",
   "execution_count": null,
   "id": "45138e90",
   "metadata": {},
   "outputs": [],
   "source": [
    "# Por gênero\n",
    "df.groupby(\"gender\").mean()"
   ]
  },
  {
   "cell_type": "code",
   "execution_count": null,
   "id": "cd37c86d",
   "metadata": {},
   "outputs": [],
   "source": [
    "# Por faixa etária\n",
    "bins=[df['age'].min(), 20, 60, df['age'].max()]\n",
    "labels=['Jovem', 'Adulto', 'Idoso']\n",
    "df['age_group'] = pd.cut(df['age'], bins, labels=labels)\n",
    "df.groubpy(\"age_group\").mean()"
   ]
  },
  {
   "cell_type": "code",
   "execution_count": null,
   "id": "ed98597a",
   "metadata": {},
   "outputs": [],
   "source": [
    "df[\"age_group\"].value_counts()"
   ]
  },
  {
   "cell_type": "markdown",
   "id": "2c1f5709",
   "metadata": {},
   "source": [
    "### Encontro 12 - 29 de julho de 2021\n",
    "\n",
    "- Exame CQF\n",
    "- PyMC3\n",
    "- Latex no Jupyter\n",
    "- Operações rolling window\n",
    "\n",
    "### Encontro 13 - 3 de agosto de 2021\n",
    "\n",
    "- Continuação exame\n",
    "- Módulos SciPy\n",
    "\n",
    "```python\n",
    "from scipy.stats import norm\n",
    "from scipy.special import ndtri, ndtr\n",
    "```\n",
    "\n",
    "- Cálculo de breaches\n",
    "    - Breaches consecutivos\n",
    "- Revisão diferença `.loc` e `.iloc`\n",
    "\n",
    "\n",
    "### Encontro 14 - 4 de agosto de 2021\n",
    "\n",
    "- Continuação exame\n",
    "- Uso de dicionários para construir DataFrames\n",
    "- Selecionando e filtrando valores do DataFrame\n",
    "\n",
    "\n",
    "### Encontro 15 - 5 de agosto de 2021:\n",
    "- Anotação em gráfico de série temporal com `ax.annotate()`\n",
    "    - [Docs Matplotlib](https://matplotlib.org/stable/gallery/text_labels_and_annotations/annotation_demo.html)\n",
    "- Exportar PDF do notebook com LaTeX e Pandoc\n",
    "- Revisão outras questões exame\n",
    "\n",
    "### Encontro 16 - 9 de agosto de 2021\n",
    "- Revisão final exame CQF\n",
    "- Cálculo de log, uso da função `pd.Series.shift()`\n",
    "- Criar função `main()` para abstrair operações\n",
    "- [Matriz de covariância: `numpy.cov`](https://numpy.org/doc/stable/reference/generated/numpy.cov.html)\n",
    "\n",
    "### Encontro 17 - 10 de agosto de 2021\n",
    "- Exportando notebooks Jupyter\n",
    "- Cálculo de matrizes\n",
    "- Criar funções separadas para cálculo de *breaches* e plots\n",
    "\n",
    "\n",
    "### Encontro 18 - 11 de agosto de 2021\n",
    "- Notebooks x scripts Python\n",
    "- Uso do `plt.show()`\n",
    "- Comando `jupyter nbconvert`\n",
    "- Boas práticas para scripts\n",
    "    - Shebang: executável usado para rodar o script `#!/usr/env/bin python`\n",
    "    - Encoding: utf-8\n",
    "- Uso do `argparse`\n",
    "- Ideias de projeto\n",
    "    - Dashboards\n",
    "        - Streamlit\n",
    "        - Plotly\n",
    "    - VSCode\n",
    "    \n",
    "### Encontro 19 - 17 de agosto de 2021\n",
    "- Conversa sobre containers\n",
    "    - Docker\n",
    "    - Ambientes virtuais (*e.g.* `conda`)\n",
    "- Revisão geral\n",
    "- Início projeto Portfolio Management\n",
    "- Inicializando projeto no GitHub\n",
    "\n",
    "\n",
    "### Encontro 20 - 18 de agosto de 2021\n",
    "- Configuração de OpenSSH para Windows\n",
    "- Fix do remote no repositório\n",
    "- Renomeando colunas com Pandas\n",
    "    - `df.rename()`\n",
    "    - Colunas como dicionário\n",
    "    - Opção `inplace`\n",
    "- Boas práticas de análise de dados\n",
    "    - Não escrever arquivos brutos - usar como *read-only*\n",
    "    - Invés disso, carregar arquivos brutos, formatar e criar arquivos\n",
    "- Criar colunas de views"
   ]
  },
  {
   "cell_type": "code",
   "execution_count": null,
   "id": "5f5f0300-c416-4708-afd6-4af7be78c7ee",
   "metadata": {},
   "outputs": [],
   "source": []
  }
 ],
 "metadata": {
  "kernelspec": {
   "display_name": "Python [conda env:xlab]",
   "language": "python",
   "name": "conda-env-xlab-py"
  },
  "language_info": {
   "codemirror_mode": {
    "name": "ipython",
    "version": 3
   },
   "file_extension": ".py",
   "mimetype": "text/x-python",
   "name": "python",
   "nbconvert_exporter": "python",
   "pygments_lexer": "ipython3",
   "version": "3.9.2"
  }
 },
 "nbformat": 4,
 "nbformat_minor": 5
}
