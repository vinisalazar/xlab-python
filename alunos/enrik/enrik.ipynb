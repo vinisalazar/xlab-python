{
 "cells": [
  {
   "cell_type": "markdown",
   "id": "7977d2fc",
   "metadata": {},
   "source": [
    "### Aula 1 - 7 de abril de 2021\n",
    "#### Introdução ao Python\n",
    "\n",
    "Uso básico do Jupyter. Tópicos:\n",
    "* Variáveis\n",
    "* Tipos de dados\n",
    "* Operações matemáticas\n",
    "* Funções\n",
    "\n",
    "**Desafio:** criar uma função para converter Kelvin para Celsius?"
   ]
  },
  {
   "cell_type": "markdown",
   "id": "50f79fee",
   "metadata": {},
   "source": [
    "### Aula 2 - 9 de abril de 2021\n",
    "#### Tipos de dados e funções builtin\n",
    "\n",
    "Tópicos:\n",
    "* Quais são os principais tipos de dados?\n",
    "* Como descobrir os tipos de dados -> função `type`\n",
    "* Funções `type` e `len`\n",
    "* Diferença entre `print` e `return` em funções\n",
    "* Como melhorar funções: docstrings e checks de input"
   ]
  },
  {
   "cell_type": "code",
   "execution_count": null,
   "id": "dc81efae",
   "metadata": {},
   "outputs": [],
   "source": [
    "def cel_to_kel_print(cel):\n",
    "    kel = cel + 273.15\n",
    "    print(kel)\n",
    "    \n",
    "    \n",
    "def cel_to_kel_return(cel):\n",
    "    kel = cel + 273.15\n",
    "    return kel\n",
    "\n",
    "\n",
    "def cel_to_kel_virgula(cel):\n",
    "    kel = (cel+273,15)\n",
    "    return kel"
   ]
  },
  {
   "cell_type": "code",
   "execution_count": null,
   "id": "aeb6a2fe",
   "metadata": {},
   "outputs": [],
   "source": [
    "cel_to_kel_virgula(30)"
   ]
  },
  {
   "cell_type": "code",
   "execution_count": null,
   "id": "f3333e48",
   "metadata": {},
   "outputs": [],
   "source": [
    "type(cel_to_kel_virgula(30))\n",
    "\n",
    "# função len - length, comprimento em inglês\n",
    "len(cel_to_kel_virgula(30))"
   ]
  },
  {
   "cell_type": "code",
   "execution_count": null,
   "id": "c8957977",
   "metadata": {},
   "outputs": [],
   "source": [
    "lista_print = []\n",
    "list_return = []\n",
    "\n",
    "temps = list(range(50))\n",
    "\n",
    "for t in temps:\n",
    "    lista_print.append(cel_to_kel_print(t))\n",
    "    list_return.append(cel_to_kel_return(t))"
   ]
  },
  {
   "cell_type": "code",
   "execution_count": null,
   "id": "090f2c6c",
   "metadata": {},
   "outputs": [],
   "source": [
    "def operacao_basica_r():\n",
    "    return 2 + 2\n",
    "\n",
    "def operacao_basica_p():\n",
    "    print(2 + 2)"
   ]
  },
  {
   "cell_type": "code",
   "execution_count": null,
   "id": "d4be3fd8",
   "metadata": {},
   "outputs": [],
   "source": [
    "a = operacao_basica_r()"
   ]
  },
  {
   "cell_type": "code",
   "execution_count": null,
   "id": "46006d70",
   "metadata": {},
   "outputs": [],
   "source": [
    "operacao_basica_r()"
   ]
  },
  {
   "cell_type": "code",
   "execution_count": null,
   "id": "f5ffd2ba",
   "metadata": {},
   "outputs": [],
   "source": [
    "b = operacao_basica_p()"
   ]
  },
  {
   "cell_type": "code",
   "execution_count": null,
   "id": "d1790c5d",
   "metadata": {},
   "outputs": [],
   "source": [
    "b = None"
   ]
  },
  {
   "cell_type": "code",
   "execution_count": null,
   "id": "3c6da130",
   "metadata": {},
   "outputs": [],
   "source": [
    "# Diferença lista e tupla: a primeira é mutável\n",
    "l = ['a', 'b', 42, 9320.2, ['RJ', 'SP']]"
   ]
  },
  {
   "cell_type": "code",
   "execution_count": null,
   "id": "b2dbceee",
   "metadata": {},
   "outputs": [],
   "source": [
    "float_ = 273.15\n",
    "inteiro = 273\n",
    "string = \"273\""
   ]
  },
  {
   "cell_type": "code",
   "execution_count": null,
   "id": "3fdd27e3",
   "metadata": {},
   "outputs": [],
   "source": [
    "for variavel in (float_, inteiro, string):\n",
    "    print(type(variavel))"
   ]
  },
  {
   "cell_type": "code",
   "execution_count": null,
   "id": "8dc3b5a8",
   "metadata": {},
   "outputs": [],
   "source": [
    "str(49)"
   ]
  },
  {
   "cell_type": "code",
   "execution_count": null,
   "id": "0f4d7831",
   "metadata": {},
   "outputs": [],
   "source": [
    "numeros = [4, 49, 100]\n",
    "\n",
    "for n in numeros:\n",
    "    print(int(math.sqrt(n)))"
   ]
  },
  {
   "cell_type": "code",
   "execution_count": null,
   "id": "00f217f1",
   "metadata": {},
   "outputs": [],
   "source": [
    "variavel_com_nome_misterioso = 273.15"
   ]
  },
  {
   "cell_type": "code",
   "execution_count": null,
   "id": "4370c227",
   "metadata": {},
   "outputs": [],
   "source": [
    "type(variavel_com_nome_misterioso)"
   ]
  },
  {
   "cell_type": "code",
   "execution_count": null,
   "id": "083980de",
   "metadata": {},
   "outputs": [],
   "source": [
    "# Celsius to Kelvin conversion\n",
    "def cel_to_kel(c):\n",
    "    k = c + 273.15\n",
    "    return k"
   ]
  },
  {
   "cell_type": "code",
   "execution_count": null,
   "id": "6982bc59",
   "metadata": {},
   "outputs": [],
   "source": [
    "def celsius_to_kelvin(celsius):\n",
    "    \"\"\"\n",
    "    Realiza conversão de temperatura de graus Celsius\n",
    "    para Kelvin. Precisa receber um número como entrada.\n",
    "    \n",
    "    celsius: temperatura em graus Celsius.\n",
    "    return: temperatura em graus Kelvin.\n",
    "    \"\"\"\n",
    "    if type(celsius) == str:\n",
    "        return \"Entrada inválida. Dê um número!\"\n",
    "    \n",
    "    kelvin = celsius + 273.15\n",
    "    return kelvin"
   ]
  },
  {
   "cell_type": "code",
   "execution_count": null,
   "id": "777bb747",
   "metadata": {},
   "outputs": [],
   "source": [
    "help(celsius_to_kelvin)"
   ]
  },
  {
   "cell_type": "markdown",
   "id": "91aa6a84",
   "metadata": {},
   "source": [
    "### Aula 3 - 14 de abril de 2021\n",
    "\n",
    "**Desafio da última aula:** pensar em um problema para resolver com programação\n",
    "* Calculadora de valorização de moedas (regra de 3)\n",
    "\n",
    "**Funções builtin:**\n",
    "- `print()`\n",
    "- `help()`\n",
    "- `type()`\n",
    "- `len()`\n",
    "- `input()`\n",
    "- `zip()`\n",
    "\n",
    "#### Tópicos\n",
    "* Como melhorar funções\n",
    "    * Docstrings\n",
    "    * Comentários\n",
    "* `for` loop"
   ]
  },
  {
   "cell_type": "code",
   "execution_count": null,
   "id": "15acb240",
   "metadata": {},
   "outputs": [],
   "source": [
    "def regra_3(a, b, c):\n",
    "    \"\"\"\n",
    "    Calcula uma regra de 3:\n",
    "    \n",
    "    a - b\n",
    "    c - x\n",
    "    \n",
    "    Como a está para b, c está para x.\n",
    "    \n",
    "    Retorna o valor de x.\n",
    "    \"\"\"\n",
    "    x = b*c/a\n",
    "    return x"
   ]
  },
  {
   "cell_type": "code",
   "execution_count": null,
   "id": "2ade908d",
   "metadata": {},
   "outputs": [],
   "source": [
    "regra_3(1,2,2)"
   ]
  },
  {
   "cell_type": "code",
   "execution_count": null,
   "id": "2ebf2461",
   "metadata": {},
   "outputs": [],
   "source": [
    "def calculadora_regra_3():\n",
    "    \"\"\"\n",
    "    Calculadora interativa de regra de 3:\n",
    "    \n",
    "    a - b\n",
    "    c - x\n",
    "    \n",
    "    Como a está para b, c está para x.\n",
    "    \n",
    "    Retorna o valor de x.\n",
    "    \"\"\"\n",
    "    \n",
    "    # Obter valores de entrada\n",
    "    a = input(\"Qual é o valor de A?\")\n",
    "    b = input(\"Qual é o valor de B?\")\n",
    "    c = input(\"Qual é o valor de C?\")\n",
    "    \n",
    "    # Converter para número\n",
    "    a, b, c = float(a), float(b), float(c)\n",
    "    \n",
    "    # Calcular regra de 3\n",
    "    x = b*c/a\n",
    "    \n",
    "    print(\"O valor de X é\", x)\n",
    "    return x"
   ]
  },
  {
   "cell_type": "markdown",
   "id": "62d05d4f",
   "metadata": {},
   "source": [
    "**Gerando listas aleatórias**"
   ]
  },
  {
   "cell_type": "code",
   "execution_count": null,
   "id": "2dd8e32b",
   "metadata": {},
   "outputs": [],
   "source": [
    "from random import randint\n",
    "quantidades_iniciais = [1/randint(1,10) for i in range(30)]\n",
    "valores_iniciais = [randint(10**2, 10**6) for i in range(30)]\n",
    "quantidades_finais = [randint(1,10) for i in range(30)]\n",
    "valores_finais = []"
   ]
  },
  {
   "cell_type": "markdown",
   "id": "2976dd1a",
   "metadata": {},
   "source": [
    "**Criando listas na mão**"
   ]
  },
  {
   "cell_type": "code",
   "execution_count": null,
   "id": "188f5c84",
   "metadata": {},
   "outputs": [],
   "source": [
    "cel = [32, 34, 22, 12, 25]\n",
    "kel = []"
   ]
  },
  {
   "cell_type": "markdown",
   "id": "75720491",
   "metadata": {},
   "source": [
    "### Pergunta: como aplicar a função `regra_3()` nas 3 listas de valores?"
   ]
  },
  {
   "cell_type": "code",
   "execution_count": null,
   "id": "9cdac9a9",
   "metadata": {},
   "outputs": [],
   "source": [
    "# Usando a função zip\n",
    "for a, b, c in zip(quantidades_iniciais, valores_iniciais, quantidades_finais):\n",
    "    x = regra_3(a, b, c)\n",
    "    valores_finais.append(x)"
   ]
  },
  {
   "cell_type": "markdown",
   "id": "ded2f5dd",
   "metadata": {},
   "source": [
    "### Aula 4 - 16 de abril de 2021\n",
    "#### Listas e slicing\n",
    "\n",
    "**Pergunta:**\n",
    "* Por que listas são importantes?\n",
    "\n",
    "\n",
    "**Objetivos**\n",
    "* Acessar itens em uma lista\n",
    "* Acessar fatias da lista\n",
    "* Inserir itens na lista\n",
    "* Modificar listas com funções\n",
    "\n",
    "**Funções builtin**\n",
    "* `dir()`\n",
    "\n",
    "**Lembretes**\n",
    "* `return` só vai dentro de funções"
   ]
  },
  {
   "cell_type": "code",
   "execution_count": null,
   "id": "5c5fd9a4",
   "metadata": {},
   "outputs": [],
   "source": [
    "temps = [32, 34, 22, 12, 25]\n",
    "\n",
    "print(\"Temperaturas:\", temps)\n",
    "print(\"Quantidade:\", len(temps))"
   ]
  },
  {
   "cell_type": "code",
   "execution_count": null,
   "id": "1303dbc2",
   "metadata": {},
   "outputs": [],
   "source": [
    "tamanho_da_lista = len(temps)\n",
    "tamanho_da_lista"
   ]
  },
  {
   "cell_type": "code",
   "execution_count": null,
   "id": "f6505121",
   "metadata": {},
   "outputs": [],
   "source": [
    "temps[tamanho_da_lista - 1]"
   ]
  },
  {
   "cell_type": "code",
   "execution_count": null,
   "id": "cc151b59",
   "metadata": {},
   "outputs": [],
   "source": [
    "temps[-1]  # acessar começando do fim: coloca sinal negativo"
   ]
  },
  {
   "cell_type": "code",
   "execution_count": null,
   "id": "65954ccc",
   "metadata": {},
   "outputs": [],
   "source": [
    "temps[1:4]"
   ]
  },
  {
   "cell_type": "markdown",
   "id": "b353d1d1",
   "metadata": {},
   "source": [
    "**\"Pegadinhas\" de listas**"
   ]
  },
  {
   "cell_type": "code",
   "execution_count": null,
   "id": "ea424a90",
   "metadata": {},
   "outputs": [],
   "source": [
    "temps[1:4]  #  fatia \"não-inclusiva\"\n",
    "temps[0]  # contagem começa no zero"
   ]
  },
  {
   "cell_type": "markdown",
   "id": "75210059",
   "metadata": {},
   "source": [
    "Os métodos de fatia e acesso das listas, também valem para strings (ou textos)"
   ]
  },
  {
   "cell_type": "code",
   "execution_count": null,
   "id": "e701f277",
   "metadata": {},
   "outputs": [],
   "source": [
    "temp_txt = \"Temperaturas\"\n",
    "temp_txt[:4]  # se não boto nada antes, do ':', significa que começa do 0"
   ]
  },
  {
   "cell_type": "markdown",
   "id": "1d023d59",
   "metadata": {},
   "source": [
    "Funções (métodos) de lista:\n",
    "* `append()`\n",
    "* `pop()`\n",
    "* `insert()`\n",
    "\n",
    "**Como descobrir os métodos de uma lista (ou qualquer objeto)?**\n",
    "\n",
    "Com a função builtin `dir()`"
   ]
  },
  {
   "cell_type": "code",
   "execution_count": null,
   "id": "409604ed",
   "metadata": {},
   "outputs": [],
   "source": [
    "temps.append(56);\n",
    "temps"
   ]
  },
  {
   "cell_type": "code",
   "execution_count": null,
   "id": "52905cb6",
   "metadata": {},
   "outputs": [],
   "source": [
    "temps.pop()"
   ]
  },
  {
   "cell_type": "code",
   "execution_count": null,
   "id": "ca0a787d",
   "metadata": {},
   "outputs": [],
   "source": [
    "temps"
   ]
  },
  {
   "cell_type": "code",
   "execution_count": null,
   "id": "21bb8f60",
   "metadata": {},
   "outputs": [],
   "source": [
    "temps.insert(1, 105)"
   ]
  },
  {
   "cell_type": "code",
   "execution_count": null,
   "id": "ddc5f214",
   "metadata": {},
   "outputs": [],
   "source": [
    "temps.append(\"Texto qualquer\")"
   ]
  },
  {
   "cell_type": "code",
   "execution_count": null,
   "id": "4c50baa9",
   "metadata": {},
   "outputs": [],
   "source": [
    "temps"
   ]
  },
  {
   "cell_type": "code",
   "execution_count": null,
   "id": "464bf21b",
   "metadata": {},
   "outputs": [],
   "source": [
    "temps.reverse()"
   ]
  },
  {
   "cell_type": "code",
   "execution_count": null,
   "id": "febcc3e7",
   "metadata": {},
   "outputs": [],
   "source": [
    "temps.pop(0)"
   ]
  },
  {
   "cell_type": "code",
   "execution_count": null,
   "id": "ffffbb01",
   "metadata": {},
   "outputs": [],
   "source": [
    "temps.sort(reverse=True)"
   ]
  },
  {
   "cell_type": "code",
   "execution_count": null,
   "id": "dc826420",
   "metadata": {},
   "outputs": [],
   "source": [
    "temps"
   ]
  },
  {
   "cell_type": "markdown",
   "id": "ea88e1b7",
   "metadata": {},
   "source": [
    "### Desafio\n",
    "\n",
    "Converter os itens da lista `cel` em Kelvin em inserir na lista `kel`:"
   ]
  },
  {
   "cell_type": "code",
   "execution_count": null,
   "id": "22b9a2be",
   "metadata": {},
   "outputs": [],
   "source": [
    "for temp in cel:\n",
    "    k = cel_to_kel(temp)\n",
    "    kel.append(k)"
   ]
  },
  {
   "cell_type": "markdown",
   "id": "001516f3",
   "metadata": {},
   "source": [
    "### Aula 5 - 20 de abril de 2021\n",
    "#### Continuação Python básico\n",
    "\n",
    "**Objetivos**\n",
    "- Usar funções e listas\n",
    "    - Funções `builtin` para conversão de tipos\n",
    "        - `float()`\n",
    "        - `int()`\n",
    "        - `str()`\n",
    "        - `list()`\n",
    "    - Compreensão de lista (*list comprehension*)\n",
    "\n",
    "**Desafios**\n",
    "- Calcular a raíz quadrada de uma lista de números"
   ]
  },
  {
   "cell_type": "code",
   "execution_count": null,
   "id": "136617dd",
   "metadata": {},
   "outputs": [],
   "source": [
    "import math"
   ]
  },
  {
   "cell_type": "code",
   "execution_count": null,
   "id": "913d6b85",
   "metadata": {},
   "outputs": [],
   "source": [
    "numeros = [4, 169, 625, 1369, 1764, 2500]\n",
    "\n",
    "# Maneira 1: for loop\n",
    "raiz_numeros = []\n",
    "for n in numeros:\n",
    "    raiz = math.sqrt(n)\n",
    "    raiz = int(raiz)\n",
    "    raiz_numeros.append(raiz)\n",
    "    \n",
    "raiz_numeros"
   ]
  },
  {
   "cell_type": "code",
   "execution_count": null,
   "id": "1507af4e",
   "metadata": {},
   "outputs": [],
   "source": [
    "# Maneira 2: list comprehension\n",
    "raiz_numeros = [math.sqrt(n) for n in numeros]\n",
    "\n",
    "raiz_numeros"
   ]
  },
  {
   "cell_type": "code",
   "execution_count": null,
   "id": "755766e2",
   "metadata": {},
   "outputs": [],
   "source": [
    "# List comprehension + condicionais\n",
    "\n",
    "# Calcular sqrt() para n < 1000\n",
    "# Se n > 1000, só incluir n\n",
    "numeros = [4, 169, 625, 1369, 1764, 2500]\n",
    "\n",
    "raiz_numeros = []\n",
    "for n in numeros:\n",
    "    if n < 1000:\n",
    "        raiz = math.sqrt(n)\n",
    "        raiz_numeros.append(raiz)\n",
    "    else:\n",
    "        raiz_numeros.append(n)\n",
    "        \n",
    "# Desafio: modifique a list comprehension para incluir a condicional\n",
    "raiz_numeros = [math.sqrt(n) if n < 1000 else n for n in numeros]\n",
    "raiz_numeros"
   ]
  },
  {
   "cell_type": "markdown",
   "id": "bd6f2c6a",
   "metadata": {},
   "source": [
    "**Cuidar com pegadinha de condicionais:** quando adicionamos um `else`, mudamos a ordem da list comprehension"
   ]
  },
  {
   "cell_type": "markdown",
   "id": "18f40e41",
   "metadata": {},
   "source": [
    "### Aula 6 - 23 de abril de 2021\n",
    "\n",
    "## Ideias de projeto\n",
    "* Leitura de gráfico\n",
    "* Automatizar mensagens\n",
    "* Gerador de senhas\n",
    "\n",
    "### API do TradingView\n",
    "* https://pypi.org/project/tradingview-ta/\n",
    "* https://python-tradingview-ta.readthedocs.io/en/latest/usage.html\n",
    "\n",
    "### Notas\n",
    "* Lembrar de usar auto-compleção\n",
    "\n",
    "# Exercícios"
   ]
  },
  {
   "cell_type": "markdown",
   "id": "77ba35ac",
   "metadata": {},
   "source": [
    "#### 1. Escreva uma função que remova todos os elementos com um determinado valor de uma lista.\n",
    "\n",
    "**Exemplo**\n",
    "```python\n",
    "lista = ['a', 'b', 'c', 'a']\n",
    "remove(lista, 'a')  # retorna ['b','c'].\n",
    "```"
   ]
  },
  {
   "cell_type": "code",
   "execution_count": null,
   "id": "78af6d4e",
   "metadata": {},
   "outputs": [],
   "source": [
    "[1,2,3].remove(1)"
   ]
  },
  {
   "cell_type": "code",
   "execution_count": null,
   "id": "06c2fcbb",
   "metadata": {},
   "outputs": [],
   "source": [
    "lista = ['a', 'b', 'c', 'a']\n",
    "\n",
    "\n",
    "def remove_1(lista, valor):\n",
    "    for item in lista:\n",
    "        if item == valor:\n",
    "            lista.remove(value)\n",
    "        \n",
    "    return lista\n",
    "\n",
    "\n",
    "def remove_2(lista, valor):\n",
    "    nova_lista = []\n",
    "    for item in lista:\n",
    "        if not item == valor:\n",
    "            nova_lista.append(item)\n",
    "            \n",
    "    return nova_lista\n",
    "\n",
    "\n",
    "def remove_3(lista, valor):\n",
    "    return [item for item in lista if item != valor]\n",
    "\n",
    "\n",
    "remove_3(lista, 'a')"
   ]
  },
  {
   "cell_type": "markdown",
   "id": "08e48cd9",
   "metadata": {},
   "source": [
    "#### 2. Escreva um programa que receba uma lista e retorna a soma de cada elemento elevado ao cubo. Caso haja um elemento que não seja numero, deve retornar uma mensagem de erro."
   ]
  },
  {
   "cell_type": "code",
   "execution_count": null,
   "id": "b61b5ec5",
   "metadata": {},
   "outputs": [],
   "source": [
    "def elevar_ao_cubo_1(lista):\n",
    "    nova_lista = []\n",
    "    for value in lista:\n",
    "        type_ = type(value)\n",
    "        if type_ != int and type_ != float:\n",
    "            return f\"{value} não é um número!\"\n",
    "        else:\n",
    "            nova_lista.append(value ** 3)\n",
    "            \n",
    "    return nova_lista\n",
    "\n",
    "\n",
    "def elevar_ao_cubo_2(lista):\n",
    "    for value in lista:\n",
    "        if not isinstance(value, (int, float)):\n",
    "            return f\"{value} não é um número\"\n",
    "        \n",
    "    return [i**3 for i in lista]\n",
    "\n",
    "\n",
    "numeros = [2, 3, 5, 7, 11, 13, 17]\n",
    "elevar_ao_cubo_1(numeros)\n",
    "elevar_ao_cubo_2(numeros)"
   ]
  },
  {
   "cell_type": "markdown",
   "id": "78b32681",
   "metadata": {},
   "source": [
    "#### 3. Escreva um programa que receba uma frase e retorne a palavra com mais letras `'e'`."
   ]
  },
  {
   "cell_type": "code",
   "execution_count": null,
   "id": "cf0b1b54",
   "metadata": {},
   "outputs": [],
   "source": []
  },
  {
   "cell_type": "markdown",
   "id": "62770eb6",
   "metadata": {},
   "source": [
    "#### 4. Escreva um programa que receba uma lista e retorne o valor mínimo e máximo da lista."
   ]
  },
  {
   "cell_type": "code",
   "execution_count": null,
   "id": "17485766",
   "metadata": {},
   "outputs": [],
   "source": []
  },
  {
   "cell_type": "markdown",
   "id": "bf0cff48",
   "metadata": {},
   "source": [
    "#### 5. Escreva um programa que receba uma lista de strings e depois imprima quantos elementos contenham uma substring qualquer."
   ]
  },
  {
   "cell_type": "code",
   "execution_count": null,
   "id": "21e264cb",
   "metadata": {},
   "outputs": [],
   "source": []
  },
  {
   "cell_type": "markdown",
   "id": "d9a481bb",
   "metadata": {},
   "source": [
    "#### 6. Ler o arquivo abaixo, armazenar os valores em uma lista e fazer algum tipo de operação (média, valor mínimo, valor máximo, etc.)"
   ]
  },
  {
   "cell_type": "code",
   "execution_count": null,
   "id": "47e9ffad",
   "metadata": {},
   "outputs": [],
   "source": [
    "from random import randint\n",
    "numeros = []\n",
    "\n",
    "for i in range(1, 366):\n",
    "    numeros.append(randint(10, 50))\n",
    "    \n",
    "with open(\"numeros.txt\", \"w\") as f:\n",
    "    for n in numeros:\n",
    "        f.write(str(n) + \"\\n\")"
   ]
  },
  {
   "cell_type": "markdown",
   "id": "4e40e606",
   "metadata": {},
   "source": [
    "### Aula 7 - 28 de abril de 2021\n",
    "\n",
    "#### Retomar exercícios\n",
    " - Resolver em conjunto"
   ]
  },
  {
   "cell_type": "markdown",
   "id": "8b2eb225",
   "metadata": {},
   "source": [
    "### Aula 8 - 05 de maio de 2021\n",
    "\n",
    "#### Continuação exercícios\n",
    "* Parâmetros de funções\n",
    "* Uso do return\n",
    "* Função built-in `sum()`\n",
    "* F-strings\n",
    "* Método `.split()` de strings\n",
    "\n",
    "\n",
    "#### Conteúdos\n",
    "* Métodos de strings e de listas\n",
    "* Dicionários\n",
    "\n",
    "\n",
    "<!-- Aula 8.5 - 12 de maio de 2021 -->"
   ]
  },
  {
   "cell_type": "markdown",
   "id": "38f964f7",
   "metadata": {},
   "source": [
    "### Aula 09 - 14 de maio de 2021\n",
    "\n",
    "* Revisão\n",
    "    * Exercícios 3 e 4\n",
    "    * Variáveis acumuladoras\n",
    "    * Funções built-in\n",
    "        * `min`\n",
    "        * `max`\n",
    "* Condicionais e Booleanos        \n",
    "**Próximas aula**\n",
    "    * Operadores lógicos e booleanos\n",
    "    * `in`, `and`, `or`"
   ]
  },
  {
   "cell_type": "code",
   "execution_count": null,
   "id": "eb35a338",
   "metadata": {},
   "outputs": [],
   "source": [
    "# Operadores lógicos\n",
    "1 == 2\n",
    "1 > 2\n",
    "2 < 3\n",
    "2 <= 1\n",
    "3 >= 4\n",
    "'e' in 'elefante'\n",
    "0 != 1\n",
    "0 is 1"
   ]
  },
  {
   "cell_type": "code",
   "execution_count": null,
   "id": "78281888",
   "metadata": {},
   "outputs": [],
   "source": [
    "True and False"
   ]
  },
  {
   "cell_type": "code",
   "execution_count": null,
   "id": "d97ee74b",
   "metadata": {},
   "outputs": [],
   "source": [
    "True or False"
   ]
  },
  {
   "cell_type": "code",
   "execution_count": null,
   "id": "b48171b5",
   "metadata": {},
   "outputs": [],
   "source": [
    "False is False"
   ]
  },
  {
   "cell_type": "markdown",
   "id": "72583503",
   "metadata": {},
   "source": [
    "### Aula 10 - 21 de maio de 2021\n",
    "\n",
    "* Introdução ao Pandas\n",
    "* Bibliotecas"
   ]
  },
  {
   "cell_type": "code",
   "execution_count": null,
   "id": "c8a6007d",
   "metadata": {},
   "outputs": [],
   "source": [
    "import pandas as pd"
   ]
  },
  {
   "cell_type": "code",
   "execution_count": null,
   "id": "c78ab70a",
   "metadata": {},
   "outputs": [],
   "source": [
    "df = pd.read_csv(\"gapminder_all.csv\", index_col=\"country\")"
   ]
  },
  {
   "cell_type": "code",
   "execution_count": null,
   "id": "f555b54a",
   "metadata": {},
   "outputs": [],
   "source": [
    "# Duas formas de selecionar valores\n",
    "\n",
    "# localização numérica\n",
    "df.iloc[0, 0]  # [linha, coluna]\n",
    "\n",
    "# pode ser usada com fatias\n",
    "df.iloc[1:5, -2:]"
   ]
  },
  {
   "cell_type": "code",
   "execution_count": null,
   "id": "018c4ad0",
   "metadata": {},
   "outputs": [],
   "source": [
    "# localização por nome\n",
    "df.loc[\"Brazil\":\"United States\", \"continent\"]\n",
    "\n",
    "# e se quisermos dois países?\n",
    "df.loc[[\"Brazil\", \"United States\"], [\"continent\", \"pop_2007\"]]"
   ]
  },
  {
   "cell_type": "markdown",
   "id": "94fff7c2",
   "metadata": {},
   "source": [
    "Condicionais para seleção usam a sintaxe:\n",
    "```python\n",
    "df[df[\"coluna\"] == \"valor\"]\n",
    "```"
   ]
  },
  {
   "cell_type": "code",
   "execution_count": null,
   "id": "b02abf8a",
   "metadata": {},
   "outputs": [],
   "source": [
    "# condicionais\n",
    "df[df[\"gdpPercap_1952\"] > 10000]\n",
    "df[df[\"continent\"] == \"Europe\"]"
   ]
  },
  {
   "cell_type": "code",
   "execution_count": null,
   "id": "7c3b3869",
   "metadata": {},
   "outputs": [],
   "source": [
    "df.info()"
   ]
  },
  {
   "cell_type": "code",
   "execution_count": null,
   "id": "57fe13f4",
   "metadata": {},
   "outputs": [],
   "source": [
    "df.describe()"
   ]
  },
  {
   "cell_type": "code",
   "execution_count": null,
   "id": "5c7bfc54",
   "metadata": {},
   "outputs": [],
   "source": []
  }
 ],
 "metadata": {
  "kernelspec": {
   "display_name": "Python 3",
   "language": "python",
   "name": "python3"
  },
  "language_info": {
   "codemirror_mode": {
    "name": "ipython",
    "version": 3
   },
   "file_extension": ".py",
   "mimetype": "text/x-python",
   "name": "python",
   "nbconvert_exporter": "python",
   "pygments_lexer": "ipython3",
   "version": "3.7.10"
  }
 },
 "nbformat": 4,
 "nbformat_minor": 5
}
