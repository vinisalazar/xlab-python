{
 "cells": [
  {
   "cell_type": "markdown",
   "id": "a90f0cf1",
   "metadata": {},
   "source": [
    "### Encontro 1 - 01 de julho de 2021\n",
    "\n",
    "* Usando o JupyterLab\n",
    "    * Tipos de célula\n",
    "    * Atalhos do teclado\n",
    "* Revisão Python básico\n",
    "    * Jogo de pergunta/resposta\n",
    "        * Interpretador Python sempre RETORNA algo (pode ser nada).\n",
    "    * Variáveis\n",
    "    * Tipos de dados\n",
    "        * `str` -> texto (\"a string of characters\")\n",
    "        * `int` -> inteiro\n",
    "        * `float` -> número com vírgula (ponto flutuante)\n",
    "        * `bool` -> `True` ou `False`\n",
    "        * __Também servem como funções built-in!__\n",
    "    * Operadores matemáticos\n",
    "    * Operadores lógicos\n",
    "* Funções embutidas (_built-in_)\n",
    "    * [Docs Python](https://docs.python.org/pt-br/3/library/functions.html) \n",
    "    * `type()`\n",
    "    * `print()`\n",
    "    \n",
    "### Ponto-chave\n",
    "* O tipo de um objeto determina as operações que posso fazer com ele.\n",
    "* Objetos podem ser de tipos diferentes e compartilhar propriedades em comum."
   ]
  },
  {
   "cell_type": "code",
   "execution_count": null,
   "id": "ac9aca71",
   "metadata": {},
   "outputs": [],
   "source": [
    "# operadores matemáticos\n",
    "2 + 2\n",
    "2 - 2\n",
    "2 * 2\n",
    "2 / 2\n",
    "2 ** 3  # power\n",
    "10 % 3  # modulo\n",
    "10 // 3  # floor division"
   ]
  },
  {
   "cell_type": "code",
   "execution_count": null,
   "id": "59df042a",
   "metadata": {},
   "outputs": [],
   "source": [
    "resultado = 10 // 3"
   ]
  },
  {
   "cell_type": "code",
   "execution_count": null,
   "id": "27b3c7d3",
   "metadata": {},
   "outputs": [],
   "source": [
    "resultado"
   ]
  },
  {
   "cell_type": "code",
   "execution_count": null,
   "id": "b2e63e51",
   "metadata": {},
   "outputs": [],
   "source": [
    "resultado_print = print(resultado)"
   ]
  },
  {
   "cell_type": "code",
   "execution_count": null,
   "id": "2e8bd669",
   "metadata": {},
   "outputs": [],
   "source": [
    "print(resultado_print)"
   ]
  },
  {
   "cell_type": "code",
   "execution_count": null,
   "id": "18fc1359",
   "metadata": {},
   "outputs": [],
   "source": [
    "resultado = '2' + 2"
   ]
  },
  {
   "cell_type": "code",
   "execution_count": null,
   "id": "858737dd",
   "metadata": {},
   "outputs": [],
   "source": [
    "'2' + '2'"
   ]
  },
  {
   "cell_type": "code",
   "execution_count": null,
   "id": "b74e2b02",
   "metadata": {},
   "outputs": [],
   "source": [
    "2.0 + 2.5"
   ]
  },
  {
   "cell_type": "code",
   "execution_count": null,
   "id": "f56db8d3",
   "metadata": {},
   "outputs": [],
   "source": [
    "2 + 2.5"
   ]
  },
  {
   "cell_type": "code",
   "execution_count": null,
   "id": "0088dcd7",
   "metadata": {},
   "outputs": [],
   "source": [
    "10 / 5"
   ]
  },
  {
   "cell_type": "code",
   "execution_count": null,
   "id": "7ab47553",
   "metadata": {},
   "outputs": [],
   "source": [
    "2 * 2"
   ]
  },
  {
   "cell_type": "code",
   "execution_count": null,
   "id": "86225b57",
   "metadata": {},
   "outputs": [],
   "source": [
    "type(2 * 2.5)"
   ]
  },
  {
   "cell_type": "code",
   "execution_count": null,
   "id": "573bc8e9",
   "metadata": {},
   "outputs": [],
   "source": [
    "float(2)"
   ]
  },
  {
   "cell_type": "code",
   "execution_count": null,
   "id": "7985ae53",
   "metadata": {},
   "outputs": [],
   "source": [
    "int(2.5)"
   ]
  },
  {
   "cell_type": "code",
   "execution_count": null,
   "id": "f0d0aab2",
   "metadata": {},
   "outputs": [],
   "source": [
    "str(3.14) + \" é o número Pi\""
   ]
  },
  {
   "cell_type": "code",
   "execution_count": null,
   "id": "d428cb28",
   "metadata": {},
   "outputs": [],
   "source": [
    "type(1 > 0)"
   ]
  },
  {
   "cell_type": "code",
   "execution_count": null,
   "id": "772387e1",
   "metadata": {},
   "outputs": [],
   "source": [
    "bool(1)"
   ]
  },
  {
   "cell_type": "code",
   "execution_count": null,
   "id": "f3f0102d",
   "metadata": {},
   "outputs": [],
   "source": [
    "bool(0)"
   ]
  },
  {
   "cell_type": "code",
   "execution_count": null,
   "id": "7b413dcb",
   "metadata": {},
   "outputs": [],
   "source": [
    "bool(0)"
   ]
  },
  {
   "cell_type": "code",
   "execution_count": null,
   "id": "c5378b49",
   "metadata": {},
   "outputs": [],
   "source": [
    "1 > 0"
   ]
  },
  {
   "cell_type": "code",
   "execution_count": null,
   "id": "e287ff3f",
   "metadata": {},
   "outputs": [],
   "source": [
    "1 < 0"
   ]
  },
  {
   "cell_type": "code",
   "execution_count": null,
   "id": "ba4b7eb3",
   "metadata": {},
   "outputs": [],
   "source": [
    "1 == 1"
   ]
  },
  {
   "cell_type": "code",
   "execution_count": null,
   "id": "c5b13c35",
   "metadata": {},
   "outputs": [],
   "source": [
    "1 != 0"
   ]
  },
  {
   "cell_type": "code",
   "execution_count": null,
   "id": "7401cd9d",
   "metadata": {},
   "outputs": [],
   "source": [
    "1 >= 0"
   ]
  },
  {
   "cell_type": "code",
   "execution_count": null,
   "id": "fa94797a",
   "metadata": {},
   "outputs": [],
   "source": [
    "0 <= 1"
   ]
  },
  {
   "cell_type": "code",
   "execution_count": null,
   "id": "2378fa35",
   "metadata": {},
   "outputs": [],
   "source": [
    "'A' * 3"
   ]
  },
  {
   "cell_type": "code",
   "execution_count": null,
   "id": "86753b7c",
   "metadata": {},
   "outputs": [],
   "source": [
    "'A' * 3.0  # dá erro"
   ]
  },
  {
   "cell_type": "code",
   "execution_count": null,
   "id": "6700b68c",
   "metadata": {},
   "outputs": [],
   "source": [
    "['a', 'b', 'c'] * 3.0  # listas e strings são ambas 'sequências'"
   ]
  },
  {
   "cell_type": "code",
   "execution_count": null,
   "id": "53c07781",
   "metadata": {},
   "outputs": [],
   "source": [
    "lista_com_varios_tipos = ['uma_string',\n",
    "                          42,\n",
    "                          3.14,\n",
    "                          ['outra_listra', 'outra_lista']\n",
    "                         ]  # no entanto, listas podem ter valores de qualquer tipo"
   ]
  },
  {
   "cell_type": "code",
   "execution_count": null,
   "id": "0d57f629",
   "metadata": {},
   "outputs": [],
   "source": [
    "frutas = ['maçã', 'laranja', 'banana']\n",
    "palavra = 'amendoim'"
   ]
  },
  {
   "cell_type": "code",
   "execution_count": null,
   "id": "0065761b",
   "metadata": {},
   "outputs": [],
   "source": [
    "for fruta in frutas:\n",
    "    print(fruta)"
   ]
  },
  {
   "cell_type": "code",
   "execution_count": null,
   "id": "aab6ca50",
   "metadata": {},
   "outputs": [],
   "source": [
    "for letra in palavra:\n",
    "    print(letra)"
   ]
  },
  {
   "cell_type": "code",
   "execution_count": null,
   "id": "7d194737",
   "metadata": {},
   "outputs": [],
   "source": [
    "print(frutas[0] == 'maçã')\n",
    "print(palavra[0] == 'a')"
   ]
  },
  {
   "cell_type": "markdown",
   "id": "10c69b26-a2fc-4b4e-8c3d-fa5ea78338b7",
   "metadata": {},
   "source": [
    "### Encontro 2 - 06 de julho de 2021\n",
    "\n",
    "### Estudo\n",
    "* Exercícios HackerRank\n",
    "* Funções embutidas\n",
    "    * `len()`\n",
    "    * `max()`\n",
    "    * `min()`\n",
    "    * `range()`\n",
    "    * `help()`\n",
    "* Condicionais\n",
    "* Bibliotecas\n",
    "    * `time`\n",
    "* Site [QuantConnect](http://quantconnect.com)\n",
    "    * Cloud com dados\n",
    "\n",
    "### Conteúdo\n",
    "* Funções\n",
    "    * **Para que servem funções?** Para abstrair tarefas dentro do nosso programa, assim evitando a duplicação de informação.\n",
    "* Bibliotecas\n",
    "    * Três formas de importar bibliotecas\n",
    "        * Lib inteira `import math`\n",
    "        * Funções específicas `from math import cos, pi`\n",
    "        * Com atalho `import math as m`\n",
    "* Pedindo ajuda\n",
    "    * Três formas diferentes\n",
    "        * Com a função embutida `help(funcao)`\n",
    "        * `funcao?` -> mostra a docstring\n",
    "        * `funcao??` -> mostra docstring + código fonte\n",
    "    * Usando a tecla TAB\n",
    "* Zen do Python\n",
    "    * Filosofia por trás da linguagem com princípios para escrever código bonito/Pythonico\n",
    "    * `import this`\n",
    "    \n",
    "### Homework\n",
    "\n",
    "Usando o módulo `math` e dado uma esfera de raio `r`, criar funções para:\n",
    "- determinar a circunferência\n",
    "- determinar a área\n",
    "- determinar o volume\n",
    "- imprimir todas essas informações"
   ]
  },
  {
   "cell_type": "markdown",
   "id": "202f92bd-7310-41d2-9cb6-acb9425a114b",
   "metadata": {},
   "source": [
    "#### Exemplo de função\n",
    "\n",
    "Quero escrever uma função que diz se um ano é bissexto ou não.\n",
    "\n",
    "Um ano é bissexto se:\n",
    " - é divisível por 4, a não ser que\n",
    " - seja divisível por 100, a não ser que seja divisível por 400\n",
    " \n",
    "**Entrada:** um ano (`int`)  \n",
    "**O que faz:** faz as operações para determinar se o ano é bissexto  \n",
    "**Saída:** `bool`"
   ]
  },
  {
   "cell_type": "code",
   "execution_count": null,
   "id": "2467e373-9d15-4dad-971e-29240d9a4680",
   "metadata": {},
   "outputs": [],
   "source": [
    "import this"
   ]
  },
  {
   "cell_type": "code",
   "execution_count": null,
   "id": "7dcd6e8d-c3d2-4e86-9d97-5603b76b1d79",
   "metadata": {},
   "outputs": [],
   "source": [
    "def calcular_bissexto(ano):\n",
    "    \"\"\"\n",
    "    Calcula se um ano é bissexto ou não.\n",
    "    \n",
    "    args:\n",
    "        ano -> ano dado como inteiro (int)\n",
    "        \n",
    "    retorna:\n",
    "        bool -> se o ano é bissexto (True) ou não (False)\n",
    "    \"\"\"\n",
    "    divisivel_por_4 = ano % 4 == 0  # bool\n",
    "    divisivel_por_100 = ano % 100 == 0  # bool\n",
    "    divisivel_por_400 = ano % 400 == 0  # bool\n",
    "    \n",
    "    bissexto = divisivel_por_4 and (divisivel_por_400 or not divisivel_por_100)\n",
    "    return bissexto"
   ]
  },
  {
   "cell_type": "code",
   "execution_count": null,
   "id": "456c2509-594b-4128-9dff-cddd951502d7",
   "metadata": {},
   "outputs": [],
   "source": [
    "def assar_bolo(farinha, ovos, acucar, tempo_de_forno):\n",
    "    massa = farinha + ovos + acucar\n",
    "    bolo = Forno.assar(massa, tempo_de_forno)\n",
    "    \n",
    "    return bolo"
   ]
  },
  {
   "cell_type": "code",
   "execution_count": null,
   "id": "82fb6114-2ffb-490c-b44a-e5e423004148",
   "metadata": {},
   "outputs": [],
   "source": [
    "import math  # importa a lib inteira (acessar com math.)\n",
    "from math import cos, pi  # importo funções específicas\n",
    "import math as m  # como atalho"
   ]
  },
  {
   "cell_type": "markdown",
   "id": "f7a0f468-dc45-43cd-94b2-9d41f22bfeca",
   "metadata": {},
   "source": [
    "### Encontro 3 - 07 de julho de 2021\n",
    "\n",
    "- Observações homework\n",
    "    - Cuidar com o nome das funções (para não sobreescrever)\n",
    "        - Dar nomes descritivos, colocar docstring\n",
    "    - Observar parâmetros de entrada -> `def calcular_area(raio)` recebe o valor de `raio` como entrada\n",
    "    - Observar parâmetros de saída -> `return round(circunferencia, 2)` retorna a circunferência arredondada em duas casas\n",
    "    - Diferença entre definir e chamar a função\n",
    "- Aprofundamento de funções\n",
    "    - Escopo da função -> variáveis só existem no corpo da função\n",
    "    \n",
    "### Encontro que vem\n",
    "- Listas\n",
    "- Loops\n",
    "- Condicionais"
   ]
  },
  {
   "cell_type": "code",
   "execution_count": null,
   "id": "c69dbd6a-507e-420a-9406-acf4efbd9703",
   "metadata": {},
   "outputs": [],
   "source": [
    "from math import pi\n",
    "\n",
    "\n",
    "def calcular_circunferencia(raio):\n",
    "    \"\"\"\n",
    "    Calcula a circunferência de um círculo a partir do raio.\n",
    "    \"\"\"\n",
    "    circunferencia = 2 * pi * raio\n",
    "    return round(circunferencia, 2)\n",
    "\n",
    "\n",
    "def calcular_area(raio):\n",
    "    \"\"\"\n",
    "    Calcula a área de superfície da esfera a partir do raio.\n",
    "    \"\"\"\n",
    "    area = 4 * pi * (raio ** 2)\n",
    "    return round(area, 2)\n",
    "\n",
    "\n",
    "def calcular_volume(raio):\n",
    "    \"\"\"\n",
    "    Calcula o volume da esfera a partir do raio.      \n",
    "    \"\"\"\n",
    "    volume = 4/3 * pi * (raio ** 3)\n",
    "    return round(volume, 2)\n",
    "\n",
    "\n",
    "def calcular_estatisticas_esfera(raio):\n",
    "    \"\"\"\n",
    "    Calcula a circunferência, área de superfície e volume de\n",
    "    uma esfera a partir do raio.\n",
    "    \"\"\"\n",
    "    circunferencia = calcular_circunferencia(raio)\n",
    "    area = calcular_area(raio)\n",
    "    volume = calcular_volume(raio)\n",
    "    \n",
    "    print(\"O raio é\", raio)\n",
    "    print(\"A sua circunferência é\", circunferencia)\n",
    "    print(\"A área é\", area)\n",
    "    print(\"O volume é\", volume)\n",
    "    \n",
    "    return circunferencia, area, volume"
   ]
  },
  {
   "cell_type": "code",
   "execution_count": null,
   "id": "6b52e191-e045-4f9f-9a8e-49ce6fb7067c",
   "metadata": {},
   "outputs": [],
   "source": [
    "raio = int(input(\"Dê o tamanho do raio: \"))\n",
    "calcular_estatisticas_esfera(raio)"
   ]
  },
  {
   "cell_type": "code",
   "execution_count": null,
   "id": "07d53c14-d058-4386-9653-9bce7bd50542",
   "metadata": {},
   "outputs": [],
   "source": [
    "raio = 5.5\n",
    "calcular_circunferencia(raio)"
   ]
  },
  {
   "cell_type": "code",
   "execution_count": null,
   "id": "d4de8192-2cb8-4854-8b9c-734ab75041ad",
   "metadata": {},
   "outputs": [],
   "source": [
    "def imprime_e_retorna_algo(algo):\n",
    "    print(\"O valor de algo é\", algo)\n",
    "    return algo"
   ]
  },
  {
   "cell_type": "code",
   "execution_count": null,
   "id": "83b47940-b4f8-4a05-9f47-2aea8b75ea8d",
   "metadata": {},
   "outputs": [],
   "source": [
    "resultado = imprime_e_retorna_algo(10)"
   ]
  },
  {
   "cell_type": "code",
   "execution_count": null,
   "id": "badbf384-c7ac-4839-8a7d-38caf3e6b91d",
   "metadata": {},
   "outputs": [],
   "source": [
    "def elevar_a_potencia(valor, expoente):\n",
    "    return valor ** expoente"
   ]
  },
  {
   "cell_type": "code",
   "execution_count": null,
   "id": "aba96dde-b10d-41a8-a53f-1e70185431b6",
   "metadata": {},
   "outputs": [],
   "source": [
    "elevar_a_potencia(2, 3)"
   ]
  },
  {
   "cell_type": "code",
   "execution_count": null,
   "id": "7ff92eda-2670-4f09-b079-f14987d38ceb",
   "metadata": {},
   "outputs": [],
   "source": [
    "elevar_a_potencia = lambda valor, expoente: valor ** expoente"
   ]
  },
  {
   "cell_type": "code",
   "execution_count": null,
   "id": "2762d476-4b21-4647-9e3e-d3b351f549f8",
   "metadata": {},
   "outputs": [],
   "source": [
    "elevar_a_potencia(2, 3)"
   ]
  },
  {
   "cell_type": "markdown",
   "id": "af14249b-fd4d-4a88-a816-edcfedbf0aad",
   "metadata": {},
   "source": [
    "### Listas\n",
    "\n",
    "- Sequência (coleção de valores ordenados) de valores de qualquer tipo\n",
    "- Mutável (posso modificar, acrescentar ou retirar valores)\n",
    "    - Diferente de tuplas, que são imutáveis\n",
    "    \n",
    "#### Em seguida: métodos de listas e strings + strings como sequências"
   ]
  },
  {
   "cell_type": "code",
   "execution_count": null,
   "id": "d4b8149b-06b9-4fda-9a88-6c69047984ed",
   "metadata": {},
   "outputs": [],
   "source": [
    "lista = ['a', 0, 'b', 1, 'c', 3.0, True]"
   ]
  },
  {
   "cell_type": "code",
   "execution_count": null,
   "id": "30f5fd15-d244-43b6-bad3-08d7d6e83172",
   "metadata": {},
   "outputs": [],
   "source": [
    "# tamanho da lista\n",
    "len(lista)\n",
    "\n",
    "# indexando\n",
    "lista[0]\n",
    "lista[-1]\n",
    "\n",
    "# fatiando\n",
    "lista[1:]\n",
    "lista[:3]"
   ]
  },
  {
   "cell_type": "code",
   "execution_count": null,
   "id": "27d0ab6c-de7d-4d53-9d1c-d87d2fd64dd2",
   "metadata": {},
   "outputs": [],
   "source": [
    "# sintaxe das fatias\n",
    "inicio = 0\n",
    "fim = 8\n",
    "step = 2\n",
    "lista[inicio:fim]\n",
    "lista[inicio:fim:step]"
   ]
  },
  {
   "cell_type": "code",
   "execution_count": null,
   "id": "16c37103-bf22-44a6-ad3c-c1fe4283fd6c",
   "metadata": {},
   "outputs": [],
   "source": [
    "lista = ['a', 0, 'b', 1, 'c', 2]\n",
    "letras, numeros = lista[::2], lista[1::2]"
   ]
  },
  {
   "cell_type": "code",
   "execution_count": null,
   "id": "8250a125-28b8-4fc1-a9c4-1c08f94fde6c",
   "metadata": {},
   "outputs": [],
   "source": [
    "lista[::-1]"
   ]
  },
  {
   "cell_type": "code",
   "execution_count": null,
   "id": "96e09b14-0ac7-406e-90c2-a42b8dabc3f6",
   "metadata": {},
   "outputs": [],
   "source": [
    "# listas tentam lidar com fatias da melhor forma\n",
    "lista[3:757]\n",
    "\n",
    "# o mesmo não acontece para itens individuais\n",
    "lista[757]"
   ]
  },
  {
   "cell_type": "code",
   "execution_count": null,
   "id": "4abf8a35-0b0b-4d5c-84b9-c27cc4d201e1",
   "metadata": {},
   "outputs": [],
   "source": [
    "locality = \"Sydney/NSW\"\n",
    "state = locality[-3:]"
   ]
  },
  {
   "cell_type": "markdown",
   "id": "4bd7acf5-afc7-412a-a0b4-166749cb9491",
   "metadata": {},
   "source": [
    "### Homework\n",
    "\n",
    "Escreva uma função que, dada uma string representando um tempo no formato `\"HH:MM:SS\"`, retornar o número total de segundos.\n",
    "\n",
    "Exemplo: `\"01:00:00\"` retorna `3600`.\n",
    "\n",
    "Bônus = fazer uma versão alternativa que retorna o dia em formato de fração. \n",
    "\n",
    "Exemplo: `\"12:00:00\"` retorna `0.5`"
   ]
  },
  {
   "cell_type": "markdown",
   "id": "8c0a61fb-181a-47a2-80de-9208bb1eea69",
   "metadata": {},
   "source": [
    "### Encontro 3 - 08 de julho de 2021\n",
    "\n",
    "* Uso do Git e GitHub\n",
    "    * Criando um fork\n",
    "    * Adicionando um remote\n",
    "    * `git add` e `git commit`\n",
    "    * `git push <nome-do-remote>`\n",
    "* Métodos de listas e strings\n",
    "- **Métodos:** funções próprios de um determinado **tipo** (`str`, `int`, `list`, etc)\n",
    "- `obj.` + `TAB`: métodos disponíveis no objeto\n",
    "- `Shift` + `TAB`: help interativo\n",
    "\n",
    "### Homework\n",
    "- Completar a função abaixo\n",
    "- Explorar métodos de listas e strings\n",
    "\n",
    "### Próximo encontro\n",
    "- For loops\n",
    "- Condicionais"
   ]
  },
  {
   "cell_type": "code",
   "execution_count": null,
   "id": "f6342b44-34ce-41a1-b737-5af4a1f48594",
   "metadata": {},
   "outputs": [],
   "source": [
    "# Home work\n",
    "def get_capital_and_state(locality):\n",
    "    \"\"\"\n",
    "    Splits 'locality' into capital and state.\n",
    "    \"\"\"\n",
    "    # Preencha usando o split\n",
    "    \n",
    "    return capital, state"
   ]
  },
  {
   "cell_type": "code",
   "execution_count": null,
   "id": "f3bb5539-b129-42e4-b23a-3c1156dacdad",
   "metadata": {},
   "outputs": [],
   "source": [
    "lista = ['a', 0, 'b', 1, 'c', 2]\n",
    "locality = \"Sydney/NSW\"\n",
    "state = locality[-3:]"
   ]
  },
  {
   "cell_type": "code",
   "execution_count": null,
   "id": "0e7a52dd-64dc-4368-a9c1-c0ec449175af",
   "metadata": {},
   "outputs": [],
   "source": [
    "capitals = [\"Sydney/NSW\",\n",
    "            \"Melbourne/VIC\",\n",
    "            \"Perth/WA\",\n",
    "            \"Darwin/NT\",\n",
    "            \"Adelaide/SA\",\n",
    "            \"Brisbane/QLD\",\n",
    "            \"Canberra/ACT\"]"
   ]
  },
  {
   "cell_type": "code",
   "execution_count": null,
   "id": "4e6d98e5-ff42-42b2-938e-18a38571f85d",
   "metadata": {},
   "outputs": [],
   "source": []
  },
  {
   "cell_type": "code",
   "execution_count": null,
   "id": "a26a6b23-973f-4952-b21a-901ca8b08e46",
   "metadata": {},
   "outputs": [],
   "source": [
    "get_capital_and_state(capitals[2])"
   ]
  },
  {
   "cell_type": "code",
   "execution_count": null,
   "id": "8a0927ea-407f-42db-aa07-66b4dfd58f54",
   "metadata": {},
   "outputs": [],
   "source": [
    "nsw = \"Sydney/NSW\""
   ]
  },
  {
   "cell_type": "code",
   "execution_count": null,
   "id": "66017da2-2acb-4bd5-9544-15c388c46ec7",
   "metadata": {},
   "outputs": [],
   "source": [
    "nsw.split(\"/\")"
   ]
  },
  {
   "cell_type": "code",
   "execution_count": null,
   "id": "2f37744b-641e-41eb-95ce-4f7d15071742",
   "metadata": {},
   "outputs": [],
   "source": [
    "cidade = \"Florianópolis SC           Brasil\""
   ]
  },
  {
   "cell_type": "code",
   "execution_count": null,
   "id": "76e02973-b2c9-452b-a35f-5c6721f57789",
   "metadata": {},
   "outputs": [],
   "source": [
    "cidade.split()"
   ]
  },
  {
   "cell_type": "code",
   "execution_count": null,
   "id": "f6b8ca82-3026-43f5-9daf-e63af689c63e",
   "metadata": {},
   "outputs": [],
   "source": [
    "capitals.append(\"Hobart/TAS\")"
   ]
  },
  {
   "cell_type": "code",
   "execution_count": null,
   "id": "b2199c6b-ce8b-4bba-bd90-dd5abd48303e",
   "metadata": {},
   "outputs": [],
   "source": [
    "capitals.pop()"
   ]
  },
  {
   "cell_type": "code",
   "execution_count": null,
   "id": "ef0509eb-1a9e-412f-91d9-325611a32237",
   "metadata": {},
   "outputs": [],
   "source": [
    "capitals"
   ]
  },
  {
   "cell_type": "code",
   "execution_count": null,
   "id": "ccb1a2ce-c125-4caf-9db8-4bc2ffbafa24",
   "metadata": {},
   "outputs": [],
   "source": [
    "for city in capitals:\n",
    "    print(city)"
   ]
  },
  {
   "cell_type": "code",
   "execution_count": null,
   "id": "5d401c04-2c37-465a-8da7-dab832038d4b",
   "metadata": {},
   "outputs": [],
   "source": [
    "for letra in nsw:\n",
    "    # corpo do loop\n",
    "    print(letra)"
   ]
  },
  {
   "cell_type": "code",
   "execution_count": null,
   "id": "d9594da8-58e6-463f-a9d4-44270a859a88",
   "metadata": {},
   "outputs": [],
   "source": [
    "for letra in nsw:\n",
    "    print(character)"
   ]
  },
  {
   "cell_type": "markdown",
   "id": "781a1e05-960d-4ba8-93f4-9f88185cba2f",
   "metadata": {},
   "source": [
    "### Encontro 4 - 13 de julho de 2021\n",
    "\n",
    "- Revisão funções, listas e strings\n",
    "- Praticando funções e loops\n",
    "\n",
    "\n",
    "### Aula que vem\n",
    "- Condicionais"
   ]
  },
  {
   "cell_type": "code",
   "execution_count": null,
   "id": "ea1b3a2f-8025-4ff1-9cb4-267f4f634206",
   "metadata": {},
   "outputs": [],
   "source": [
    "capitals = [\"Sydney/NSW\",\n",
    "            \"Melbourne/VIC\",\n",
    "            \"Perth/WA\",\n",
    "            \"Darwin/NT\",\n",
    "            \"Adelaide/SA\",\n",
    "            \"Brisbane/QLD\",\n",
    "            \"Canberra/ACT\",\n",
    "            \"Hobart/TAS\"\n",
    "           ]"
   ]
  },
  {
   "cell_type": "code",
   "execution_count": null,
   "id": "96281795-07ec-4922-a862-c1742e9d22af",
   "metadata": {},
   "outputs": [],
   "source": [
    "def split_location(location):\n",
    "    \"\"\"\n",
    "    Splits location into [city, state] by the '/' character.\n",
    "    \n",
    "    args:\n",
    "        location -> string in the format city/STATE, e.g. 'Hobart/TAS'\n",
    "        \n",
    "    return:\n",
    "        list with [city, state]\n",
    "    \"\"\"\n",
    "    city_state = location.split(\"/\")\n",
    "    return city_state"
   ]
  },
  {
   "cell_type": "code",
   "execution_count": null,
   "id": "041ab479-ab23-4a2a-91ec-74a5aa247b53",
   "metadata": {},
   "outputs": [],
   "source": [
    "split_location(\"Rio de Janeiro - RJ\")"
   ]
  },
  {
   "cell_type": "code",
   "execution_count": null,
   "id": "d7275e13-871e-47dc-bb38-a4039fa1b0ea",
   "metadata": {},
   "outputs": [],
   "source": [
    "for location in capitals:\n",
    "    lista = split_location(location)\n",
    "    print(lista)"
   ]
  },
  {
   "cell_type": "code",
   "execution_count": null,
   "id": "e1128bb3-cb04-4989-a100-d50197fa9624",
   "metadata": {},
   "outputs": [],
   "source": [
    "def split_locations_list(locations_list):\n",
    "    \"\"\"\n",
    "    Docstring.\n",
    "    \"\"\"\n",
    "    split_locations_list = []\n",
    "    for location in locations_list:\n",
    "        split_locations_list.append(split_location(location))\n",
    "        \n",
    "    return split_locations_list"
   ]
  },
  {
   "cell_type": "code",
   "execution_count": null,
   "id": "874e9781-dfa4-4570-b897-bee0edf89742",
   "metadata": {},
   "outputs": [],
   "source": [
    "split_locations_list(capitals)"
   ]
  },
  {
   "cell_type": "code",
   "execution_count": null,
   "id": "a9afdb29-d882-44b6-a7e9-6e99af9b5933",
   "metadata": {},
   "outputs": [],
   "source": [
    "brazil_capitals = [\"Rio de Janeiro/RJ\", \"Florianópolis/SC\", \"Belo Horizonte/MG\"]"
   ]
  },
  {
   "cell_type": "code",
   "execution_count": null,
   "id": "bb209390-a73f-4821-9425-a667789cf309",
   "metadata": {},
   "outputs": [],
   "source": [
    "split_locations_list(brazil_capitals)"
   ]
  },
  {
   "cell_type": "code",
   "execution_count": null,
   "id": "17c9545c-3f7a-43de-8efb-1250ed65cd82",
   "metadata": {},
   "outputs": [],
   "source": [
    "def imprimir_algo(numero):\n",
    "    print(numero + 10)"
   ]
  },
  {
   "cell_type": "code",
   "execution_count": null,
   "id": "28f7fb31-597d-400e-a8c7-2545ba543f33",
   "metadata": {},
   "outputs": [],
   "source": [
    "capitals = [\"Sydney/NSW\",\n",
    "            \"Melbourne/VIC\",\n",
    "            \"Perth/WA\",\n",
    "            \"Darwin/NT\",\n",
    "            \"Adelaide/SA\",\n",
    "            \"Brisbane/QLD\",\n",
    "            \"Canberra/ACT\",\n",
    "            \"Hobart/TAS\"\n",
    "           ]"
   ]
  },
  {
   "cell_type": "markdown",
   "id": "2b1dee3a-0972-45f4-8ee5-16fffcb248be",
   "metadata": {},
   "source": [
    "### Desafio\n",
    "\n",
    "A partir da lista `capitals`, criar uma lista só com os estados."
   ]
  },
  {
   "cell_type": "code",
   "execution_count": null,
   "id": "6eda582b-b0af-4562-94d3-8b6572d1672a",
   "metadata": {},
   "outputs": [],
   "source": [
    "states_list = []\n",
    "cities_list = []\n",
    "for location in capitals:\n",
    "    city_state_split = location.split(\"/\")\n",
    "    city = city_state_split[0]\n",
    "    state = city_state_split[1]\n",
    "    cities_list.append(city)\n",
    "    states_list.append(state)"
   ]
  },
  {
   "cell_type": "code",
   "execution_count": null,
   "id": "204496cd-61a6-4c75-b508-f22120ffb061",
   "metadata": {},
   "outputs": [],
   "source": [
    "states_list, cities_list = [], []\n",
    "for location in capitals:\n",
    "    city, state = location.split(\"/\")\n",
    "    cities_list.append(city)\n",
    "    states_list.append(state)"
   ]
  },
  {
   "cell_type": "code",
   "execution_count": null,
   "id": "97f3db04-cfab-46e2-be18-a1f52d7157a9",
   "metadata": {},
   "outputs": [],
   "source": [
    "peso = 100\n",
    "\n",
    "if peso > 80:\n",
    "    print(peso, \"kg é pesado\")"
   ]
  },
  {
   "cell_type": "code",
   "execution_count": null,
   "id": "17ab6fd1-1a23-42f0-87a1-b598ebf6936f",
   "metadata": {},
   "outputs": [],
   "source": [
    "pesos = [100, 80, 60, 120, 56]\n",
    "\n",
    "for p in pesos:\n",
    "    if p > 70:\n",
    "        print(p, \"kg é pesado\")"
   ]
  },
  {
   "cell_type": "code",
   "execution_count": null,
   "id": "1d58a715-50dc-4300-a7f3-dfd206ff2204",
   "metadata": {},
   "outputs": [],
   "source": [
    "p = 10`"
   ]
  },
  {
   "cell_type": "markdown",
   "id": "82f02e54-d400-4ed6-94e6-2efff01fb203",
   "metadata": {},
   "source": [
    "### Encontro 5 - 14 de julho de 2021\n",
    "\n",
    "* Condicionais"
   ]
  },
  {
   "cell_type": "code",
   "execution_count": null,
   "id": "b42ba92f-c52c-499c-b849-5f53cf4dc681",
   "metadata": {},
   "outputs": [],
   "source": [
    "velocidades = [50, 100, 20, 30, 40, -20]\n",
    "\n",
    "# Sempre tenho um 'if'\n",
    "for v in velocidades:\n",
    "    if v > 50:\n",
    "        print(\"Objeto rápido!\")\n",
    "        \n",
    "    # Posso ter um ou mais elif\n",
    "    elif 20 < v <= 50:\n",
    "        print(\"Objeto em velocidade OK.\")\n",
    "    elif v < 0:\n",
    "        print(\"Andando para trás!\")\n",
    "    \n",
    "    # Posso ter um else para todos os outros casos\n",
    "    else:\n",
    "        print(\"Objeto lento.\")"
   ]
  },
  {
   "cell_type": "code",
   "execution_count": null,
   "id": "42112165-a6e8-429e-a81b-f5dc80596024",
   "metadata": {},
   "outputs": [],
   "source": [
    "# A ordem das condicionais importa\n",
    "nota = 100\n",
    "\n",
    "if nota >= 70:\n",
    "    print(\"Nota C\")  \n",
    "elif nota >= 80:\n",
    "    print(\"Nota B\")\n",
    "elif nota >= 90:\n",
    "    print(\"Nota A\")\n",
    "else:\n",
    "    print(\"Nota insuficiente.\")"
   ]
  },
  {
   "cell_type": "code",
   "execution_count": null,
   "id": "ff87a531-77e0-4db7-9a89-01bd11f285e4",
   "metadata": {},
   "outputs": [],
   "source": [
    "for i in range(5):\n",
    "    print(i+1)"
   ]
  },
  {
   "cell_type": "code",
   "execution_count": null,
   "id": "b9a19ec0-6965-46df-afb7-9f6794bb8201",
   "metadata": {},
   "outputs": [],
   "source": [
    "# Condicionais que modificam variáveis\n",
    "velocidade = 10.0\n",
    "\n",
    "for i in range(5):  # executo o loop 5x\n",
    "    print(i, ':', velocidade)\n",
    "    if velocidade > 20.0:\n",
    "        print('Muito rápido!')\n",
    "        velocidade = velocidade - 5.0\n",
    "    else:\n",
    "        print('Muito lento!')\n",
    "        velocidade = velocidade + 10.0\n",
    "        \n",
    "print('Velocidade final:', velocidade)"
   ]
  },
  {
   "cell_type": "code",
   "execution_count": null,
   "id": "4d8dacb5-09b9-4f84-9c24-d13118859cb4",
   "metadata": {},
   "outputs": [],
   "source": [
    "pressao = 72.9\n",
    "\n",
    "if pressao > 50.0:\n",
    "    pressao = 25.0\n",
    "elif pressao <= 50.0:\n",
    "    pressao = 0.0\n",
    "    \n",
    "print(pressao)"
   ]
  },
  {
   "cell_type": "code",
   "execution_count": null,
   "id": "e7449a1c-59e8-4c06-a79c-135acaa7fc4e",
   "metadata": {},
   "outputs": [],
   "source": [
    "# Preencher \n",
    "original = [-1.5, 0.2, 0.42, -1, -0.75, 0.3]\n",
    "resultado = ___\n",
    "\n",
    "for value in original:\n",
    "    if ___:\n",
    "        resultado.append(0)\n",
    "    else:\n",
    "        ___\n",
    "        \n",
    "print(resultado)"
   ]
  },
  {
   "cell_type": "code",
   "execution_count": null,
   "id": "2b851664-6f58-4bb3-b58c-341a4c8228e9",
   "metadata": {},
   "outputs": [],
   "source": [
    "# Saída esperada\n",
    "[0, 1, 1, 0, 0, 1]"
   ]
  },
  {
   "cell_type": "code",
   "execution_count": null,
   "id": "ce6aa7a7-c97d-4a29-9ff8-193ed30e0d11",
   "metadata": {},
   "outputs": [],
   "source": [
    "lista = ['a', 'b', 'c']\n",
    "\n",
    "# Variável acumuladora\n",
    "ix = 0\n",
    "for value in lista:\n",
    "    value = lista[ix]\n",
    "    print(value)\n",
    "    ix += 1  # equivalente a `ix = ix + 1`"
   ]
  },
  {
   "cell_type": "code",
   "execution_count": null,
   "id": "adb875cc-6e40-468f-863d-12440eb36a7e",
   "metadata": {},
   "outputs": [],
   "source": [
    "frutas = ['Banana',\n",
    "          'Uva',\n",
    "          'Coco',\n",
    "          'Kiwi',\n",
    "          'Melancia',\n",
    "          'Abacate']\n",
    "\n",
    "for f in frutas:\n",
    "    if f[-1] == 'a' or len(f) < 5:\n",
    "        print(f, 'é uma fruta que termina em \"a\".')\n",
    "    elif f[-1] != 'a':\n",
    "        print(f, 'não termina em \"a\".')\n",
    "    else:\n",
    "        print(f, 'não atendeu nenhuma condição.')"
   ]
  },
  {
   "cell_type": "code",
   "execution_count": null,
   "id": "85b7251f-bc25-4a33-8e44-cb4f220c48a6",
   "metadata": {},
   "outputs": [],
   "source": [
    "frutas = ['Coco',\n",
    "          'Kiwi',\n",
    "          'Pêssego',\n",
    "          'Umbu',\n",
    "          'Figo',\n",
    "          'Abacate',\n",
    "          'Banana'\n",
    "         ]\n",
    "\n",
    "# imprimir frutas sem a letra 'a'\n",
    "for f in frutas:\n",
    "    if 'a' not in f:  # Dá na mesma que `if not 'a' in f`\n",
    "        print(f, 'não tem a letra \"a\".')\n",
    "    else:\n",
    "        print(f, 'tem a letra \"a\".')"
   ]
  },
  {
   "cell_type": "code",
   "execution_count": null,
   "id": "29c80882-3e71-427f-9ccb-f88eb2f35318",
   "metadata": {},
   "outputs": [],
   "source": [
    "print('Coco' in frutas)\n",
    "print('Morango' in frutas)\n",
    "print('Morango' not in frutas)"
   ]
  },
  {
   "cell_type": "code",
   "execution_count": null,
   "id": "89bd3b8d-d33d-4761-9bce-f5d0c9862f15",
   "metadata": {},
   "outputs": [],
   "source": [
    "print(1 > 0)\n",
    "print(2 == 2)\n",
    "print('a' in 'Banana')\n",
    "print('a' in 'Côco')"
   ]
  },
  {
   "cell_type": "code",
   "execution_count": null,
   "id": "4352ea77-546f-488a-ac37-0a5d84bdc3ba",
   "metadata": {},
   "outputs": [],
   "source": [
    "if not False:\n",
    "    print(\"Verdadeiro\")\n",
    "else:\n",
    "    print(\"Falso\")"
   ]
  },
  {
   "cell_type": "code",
   "execution_count": null,
   "id": "cc2d4a42-b1dd-4468-8d79-2de67c70606e",
   "metadata": {},
   "outputs": [],
   "source": [
    "not True or not False"
   ]
  },
  {
   "cell_type": "markdown",
   "id": "57c60664-b2a7-497c-bf9b-970366c6b23f",
   "metadata": {},
   "source": [
    "### Encontro 6\n",
    "- Dependências\n",
    "    - Ambientes Conda\n",
    "    - Usando ambientes Conda dentro do Jupyter\n",
    "- Introdução ao Pandas\n",
    "    - Importar a planilha\n",
    "    - Selecionar dados"
   ]
  },
  {
   "cell_type": "code",
   "execution_count": null,
   "id": "a18bf5ea-baf1-4117-9a05-d727b5140808",
   "metadata": {},
   "outputs": [],
   "source": [
    "import pandas as pd"
   ]
  },
  {
   "cell_type": "code",
   "execution_count": null,
   "id": "0ecbe899-2612-4a5b-aa9c-5c2d89fde628",
   "metadata": {},
   "outputs": [],
   "source": [
    "df = pd.read_excel(\"ANZ synthesised transaction dataset.xlsx\")"
   ]
  },
  {
   "cell_type": "code",
   "execution_count": null,
   "id": "59d9ead3-6936-4609-8b40-3bd1ac7f7958",
   "metadata": {},
   "outputs": [],
   "source": [
    "type(df)"
   ]
  },
  {
   "cell_type": "code",
   "execution_count": null,
   "id": "7de19a2f-9238-4440-8c7c-40e1dc17ede5",
   "metadata": {},
   "outputs": [],
   "source": [
    "# Inspecionar as N primeiras linhas\n",
    "df.head()"
   ]
  },
  {
   "cell_type": "code",
   "execution_count": null,
   "id": "43f666cc-7210-4810-886a-90451ae4a9f9",
   "metadata": {},
   "outputs": [],
   "source": [
    "df.tail()"
   ]
  },
  {
   "cell_type": "code",
   "execution_count": null,
   "id": "1c2c15d9-b709-4098-8120-d7a9df103074",
   "metadata": {},
   "outputs": [],
   "source": [
    "df.info()"
   ]
  },
  {
   "cell_type": "code",
   "execution_count": null,
   "id": "c3bb63f1-3026-4e5e-887e-5804228ac72b",
   "metadata": {},
   "outputs": [],
   "source": [
    "df.columns"
   ]
  },
  {
   "cell_type": "code",
   "execution_count": null,
   "id": "f19a24ec-e79e-48c2-b244-e348a09674c3",
   "metadata": {},
   "outputs": [],
   "source": [
    "df.index"
   ]
  },
  {
   "cell_type": "code",
   "execution_count": null,
   "id": "95edcb7e-72b2-4b11-a898-475cdc2ed8fd",
   "metadata": {},
   "outputs": [],
   "source": [
    "df.head()"
   ]
  },
  {
   "cell_type": "code",
   "execution_count": null,
   "id": "39decb36-ac0a-4e81-9a87-e9af34124261",
   "metadata": {},
   "outputs": [],
   "source": [
    "amount = df['amount']"
   ]
  },
  {
   "cell_type": "code",
   "execution_count": null,
   "id": "67c6e921-965c-4aa7-8500-00c175baff4d",
   "metadata": {},
   "outputs": [],
   "source": [
    "type(amount)"
   ]
  },
  {
   "cell_type": "code",
   "execution_count": null,
   "id": "73c54e09-b585-44ec-8436-6b06bea8bdf7",
   "metadata": {},
   "outputs": [],
   "source": [
    "df['amount']"
   ]
  },
  {
   "cell_type": "code",
   "execution_count": null,
   "id": "25b2a58f-8fb8-4248-b94f-58d1f24a3823",
   "metadata": {},
   "outputs": [],
   "source": [
    "df.head()"
   ]
  },
  {
   "cell_type": "code",
   "execution_count": null,
   "id": "55b91921-9f68-4d39-bcb1-99ccdf5781e8",
   "metadata": {},
   "outputs": [],
   "source": [
    "# .iloc seleciona pela posição numérica\n",
    "df.iloc[1, 3]"
   ]
  },
  {
   "cell_type": "code",
   "execution_count": null,
   "id": "43808232-51f4-4f86-93d7-504f6b2d966e",
   "metadata": {},
   "outputs": [],
   "source": [
    "# .loc seleciona pelo NOME da linha/coluna\n",
    "df.loc[0, 'amount']"
   ]
  },
  {
   "cell_type": "markdown",
   "id": "e9cf89f7-8911-4f56-a1bc-7bab8de3c018",
   "metadata": {},
   "source": [
    "### Semana que vem\n",
    "- Explorar mais as fatias com `.loc` e `.iloc`\n",
    "- Explorar outros métodos do `DataFrame`\n",
    "\n",
    "### Exercício\n",
    "- Tente selecionar múltiplas linhas/colunas\n",
    "    - Tanto \"ranges\" quanto conjuntos específicos\n",
    "    \n",
    "## Encontro 7 - 20 de julho de 2021\n",
    "- Explorando o objeto `DataFrame`\n",
    "    - `.loc` e `.iloc`\n",
    "        - Diferentes consultas retornam objetos diferentes\n",
    "    - Condicionais"
   ]
  },
  {
   "cell_type": "code",
   "execution_count": null,
   "id": "236bd335-049a-4f99-a701-04e296958072",
   "metadata": {},
   "outputs": [],
   "source": [
    "import pandas as pd"
   ]
  },
  {
   "cell_type": "code",
   "execution_count": null,
   "id": "40602039-e9b1-4dff-b222-ea3e243f27d9",
   "metadata": {},
   "outputs": [],
   "source": [
    "df = pd.read_excel(\"ANZ synthesised transaction dataset.xlsx\")"
   ]
  },
  {
   "cell_type": "code",
   "execution_count": null,
   "id": "b1c61d2b-7b7c-43b9-bd28-5a03cfe9b5eb",
   "metadata": {},
   "outputs": [],
   "source": [
    "# Ponto\n",
    "type(df.loc[0, 'amount'])"
   ]
  },
  {
   "cell_type": "code",
   "execution_count": null,
   "id": "8ac6dbcb-d7d1-4a55-87e8-0da8b10fe860",
   "metadata": {},
   "outputs": [],
   "source": [
    "# 'Linha' ou vetor\n",
    "type(df.iloc[:5, 17])"
   ]
  },
  {
   "cell_type": "code",
   "execution_count": null,
   "id": "54d85469-ce71-4cea-b0ec-8c1848329a0e",
   "metadata": {},
   "outputs": [],
   "source": [
    "# 'Plano' ou objeto 2D (DataFrame)\n",
    "type(df.iloc[:4, [17, 21]])"
   ]
  },
  {
   "cell_type": "code",
   "execution_count": null,
   "id": "82a3d629-7338-4924-92da-05aff3eb676d",
   "metadata": {},
   "outputs": [],
   "source": [
    "df.iloc[0, :5]"
   ]
  },
  {
   "cell_type": "code",
   "execution_count": null,
   "id": "85295c3a-9e60-484b-94b1-8c789adab435",
   "metadata": {},
   "outputs": [],
   "source": [
    "df.iloc[[0], :5]"
   ]
  },
  {
   "cell_type": "code",
   "execution_count": null,
   "id": "a99a08db-3c2f-4c1d-8c36-0b1da77f0464",
   "metadata": {},
   "outputs": [],
   "source": [
    "df.iloc[[0], [0]]"
   ]
  },
  {
   "cell_type": "code",
   "execution_count": null,
   "id": "69e81781-a077-4e8d-852e-c7bd2adcdf7d",
   "metadata": {},
   "outputs": [],
   "source": [
    "# Intervalos: posso usar o ':'\n",
    "df.loc[:5, 'amount':'merchant_long_lat']"
   ]
  },
  {
   "cell_type": "code",
   "execution_count": null,
   "id": "e034ab1a-2d66-4a66-aa92-92d951676485",
   "metadata": {},
   "outputs": [],
   "source": [
    "colunas_interesse = ['merchant_long_lat', 'amount']\n",
    "df.loc[:5, colunas_interesse]"
   ]
  },
  {
   "cell_type": "code",
   "execution_count": null,
   "id": "fbfee67b-c4a1-4976-a2e1-12e849e0c6f8",
   "metadata": {},
   "outputs": [],
   "source": [
    "# Quando quero colunas específicas, não preciso do loc/iloc\n",
    "df.loc[:, colunas_interesse]\n",
    "df[colunas_interesse]"
   ]
  },
  {
   "cell_type": "code",
   "execution_count": null,
   "id": "dc071393-5637-4c39-9ebf-33e5f01b9b50",
   "metadata": {},
   "outputs": [],
   "source": [
    "# Posso usar a notação para reordenar\n",
    "colunas_reordenadas = [...]\n",
    "df = df[colunas_reordenadas]"
   ]
  },
  {
   "cell_type": "markdown",
   "id": "4c2b5bf0-3bfc-4ec6-b2e8-ac8949844225",
   "metadata": {},
   "source": [
    "### Condicionais"
   ]
  },
  {
   "cell_type": "code",
   "execution_count": null,
   "id": "3d845786-67e8-4688-a820-00e7459b63b9",
   "metadata": {},
   "outputs": [],
   "source": [
    "# Python 'puro'\n",
    "rich_people = []\n",
    "for row in df:\n",
    "    if row['amount'] > 1000:\n",
    "        rich_people.append(row)"
   ]
  },
  {
   "cell_type": "code",
   "execution_count": null,
   "id": "cf8a2677-4977-483f-8d9a-de3abe367a4c",
   "metadata": {},
   "outputs": [],
   "source": [
    "# Selecione todos os IDs de transações maiores que $1000\n",
    "df[df['amount'] > 1000]['transaction_id']\n",
    "\n",
    "# equivalente em SQL\n",
    "# SELECT 'transaction_id' FROM df WHERE amount > 1000;"
   ]
  },
  {
   "cell_type": "code",
   "execution_count": null,
   "id": "dd3a2c0b-5a5f-4e03-ba3e-808baba15ddb",
   "metadata": {},
   "outputs": [],
   "source": [
    "df['status'].value_counts()"
   ]
  },
  {
   "cell_type": "code",
   "execution_count": null,
   "id": "31900187-1f53-41c8-a2a3-214b8e3e7975",
   "metadata": {},
   "outputs": [],
   "source": [
    "# Combinando diferentes condições\n",
    "cond1 = df['amount'] > 1000\n",
    "cond2 = df['status'] == 'authorized'\n",
    "df[cond1 & cond2].head()  # equivalente do Pandas de 'and'\n",
    "df[cond1 | cond2].head()  # equivalente do Pandas de 'or'"
   ]
  },
  {
   "cell_type": "code",
   "execution_count": null,
   "id": "61baaeb6-fffc-4bd6-b641-d1b459dfcab0",
   "metadata": {},
   "outputs": [],
   "source": [
    "df[(df['amount'] < 50) | (df['merchant_state'] == 'NSW')].head()"
   ]
  },
  {
   "cell_type": "code",
   "execution_count": null,
   "id": "2c2b23f2-803b-4c80-b57e-2112ac4c5885",
   "metadata": {},
   "outputs": [],
   "source": [
    "df[~(df['merchant_state'] == 'NSW')]  # equivalente do Pandas de 'not'"
   ]
  },
  {
   "cell_type": "code",
   "execution_count": null,
   "id": "4f3e440e-7906-40a2-9f51-73b00f5851b2",
   "metadata": {},
   "outputs": [],
   "source": [
    "df['txn_description'].value_counts()"
   ]
  },
  {
   "cell_type": "code",
   "execution_count": null,
   "id": "0f79927c-625b-4db7-b2a1-f6102bf72345",
   "metadata": {},
   "outputs": [],
   "source": [
    "cond1 = df['txn_description'] == 'PHONE BANK'\n",
    "cond2 = df['txn_description'] == 'INTER BANK'\n",
    "df[cond1 | cond2].head()"
   ]
  },
  {
   "cell_type": "code",
   "execution_count": null,
   "id": "6ff5d715-775c-41a4-8886-e376ace31358",
   "metadata": {},
   "outputs": [],
   "source": [
    "descriptions = [\"PHONE BANK\", \"INTER BANK\", \"POS\"]\n",
    "df[df['txn_description'].isin(descriptions)]"
   ]
  },
  {
   "cell_type": "markdown",
   "id": "af7601f1-8f9d-4be5-bc51-31934577a2e2",
   "metadata": {},
   "source": [
    "### Encontro 8 - 21 de julho 2021\n",
    "- Groupby - agrupando dados"
   ]
  },
  {
   "cell_type": "code",
   "execution_count": null,
   "id": "414971f4-6fa9-48fe-9b9b-90b910416fe0",
   "metadata": {},
   "outputs": [],
   "source": [
    "import pandas as pd\n",
    "from matplotlib import pyplot as plt"
   ]
  },
  {
   "cell_type": "code",
   "execution_count": null,
   "id": "9858721f-fa8c-401b-87ec-a9497b46ee84",
   "metadata": {},
   "outputs": [],
   "source": [
    "df = pd.read_excel(\"ANZ synthesised transaction dataset.xlsx\")"
   ]
  },
  {
   "cell_type": "code",
   "execution_count": null,
   "id": "1aa51acf-8049-45af-ac6a-bb885a488ed3",
   "metadata": {},
   "outputs": [],
   "source": [
    "# Variáveis contínuas e categóricas\n",
    "ss = df[[\"amount\", \"merchant_state\"]] # <- ss quer dizer 'subset'"
   ]
  },
  {
   "cell_type": "code",
   "execution_count": null,
   "id": "6786ad34-1885-4ef5-8e6d-c001e57132e6",
   "metadata": {},
   "outputs": [],
   "source": [
    "# 'value_counts' útil para variáveis categóricas\n",
    "ss[\"merchant_state\"].value_counts()"
   ]
  },
  {
   "cell_type": "code",
   "execution_count": null,
   "id": "04b326d4-ec5d-4357-bda2-9ef4b292be81",
   "metadata": {},
   "outputs": [],
   "source": [
    "# 'describe' útil para variáveis contínuas\n",
    "ss[\"amount\"].describe()"
   ]
  },
  {
   "cell_type": "code",
   "execution_count": null,
   "id": "2b35f2ee-ea13-4395-a56b-7e443cad2c3f",
   "metadata": {},
   "outputs": [],
   "source": [
    "# Método `hist` para 'olhar a cara' das distribuições\n",
    "ss[\"amount\"].hist(bins=100)\n",
    "plt.xlim(0, 1000)"
   ]
  },
  {
   "cell_type": "code",
   "execution_count": null,
   "id": "69bbf536-5caa-4959-bac9-928c3ef0b36c",
   "metadata": {},
   "outputs": [],
   "source": [
    "gb = df.groupby(\"merchant_state\")  # <- 'gb' quer dizer GroupBy"
   ]
  },
  {
   "cell_type": "code",
   "execution_count": null,
   "id": "da481a07-dfed-410c-b322-d9d25612e442",
   "metadata": {},
   "outputs": [],
   "source": [
    "gb.describe()['amount'].loc[:, 'mean']\n",
    "\n",
    "# é equivalente a:\n",
    "gb.mean()['amount']"
   ]
  },
  {
   "cell_type": "code",
   "execution_count": null,
   "id": "67ed38ca-8978-4a0f-9d92-b52af0a13930",
   "metadata": {},
   "outputs": [],
   "source": [
    "df['status'].value_counts()"
   ]
  },
  {
   "cell_type": "code",
   "execution_count": null,
   "id": "59a4a029-3cc4-4415-ac04-6335a71b4fad",
   "metadata": {},
   "outputs": [],
   "source": [
    "gb = df.groupby(['merchant_state',\n",
    "                 'txn_description']).sum()"
   ]
  },
  {
   "cell_type": "code",
   "execution_count": null,
   "id": "56e18151-b7a3-4a9b-8763-cb954446b885",
   "metadata": {},
   "outputs": [],
   "source": [
    "gb"
   ]
  },
  {
   "cell_type": "markdown",
   "id": "e83fb7af-9aed-4147-bd9e-23de60ed11a7",
   "metadata": {},
   "source": [
    "### Encontro 9 - 22 de julho de 2021\n",
    "\n",
    "- Merge, join e concatenate\n",
    "- **Merge** é o nome que o Pandas dá para um JOIN\n",
    "- [Explicação visual dos tipos de join](https://blog.codinghorror.com/a-visual-explanation-of-sql-joins/)\n",
    "\n",
    "Métodos Pandas\n",
    "- `idxmax()` e `idxmin()`: retornam o nome da linha (index) para o maior (no caso de max) ou menor valor\n",
    "- `.copy()` cria uma cópia do DataFrame, invés de só uma **view**\n",
    "- `.reset_index()` reseta o nome das linhas"
   ]
  },
  {
   "cell_type": "code",
   "execution_count": null,
   "id": "9418f43f-1ff5-436d-98d7-2eacf5133c52",
   "metadata": {},
   "outputs": [],
   "source": [
    "import pandas as pd"
   ]
  },
  {
   "cell_type": "code",
   "execution_count": null,
   "id": "023081b1-346a-4107-945f-68bc5fe5d1b7",
   "metadata": {},
   "outputs": [],
   "source": [
    "df = pd.read_excel(\"ANZ synthesised transaction dataset.xlsx\")"
   ]
  },
  {
   "cell_type": "code",
   "execution_count": null,
   "id": "75ccd482-9e73-4b93-a5e5-657c72bcafe5",
   "metadata": {},
   "outputs": [],
   "source": [
    "cond1 = df['status'] == 'authorized'\n",
    "cond2 = df['status'] == 'posted'\n",
    "auth = df[cond1].copy().reset_index(drop=True)\n",
    "post = df[cond2].copy().reset_index(drop=True)"
   ]
  },
  {
   "cell_type": "code",
   "execution_count": null,
   "id": "5b269247-ad56-48d3-b400-efe9772a8bc3",
   "metadata": {},
   "outputs": [],
   "source": [
    "# Concatenar ao longo das linhas\n",
    "df = pd.concat([auth, post], ignore_index=True)  # 'ignore_index' é similar ao 'reset_index'"
   ]
  },
  {
   "cell_type": "code",
   "execution_count": null,
   "id": "cc7200fe-1d41-4040-a542-e92c54f76ea8",
   "metadata": {},
   "outputs": [],
   "source": [
    "# Concatenar ao longo das colunas\n",
    "pd.concat([df['amount'], df['merchant_state']], axis=1)"
   ]
  },
  {
   "cell_type": "markdown",
   "id": "9fbdd432-53f7-412d-89af-d939fb3da5e9",
   "metadata": {},
   "source": [
    "### JOINS (ou `merge` no Pandas)"
   ]
  },
  {
   "cell_type": "code",
   "execution_count": null,
   "id": "e3dd9840-26c3-4388-bd46-22963d99bd9e",
   "metadata": {},
   "outputs": [],
   "source": [
    "# Criando dois dataframes com uma coluna em comum\n",
    "df1 = df[['amount', 'transaction_id']]\n",
    "df2 = df[['transaction_id', 'customer_id']]\n",
    "\n",
    "# Embaralhando os dataframes\n",
    "df1 = df1.sample(frac=1).reset_index(drop=True)\n",
    "df2 = df2.sample(frac=1).reset_index(drop=True)"
   ]
  },
  {
   "cell_type": "code",
   "execution_count": null,
   "id": "4624bba9-1fcb-4762-a8bb-9b2f3bbf161b",
   "metadata": {},
   "outputs": [],
   "source": [
    "df1.merge(df2, on='transaction_id')"
   ]
  },
  {
   "cell_type": "markdown",
   "id": "3ad632fa-f71f-484d-9253-2b2288956824",
   "metadata": {},
   "source": [
    "### Encontro 10 - 27 de julho de 2021\n",
    "\n",
    "* Conversa sobre stack científico Python e aplicações para finanças\n",
    "* Dicionários\n",
    "* Aula de Git: no Anaconda Prompt\n",
    "    * `git init` *\n",
    "    * `git status`\n",
    "    * `git diff`\n",
    "    * `git stash`\n",
    "    * `git pull`\n",
    "    * `git add` *\n",
    "    * `git commit` *\n",
    "    * `git push` *\n",
    "\n",
    "### Encontro 11 - 28 de julho de 2021\n",
    "\n",
    "* Evitar de versionar dados - incluir somente código no controle de versão\n",
    "* Revisão de conceitos do Git\n",
    "\n",
    "### Para amanhã\n",
    "Explicação do código em `ANZ_dataset.ipynb`"
   ]
  },
  {
   "cell_type": "code",
   "execution_count": null,
   "id": "ae60163c-4d38-4918-b12e-9ea012f28c8a",
   "metadata": {},
   "outputs": [],
   "source": [
    "import pandas as pd"
   ]
  },
  {
   "cell_type": "code",
   "execution_count": null,
   "id": "d3fea5d0-a0ed-4696-91e1-9fda59a6faa8",
   "metadata": {},
   "outputs": [],
   "source": [
    "df = pd.read_excel(\"ANZ synthesised transaction dataset.xlsx\")"
   ]
  },
  {
   "cell_type": "markdown",
   "id": "49018cf9-a63f-4bdb-bc3d-3d38f0af8b3d",
   "metadata": {},
   "source": [
    "### Perguntas\n",
    "\n",
    "Execute as seguintes consultas no Pandas:\n",
    "- Qual o valor médio das transações por gênero?\n",
    "- Qual o valor médio das transações por faixa etária?"
   ]
  },
  {
   "cell_type": "code",
   "execution_count": null,
   "id": "e78d49c2-6dfd-48eb-afd1-00d8754671b5",
   "metadata": {},
   "outputs": [],
   "source": [
    "bins=[df['age'].min(), 20, 60, df['age'].max()]\n",
    "labels=['Jovem', 'Adulto', 'Idoso']\n",
    "\n",
    "df['age_group'] = pd.cut(df['age'], bins, labels=labels)"
   ]
  },
  {
   "cell_type": "code",
   "execution_count": null,
   "id": "1d357005-c9fe-4ce2-a3d0-85945499f5c6",
   "metadata": {},
   "outputs": [],
   "source": [
    "df[\"age_group\"].value_counts()"
   ]
  },
  {
   "cell_type": "code",
   "execution_count": null,
   "id": "6b3416c8-5317-4464-9b92-59666c32e776",
   "metadata": {},
   "outputs": [],
   "source": [
    "!git remote rename renanbigarelli origin"
   ]
  }
 ],
 "metadata": {
  "kernelspec": {
   "display_name": "Python [conda env:xlab]",
   "language": "python",
   "name": "conda-env-xlab-py"
  },
  "language_info": {
   "codemirror_mode": {
    "name": "ipython",
    "version": 3
   },
   "file_extension": ".py",
   "mimetype": "text/x-python",
   "name": "python",
   "nbconvert_exporter": "python",
   "pygments_lexer": "ipython3",
   "version": "3.9.2"
  }
 },
 "nbformat": 4,
 "nbformat_minor": 5
}
