{
 "cells": [
  {
   "cell_type": "markdown",
   "id": "a90f0cf1",
   "metadata": {},
   "source": [
    "### Encontro 1 - 01 de julho de 2021\n",
    "\n",
    "* Usando o JupyterLab\n",
    "    * Tipos de célula\n",
    "    * Atalhos do teclado\n",
    "* Revisão Python básico\n",
    "    * Jogo de pergunta/resposta\n",
    "        * Interpretador Python sempre RETORNA algo (pode ser nada).\n",
    "    * Variáveis\n",
    "    * Tipos de dados\n",
    "        * `str` -> texto (\"a string of characters\")\n",
    "        * `int` -> inteiro\n",
    "        * `float` -> número com vírgula (ponto flutuante)\n",
    "        * `bool` -> `True` ou `False`\n",
    "        * __Também servem como funções built-in!__\n",
    "    * Operadores matemáticos\n",
    "    * Operadores lógicos\n",
    "* Funções embutidas (_built-in_)\n",
    "    * [Docs Python](https://docs.python.org/pt-br/3/library/functions.html) \n",
    "    * `type()`\n",
    "    * `print()`\n",
    "    \n",
    "### Ponto-chave\n",
    "* O tipo de um objeto determina as operações que posso fazer com ele.\n",
    "* Objetos podem ser de tipos diferentes e compartilhar propriedades em comum."
   ]
  },
  {
   "cell_type": "code",
   "execution_count": null,
   "id": "ac9aca71",
   "metadata": {},
   "outputs": [],
   "source": [
    "# operadores matemáticos\n",
    "2 + 2\n",
    "2 - 2\n",
    "2 * 2\n",
    "2 / 2\n",
    "2 ** 3  # power\n",
    "10 % 3  # modulo\n",
    "10 // 3  # floor division"
   ]
  },
  {
   "cell_type": "code",
   "execution_count": null,
   "id": "59df042a",
   "metadata": {},
   "outputs": [],
   "source": [
    "resultado = 10 // 3"
   ]
  },
  {
   "cell_type": "code",
   "execution_count": null,
   "id": "27b3c7d3",
   "metadata": {},
   "outputs": [],
   "source": [
    "resultado"
   ]
  },
  {
   "cell_type": "code",
   "execution_count": null,
   "id": "b2e63e51",
   "metadata": {},
   "outputs": [],
   "source": [
    "resultado_print = print(resultado)"
   ]
  },
  {
   "cell_type": "code",
   "execution_count": null,
   "id": "2e8bd669",
   "metadata": {},
   "outputs": [],
   "source": [
    "print(resultado_print)"
   ]
  },
  {
   "cell_type": "code",
   "execution_count": null,
   "id": "18fc1359",
   "metadata": {},
   "outputs": [],
   "source": [
    "resultado = '2' + 2"
   ]
  },
  {
   "cell_type": "code",
   "execution_count": null,
   "id": "858737dd",
   "metadata": {},
   "outputs": [],
   "source": [
    "'2' + '2'"
   ]
  },
  {
   "cell_type": "code",
   "execution_count": null,
   "id": "b74e2b02",
   "metadata": {},
   "outputs": [],
   "source": [
    "2.0 + 2.5"
   ]
  },
  {
   "cell_type": "code",
   "execution_count": null,
   "id": "f56db8d3",
   "metadata": {},
   "outputs": [],
   "source": [
    "2 + 2.5"
   ]
  },
  {
   "cell_type": "code",
   "execution_count": null,
   "id": "0088dcd7",
   "metadata": {},
   "outputs": [],
   "source": [
    "10 / 5"
   ]
  },
  {
   "cell_type": "code",
   "execution_count": null,
   "id": "7ab47553",
   "metadata": {},
   "outputs": [],
   "source": [
    "2 * 2"
   ]
  },
  {
   "cell_type": "code",
   "execution_count": null,
   "id": "86225b57",
   "metadata": {},
   "outputs": [],
   "source": [
    "type(2 * 2.5)"
   ]
  },
  {
   "cell_type": "code",
   "execution_count": null,
   "id": "573bc8e9",
   "metadata": {},
   "outputs": [],
   "source": [
    "float(2)"
   ]
  },
  {
   "cell_type": "code",
   "execution_count": null,
   "id": "7985ae53",
   "metadata": {},
   "outputs": [],
   "source": [
    "int(2.5)"
   ]
  },
  {
   "cell_type": "code",
   "execution_count": null,
   "id": "f0d0aab2",
   "metadata": {},
   "outputs": [],
   "source": [
    "str(3.14) + \" é o número Pi\""
   ]
  },
  {
   "cell_type": "code",
   "execution_count": null,
   "id": "d428cb28",
   "metadata": {},
   "outputs": [],
   "source": [
    "type(1 > 0)"
   ]
  },
  {
   "cell_type": "code",
   "execution_count": null,
   "id": "772387e1",
   "metadata": {},
   "outputs": [],
   "source": [
    "bool(1)"
   ]
  },
  {
   "cell_type": "code",
   "execution_count": null,
   "id": "f3f0102d",
   "metadata": {},
   "outputs": [],
   "source": [
    "bool(0)"
   ]
  },
  {
   "cell_type": "code",
   "execution_count": null,
   "id": "7b413dcb",
   "metadata": {},
   "outputs": [],
   "source": [
    "bool(0)"
   ]
  },
  {
   "cell_type": "code",
   "execution_count": null,
   "id": "c5378b49",
   "metadata": {},
   "outputs": [],
   "source": [
    "1 > 0"
   ]
  },
  {
   "cell_type": "code",
   "execution_count": null,
   "id": "e287ff3f",
   "metadata": {},
   "outputs": [],
   "source": [
    "1 < 0"
   ]
  },
  {
   "cell_type": "code",
   "execution_count": null,
   "id": "ba4b7eb3",
   "metadata": {},
   "outputs": [],
   "source": [
    "1 == 1"
   ]
  },
  {
   "cell_type": "code",
   "execution_count": null,
   "id": "c5b13c35",
   "metadata": {},
   "outputs": [],
   "source": [
    "1 != 0"
   ]
  },
  {
   "cell_type": "code",
   "execution_count": null,
   "id": "7401cd9d",
   "metadata": {},
   "outputs": [],
   "source": [
    "1 >= 0"
   ]
  },
  {
   "cell_type": "code",
   "execution_count": null,
   "id": "fa94797a",
   "metadata": {},
   "outputs": [],
   "source": [
    "0 <= 1"
   ]
  },
  {
   "cell_type": "code",
   "execution_count": null,
   "id": "2378fa35",
   "metadata": {},
   "outputs": [],
   "source": [
    "'A' * 3"
   ]
  },
  {
   "cell_type": "code",
   "execution_count": null,
   "id": "86753b7c",
   "metadata": {},
   "outputs": [],
   "source": [
    "'A' * 3.0  # dá erro"
   ]
  },
  {
   "cell_type": "code",
   "execution_count": null,
   "id": "6700b68c",
   "metadata": {},
   "outputs": [],
   "source": [
    "['a', 'b', 'c'] * 3.0  # listas e strings são ambas 'sequências'"
   ]
  },
  {
   "cell_type": "code",
   "execution_count": null,
   "id": "53c07781",
   "metadata": {},
   "outputs": [],
   "source": [
    "lista_com_varios_tipos = ['uma_string',\n",
    "                          42,\n",
    "                          3.14,\n",
    "                          ['outra_listra', 'outra_lista']\n",
    "                         ]  # no entanto, listas podem ter valores de qualquer tipo"
   ]
  },
  {
   "cell_type": "code",
   "execution_count": null,
   "id": "0d57f629",
   "metadata": {},
   "outputs": [],
   "source": [
    "frutas = ['maçã', 'laranja', 'banana']\n",
    "palavra = 'amendoim'"
   ]
  },
  {
   "cell_type": "code",
   "execution_count": null,
   "id": "0065761b",
   "metadata": {},
   "outputs": [],
   "source": [
    "for fruta in frutas:\n",
    "    print(fruta)"
   ]
  },
  {
   "cell_type": "code",
   "execution_count": null,
   "id": "aab6ca50",
   "metadata": {},
   "outputs": [],
   "source": [
    "for letra in palavra:\n",
    "    print(letra)"
   ]
  },
  {
   "cell_type": "code",
   "execution_count": null,
   "id": "7d194737",
   "metadata": {},
   "outputs": [],
   "source": [
    "print(frutas[0] == 'maçã')\n",
    "print(palavra[0] == 'a')"
   ]
  },
  {
   "cell_type": "markdown",
   "id": "10c69b26-a2fc-4b4e-8c3d-fa5ea78338b7",
   "metadata": {},
   "source": [
    "### Encontro 2 - 06 de julho de 2021\n",
    "\n",
    "### Estudo\n",
    "* Exercícios HackerRank\n",
    "* Funções embutidas\n",
    "    * `len()`\n",
    "    * `max()`\n",
    "    * `min()`\n",
    "    * `range()`\n",
    "    * `help()`\n",
    "* Condicionais\n",
    "* Bibliotecas\n",
    "    * `time`\n",
    "* Site [QuantConnect](http://quantconnect.com)\n",
    "    * Cloud com dados\n",
    "\n",
    "### Conteúdo\n",
    "* Funções\n",
    "    * **Para que servem funções?** Para abstrair tarefas dentro do nosso programa, assim evitando a duplicação de informação.\n",
    "* Bibliotecas\n",
    "    * Três formas de importar bibliotecas\n",
    "        * Lib inteira `import math`\n",
    "        * Funções específicas `from math import cos, pi`\n",
    "        * Com atalho `import math as m`\n",
    "* Pedindo ajuda\n",
    "    * Três formas diferentes\n",
    "        * Com a função embutida `help(funcao)`\n",
    "        * `funcao?` -> mostra a docstring\n",
    "        * `funcao??` -> mostra docstring + código fonte\n",
    "    * Usando a tecla TAB\n",
    "* Zen do Python\n",
    "    * Filosofia por trás da linguagem com princípios para escrever código bonito/Pythonico\n",
    "    * `import this`\n",
    "    \n",
    "### Homework\n",
    "\n",
    "Usando o módulo `math` e dado uma esfera de raio `r`, criar funções para:\n",
    "- determinar a circunferência\n",
    "- determinar a área\n",
    "- determinar o volume\n",
    "- imprimir todas essas informações"
   ]
  },
  {
   "cell_type": "markdown",
   "id": "202f92bd-7310-41d2-9cb6-acb9425a114b",
   "metadata": {},
   "source": [
    "#### Exemplo de função\n",
    "\n",
    "Quero escrever uma função que diz se um ano é bissexto ou não.\n",
    "\n",
    "Um ano é bissexto se:\n",
    " - é divisível por 4, a não ser que\n",
    " - seja divisível por 100, a não ser que seja divisível por 400\n",
    " \n",
    "**Entrada:** um ano (`int`)  \n",
    "**O que faz:** faz as operações para determinar se o ano é bissexto  \n",
    "**Saída:** `bool`"
   ]
  },
  {
   "cell_type": "code",
   "execution_count": null,
   "id": "2467e373-9d15-4dad-971e-29240d9a4680",
   "metadata": {},
   "outputs": [],
   "source": [
    "import this"
   ]
  },
  {
   "cell_type": "code",
   "execution_count": null,
   "id": "7dcd6e8d-c3d2-4e86-9d97-5603b76b1d79",
   "metadata": {},
   "outputs": [],
   "source": [
    "def calcular_bissexto(ano):\n",
    "    \"\"\"\n",
    "    Calcula se um ano é bissexto ou não.\n",
    "    \n",
    "    args:\n",
    "        ano -> ano dado como inteiro (int)\n",
    "        \n",
    "    retorna:\n",
    "        bool -> se o ano é bissexto (True) ou não (False)\n",
    "    \"\"\"\n",
    "    divisivel_por_4 = ano % 4 == 0  # bool\n",
    "    divisivel_por_100 = ano % 100 == 0  # bool\n",
    "    divisivel_por_400 = ano % 400 == 0  # bool\n",
    "    \n",
    "    bissexto = divisivel_por_4 and (divisivel_por_400 or not divisivel_por_100)\n",
    "    return bissexto"
   ]
  },
  {
   "cell_type": "code",
   "execution_count": null,
   "id": "456c2509-594b-4128-9dff-cddd951502d7",
   "metadata": {},
   "outputs": [],
   "source": [
    "def assar_bolo(farinha, ovos, acucar, tempo_de_forno):\n",
    "    massa = farinha + ovos + acucar\n",
    "    bolo = Forno.assar(massa, tempo_de_forno)\n",
    "    \n",
    "    return bolo"
   ]
  },
  {
   "cell_type": "code",
   "execution_count": null,
   "id": "82fb6114-2ffb-490c-b44a-e5e423004148",
   "metadata": {},
   "outputs": [],
   "source": [
    "import math  # importa a lib inteira (acessar com math.)\n",
    "from math import cos, pi  # importo funções específicas\n",
    "import math as m  # como atalho"
   ]
  },
  {
   "cell_type": "markdown",
   "id": "f7a0f468-dc45-43cd-94b2-9d41f22bfeca",
   "metadata": {},
   "source": [
    "### Encontro 3 - 07 de julho de 2021\n",
    "\n",
    "- Observações homework\n",
    "    - Cuidar com o nome das funções (para não sobreescrever)\n",
    "        - Dar nomes descritivos, colocar docstring\n",
    "    - Observar parâmetros de entrada -> `def calcular_area(raio)` recebe o valor de `raio` como entrada\n",
    "    - Observar parâmetros de saída -> `return round(circunferencia, 2)` retorna a circunferência arredondada em duas casas\n",
    "    - Diferença entre definir e chamar a função\n",
    "- Aprofundamento de funções\n",
    "    - Escopo da função -> variáveis só existem no corpo da função\n",
    "    \n",
    "### Encontro que vem\n",
    "- Listas\n",
    "- Loops\n",
    "- Condicionais"
   ]
  },
  {
   "cell_type": "code",
   "execution_count": null,
   "id": "c69dbd6a-507e-420a-9406-acf4efbd9703",
   "metadata": {},
   "outputs": [],
   "source": [
    "from math import pi\n",
    "\n",
    "\n",
    "def calcular_circunferencia(raio):\n",
    "    \"\"\"\n",
    "    Calcula a circunferência de um círculo a partir do raio.\n",
    "    \"\"\"\n",
    "    circunferencia = 2 * pi * raio\n",
    "    return round(circunferencia, 2)\n",
    "\n",
    "\n",
    "def calcular_area(raio):\n",
    "    \"\"\"\n",
    "    Calcula a área de superfície da esfera a partir do raio.\n",
    "    \"\"\"\n",
    "    area = 4 * pi * (raio ** 2)\n",
    "    return round(area, 2)\n",
    "\n",
    "\n",
    "def calcular_volume(raio):\n",
    "    \"\"\"\n",
    "    Calcula o volume da esfera a partir do raio.      \n",
    "    \"\"\"\n",
    "    volume = 4/3 * pi * (raio ** 3)\n",
    "    return round(volume, 2)\n",
    "\n",
    "\n",
    "def calcular_estatisticas_esfera(raio):\n",
    "    \"\"\"\n",
    "    Calcula a circunferência, área de superfície e volume de\n",
    "    uma esfera a partir do raio.\n",
    "    \"\"\"\n",
    "    circunferencia = calcular_circunferencia(raio)\n",
    "    area = calcular_area(raio)\n",
    "    volume = calcular_volume(raio)\n",
    "    \n",
    "    print(\"O raio é\", raio)\n",
    "    print(\"A sua circunferência é\", circunferencia)\n",
    "    print(\"A área é\", area)\n",
    "    print(\"O volume é\", volume)\n",
    "    \n",
    "    return circunferencia, area, volume"
   ]
  },
  {
   "cell_type": "code",
   "execution_count": null,
   "id": "6b52e191-e045-4f9f-9a8e-49ce6fb7067c",
   "metadata": {},
   "outputs": [],
   "source": [
    "raio = int(input(\"Dê o tamanho do raio: \"))\n",
    "calcular_estatisticas_esfera(raio)"
   ]
  },
  {
   "cell_type": "code",
   "execution_count": null,
   "id": "07d53c14-d058-4386-9653-9bce7bd50542",
   "metadata": {},
   "outputs": [],
   "source": [
    "raio = 5.5\n",
    "calcular_circunferencia(raio)"
   ]
  },
  {
   "cell_type": "code",
   "execution_count": null,
   "id": "d4de8192-2cb8-4854-8b9c-734ab75041ad",
   "metadata": {},
   "outputs": [],
   "source": [
    "def imprime_e_retorna_algo(algo):\n",
    "    print(\"O valor de algo é\", algo)\n",
    "    return algo"
   ]
  },
  {
   "cell_type": "code",
   "execution_count": null,
   "id": "83b47940-b4f8-4a05-9f47-2aea8b75ea8d",
   "metadata": {},
   "outputs": [],
   "source": [
    "resultado = imprime_e_retorna_algo(10)"
   ]
  },
  {
   "cell_type": "code",
   "execution_count": null,
   "id": "badbf384-c7ac-4839-8a7d-38caf3e6b91d",
   "metadata": {},
   "outputs": [],
   "source": [
    "def elevar_a_potencia(valor, expoente):\n",
    "    return valor ** expoente"
   ]
  },
  {
   "cell_type": "code",
   "execution_count": null,
   "id": "aba96dde-b10d-41a8-a53f-1e70185431b6",
   "metadata": {},
   "outputs": [],
   "source": [
    "elevar_a_potencia(2, 3)"
   ]
  },
  {
   "cell_type": "code",
   "execution_count": null,
   "id": "7ff92eda-2670-4f09-b079-f14987d38ceb",
   "metadata": {},
   "outputs": [],
   "source": [
    "elevar_a_potencia = lambda valor, expoente: valor ** expoente"
   ]
  },
  {
   "cell_type": "code",
   "execution_count": null,
   "id": "2762d476-4b21-4647-9e3e-d3b351f549f8",
   "metadata": {},
   "outputs": [],
   "source": [
    "elevar_a_potencia(2, 3)"
   ]
  },
  {
   "cell_type": "markdown",
   "id": "af14249b-fd4d-4a88-a816-edcfedbf0aad",
   "metadata": {},
   "source": [
    "### Listas\n",
    "\n",
    "- Sequência (coleção de valores ordenados) de valores de qualquer tipo\n",
    "- Mutável (posso modificar, acrescentar ou retirar valores)\n",
    "    - Diferente de tuplas, que são imutáveis\n",
    "    \n",
    "#### Em seguida: métodos de listas e strings + strings como sequências"
   ]
  },
  {
   "cell_type": "code",
   "execution_count": null,
   "id": "d4b8149b-06b9-4fda-9a88-6c69047984ed",
   "metadata": {},
   "outputs": [],
   "source": [
    "lista = ['a', 0, 'b', 1, 'c', 3.0, True]"
   ]
  },
  {
   "cell_type": "code",
   "execution_count": null,
   "id": "30f5fd15-d244-43b6-bad3-08d7d6e83172",
   "metadata": {},
   "outputs": [],
   "source": [
    "# tamanho da lista\n",
    "len(lista)\n",
    "\n",
    "# indexando\n",
    "lista[0]\n",
    "lista[-1]\n",
    "\n",
    "# fatiando\n",
    "lista[1:]\n",
    "lista[:3]"
   ]
  },
  {
   "cell_type": "code",
   "execution_count": null,
   "id": "27d0ab6c-de7d-4d53-9d1c-d87d2fd64dd2",
   "metadata": {},
   "outputs": [],
   "source": [
    "# sintaxe das fatias\n",
    "inicio = 0\n",
    "fim = 8\n",
    "step = 2\n",
    "lista[inicio:fim]\n",
    "lista[inicio:fim:step]"
   ]
  },
  {
   "cell_type": "code",
   "execution_count": null,
   "id": "16c37103-bf22-44a6-ad3c-c1fe4283fd6c",
   "metadata": {},
   "outputs": [],
   "source": [
    "lista = ['a', 0, 'b', 1, 'c', 2]\n",
    "letras, numeros = lista[::2], lista[1::2]"
   ]
  },
  {
   "cell_type": "code",
   "execution_count": null,
   "id": "8250a125-28b8-4fc1-a9c4-1c08f94fde6c",
   "metadata": {},
   "outputs": [],
   "source": [
    "lista[::-1]"
   ]
  },
  {
   "cell_type": "code",
   "execution_count": null,
   "id": "96e09b14-0ac7-406e-90c2-a42b8dabc3f6",
   "metadata": {},
   "outputs": [],
   "source": [
    "# listas tentam lidar com fatias da melhor forma\n",
    "lista[3:757]\n",
    "\n",
    "# o mesmo não acontece para itens individuais\n",
    "lista[757]"
   ]
  },
  {
   "cell_type": "code",
   "execution_count": null,
   "id": "4abf8a35-0b0b-4d5c-84b9-c27cc4d201e1",
   "metadata": {},
   "outputs": [],
   "source": [
    "locality = \"Sydney/NSW\"\n",
    "state = locality[-3:]"
   ]
  },
  {
   "cell_type": "markdown",
   "id": "4bd7acf5-afc7-412a-a0b4-166749cb9491",
   "metadata": {},
   "source": [
    "### Homework\n",
    "\n",
    "Escreva uma função que, dada uma string representando um tempo no formato `\"HH:MM:SS\"`, retornar o número total de segundos.\n",
    "\n",
    "Exemplo: `\"01:00:00\"` retorna `3600`.\n",
    "\n",
    "Bônus = fazer uma versão alternativa que retorna o dia em formato de fração. \n",
    "\n",
    "Exemplo: `\"12:00:00\"` retorna `0.5`"
   ]
  },
  {
   "cell_type": "markdown",
   "id": "8c0a61fb-181a-47a2-80de-9208bb1eea69",
   "metadata": {},
   "source": [
    "### Encontro 3 - 08 de julho de 2021\n",
    "\n",
    "* Uso do Git e GitHub\n",
    "    * Criando um fork\n",
    "    * Adicionando um remote\n",
    "    * `git add` e `git commit`\n",
    "    * `git push <nome-do-remote>`\n",
    "* Métodos de listas e strings\n",
    "- **Métodos:** funções próprios de um determinado **tipo** (`str`, `int`, `list`, etc)\n",
    "- `obj.` + `TAB`: métodos disponíveis no objeto\n",
    "- `Shift` + `TAB`: help interativo\n",
    "\n",
    "### Homework\n",
    "- Completar a função abaixo\n",
    "- Explorar métodos de listas e strings\n",
    "\n",
    "### Próximo encontro\n",
    "- For loops\n",
    "- Condicionais"
   ]
  },
  {
   "cell_type": "code",
   "execution_count": null,
   "id": "f6342b44-34ce-41a1-b737-5af4a1f48594",
   "metadata": {},
   "outputs": [],
   "source": [
    "# Home work\n",
    "def get_capital_and_state(locality):\n",
    "    \"\"\"\n",
    "    Splits 'locality' into capital and state.\n",
    "    \"\"\"\n",
    "    # Preencha usando o split\n",
    "    \n",
    "    return capital, state"
   ]
  },
  {
   "cell_type": "code",
   "execution_count": null,
   "id": "f3bb5539-b129-42e4-b23a-3c1156dacdad",
   "metadata": {},
   "outputs": [],
   "source": [
    "lista = ['a', 0, 'b', 1, 'c', 2]\n",
    "locality = \"Sydney/NSW\"\n",
    "state = locality[-3:]"
   ]
  },
  {
   "cell_type": "code",
   "execution_count": null,
   "id": "0e7a52dd-64dc-4368-a9c1-c0ec449175af",
   "metadata": {},
   "outputs": [],
   "source": [
    "capitals = [\"Sydney/NSW\",\n",
    "            \"Melbourne/VIC\",\n",
    "            \"Perth/WA\",\n",
    "            \"Darwin/NT\",\n",
    "            \"Adelaide/SA\",\n",
    "            \"Brisbane/QLD\",\n",
    "            \"Canberra/ACT\"]"
   ]
  },
  {
   "cell_type": "code",
   "execution_count": null,
   "id": "4e6d98e5-ff42-42b2-938e-18a38571f85d",
   "metadata": {},
   "outputs": [],
   "source": []
  },
  {
   "cell_type": "code",
   "execution_count": null,
   "id": "a26a6b23-973f-4952-b21a-901ca8b08e46",
   "metadata": {},
   "outputs": [],
   "source": [
    "get_capital_and_state(capitals[2])"
   ]
  },
  {
   "cell_type": "code",
   "execution_count": null,
   "id": "8a0927ea-407f-42db-aa07-66b4dfd58f54",
   "metadata": {},
   "outputs": [],
   "source": [
    "nsw = \"Sydney/NSW\""
   ]
  },
  {
   "cell_type": "code",
   "execution_count": null,
   "id": "66017da2-2acb-4bd5-9544-15c388c46ec7",
   "metadata": {},
   "outputs": [],
   "source": [
    "nsw.split(\"/\")"
   ]
  },
  {
   "cell_type": "code",
   "execution_count": null,
   "id": "2f37744b-641e-41eb-95ce-4f7d15071742",
   "metadata": {},
   "outputs": [],
   "source": [
    "cidade = \"Florianópolis SC           Brasil\""
   ]
  },
  {
   "cell_type": "code",
   "execution_count": null,
   "id": "76e02973-b2c9-452b-a35f-5c6721f57789",
   "metadata": {},
   "outputs": [],
   "source": [
    "cidade.split()"
   ]
  },
  {
   "cell_type": "code",
   "execution_count": null,
   "id": "f6b8ca82-3026-43f5-9daf-e63af689c63e",
   "metadata": {},
   "outputs": [],
   "source": [
    "capitals.append(\"Hobart/TAS\")"
   ]
  },
  {
   "cell_type": "code",
   "execution_count": null,
   "id": "b2199c6b-ce8b-4bba-bd90-dd5abd48303e",
   "metadata": {},
   "outputs": [],
   "source": [
    "capitals.pop()"
   ]
  },
  {
   "cell_type": "code",
   "execution_count": null,
   "id": "ef0509eb-1a9e-412f-91d9-325611a32237",
   "metadata": {},
   "outputs": [],
   "source": [
    "capitals"
   ]
  },
  {
   "cell_type": "code",
   "execution_count": null,
   "id": "ccb1a2ce-c125-4caf-9db8-4bc2ffbafa24",
   "metadata": {},
   "outputs": [],
   "source": [
    "for city in capitals:\n",
    "    print(city)"
   ]
  },
  {
   "cell_type": "code",
   "execution_count": null,
   "id": "5d401c04-2c37-465a-8da7-dab832038d4b",
   "metadata": {},
   "outputs": [],
   "source": [
    "for letra in nsw:\n",
    "    # corpo do loop\n",
    "    print(letra)"
   ]
  },
  {
   "cell_type": "code",
   "execution_count": null,
   "id": "d9594da8-58e6-463f-a9d4-44270a859a88",
   "metadata": {},
   "outputs": [],
   "source": [
    "for letra in nsw:\n",
    "    print(character)"
   ]
  },
  {
   "cell_type": "code",
   "execution_count": null,
   "id": "a9d80195-59a8-4c92-ac2f-2b1361cdd8c6",
   "metadata": {},
   "outputs": [],
   "source": []
  }
 ],
 "metadata": {
  "kernelspec": {
   "display_name": "Python [conda env:xlab]",
   "language": "python",
   "name": "conda-env-xlab-py"
  },
  "language_info": {
   "codemirror_mode": {
    "name": "ipython",
    "version": 3
   },
   "file_extension": ".py",
   "mimetype": "text/x-python",
   "name": "python",
   "nbconvert_exporter": "python",
   "pygments_lexer": "ipython3",
   "version": "3.9.2"
  }
 },
 "nbformat": 4,
 "nbformat_minor": 5
}
