{
 "cells": [
  {
   "cell_type": "markdown",
   "id": "e3cdea15",
   "metadata": {},
   "source": [
    "### Aula 1 - 09 de abril de 2021\n",
    "\n",
    "####  Introdução ao Jupyter\n",
    "\n",
    "Tópicos:\n",
    "* Uso do Jupyter\n",
    "* Células de código e texto\n",
    "* Interpretador Python como uma calculadora\n",
    "* Acesso em disco vs. acesso em memória (RAM)\n",
    "* Funções **builtin:** `print()`\n",
    "* Diferença entre strings e variáveis\n",
    "* Tipos de dados\n",
    "    * Importância de saber o tipo de dado\n",
    "    * Operadores (exemplo: `+` se comportam diferentemente)\n",
    "    \n",
    "Desafio:\n",
    "* Criar um código, usando operadores matemáticos e variáveis, que converta graus Fahrenheit para Celsius.\n",
    "\n",
    "Para próxima aula:\n",
    "* Criar conta no GitHub"
   ]
  },
  {
   "cell_type": "code",
   "execution_count": null,
   "id": "a49285c7",
   "metadata": {},
   "outputs": [],
   "source": [
    "2 + 2\n",
    "10 - 5\n",
    "5 * 5\n",
    "64 / 4\n",
    "2 ** 3\n",
    "10 % 3\n",
    "25 // 4"
   ]
  },
  {
   "cell_type": "code",
   "execution_count": null,
   "id": "29582c99",
   "metadata": {},
   "outputs": [],
   "source": [
    "nome = \"Vini\"\n",
    "idade = 26"
   ]
  },
  {
   "cell_type": "code",
   "execution_count": null,
   "id": "140c9d22",
   "metadata": {},
   "outputs": [],
   "source": [
    "print(\"Meu nome é:\", nome, \", tenho\", idade, \"anos.\")"
   ]
  },
  {
   "cell_type": "code",
   "execution_count": null,
   "id": "03194edc",
   "metadata": {},
   "outputs": [],
   "source": [
    "nome = \"João\""
   ]
  },
  {
   "cell_type": "code",
   "execution_count": null,
   "id": "63ac8e6e",
   "metadata": {},
   "outputs": [],
   "source": [
    "print(nome)"
   ]
  },
  {
   "cell_type": "markdown",
   "id": "dc48de9d",
   "metadata": {},
   "source": [
    "### Tipos de dados:\n",
    "\n",
    "`str` -> string, texto  \n",
    "`int` -> número inteiro  \n",
    "`float` -> número com vírgula"
   ]
  },
  {
   "cell_type": "code",
   "execution_count": null,
   "id": "e85c00c2",
   "metadata": {},
   "outputs": [],
   "source": [
    "nome_misterioso = \"3.14\""
   ]
  },
  {
   "cell_type": "code",
   "execution_count": null,
   "id": "dc12472d",
   "metadata": {},
   "outputs": [],
   "source": [
    "print(nome_misterioso); type(nome_misterioso)"
   ]
  },
  {
   "cell_type": "code",
   "execution_count": null,
   "id": "2e5d78a8",
   "metadata": {},
   "outputs": [],
   "source": [
    "rj, *cidades_rj, sp = \"RJ\", \"Rio de Janeiro\", \"Macaé\", \"Niterói\", \"SP\""
   ]
  },
  {
   "cell_type": "markdown",
   "id": "95bdb517",
   "metadata": {},
   "source": [
    "### Aula 2 - 14 de abril de 2021\n",
    "\n",
    "#### Continuação Python básico\n",
    "* Funções Builtin\n",
    "    * `print()`\n",
    "    * `type()`\n",
    "    * `len()`\n",
    "    * `help()`\n",
    "* Variáveis só mudam de valor quando declaramos novamente\n",
    "* Condicionais\n",
    "* Operadores lógicos\n",
    "* Zen of Python\n",
    "* Statements (def, return, etc)\n",
    "\n",
    "\n",
    "**Por que definir funções? Por que não colocar tudo em variáveis?**"
   ]
  },
  {
   "cell_type": "code",
   "execution_count": null,
   "id": "10838c1b",
   "metadata": {},
   "outputs": [],
   "source": [
    "def fahr_to_celsius(fahr):\n",
    "    \"\"\"\n",
    "    Docstring: uma string para 'documentar' nosso código.\n",
    "    Explica o que a função faz e como utilizá-la.\n",
    "    \n",
    "    fahr_to_celsius: converte Fahrenheit para celsius.\n",
    "    \n",
    "    fahr: graus Fahrenheit\n",
    "    \n",
    "    retorna: graus Celsius\n",
    "    \"\"\"\n",
    "    \n",
    "    celsius = (fahr - 32) / 1.8\n",
    "    return celsius"
   ]
  },
  {
   "cell_type": "markdown",
   "id": "8d773fb2",
   "metadata": {},
   "source": [
    "### Desafio para próxima aula\n",
    "* Criar função que, dado uma temperatura em Kelvin, retorn em C, em F, e se está \"Calor\", \"Frio\", \"De boa\"."
   ]
  },
  {
   "cell_type": "markdown",
   "id": "b92ab41c",
   "metadata": {},
   "source": [
    "### Aula 3 - 30 de abril de 2021\n",
    "* Retomar desafio\n",
    "* Diferenciar `print` e `return`\n",
    "* Listas e tuplas\n",
    "    * Tuplas: imutáveis e definidas com parêntese\n",
    "    * Lista: mutáveis e definidas com colchetes\n",
    "* O que são métodos?\n",
    "    * **Funções próprias de uma classe de objetos**\n",
    "    \n",
    "* Listas e strings podem ser fatiadas da mesma forma\n",
    "    **Cuidado com as pegadinhas!**"
   ]
  },
  {
   "cell_type": "code",
   "execution_count": null,
   "id": "4db47b16",
   "metadata": {},
   "outputs": [],
   "source": [
    "tupla = (0, 1, \"a\")\n",
    "\n",
    "lista = ['a', 'b', 'c', 'd', 'e']"
   ]
  },
  {
   "cell_type": "code",
   "execution_count": null,
   "id": "b4baad56",
   "metadata": {},
   "outputs": [],
   "source": [
    "print(lista)"
   ]
  },
  {
   "cell_type": "code",
   "execution_count": null,
   "id": "c63f3a6d",
   "metadata": {},
   "outputs": [],
   "source": [
    "# Duas pegadinhas de indexação de listas\n",
    "lista[0]  # zero-based index\n",
    "lista[0:3]  # non-inclusive slicing"
   ]
  },
  {
   "cell_type": "code",
   "execution_count": null,
   "id": "05f65845",
   "metadata": {},
   "outputs": [],
   "source": [
    "tamanho = len(lista)\n",
    "lista[-1]"
   ]
  },
  {
   "cell_type": "code",
   "execution_count": null,
   "id": "d0564b01",
   "metadata": {},
   "outputs": [],
   "source": [
    "lista[:3]"
   ]
  },
  {
   "cell_type": "code",
   "execution_count": null,
   "id": "ef803bad",
   "metadata": {},
   "outputs": [],
   "source": [
    "estado = \"São Paulo\""
   ]
  },
  {
   "cell_type": "markdown",
   "id": "fd3eab88",
   "metadata": {},
   "source": [
    "### Aula 4 - 06 de maio de 2021\n",
    "\n",
    "#### For loops e condicionais\n",
    "* Função builtin `range()`\n",
    "* Desafio: inverter palavra\n",
    "* Slicing com `[::]`"
   ]
  },
  {
   "cell_type": "code",
   "execution_count": null,
   "id": "408774dd",
   "metadata": {},
   "outputs": [],
   "source": [
    "numeros = [2, 3, 5]"
   ]
  },
  {
   "cell_type": "code",
   "execution_count": null,
   "id": "82ad165d",
   "metadata": {},
   "outputs": [],
   "source": [
    "for n in [1, 4, 7]:\n",
    "    # quantas operações eu quiser\n",
    "    quadrado = n ** 2\n",
    "    cubo = n ** 3\n",
    "    print(n, quadrado, cubo)"
   ]
  },
  {
   "cell_type": "code",
   "execution_count": null,
   "id": "7d069b74",
   "metadata": {},
   "outputs": [],
   "source": [
    "for n in range(1, 13, 3):\n",
    "    print(n)"
   ]
  },
  {
   "cell_type": "code",
   "execution_count": null,
   "id": "4efe6582",
   "metadata": {},
   "outputs": [],
   "source": [
    "# variáveis acumuladoras\n",
    "total = 0\n",
    "for number in range(1,11):\n",
    "    total = total + number\n",
    "    \n",
    "print(total)"
   ]
  },
  {
   "cell_type": "code",
   "execution_count": null,
   "id": "6d8a667f",
   "metadata": {},
   "outputs": [],
   "source": [
    "palavra = \"atum\"\n",
    "resultado = \"\"\n",
    "\n",
    "for letra in palavra:\n",
    "    resultado = letra + resultado\n",
    "    \n",
    "print(resultado)"
   ]
  },
  {
   "cell_type": "code",
   "execution_count": null,
   "id": "9c3b423a",
   "metadata": {},
   "outputs": [],
   "source": [
    "# invertendo strings/lists\n",
    "palavra[::-1]  # sintaxe [start:stop:step]"
   ]
  },
  {
   "cell_type": "markdown",
   "id": "fd564cfb",
   "metadata": {},
   "source": [
    "### Exercícios\n",
    "\n",
    "#### 1. Escreva uma função que remova todos os elementos com um determinado valor de uma lista.\n",
    "\n",
    "**Exemplo**\n",
    "```python\n",
    "lista = ['a', 'b', 'c', 'a']\n",
    "remove(lista, 'a')  # retorna ['b','c'].\n",
    "```"
   ]
  },
  {
   "cell_type": "code",
   "execution_count": null,
   "id": "bfe5b52e",
   "metadata": {},
   "outputs": [],
   "source": []
  },
  {
   "cell_type": "markdown",
   "id": "de180ca5",
   "metadata": {},
   "source": [
    "#### 2. Escreva um programa que receba uma lista e retorna a soma de cada elemento elevado ao cubo. Caso haja um elemento que não seja numero, deve retornar uma mensagem de erro."
   ]
  },
  {
   "cell_type": "code",
   "execution_count": null,
   "id": "9e669633",
   "metadata": {},
   "outputs": [],
   "source": []
  },
  {
   "cell_type": "markdown",
   "id": "c7610813",
   "metadata": {},
   "source": [
    "#### 3. Escreva um programa que receba uma frase e retorne a palavra com mais letras `'e'`."
   ]
  },
  {
   "cell_type": "code",
   "execution_count": null,
   "id": "f8e5f602",
   "metadata": {},
   "outputs": [],
   "source": []
  },
  {
   "cell_type": "markdown",
   "id": "f3c750d3",
   "metadata": {},
   "source": [
    "#### 4. Escreva um programa que receba uma lista e retorne o valor mínimo e máximo da lista."
   ]
  },
  {
   "cell_type": "code",
   "execution_count": null,
   "id": "30a35e7f",
   "metadata": {},
   "outputs": [],
   "source": []
  },
  {
   "cell_type": "markdown",
   "id": "878fa07c",
   "metadata": {},
   "source": [
    "#### 5. Escreva um programa que receba uma lista de strings e depois imprima quantos elementos contenham uma substring qualquer."
   ]
  },
  {
   "cell_type": "code",
   "execution_count": null,
   "id": "fdcdcefd",
   "metadata": {},
   "outputs": [],
   "source": []
  },
  {
   "cell_type": "markdown",
   "id": "598ea74d",
   "metadata": {},
   "source": [
    "### Aula 5 - 14 de maio de 2021\n",
    "\n",
    "* Exercícios\n",
    "* Operadores lógicos\n",
    "* Revisão de funções\n",
    "* Introdução à DataFrames\n",
    "    * `df.loc`\n",
    "    * `df.iloc`"
   ]
  },
  {
   "cell_type": "code",
   "execution_count": null,
   "id": "d7d6a02e",
   "metadata": {},
   "outputs": [],
   "source": [
    "print(1 > 2)\n",
    "print(2 < 3)\n",
    "print(2 >= 1)\n",
    "print(2 <= 1)\n",
    "print(2 == 2)\n",
    "print(0 != 1)"
   ]
  },
  {
   "cell_type": "markdown",
   "id": "52294650",
   "metadata": {},
   "source": [
    "### Aula 6 - 21 de maio de 2021\n",
    "\n",
    "* Pandas: continuação\n",
    "* Localização e condicionais em DataFrames\n",
    "* Análise exploratória de dados\n",
    "    * Métodos de DataFrame\n",
    "    * `head()`\n",
    "    * `tail()`\n",
    "    * `shape`\n",
    "    * `.describe()`\n",
    "    * `.columns`\n",
    "    * `.groupby()`\n",
    "    * Condicionais\n",
    "        * Operador `&`: and\n",
    "        * Operador `|`: or\n",
    "        * Método `.isin`: dentro de alguma coleção (lista, tupla, etc)\n",
    "* Função embutida `dir()`: métodos e atributos em um objeto/biblioteca/módulo\n",
    "    * Equivalente a apertar TAB"
   ]
  },
  {
   "cell_type": "code",
   "execution_count": null,
   "id": "35b31048",
   "metadata": {},
   "outputs": [],
   "source": [
    "import pandas as pd"
   ]
  },
  {
   "cell_type": "code",
   "execution_count": null,
   "id": "4de5134d",
   "metadata": {},
   "outputs": [],
   "source": [
    "df = pd.read_excel(\"base_teste.xlsx\", )"
   ]
  },
  {
   "cell_type": "code",
   "execution_count": null,
   "id": "2c4828c6",
   "metadata": {},
   "outputs": [],
   "source": [
    "df.head()"
   ]
  },
  {
   "cell_type": "code",
   "execution_count": null,
   "id": "3a1b302b",
   "metadata": {},
   "outputs": [],
   "source": [
    "# primeira linha, colunas: laboratório, marca, data\n",
    "df.loc[0, [\"Laboratório\", \"Marca\", \"Data\"]]"
   ]
  },
  {
   "cell_type": "code",
   "execution_count": null,
   "id": "dbcf5f6a",
   "metadata": {},
   "outputs": [],
   "source": [
    "# condicional\n",
    "df[df[\"Tipo Canal\"] == \"Público\"]"
   ]
  },
  {
   "cell_type": "code",
   "execution_count": null,
   "id": "6bcedc6a",
   "metadata": {},
   "outputs": [],
   "source": [
    "df.groupby([\"Tipo Canal\", \"Tipo Auditoria\"]).describe()"
   ]
  },
  {
   "cell_type": "code",
   "execution_count": null,
   "id": "923dc2c6",
   "metadata": {},
   "outputs": [],
   "source": [
    "df[\"Data\"]"
   ]
  },
  {
   "cell_type": "code",
   "execution_count": null,
   "id": "501c9aa8",
   "metadata": {},
   "outputs": [],
   "source": [
    "df[\"Data\"].isin()"
   ]
  },
  {
   "cell_type": "code",
   "execution_count": null,
   "id": "7fd4f643",
   "metadata": {},
   "outputs": [],
   "source": [
    "meses_quarter_movel = [\"Out 2020\", \"Nov 2020\", \"Dez 2020\"]\n",
    "df[\"is_in_quarter_movel\"] = df[\"Data\"].isin(meses_quarter_movel)"
   ]
  },
  {
   "cell_type": "code",
   "execution_count": null,
   "id": "f4dde212",
   "metadata": {},
   "outputs": [],
   "source": [
    "df[\"Quarter_Movel\"] = \"\"\n",
    "qmovel_true_index = df[df[\"Data\"].isin(meses_quarter_movel)].index\n",
    "qmovel_false_index = df[~df[\"Data\"].isin(meses_quarter_movel)].index\n",
    "df.loc[qmovel_true_index, \"Quarter_Movel\"] = \"Está no quarter móvel\"\n",
    "df.loc[qmovel_false_index, \"Quarter_Movel\"] = \"Ou não.\""
   ]
  },
  {
   "cell_type": "code",
   "execution_count": null,
   "id": "cd39bd9c",
   "metadata": {},
   "outputs": [],
   "source": [
    "for ix, row in df.iterrows():\n",
    "    if row[\"Data\"] in meses_quarter_movel:\n",
    "        df.loc[ix, \"Quarter_Movel\"] = True\n",
    "    else:\n",
    "        df.loc[ix, \"Quarter_Movel\"] = False"
   ]
  },
  {
   "cell_type": "markdown",
   "id": "9dd37990",
   "metadata": {},
   "source": [
    "### Aula 7 - 28 de maio de 2021\n",
    "\n",
    "* Continuação Pandas\n",
    "* Métodos do Pandas\n",
    "    * `.sample`\n",
    "    * `.reset_index`\n",
    "    * `.to_csv`\n",
    "    * Métodos `.str` -> métodos de string para uma coluna do Pandas\n",
    "    * `upper`, `lower`, `replace`, `startswith`\n",
    "* **Lambdas: funções anônimas**\n",
    "    * Uso do `apply` com **lambda**\n",
    "    \n",
    "* **Desafio**\n",
    "    * Usando a coluna `Marca` de `base_teste.xlsx`, crie uma função que retorna somente os valores entre os parênteses e aplique ela na coluna toda usando `apply` "
   ]
  },
  {
   "cell_type": "code",
   "execution_count": null,
   "id": "6378e0e0",
   "metadata": {},
   "outputs": [],
   "source": [
    "import pandas as pd"
   ]
  },
  {
   "cell_type": "code",
   "execution_count": null,
   "id": "9e682162",
   "metadata": {},
   "outputs": [],
   "source": [
    "df = pd.read_excel(\"base_teste.xlsx\")"
   ]
  },
  {
   "cell_type": "code",
   "execution_count": null,
   "id": "eb16828c",
   "metadata": {},
   "outputs": [],
   "source": [
    "df.sample(1000).reset_index(drop=True).to_csv(\"amostra_1000.csv\", index=False)"
   ]
  },
  {
   "cell_type": "code",
   "execution_count": null,
   "id": "4f57f85d",
   "metadata": {},
   "outputs": [],
   "source": [
    "df = pd.read_csv(\"amostra_1000.csv\")"
   ]
  },
  {
   "cell_type": "code",
   "execution_count": null,
   "id": "3b2eb480",
   "metadata": {},
   "outputs": [],
   "source": [
    "df[\"Data\"].apply(lambda x: x.split()[0])  # é igual\n",
    "df[\"Data\"].apply(pegar_mes)"
   ]
  },
  {
   "cell_type": "code",
   "execution_count": null,
   "id": "191e9ec7",
   "metadata": {},
   "outputs": [],
   "source": [
    "qtm = [\"Out\", \"Nov\", \"Dez\"]"
   ]
  },
  {
   "cell_type": "code",
   "execution_count": null,
   "id": "6ea31c2b",
   "metadata": {},
   "outputs": [],
   "source": [
    "def is_quarter_movel(string):\n",
    "    if pegar_mes(string) in qtm:\n",
    "        return \"QTM\"\n",
    "    else:\n",
    "        return \"No\""
   ]
  },
  {
   "cell_type": "code",
   "execution_count": null,
   "id": "0072297d",
   "metadata": {},
   "outputs": [],
   "source": [
    "df[\"Data\"].apply(lambda s: \"QTM\" if pegar_mes(s) in qtm else \"No\")  # é igual a\n",
    "df[\"Data\"].apply(is_quarter_movel)"
   ]
  },
  {
   "cell_type": "code",
   "execution_count": null,
   "id": "e7a96a5c",
   "metadata": {},
   "outputs": [],
   "source": [
    "df[\"Data\"].str.startswith(\"Out\")"
   ]
  },
  {
   "cell_type": "code",
   "execution_count": null,
   "id": "d6c72eeb",
   "metadata": {},
   "outputs": [],
   "source": [
    "uma_string = \"São Paulo\""
   ]
  },
  {
   "cell_type": "code",
   "execution_count": null,
   "id": "e9dd5044",
   "metadata": {},
   "outputs": [],
   "source": []
  }
 ],
 "metadata": {
  "kernelspec": {
   "display_name": "Python 3",
   "language": "python",
   "name": "python3"
  },
  "language_info": {
   "codemirror_mode": {
    "name": "ipython",
    "version": 3
   },
   "file_extension": ".py",
   "mimetype": "text/x-python",
   "name": "python",
   "nbconvert_exporter": "python",
   "pygments_lexer": "ipython3",
   "version": "3.7.10"
  }
 },
 "nbformat": 4,
 "nbformat_minor": 5
}
