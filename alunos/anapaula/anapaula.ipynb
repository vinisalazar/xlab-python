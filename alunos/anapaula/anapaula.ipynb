{
 "cells": [
  {
   "cell_type": "markdown",
   "id": "ead1c239",
   "metadata": {},
   "source": [
    "### Encontro 1 - 11 de junho de 2021\n",
    "* Controles básicos do Jupyter\n",
    "    * Modo de comando: `ESC`\n",
    "    * Criar célula: `A` ou `B`\n",
    "    * Deleter célula: `DD`\n",
    "* Exemplo: aplicação TM1\n",
    "    * [Biblioteca TM1py](https://code.cubewise.com/tm1py-overview)\n",
    "* Operadores aritméticos\n",
    "    * `+`\n",
    "    * `*`\n",
    "    * `-`\n",
    "    * `/`\n",
    "    * `%`  # módulo, ou resto de divisão\n",
    "    * `//`  # 'floor' division, maior número inteiro\n",
    "    * `**`\n",
    "* Tipos de dados\n",
    "    * **Tipos de dados determinam as operações**\n",
    "    * Numéricos: `float` e `int`\n",
    "    * Texto: `str`\n",
    "    * Posso verificar o tipo de dado com a função `type()`\n",
    "    * Os tipos básicos são tanto tipos, quanto funções embutidas para converter de um tipo em outro (ver abaixo)\n",
    "* Funções embutidas - [Docs do Python](https://docs.python.org/pt-br/3/library/functions.html)\n",
    "    * `print()`\n",
    "    * `type()`\n",
    "    * `int()`\n",
    "    * `str()`\n",
    "    * `float()`\n",
    "* Variáveis"
   ]
  },
  {
   "cell_type": "code",
   "execution_count": null,
   "id": "0d547c93",
   "metadata": {},
   "outputs": [],
   "source": [
    "2 + 2"
   ]
  },
  {
   "cell_type": "code",
   "execution_count": null,
   "id": "66b1aee5",
   "metadata": {},
   "outputs": [],
   "source": [
    "2 * 4"
   ]
  },
  {
   "cell_type": "code",
   "execution_count": null,
   "id": "9df8891f",
   "metadata": {},
   "outputs": [],
   "source": [
    "2 - 2"
   ]
  },
  {
   "cell_type": "code",
   "execution_count": null,
   "id": "b00bc6bc",
   "metadata": {},
   "outputs": [],
   "source": [
    "resultado = 10 / 4"
   ]
  },
  {
   "cell_type": "code",
   "execution_count": null,
   "id": "69de2417",
   "metadata": {},
   "outputs": [],
   "source": [
    "print(resultado)"
   ]
  },
  {
   "cell_type": "code",
   "execution_count": null,
   "id": "a0aa8950",
   "metadata": {},
   "outputs": [],
   "source": [
    "type(2.5)"
   ]
  },
  {
   "cell_type": "code",
   "execution_count": null,
   "id": "52171f12",
   "metadata": {},
   "outputs": [],
   "source": [
    "type(3)"
   ]
  },
  {
   "cell_type": "code",
   "execution_count": null,
   "id": "301bfcb5",
   "metadata": {},
   "outputs": [],
   "source": [
    "type(\"Vini\")"
   ]
  },
  {
   "cell_type": "code",
   "execution_count": null,
   "id": "42651faa",
   "metadata": {},
   "outputs": [],
   "source": [
    "nome = \"Vini\"\n",
    "print(nome)"
   ]
  },
  {
   "cell_type": "code",
   "execution_count": null,
   "id": "3ad1fffa",
   "metadata": {},
   "outputs": [],
   "source": [
    "print(\"Primeira linha\")\n",
    "print(\"Segunda linha\")\n",
    "print(10 / 4)\n",
    "print(\"Quarta linha\")"
   ]
  },
  {
   "cell_type": "code",
   "execution_count": null,
   "id": "9bf4dc7e",
   "metadata": {},
   "outputs": [],
   "source": [
    "resultado = 10 / 4\n",
    "print(\"Resultado é\", resultado)"
   ]
  },
  {
   "cell_type": "code",
   "execution_count": null,
   "id": "0e99858f",
   "metadata": {},
   "outputs": [],
   "source": [
    "resultado = print(10 / 4)\n",
    "print(\"Resultado é\", resultado)"
   ]
  },
  {
   "cell_type": "code",
   "execution_count": null,
   "id": "116c00ac",
   "metadata": {},
   "outputs": [],
   "source": [
    "print(10 / 4)"
   ]
  },
  {
   "cell_type": "code",
   "execution_count": null,
   "id": "b76265ff",
   "metadata": {},
   "outputs": [],
   "source": [
    "2 + 2"
   ]
  },
  {
   "cell_type": "code",
   "execution_count": null,
   "id": "33dc3d94",
   "metadata": {},
   "outputs": [],
   "source": [
    "\"2\" + \"2\""
   ]
  },
  {
   "cell_type": "code",
   "execution_count": null,
   "id": "dad92f50",
   "metadata": {},
   "outputs": [],
   "source": [
    "12.0 / 4.0"
   ]
  },
  {
   "cell_type": "code",
   "execution_count": null,
   "id": "a1151a3d",
   "metadata": {},
   "outputs": [],
   "source": [
    "print(\"DDD do Rio é\", 21)"
   ]
  },
  {
   "cell_type": "code",
   "execution_count": null,
   "id": "b49a20d8",
   "metadata": {},
   "outputs": [],
   "source": [
    "\"DDD do Rio é \" + str(21)"
   ]
  },
  {
   "cell_type": "code",
   "execution_count": null,
   "id": "dd26a0c6",
   "metadata": {},
   "outputs": [],
   "source": [
    "type(\"Vini\")"
   ]
  },
  {
   "cell_type": "code",
   "execution_count": null,
   "id": "c8908a8e",
   "metadata": {},
   "outputs": [],
   "source": [
    "int(2.5)"
   ]
  },
  {
   "cell_type": "code",
   "execution_count": null,
   "id": "9b24cf62",
   "metadata": {},
   "outputs": [],
   "source": [
    "float(\"2\")"
   ]
  },
  {
   "cell_type": "code",
   "execution_count": null,
   "id": "70e6fbbe",
   "metadata": {},
   "outputs": [],
   "source": [
    "str(10e-3)"
   ]
  },
  {
   "cell_type": "code",
   "execution_count": null,
   "id": "fa29be94",
   "metadata": {},
   "outputs": [],
   "source": [
    "\"abc \" * 3"
   ]
  },
  {
   "cell_type": "markdown",
   "id": "a1be5c79",
   "metadata": {},
   "source": [
    "### Encontro 2 - 18 de junho de 2021\n",
    "\n",
    "* Revisão da última aula\n",
    "* Funções embutidas\n",
    "    * `help()`\n",
    "        * Outras formas de chamar o help: com `?` ou `??`\n",
    "        * Para funções: Shift + TAB\n",
    "* Bibliotecas\n",
    "    * `math.` + TAB para olhar os objetos de uma biblioteca\n",
    "    * Diferentes formas de importar os objetos de uma biblioteca\n",
    "        * `import math`\n",
    "        * `from math import cos, pi`\n",
    "        * `import math as m`\n",
    "* Importar dados com o Pandas\n",
    "    * Função `pd.read_csv()`\n",
    "\n",
    "\n",
    "### Pontos-chave\n",
    "\n",
    "Como usar bibliotecas. Como ver a ajuda para a função/biblioteca. O que são DataFrames: **matrizes com nome nas linhas e nas colunas.**\n",
    "\n",
    "### Semana que vem\n",
    "* Explicação do `numpy` e `ndarray`\n",
    "* Filtrando e selecionando dados"
   ]
  },
  {
   "cell_type": "code",
   "execution_count": null,
   "id": "bb5fbbca",
   "metadata": {},
   "outputs": [],
   "source": [
    "# import math\n",
    "# from math import cos, pi\n",
    "# import math as m\n",
    "import pandas as pd"
   ]
  },
  {
   "cell_type": "code",
   "execution_count": null,
   "id": "c71c6352",
   "metadata": {},
   "outputs": [],
   "source": [
    "df = pd.read_csv('gapminder_all.csv', index_col='country')"
   ]
  },
  {
   "cell_type": "code",
   "execution_count": null,
   "id": "e545b2ab",
   "metadata": {},
   "outputs": [],
   "source": [
    "# type(df.index)\n",
    "# type(df.index)\n",
    "type(df.values)"
   ]
  },
  {
   "cell_type": "code",
   "execution_count": null,
   "id": "3a75c1c2",
   "metadata": {},
   "outputs": [],
   "source": [
    "print(df.columns)\n",
    "print(df.index)\n",
    "print(df.values)"
   ]
  },
  {
   "cell_type": "markdown",
   "id": "a842375b",
   "metadata": {},
   "source": [
    "### Encontro 3 - 25 de junho de 2021\n",
    "\n",
    "#### Exemplos de IDEs:\n",
    "* VSCode\n",
    "* PyCharm\n",
    "* RStudio\n",
    "* Atom\n",
    "* Sublime\n",
    "* Spyder\n",
    "\n",
    "### Conteúdo\n",
    "\n",
    "* Continuação Pandas\n",
    "* Indexando e selecionando dados\n",
    "    * Diferentes consultas retornam diferentes objetos\n",
    "        * Célula única (`int`/`str`/`float`)\n",
    "        * Vetor unidimensional (`pd.Series`)\n",
    "        * Tabela bidimensional (`pd.DataFrame`)\n",
    "    * Dois métodos\n",
    "        * `.loc` -> nome de linha ou coluna\n",
    "        * `.iloc` -> número da linha e da coluna\n",
    "        * Passar múltiplas linhas/colunas \n",
    "* Condicionais\n",
    "    * Posso combinar condições com `&` e `|`\n",
    "    \n",
    "    \n",
    "### Pontos-chave\n",
    "* Consigo selecionar e filtrar dados no Pandas baseado no nome ou posição da linha/coluna\n",
    "* Consultas podem retornar objetos diferentes"
   ]
  },
  {
   "cell_type": "code",
   "execution_count": null,
   "id": "389b0336",
   "metadata": {},
   "outputs": [],
   "source": [
    "import pandas as pd"
   ]
  },
  {
   "cell_type": "code",
   "execution_count": null,
   "id": "68299e99",
   "metadata": {},
   "outputs": [],
   "source": [
    "df = pd.read_csv(\"gapminder_all.csv\", index_col=\"country\")"
   ]
  },
  {
   "cell_type": "code",
   "execution_count": null,
   "id": "1869bd56",
   "metadata": {},
   "outputs": [],
   "source": [
    "# Primeiro método - .loc\n",
    "df.loc['Brazil', 'continent']"
   ]
  },
  {
   "cell_type": "code",
   "execution_count": null,
   "id": "985a7841",
   "metadata": {},
   "outputs": [],
   "source": [
    "linhas = ['United States', 'Jamaica']\n",
    "df.loc[linhas, 'continent']"
   ]
  },
  {
   "cell_type": "code",
   "execution_count": null,
   "id": "bee04c61",
   "metadata": {},
   "outputs": [],
   "source": [
    "colunas = ['lifeExp_1957', 'lifeExp_1987', 'lifeExp_2007']\n",
    "df.loc['Brazil', colunas]"
   ]
  },
  {
   "cell_type": "code",
   "execution_count": null,
   "id": "fab3d072",
   "metadata": {},
   "outputs": [],
   "source": [
    "df.loc[linhas, colunas]"
   ]
  },
  {
   "cell_type": "code",
   "execution_count": null,
   "id": "15926267",
   "metadata": {},
   "outputs": [],
   "source": [
    "# único ponto\n",
    "ponto = df.loc['Brazil', 'continent']\n",
    "\n",
    "# unidimensionais\n",
    "coluna = df.loc[linhas, 'continent']\n",
    "linha = df.loc['Brazil', colunas]\n",
    "\n",
    "# bidimensional\n",
    "tabela = df.loc[linhas, colunas]"
   ]
  },
  {
   "cell_type": "code",
   "execution_count": null,
   "id": "d55033ed",
   "metadata": {},
   "outputs": [],
   "source": [
    "type(ponto)"
   ]
  },
  {
   "cell_type": "code",
   "execution_count": null,
   "id": "ac981ad7",
   "metadata": {},
   "outputs": [],
   "source": [
    "type(coluna)"
   ]
  },
  {
   "cell_type": "code",
   "execution_count": null,
   "id": "e786637a",
   "metadata": {},
   "outputs": [],
   "source": [
    "type(linha)"
   ]
  },
  {
   "cell_type": "code",
   "execution_count": null,
   "id": "ae50387c",
   "metadata": {},
   "outputs": [],
   "source": [
    "type(tabela)"
   ]
  },
  {
   "cell_type": "code",
   "execution_count": null,
   "id": "4c17a2ba",
   "metadata": {},
   "outputs": [],
   "source": [
    "df.iloc[10:21, 0]"
   ]
  },
  {
   "cell_type": "code",
   "execution_count": null,
   "id": "07e1975a",
   "metadata": {},
   "outputs": [],
   "source": [
    "df[df['continent'] == 'Africa']"
   ]
  },
  {
   "cell_type": "code",
   "execution_count": null,
   "id": "e9bb1d17",
   "metadata": {},
   "outputs": [],
   "source": [
    "# Posso combinar múltiplas condições com '&'\n",
    "df[(df['continent'] == 'Africa') & (df['gdpPercap_1952'] > 1000)]"
   ]
  },
  {
   "cell_type": "code",
   "execution_count": null,
   "id": "55b66c00",
   "metadata": {},
   "outputs": [],
   "source": [
    "# ou posso combinar com ou '|'\n",
    "df[(df['continent'] == 'Africa') | (df['continent'] == 'Americas')]"
   ]
  },
  {
   "cell_type": "code",
   "execution_count": null,
   "id": "4af3bf60",
   "metadata": {},
   "outputs": [],
   "source": [
    "1 > 0"
   ]
  },
  {
   "cell_type": "code",
   "execution_count": null,
   "id": "29044c10",
   "metadata": {},
   "outputs": [],
   "source": [
    "1 < 0"
   ]
  },
  {
   "cell_type": "code",
   "execution_count": null,
   "id": "048692c8",
   "metadata": {},
   "outputs": [],
   "source": [
    "1 != 0"
   ]
  },
  {
   "cell_type": "code",
   "execution_count": null,
   "id": "49a44aaf",
   "metadata": {},
   "outputs": [],
   "source": [
    "1 == 0"
   ]
  },
  {
   "cell_type": "markdown",
   "id": "0270118b-dabf-4ac9-95f6-996481fe5359",
   "metadata": {},
   "source": [
    "### Encontro 4 - 09 de julho de 2021\n",
    "\n",
    "- Métodos do `pd.DataFrame()`\n",
    "    - `.head()` -> primeiras linhas do DataFrame\n",
    "    - `.tail()`\n",
    "- Importar planilha `Match.xlsx`"
   ]
  },
  {
   "cell_type": "code",
   "execution_count": null,
   "id": "dd6c88a6-dc37-4a12-a28f-84c7b027fb0a",
   "metadata": {},
   "outputs": [],
   "source": [
    "import pandas as pd"
   ]
  },
  {
   "cell_type": "code",
   "execution_count": null,
   "id": "e3fe8de3-8f78-40d8-b2eb-e21e3ee3000f",
   "metadata": {},
   "outputs": [],
   "source": [
    "vari = pd.read_excel(\"Match.xlsx\", sheet_name=\"vari\")"
   ]
  },
  {
   "cell_type": "code",
   "execution_count": null,
   "id": "451c82ab-ab5a-4e50-989e-812840846ddd",
   "metadata": {},
   "outputs": [],
   "source": [
    "vari.head()"
   ]
  },
  {
   "cell_type": "code",
   "execution_count": null,
   "id": "f2279a65-46a9-4506-8c16-1eca906ee369",
   "metadata": {},
   "outputs": [],
   "source": [
    "vari.tail()"
   ]
  },
  {
   "cell_type": "code",
   "execution_count": null,
   "id": "dd529c6c-0929-49b0-9342-e86914bfd164",
   "metadata": {},
   "outputs": [],
   "source": [
    "vari.columns"
   ]
  },
  {
   "cell_type": "code",
   "execution_count": null,
   "id": "ec2fbd14-f19d-40c9-9a5c-cccf64117e82",
   "metadata": {},
   "outputs": [],
   "source": [
    "vari.info()"
   ]
  },
  {
   "cell_type": "code",
   "execution_count": null,
   "id": "11a8ba44-6bac-42e7-ab41-a70567bf09ef",
   "metadata": {},
   "outputs": [],
   "source": [
    "vari.iloc[:, 20]"
   ]
  },
  {
   "cell_type": "code",
   "execution_count": null,
   "id": "7413a095-a8e4-40a8-bcc5-069b9f782a64",
   "metadata": {},
   "outputs": [],
   "source": [
    "vari.loc[:, \"Base Comm USD\"]"
   ]
  },
  {
   "cell_type": "code",
   "execution_count": null,
   "id": "2186f298-d135-4b15-820c-65d00b4dd4e2",
   "metadata": {},
   "outputs": [],
   "source": [
    "vari.describe()"
   ]
  },
  {
   "cell_type": "code",
   "execution_count": null,
   "id": "296c5204-1b1a-4183-84a8-77d66ed10821",
   "metadata": {},
   "outputs": [],
   "source": [
    "# criando novas colunas usando fórmulas\n",
    "vari[\"Acceleration\"] = (vari[\"Base Attnmt Perc\"] - 100) / 100 * vari[\"Plan TI USD\"]\n",
    "vari[\"Acceleration\"]"
   ]
  },
  {
   "cell_type": "code",
   "execution_count": null,
   "id": "af8a7722-8b07-4286-a226-1f111b381877",
   "metadata": {},
   "outputs": [],
   "source": [
    "def subtract_if_larger_than_hundred(number):\n",
    "    \"\"\"\n",
    "    Subtracts 100 if number > 100.\n",
    "    Else, returns 0.\n",
    "    \"\"\"\n",
    "    if number > 100:\n",
    "        return number - 100\n",
    "    else:\n",
    "        return 0"
   ]
  },
  {
   "cell_type": "code",
   "execution_count": null,
   "id": "d92475d1-e277-4cb5-9a43-241cae08cf38",
   "metadata": {},
   "outputs": [],
   "source": [
    "subtract_if_larger_than_hundred(92)"
   ]
  },
  {
   "cell_type": "code",
   "execution_count": null,
   "id": "fb168660-b7db-4964-8b63-1e22af489235",
   "metadata": {},
   "outputs": [],
   "source": [
    "formatted_base_attnmt = vari[\"Base Attnmt Perc\"].apply(subtract_if_larger_than_hundred)"
   ]
  },
  {
   "cell_type": "code",
   "execution_count": null,
   "id": "78276424-21ad-4668-97cd-d4c0d77ad191",
   "metadata": {},
   "outputs": [],
   "source": [
    "formatted_base_attnmt"
   ]
  },
  {
   "cell_type": "code",
   "execution_count": null,
   "id": "16e0e927-f51e-4580-bc18-f4b06519594b",
   "metadata": {},
   "outputs": [],
   "source": [
    "vari[\"Acceleration\"] = formatted_base_attnmt / 100 * vari[\"Plan TI USD\"]"
   ]
  },
  {
   "cell_type": "code",
   "execution_count": null,
   "id": "52924ed0-f903-494a-92e2-7ceed1df2f81",
   "metadata": {},
   "outputs": [],
   "source": [
    "vari[\"Acceleration\"]"
   ]
  },
  {
   "cell_type": "code",
   "execution_count": null,
   "id": "58c07191-4195-4f39-b772-a1daeed3de5b",
   "metadata": {},
   "outputs": [],
   "source": [
    "vari.to_excel(\"Match-acceleration.xlsx\", sheet_name=\"vari\", index=False)"
   ]
  },
  {
   "cell_type": "code",
   "execution_count": null,
   "id": "587ac2b0-2e2c-42a7-8936-dbab2b7afa13",
   "metadata": {},
   "outputs": [],
   "source": [
    "vari.sample(100).to_excel(\"Match-100.xlsx\")"
   ]
  },
  {
   "cell_type": "code",
   "execution_count": null,
   "id": "f8ad2894-acf3-4d51-85fb-d63d749d2607",
   "metadata": {},
   "outputs": [],
   "source": [
    "print(\"O total da acceleration foi\",vari[\"Acceleration\"].sum() / 1e6)"
   ]
  },
  {
   "cell_type": "markdown",
   "id": "a468b355-d801-4650-b25b-b038b13144cc",
   "metadata": {},
   "source": [
    "### Encontro 5 - 23 de julho de 2021\n",
    "\n",
    "* Recapitular fatias\n",
    "    * `loc` e `iloc`\n",
    "* Continuação Pandas\n",
    "    * Equivalente a SUMIF\n",
    "    * Groupby\n",
    "    * Merge e concatenate"
   ]
  },
  {
   "cell_type": "code",
   "execution_count": null,
   "id": "cfb4d5aa-49ce-41ef-89c3-660e881a50fa",
   "metadata": {},
   "outputs": [],
   "source": [
    "import pandas as pd"
   ]
  },
  {
   "cell_type": "code",
   "execution_count": null,
   "id": "b5b334e5-2b19-4ee3-aca5-7285a6367c79",
   "metadata": {},
   "outputs": [],
   "source": [
    "df = pd.read_excel(\"Match-100.xlsx\")"
   ]
  },
  {
   "cell_type": "code",
   "execution_count": null,
   "id": "eedc8873-0120-4661-817c-9661286c8e1f",
   "metadata": {},
   "outputs": [],
   "source": [
    "# Exercício - como seleciono todas as colunas exceto a primeira?\n",
    "df = df.iloc[:, 1:]\n",
    "# df.to_excel(\"Match-100.xlsx\", index=False)"
   ]
  },
  {
   "cell_type": "code",
   "execution_count": null,
   "id": "7e6e223c-d2df-4fa2-acd4-dbd3f29ab882",
   "metadata": {},
   "outputs": [],
   "source": [
    "df = pd.read_excel(\"Match-100.xlsx\")"
   ]
  },
  {
   "cell_type": "code",
   "execution_count": null,
   "id": "9d21faf6-db6b-4d51-a57d-efdd21fa5e85",
   "metadata": {},
   "outputs": [],
   "source": [
    "df2 = df[[2, 8]]\n",
    "df1 = df.iloc[:, 9:] \n",
    "df1 = pd.concat([df[2], df1], axis=1)\n",
    "df2.columns = \"Plano\", 8"
   ]
  },
  {
   "cell_type": "code",
   "execution_count": null,
   "id": "5892eac1-36f7-4478-9bf8-4091ff314ffb",
   "metadata": {},
   "outputs": [],
   "source": [
    "df2.head()"
   ]
  },
  {
   "cell_type": "code",
   "execution_count": null,
   "id": "63b6db0a-cd14-4b3f-90c2-5825f6d92765",
   "metadata": {},
   "outputs": [],
   "source": [
    "df_merge = df1.merge(df2, left_on=2, right_on=\"Plano\")"
   ]
  },
  {
   "cell_type": "markdown",
   "id": "263ce0f7-1408-48ab-8d18-4a2c49a858f5",
   "metadata": {},
   "source": [
    "#### Supôr uma planilha com 2 abas\n",
    "\n",
    "```python\n",
    "aba1 = pd.read_excel(\"planilha.xlsx\", sheet_name=\"aba1\")\n",
    "aba2 = pd.read_excel(\"planilha.xlsx\", sheet_name=\"aba2\")\n",
    "\n",
    "merge = aba1.merge(aba2, on=\"coluna_para_lookup\")\n",
    "merge.to_excel(\"planilha.xlsx\", sheet_name=\"merge_aba1e2\")\n",
    "```"
   ]
  },
  {
   "cell_type": "markdown",
   "id": "c1f51daa-f098-404c-a71b-953368337af0",
   "metadata": {},
   "source": [
    "### Encontro 6 - 06 de agosto de 2021\n",
    "\n",
    "- Conversa sobre projetos\n",
    "    - Automatização de processos\n",
    "    - Pegar dados do TM1 e da API da TAAP\n",
    "        - TM1: conecta na web -> selecionar cubos -> criar view\n",
    "            - Conectar na view e baixar Excel com múltiplas tabs\n",
    "    - Notas:\n",
    "        - TM1: um arquivo com múltiplas tabs\n",
    "        - TAAP: uma tab só\n",
    "        - Conectar tudo em uma planilha\n",
    "        - Rodar fórmulas\n",
    "        - Exportar arquivos para o cubo MDX (via TM1) (formatado para inputar)\n",
    "        - Commit feito pelo Excel direto p/ web\n",
    "        \n",
    "- De volta para sintaxe básica\n",
    "    - Listas\n",
    "    - Dicionários"
   ]
  },
  {
   "cell_type": "code",
   "execution_count": null,
   "id": "4d31cd67-0fd1-4062-ae17-ac40d6d19507",
   "metadata": {},
   "outputs": [],
   "source": [
    "import pandas as pd\n",
    "\n",
    "df = pd.read_excel(\"Match.xlsx\")"
   ]
  },
  {
   "cell_type": "code",
   "execution_count": null,
   "id": "bc27b866-fc3c-407b-bf0c-15ee59388c08",
   "metadata": {},
   "outputs": [],
   "source": [
    "# Lista: coleção de valores de qualquer tipo\n",
    "lista = ['a', 10, 3.14]\n",
    "\n",
    "# Posso selecionar valores pela posição\n",
    "lista[0]\n",
    "lista[-1]\n",
    "\n",
    "# Posso inserir valores - são MUTÁVEIS\n",
    "lista.append('d')\n",
    "lista.insert(2, 'b')\n",
    "\n",
    "# Tamanho da lista\n",
    "len(lista)"
   ]
  },
  {
   "cell_type": "code",
   "execution_count": null,
   "id": "d037d6cf-4d81-4b4f-990e-3e5f7c5c2259",
   "metadata": {},
   "outputs": [],
   "source": [
    "lista.append(['item_0', 'item_1'])"
   ]
  },
  {
   "cell_type": "code",
   "execution_count": null,
   "id": "351720c3-cf8d-4773-85dc-e3b2e31fb8c0",
   "metadata": {},
   "outputs": [],
   "source": [
    "# Strings também são coleções - de caracteres\n",
    "string = \"Amendoim\"\n",
    "string = string + \" japonês\"  # porém são IMUTÁVEIS - preciso sobreescrever"
   ]
  },
  {
   "cell_type": "code",
   "execution_count": null,
   "id": "a6e65702-43cd-4f32-aa48-d988c09f23c8",
   "metadata": {},
   "outputs": [],
   "source": [
    "# Outro tipo de coleção: o dicionário\n",
    "capitais = {\n",
    "    \"RJ\": \"Rio de Janeiro\",\n",
    "    \"SC\": \"Florianópolis\",\n",
    "    \"SP\": \"São Paulo\",\n",
    "}"
   ]
  },
  {
   "cell_type": "code",
   "execution_count": null,
   "id": "efadf948-c9b0-4cba-8ddc-d13caae8a206",
   "metadata": {},
   "outputs": [],
   "source": [
    "# Invés de uma variável por tab\n",
    "head = pd.read_excel(\"Match.xlsx\", sheet_name=\"head\")\n",
    "vari = pd.read_excel(\"Match.xlsx\", sheet_name=\"vari\")"
   ]
  },
  {
   "cell_type": "code",
   "execution_count": null,
   "id": "a99de4a5-84c5-485d-8d49-4dc569d5cfee",
   "metadata": {},
   "outputs": [],
   "source": [
    "# Tenho um dicionário mapeando o nome das tabs para os DataFrames\n",
    "match = {}\n",
    "tabs_list = [\"head\", \"vari\"]\n",
    "\n",
    "for tab_name in tabs_list:\n",
    "    match[tab_name] = pd.read_excel(\"Match.xlsx\", sheet_name=tab_name)"
   ]
  },
  {
   "cell_type": "code",
   "execution_count": null,
   "id": "e00110a7-fb8c-4aac-b785-70139a39279e",
   "metadata": {},
   "outputs": [],
   "source": [
    "match"
   ]
  },
  {
   "cell_type": "markdown",
   "id": "10299109-1b0b-4956-8ff1-01468f4e15d2",
   "metadata": {},
   "source": [
    "### Encontro 7 - 13 de agosto de 2021\n",
    "\n",
    "- Aprofundar sequências\n",
    "    - Fatias\n",
    "        - Sintaxe de fatias:\n",
    "        \n",
    "            ```python\n",
    "            lista[inicio:fim]\n",
    "            lista[inicio:fim:degrau]\n",
    "            ```\n",
    "            \n",
    "        - **Importante:** o `fim` não é incluído\n",
    "    - Multiplicação e adição\n",
    "- Funções\n",
    "    - Definição com **`def`**\n",
    "    - Nome da função\n",
    "    - Entrada (argumentos)\n",
    "    - Corpo da função\n",
    "    - Saída com **`return`**\n",
    "\n",
    "- Anatomia de um script Python\n",
    "    * Importar bibliotecas\n",
    "    * Definir arquivos de entrada\n",
    "    * Definir funções de processamento\n",
    "    * Adicionar mensagens informativas"
   ]
  },
  {
   "cell_type": "code",
   "execution_count": null,
   "id": "805dac7d-7a16-4927-a882-d5803504d725",
   "metadata": {},
   "outputs": [],
   "source": [
    "# Fatias\n",
    "lista = [\"RS\", \"PR\", \"SC\", \"SP\", \"RJ\", \"ES\", \"MG\", \"MT\", \"MS\", \"GO\"]\n",
    "\n",
    "sul = lista[:3]\n",
    "sudeste = lista[3:7]\n",
    "centro_oeste = lista[7:]\n",
    "\n",
    "print(\"Sul:\", sul)\n",
    "print(\"Sudeste:\", sudeste)\n",
    "print(\"Centro-oeste:\", centro_oeste)"
   ]
  },
  {
   "cell_type": "code",
   "execution_count": null,
   "id": "77e0c018-9004-4f81-a8df-777af9825d51",
   "metadata": {},
   "outputs": [],
   "source": [
    "numeros = list(range(1, 11))\n",
    "print(numeros)"
   ]
  },
  {
   "cell_type": "code",
   "execution_count": null,
   "id": "420c1eda-822b-4c4a-93bd-3a9b5f404457",
   "metadata": {},
   "outputs": [],
   "source": [
    "impares = numeros[::2]\n",
    "pares = numeros[1::2]\n",
    "print(impares)\n",
    "print(pares)"
   ]
  },
  {
   "cell_type": "code",
   "execution_count": null,
   "id": "fe4c164e-9094-4b9c-a839-4c917f440818",
   "metadata": {},
   "outputs": [],
   "source": [
    "print(numeros)"
   ]
  },
  {
   "cell_type": "code",
   "execution_count": null,
   "id": "78ee6243-ce63-4d09-b67d-b84bb8bf8eba",
   "metadata": {},
   "outputs": [],
   "source": [
    "numeros[::-1]"
   ]
  },
  {
   "cell_type": "code",
   "execution_count": null,
   "id": "1a74db48-554a-4603-9da6-1cdf449a032b",
   "metadata": {},
   "outputs": [],
   "source": [
    "for estado in lista:\n",
    "    # corpo do loop\n",
    "    print(estado)"
   ]
  },
  {
   "cell_type": "code",
   "execution_count": null,
   "id": "2e855411-c443-41c0-9ba1-3bfb173dca8b",
   "metadata": {},
   "outputs": [],
   "source": [
    "texto = \"Rio de Janeiro\"\n",
    "\n",
    "for item in texto:\n",
    "    print(item)"
   ]
  },
  {
   "cell_type": "code",
   "execution_count": null,
   "id": "507f92d3-5952-4562-b8ff-dac5203a65ea",
   "metadata": {},
   "outputs": [],
   "source": [
    "import pandas as pd"
   ]
  },
  {
   "cell_type": "code",
   "execution_count": null,
   "id": "86f9fa1e-59c2-4231-aee8-4625260045a4",
   "metadata": {},
   "outputs": [],
   "source": [
    "planilhas = [\"Match-100.xlsx\", \"Match-acceleration.xlsx\", \"Match-bkp.xlsx\"]\n",
    "\n",
    "def processar_planilha(nome_do_arquivo):\n",
    "    df = pd.read_excel(nome_do_arquivo)\n",
    "    print(df.shape)\n",
    "\n",
    "\n",
    "for arquivo in planilhas:\n",
    "    print(\"Processando\", arquivo)\n",
    "    processar_planilha(arquivo)\n",
    "    print(\"OK.\")"
   ]
  },
  {
   "cell_type": "code",
   "execution_count": null,
   "id": "9a484865-4330-48e6-88ff-dcdca6112029",
   "metadata": {},
   "outputs": [],
   "source": [
    "processar_planilha(\"Match-100.xlsx\")"
   ]
  },
  {
   "cell_type": "code",
   "execution_count": null,
   "id": "f7216f66-b6ec-4bf2-9731-d8aed12dd289",
   "metadata": {},
   "outputs": [],
   "source": [
    "def examinar_palavra(palavra):\n",
    "    primeira_letra = palavra[0]\n",
    "    numero_de_letras = len(palavra)\n",
    "    \n",
    "    print(\"A palavra começa com\", primeira_letra)\n",
    "    print(\"A palavra tem\", numero_de_letras, \"letras\")"
   ]
  },
  {
   "cell_type": "code",
   "execution_count": null,
   "id": "d8050995-7d47-49ae-98b0-fbf2a0e97514",
   "metadata": {},
   "outputs": [],
   "source": [
    "examinar_palavra('IBM')"
   ]
  },
  {
   "cell_type": "code",
   "execution_count": null,
   "id": "9acb6a88-2801-48ab-a4a2-64d02f9f6150",
   "metadata": {},
   "outputs": [],
   "source": [
    "# Sintaxe de funções\n",
    "def nome_da_funcao(entrada1, entrada2, entrada3):\n",
    "    \n",
    "    # Corpo da função\n",
    "    print(entrada1)\n",
    "    print(entrada2)\n",
    "    print(entrada3)\n",
    "    \n",
    "    saida = entrada1 + entrada2 + entrada3\n",
    "    \n",
    "    # Saída\n",
    "    return saida"
   ]
  },
  {
   "cell_type": "code",
   "execution_count": null,
   "id": "5b378444-5a8e-4878-ab52-661f443dde83",
   "metadata": {},
   "outputs": [],
   "source": [
    "resultado = nome_da_funcao(1, 2, 3)"
   ]
  },
  {
   "cell_type": "code",
   "execution_count": null,
   "id": "c29f872a-c4f5-4b1e-b749-3965aa25a0b2",
   "metadata": {},
   "outputs": [],
   "source": [
    "resultado"
   ]
  },
  {
   "cell_type": "code",
   "execution_count": null,
   "id": "c15eb71d-9696-4f9e-92ca-6076fa61c87d",
   "metadata": {},
   "outputs": [],
   "source": [
    "!python meu_script.py"
   ]
  },
  {
   "cell_type": "code",
   "execution_count": null,
   "id": "4b175408-ba8e-46c0-8758-b89608acbfb2",
   "metadata": {},
   "outputs": [],
   "source": [
    "# glob: útil para criar listas de arquivos\n",
    "from glob import glob\n",
    "glob(\"*.xlsx\")"
   ]
  },
  {
   "cell_type": "markdown",
   "id": "0a639308-21ad-4396-9a56-d937ede878b3",
   "metadata": {},
   "source": [
    "### Encontro 8 - 03 de Setembro de 2021\n",
    "\n",
    "* Recapitular tópicos anteriores\n",
    "    * Sintaxe básica\n",
    "    * Listas\n",
    "    * Funções\n",
    "* Exercícios\n",
    "* Progresso com projeto das planilhas\n",
    "    * Já obteve os arquivos (database)\n",
    "    * Juntar tabs (informações) para chegar num formato final\n",
    "    \n",
    "#### Exercício para semana que vem\n",
    "* Importar databases com Pandas"
   ]
  },
  {
   "cell_type": "markdown",
   "id": "3ea78627-ce78-4686-88b9-085e45b679f0",
   "metadata": {},
   "source": [
    "1. Converta 42 minutos e 42 segundos em somente segundos."
   ]
  },
  {
   "cell_type": "code",
   "execution_count": null,
   "id": "acb61923-4be4-42fa-bb12-c7407ff69dd1",
   "metadata": {},
   "outputs": [],
   "source": [
    "minutos = 42\n",
    "segundos = 42\n",
    "total_segundos = 60 * minutos + segundos"
   ]
  },
  {
   "cell_type": "markdown",
   "id": "ff2869d9-c062-49ba-a551-b076f94d039e",
   "metadata": {},
   "source": [
    "2. Converta 10 milhas em kms.\n",
    "\n",
    "1.61 km = 1 milha."
   ]
  },
  {
   "cell_type": "markdown",
   "id": "9b4d0486-6ce6-4ea4-8629-c2a076cc6ce4",
   "metadata": {},
   "source": [
    "3. Corremos uma corrida de 10km em 42 minutos e 42 segundos. Qual é o nosso tempo médio por milha? E a nossa velocidade em milhas por hora?"
   ]
  },
  {
   "cell_type": "code",
   "execution_count": null,
   "id": "fb478215-c630-4d98-8403-b80782d0a36b",
   "metadata": {},
   "outputs": [],
   "source": [
    "minutos = 42\n",
    "segundos = 42\n",
    "horas = (minutos * 60 + segundos) / 3600\n",
    "km = 10\n",
    "milhas = km / 1.61\n",
    "\n",
    "tempo_medio_por_milha = horas / milhas\n",
    "velocidade = milhas / horas"
   ]
  },
  {
   "cell_type": "code",
   "execution_count": null,
   "id": "60e1a3d5-6907-4d2c-a8c0-0a26223a6455",
   "metadata": {},
   "outputs": [],
   "source": [
    "tempo_medio_por_milha"
   ]
  },
  {
   "cell_type": "markdown",
   "id": "44bcaf49-2d04-4318-a0a7-a1189d2654eb",
   "metadata": {},
   "source": [
    "4. Crie uma lista de strings e imprima a seguinte frase para cada item:\n",
    "\n",
    "\"A palavra XXXX começa com a letra X\", onde XXXX é a string e X é a primeira letra da string."
   ]
  },
  {
   "cell_type": "markdown",
   "id": "b0aca296-2947-4249-8361-13c59a483576",
   "metadata": {},
   "source": [
    "### Encontro 9 - 10 de Setembro de 2021\n",
    "\n",
    "- Importando conjuntos de dados no Pandas\n",
    "- Relacionando informações entre abas\n",
    "- Acessando métodos de string de uma coluna com `.str`\n",
    "- Fazendo lookup com função personalizada e `.loc`\n",
    "\n",
    "### Semana que vem\n",
    "- **Dúvida**: como escrever na mesma planilha?"
   ]
  },
  {
   "cell_type": "markdown",
   "id": "65567960-a631-475e-8f27-7689f1536dee",
   "metadata": {},
   "source": [
    "### Encontro 10 - 24 de setembro de 2021\n",
    "\n",
    "- Retomada problema integração de dados\n",
    "    1. Obter todas as fontes de dados\n",
    "    2. Integrar fontes de dados em uma mesma tab (`main`)\n",
    "    3. Incluir cálculos - somas, etc. na tab `main`"
   ]
  },
  {
   "cell_type": "code",
   "execution_count": null,
   "id": "98de7a3b-4943-4606-bdb2-91a37c4f529d",
   "metadata": {},
   "outputs": [],
   "source": [
    "import pandas as pd\n",
    "from openpyxl import load_workbook"
   ]
  },
  {
   "cell_type": "code",
   "execution_count": null,
   "id": "fb4c2280-a766-4c61-a0a4-bad88c563e56",
   "metadata": {},
   "outputs": [],
   "source": [
    "ti = pd.read_excel(\"TAAP Python.xlsm\", skiprows=1, sheet_name=\"TI\")\n",
    "plan = pd.read_excel(\"TAAP Python.xlsm\", skiprows=1, sheet_name=\"Plan map\", index_col=1)\n",
    "entities = pd.read_excel(\"TAAP Python.xlsm\", skiprows=2, sheet_name=\"Entities\")"
   ]
  },
  {
   "cell_type": "code",
   "execution_count": null,
   "id": "c028df83-1e8e-4f14-9cc5-cdefbf422355",
   "metadata": {},
   "outputs": [],
   "source": [
    "def get_plan_length(code):\n",
    "    \"\"\"\n",
    "    Give a 9-digit code from TI tab (e.g. REW45-PRI)\n",
    "    and look up plan length in Plan map tap using\n",
    "    first 5 characters of the code.\n",
    "    \"\"\"\n",
    "    return plan.loc[code[:5], \"Length\"]"
   ]
  },
  {
   "cell_type": "code",
   "execution_count": null,
   "id": "a1ed3af8-083a-4495-8788-34214b1b1a80",
   "metadata": {},
   "outputs": [],
   "source": [
    "ti[\"Length\"] = ti[\"Unnamed: 8\"].apply(get_plan_length)"
   ]
  },
  {
   "cell_type": "code",
   "execution_count": null,
   "id": "5de832c9-a965-4e31-bf0f-27b88dc19d28",
   "metadata": {},
   "outputs": [],
   "source": [
    "# Escrevendo na mesma planilha Excel usando pd.ExcelWrite\n",
    "file = \"TAAP Python.xlsm\"\n",
    "backup = \"TAAP Python-Copy1.xlsm\"\n",
    "book = load_workbook(backup)\n",
    "writer = pd.ExcelWriter(file, engine=\"openpyxl\")\n",
    "writer.book = book\n",
    "ti.to_excel(writer, sheet_name=\"TI\", )\n",
    "writer.save()\n",
    "writer.close()"
   ]
  },
  {
   "cell_type": "code",
   "execution_count": null,
   "id": "afe1d719-b67b-461a-8ba9-05f3e80a6efd",
   "metadata": {},
   "outputs": [],
   "source": [
    "# Adicionar a coluna BRAND da tab 'Entities' para a tab TI através do código Entity\n",
    "\n",
    "# 1. Criar código para merge\n",
    "entities[\"entity\"] = entities[\"Entity Id\"].str.split(\"-\", expand=True).iloc[:, 0]\n",
    "\n",
    "\n",
    "# Mais fácil quando tenho colunas com o mesmo nome\n",
    "ti[\"entity\"] = ti[\"Unnamed: 6\"].rename(\"entity\")\n",
    "\n",
    "# 2. Rodar o merge\n",
    "# ti.merge(entities, on=\"entity\")"
   ]
  },
  {
   "cell_type": "code",
   "execution_count": null,
   "id": "f8a0a40e-e986-4ef5-8de0-cfe4df87e05e",
   "metadata": {},
   "outputs": [],
   "source": []
  }
 ],
 "metadata": {
  "kernelspec": {
   "display_name": "Python [conda env:xlab]",
   "language": "python",
   "name": "conda-env-xlab-py"
  },
  "language_info": {
   "codemirror_mode": {
    "name": "ipython",
    "version": 3
   },
   "file_extension": ".py",
   "mimetype": "text/x-python",
   "name": "python",
   "nbconvert_exporter": "python",
   "pygments_lexer": "ipython3",
   "version": "3.9.2"
  }
 },
 "nbformat": 4,
 "nbformat_minor": 5
}
