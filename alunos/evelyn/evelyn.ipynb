{
 "cells": [
  {
   "cell_type": "markdown",
   "id": "c57ed52b",
   "metadata": {},
   "source": [
    "### Aula 1 - 25 de maio de 2021\n",
    "\n",
    "* Códigos e bibliotecas conhecidas\n",
    "* Sintaxe\n",
    "    * Operadores aritméticos\n",
    "    * Variáveis\n",
    "    * Tipos de dados\n",
    "        * Numéricos: `int` e `float`\n",
    "        * Texto: `str`\n",
    "    * Funções embutidas\n",
    "        * `print()`\n",
    "        * `type()`\n",
    "    * Funções customizadas\n",
    "    * Diferença `print` e `return`\n",
    "    \n",
    "### Ponto-chave\n",
    "\n",
    "**Existem 3 tipos básicos de dados: `int`, `float` e `str`. As operações possíveis dependem do tipo de dado.**"
   ]
  },
  {
   "cell_type": "markdown",
   "id": "fbfa4d7b",
   "metadata": {},
   "source": [
    "#### Conversão de temperatura\n",
    "\n",
    "Como usar Python para converter temperaturas de graus Celsius (C) para graus Fahrenheit (F)?\n",
    "\n",
    "**Fórmula:** (0°C × 9/5) + 32 = 32°F\n",
    "\n",
    "Se eu tenho o valor 40 graus Celsius, é equivalente a quantos graus Fahrenheit?"
   ]
  },
  {
   "cell_type": "code",
   "execution_count": null,
   "id": "eca953a7",
   "metadata": {},
   "outputs": [],
   "source": [
    "celsius = 40\n",
    "fahr = (celsius * 9/5) + 32"
   ]
  },
  {
   "cell_type": "code",
   "execution_count": null,
   "id": "8828f7da",
   "metadata": {},
   "outputs": [],
   "source": [
    "def converter_celsius_fahr(celsius):\n",
    "    \"\"\"\n",
    "    Converte temperatura de Celsius para Fahrenheit.\n",
    "    \"\"\"\n",
    "    fahr = (celsius * 9/5) + 32\n",
    "    return fahr"
   ]
  },
  {
   "cell_type": "code",
   "execution_count": null,
   "id": "4a18ae1f",
   "metadata": {},
   "outputs": [],
   "source": [
    "fahr = converter_celsius_fahr(40)"
   ]
  },
  {
   "cell_type": "code",
   "execution_count": null,
   "id": "1c52abdb",
   "metadata": {},
   "outputs": [],
   "source": [
    "quatro = 2 + 2\n",
    "\n",
    "outro_quatro = print(2 + 2)"
   ]
  },
  {
   "cell_type": "code",
   "execution_count": null,
   "id": "a9819f9b",
   "metadata": {},
   "outputs": [],
   "source": [
    "type(outro_quatro)"
   ]
  },
  {
   "cell_type": "code",
   "execution_count": null,
   "id": "4233fd3a",
   "metadata": {},
   "outputs": [],
   "source": [
    "print(celsius, \"graus Celsius são\", fahr, \"graus Fahr.\")"
   ]
  },
  {
   "cell_type": "code",
   "execution_count": null,
   "id": "adab4fc0",
   "metadata": {},
   "outputs": [],
   "source": [
    "\"40 \" + \"graus Celsius\""
   ]
  },
  {
   "cell_type": "code",
   "execution_count": null,
   "id": "73ef1aa1",
   "metadata": {},
   "outputs": [],
   "source": [
    "type(fahr)"
   ]
  },
  {
   "cell_type": "code",
   "execution_count": null,
   "id": "378fe5c6",
   "metadata": {},
   "outputs": [],
   "source": [
    "type(True)"
   ]
  },
  {
   "cell_type": "markdown",
   "id": "be391741",
   "metadata": {},
   "source": [
    "### Aula 2 - 9 de junho de 2021\n",
    "\n",
    "* Revisão Aula 1\n",
    "* Bibliotecas\n",
    "    * **Explorando bibliotecas com TAB e `help()`**\n",
    "    * Acessar objetos da biblioteca com `math.` e TAB\n",
    "    * Três formas de conseguir ajuda\n",
    "        * `math.cos?`\n",
    "        * `help(math.cos)`\n",
    "        * `math.cos??`\n",
    "    * Várias formas de importar bibliotecas\n",
    "        * `import math`  # biblioteca inteira\n",
    "        * `import math as m`  # usando atalhos\n",
    "        * `from math import cos, pi`  # funções específicas\n",
    "* Estilo de código\n",
    "    * Boas práticas de import\n",
    "    * PEP-8\n",
    "    * Black\n",
    "* Pandas\n",
    "    * `df.columns` -> índice das colunas\n",
    "    * `df.index` -> índice das linhas\n",
    "    * `df.values` -> \"dados brutos\", matriz/array NumPy por baixo do DataFrame\n",
    "    \n",
    "### Ponto-chave\n",
    "\n",
    "**Ideia de DataFrame como matriz com nome de linhas e colunas (índices)**"
   ]
  },
  {
   "cell_type": "code",
   "execution_count": null,
   "id": "d75e80a4",
   "metadata": {},
   "outputs": [],
   "source": [
    "import json\n",
    "import pandas as pd"
   ]
  },
  {
   "cell_type": "code",
   "execution_count": null,
   "id": "7a793206",
   "metadata": {},
   "outputs": [],
   "source": [
    "df = pd.read_csv(\"gapminder_all.csv\", index_col=\"country\")"
   ]
  },
  {
   "cell_type": "markdown",
   "id": "b85612a1",
   "metadata": {},
   "source": [
    "### Encontro 3 - 16 de junho de 2021\n",
    "\n",
    "* DataFrames Pandas\n",
    "* Que operações no Pandas?\n",
    "    * Puxar dados do lake\n",
    "        * Formato Parquet, JSON ou CSV\n",
    "        * Estrutura já é possível de ver no HDFS\n",
    "    * Fazer ingestão\n",
    "    * Usar um filtro\n",
    "    * Fazer select\n",
    "* Explorando objetos\n",
    "    * `df.` + TAB\n",
    "    * Função embutida `dir()`\n",
    "    * Diferença entre métodos (funções específicas da classe) e atributos (valores da classe)\n",
    "* Métodos de DataFrame\n",
    "    * `df.head()`\n",
    "    * `df.tail()`\n",
    "    * df.columns\n",
    "    * df.index\n",
    "    * df.info()\n",
    "    * df.T\n",
    "    * df.describe()\n",
    "* Indexando e fatiando DataFrames\n",
    "    * `df.loc  # fatiando por nome`\n",
    "    * `df.iloc  # fatiando por número`\n",
    "    * Diferença entre `()` (chamar funções/métodos) e `[]` (fatias)\n",
    "    * Sempre na ordem linha, coluna\n",
    "\n",
    "### Notas\n",
    "* Pandas chama strings de `object`\n",
    "\n",
    "### Ponto-chave\n",
    "- **Diferença entre operações entre listas e estruturas de dados do Pandas e NumPy**\n",
    "- **Fatiando com `loc` e `iloc`**\n",
    "\n",
    "### Planejamento\n",
    "- **Aula 4:** aprofundar indexação e fatias\n",
    "- **Aula 5:** Merge, join e concatenate\n",
    "- **Aula 6 em diante:** Retornar sintaxe básica (listas, loops e condicionais)\n",
    "___"
   ]
  },
  {
   "cell_type": "code",
   "execution_count": null,
   "id": "3bf44df8",
   "metadata": {},
   "outputs": [],
   "source": [
    "df.loc\n",
    "df.iloc"
   ]
  },
  {
   "cell_type": "code",
   "execution_count": null,
   "id": "998e68e8",
   "metadata": {},
   "outputs": [],
   "source": [
    "type(df.loc[\"Brazil\", \"continent\"])"
   ]
  },
  {
   "cell_type": "code",
   "execution_count": null,
   "id": "e40a4562",
   "metadata": {},
   "outputs": [],
   "source": [
    "df.iloc[2, 0]"
   ]
  },
  {
   "cell_type": "code",
   "execution_count": null,
   "id": "c7a725e3",
   "metadata": {},
   "outputs": [],
   "source": [
    "query = df.iloc[[0,], [0,]]\n",
    "print(query)\n",
    "print(type(query))"
   ]
  },
  {
   "cell_type": "code",
   "execution_count": null,
   "id": "2376d160",
   "metadata": {},
   "outputs": [],
   "source": [
    "type(df.loc[\"Angola\", [\"gdpPercap_1952\", \"gdpPercap_1957\"]])"
   ]
  },
  {
   "cell_type": "code",
   "execution_count": null,
   "id": "d97530a6",
   "metadata": {},
   "outputs": [],
   "source": [
    "df.head()"
   ]
  },
  {
   "cell_type": "code",
   "execution_count": null,
   "id": "3aa52670",
   "metadata": {},
   "outputs": [],
   "source": []
  },
  {
   "cell_type": "code",
   "execution_count": null,
   "id": "af7dfb15",
   "metadata": {},
   "outputs": [],
   "source": []
  },
  {
   "cell_type": "code",
   "execution_count": null,
   "id": "a384c1cb",
   "metadata": {},
   "outputs": [],
   "source": []
  },
  {
   "cell_type": "code",
   "execution_count": null,
   "id": "6ccac0e8",
   "metadata": {},
   "outputs": [],
   "source": []
  },
  {
   "cell_type": "code",
   "execution_count": null,
   "id": "b2fe58ab",
   "metadata": {},
   "outputs": [],
   "source": [
    "df.head()"
   ]
  },
  {
   "cell_type": "code",
   "execution_count": null,
   "id": "63d9033b",
   "metadata": {},
   "outputs": [],
   "source": [
    "a = pd.Series([0, 1, 2])\n",
    "b = pd.Series([3, 4, 5])\n",
    "c = 3\n",
    "\n",
    "print(a + b)\n",
    "print(a * c)"
   ]
  },
  {
   "cell_type": "code",
   "execution_count": null,
   "id": "8d77e035",
   "metadata": {},
   "outputs": [],
   "source": [
    "df.head()"
   ]
  },
  {
   "cell_type": "code",
   "execution_count": null,
   "id": "1a9079b4",
   "metadata": {},
   "outputs": [],
   "source": [
    "type(df[\"continent\"])"
   ]
  },
  {
   "cell_type": "code",
   "execution_count": null,
   "id": "4a98aca6",
   "metadata": {},
   "outputs": [],
   "source": [
    "df[\"gdpPercap_1952\"].head()"
   ]
  },
  {
   "cell_type": "code",
   "execution_count": null,
   "id": "04d29f33",
   "metadata": {},
   "outputs": [],
   "source": [
    "pd.DataFrame"
   ]
  },
  {
   "cell_type": "code",
   "execution_count": null,
   "id": "7e667bac",
   "metadata": {},
   "outputs": [],
   "source": [
    "CamelCase\n",
    "meuObjeto\n",
    "\n",
    "snake_case"
   ]
  },
  {
   "cell_type": "code",
   "execution_count": null,
   "id": "75739f2e",
   "metadata": {},
   "outputs": [],
   "source": [
    "df.shape"
   ]
  },
  {
   "cell_type": "code",
   "execution_count": null,
   "id": "10d20e26",
   "metadata": {},
   "outputs": [],
   "source": [
    "lista = ['a', 'b', 'c']"
   ]
  },
  {
   "cell_type": "code",
   "execution_count": null,
   "id": "e111a848",
   "metadata": {},
   "outputs": [],
   "source": [
    "print(lista)"
   ]
  },
  {
   "cell_type": "code",
   "execution_count": null,
   "id": "c0e9c4a8",
   "metadata": {},
   "outputs": [],
   "source": [
    "lista.append('d')"
   ]
  },
  {
   "cell_type": "code",
   "execution_count": null,
   "id": "affc5bb0",
   "metadata": {},
   "outputs": [],
   "source": [
    "print(lista)"
   ]
  },
  {
   "cell_type": "code",
   "execution_count": null,
   "id": "36cf86c2",
   "metadata": {},
   "outputs": [],
   "source": [
    "tupla = ('a', 'b', 'c')"
   ]
  },
  {
   "cell_type": "code",
   "execution_count": null,
   "id": "2fea7eb5",
   "metadata": {},
   "outputs": [],
   "source": [
    "lista[0] = \"primeiro item\""
   ]
  },
  {
   "cell_type": "code",
   "execution_count": null,
   "id": "e5a1a2bc",
   "metadata": {},
   "outputs": [],
   "source": [
    "lista"
   ]
  },
  {
   "cell_type": "code",
   "execution_count": null,
   "id": "bb3a3413",
   "metadata": {},
   "outputs": [],
   "source": [
    "tupla[0] = \"primeiro item\""
   ]
  },
  {
   "cell_type": "markdown",
   "id": "024f7d9d",
   "metadata": {},
   "source": [
    "### Encontro 4 - 23 de junho de 2021\n",
    "\n",
    "* Retomar semana passada\n",
    "* Separadores em arquivos tabulares\n",
    "    * `'\\n'` -> nova linha\n",
    "    * `'\\t'` -> tab\n",
    "* Mexendo com DataFrames\n",
    "    * Indexação\n",
    "    * Fatias\n",
    "    * Condicionais\n",
    "    * Quando eu executo uma comparação de uma série com um valor, ele retorna a série e valores True/False para cada célula, e.x.: `df['continent'] == 'Africa']`\n",
    "    * Operadores de condicionais:\n",
    "        * `&` equivalente a 'and'\n",
    "        * `|` equivalente a 'or'\n",
    "        \n",
    "* Criando um script para separar continentes (ou qualquer coluna) em diferentes arquivos\n",
    "* `sys.argv` -> lista de parâmetros passados para o programa/script\n",
    "* `breakpoint()` -> 'entrar' no meio do programa para verificar o estado (útil para debuggar)\n",
    "\n",
    "### Pontos-chave\n",
    "* Diferença no retorno de selecionar um ponto (uma única célula), um vetor (uma série no eixo vertical ou horizontal), ou uma tabela (um subconjunto do DataFrame).\n",
    "* Posso filtrar / selecionar um DataFrame baseado em condicionais\n",
    "* Posso escrever um script Python para automatizar uma tarefa de processamento de dados\n",
    "\n",
    "### Planejamento\n",
    "- **Aula 5:** Retornar sintaxe básica (listas, loops e condicionais)\n",
    "- **Aula 6:** Merge, join e concatenate"
   ]
  },
  {
   "cell_type": "code",
   "execution_count": null,
   "id": "3bf5efb1",
   "metadata": {},
   "outputs": [],
   "source": [
    "import pandas as pd"
   ]
  },
  {
   "cell_type": "code",
   "execution_count": null,
   "id": "cc1555ff",
   "metadata": {},
   "outputs": [],
   "source": [
    "df = pd.read_csv('gapminder_all.csv', index_col='country')"
   ]
  },
  {
   "cell_type": "code",
   "execution_count": null,
   "id": "aa4d931a",
   "metadata": {},
   "outputs": [],
   "source": [
    "df.loc['Brazil', 'continent']"
   ]
  },
  {
   "cell_type": "code",
   "execution_count": null,
   "id": "e3c31b56",
   "metadata": {},
   "outputs": [],
   "source": [
    "countries = ['Brazil', 'Jamaica', 'United States']\n",
    "type(df.loc[countries, 'continent'])"
   ]
  },
  {
   "cell_type": "code",
   "execution_count": null,
   "id": "cc0b0769",
   "metadata": {},
   "outputs": [],
   "source": [
    "type(df.loc[countries, ['lifeExp_1957', 'lifeExp_2007']])"
   ]
  },
  {
   "cell_type": "code",
   "execution_count": null,
   "id": "95cd98d7",
   "metadata": {},
   "outputs": [],
   "source": [
    "continents = ['Americas', 'Africa']\n",
    "df['continent'].isin(continent)"
   ]
  },
  {
   "cell_type": "code",
   "execution_count": null,
   "id": "41eeb90b",
   "metadata": {},
   "outputs": [],
   "source": [
    "df['continent'] == 'Africa'"
   ]
  },
  {
   "cell_type": "code",
   "execution_count": null,
   "id": "d3dec4a8",
   "metadata": {},
   "outputs": [],
   "source": [
    "df[(df['continent'] == 'Africa') | (df['continent'] == 'Americas')]"
   ]
  },
  {
   "cell_type": "code",
   "execution_count": null,
   "id": "6e4660ba",
   "metadata": {},
   "outputs": [],
   "source": [
    "continents = list(df['continent'].unique())\n",
    "continents"
   ]
  },
  {
   "cell_type": "code",
   "execution_count": null,
   "id": "b125fe89",
   "metadata": {},
   "outputs": [],
   "source": [
    "for item in continents:\n",
    "    df_item = df[df['continent'] == item]\n",
    "    file_name = 'gapminder_' + item + '.csv'\n",
    "    df_item.to_csv(file_name)\n",
    "    print(\"Escreveu DataFrame com continente\", item, \"em\", file_name)"
   ]
  },
  {
   "cell_type": "code",
   "execution_count": null,
   "id": "08127f98",
   "metadata": {},
   "outputs": [],
   "source": [
    "df[df['continent'] == 'Africa']"
   ]
  },
  {
   "cell_type": "markdown",
   "id": "7fa93ef7-5f90-472a-afd7-7b87a7bd70cc",
   "metadata": {},
   "source": [
    "### Encontro 5 - 7 de julho de 2021\n",
    "\n",
    "- Listas\n",
    "    - Coleções de valores **de qualquer tipo**\n",
    "    - Preservam a ordem dos valores\n",
    "    - São **mutáveis**\n",
    "    - \"Pegadinhas\":\n",
    "        - Indexação a partir do zero\n",
    "        - Fatias não inclusivas\n",
    "    - Posso usar `len()` para ver o tamanho de uma lista\n",
    "- Similaridades entre listas e strings\n",
    "    - Ambos são sequências: coleções ordenadas de objetos\n",
    "    - Podem ser iterados com for loop\n",
    "    - Strings podem ser transformadas em listas com `split()`\n",
    "- Loops\n",
    "    - Posso combinar com condicionais (`if`, `elif`, e `else`)\n",
    "\n",
    "### Pontos-chave\n",
    "- Ambas listas e strings são sequências\n",
    "    - Posso selecionar itens ou fatias\n",
    "    - Posso iterar com `for` loops\n",
    "\n",
    "### Próxima aula\n",
    "- Condicionais\n",
    "- List comprehensions"
   ]
  },
  {
   "cell_type": "code",
   "execution_count": null,
   "id": "f36d3953-8223-402a-a64e-361e4f37601c",
   "metadata": {},
   "outputs": [],
   "source": [
    "lista_str = [\"a\", \"b\", \"c\"]\n",
    "lista_int = [0, 1, 2, 3, 4, 5]"
   ]
  },
  {
   "cell_type": "code",
   "execution_count": null,
   "id": "f3d910ec-456b-4080-87e0-5e8d0b4332fa",
   "metadata": {},
   "outputs": [],
   "source": [
    "lista = lista_str + lista_int"
   ]
  },
  {
   "cell_type": "code",
   "execution_count": null,
   "id": "c619462c-6655-429c-ae29-9ef9bb026ba5",
   "metadata": {},
   "outputs": [],
   "source": [
    "lista"
   ]
  },
  {
   "cell_type": "code",
   "execution_count": null,
   "id": "15818819-3290-4a5f-b416-7cc977cdb559",
   "metadata": {},
   "outputs": [],
   "source": [
    "# Selecionando um item da lista\n",
    "print(lista[0])  # primeiro valor\n",
    "print(lista[-1])  # último valor"
   ]
  },
  {
   "cell_type": "code",
   "execution_count": null,
   "id": "27e3e838-ef77-47db-8053-8f574a74ee3e",
   "metadata": {},
   "outputs": [],
   "source": [
    "# Selecionando fatias\n",
    "print(lista[:3])\n",
    "print(lista[3:])\n",
    "print(lista[1:5])"
   ]
  },
  {
   "cell_type": "code",
   "execution_count": null,
   "id": "d428bc45-a942-42da-8475-c981374b9af0",
   "metadata": {},
   "outputs": [],
   "source": [
    "# Sintaxe das fatias\n",
    "# lista[inicio:fim]\n",
    "# lista[inicio:fim:degrau]\n",
    "\n",
    "lista = ['a', 1, 'b', 2]\n",
    "lista[1::2]\n",
    "lista[::-1]"
   ]
  },
  {
   "cell_type": "code",
   "execution_count": null,
   "id": "f0411cda-6052-43dd-8ccc-6aeefcf17a0c",
   "metadata": {},
   "outputs": [],
   "source": [
    "# Listas são mutáveis, consigo modificar, inserir e remover valores\n",
    "lista.append('c')\n",
    "lista"
   ]
  },
  {
   "cell_type": "code",
   "execution_count": null,
   "id": "fff78c0a-971e-46c2-8e8a-2d9007001b82",
   "metadata": {},
   "outputs": [],
   "source": [
    "lista.insert(0, 0)"
   ]
  },
  {
   "cell_type": "code",
   "execution_count": null,
   "id": "1378f280-a209-4880-9c5e-5c4650fd99f6",
   "metadata": {},
   "outputs": [],
   "source": [
    "lista[0] = \"zero\""
   ]
  },
  {
   "cell_type": "code",
   "execution_count": null,
   "id": "90bf4cc0-ddfe-40a0-b873-849bc8cb7bf1",
   "metadata": {},
   "outputs": [],
   "source": [
    "# lista[1:3] = [\"A\"]"
   ]
  },
  {
   "cell_type": "code",
   "execution_count": null,
   "id": "4228c15c-7637-4a96-93e9-defacee40fe7",
   "metadata": {},
   "outputs": [],
   "source": [
    "count = 0\n",
    "for i in lista:\n",
    "    count = count + 1\n",
    "    \n",
    "print(count)"
   ]
  },
  {
   "cell_type": "code",
   "execution_count": null,
   "id": "9d20ea64-1381-4d1c-8842-982c54c26483",
   "metadata": {},
   "outputs": [],
   "source": [
    "string = \"Spark\"\n",
    "\n",
    "for letra in string:\n",
    "    print(letra)"
   ]
  },
  {
   "cell_type": "code",
   "execution_count": null,
   "id": "36855d4b-ed40-4352-b945-ee08c50400c3",
   "metadata": {},
   "outputs": [],
   "source": [
    "lista[0] = 0\n",
    "lista"
   ]
  },
  {
   "cell_type": "code",
   "execution_count": null,
   "id": "4b6bc9dd-1bd4-4660-a6e4-eb95d41b7faa",
   "metadata": {},
   "outputs": [],
   "source": [
    "string[0] = 's'"
   ]
  },
  {
   "cell_type": "code",
   "execution_count": null,
   "id": "620d1b95-d535-470d-8334-98492a09589d",
   "metadata": {},
   "outputs": [],
   "source": [
    "string =  'Spark é uma biblioteca'"
   ]
  },
  {
   "cell_type": "code",
   "execution_count": null,
   "id": "033d2d56-2137-4619-ad63-98bf67a05424",
   "metadata": {},
   "outputs": [],
   "source": [
    "lista = [\"Spark\"]\n",
    "lista.append(\" é uma biblioteca\")\n",
    "print(type(lista))\n",
    "string = ''.join(lista)\n",
    "print(type(lista))"
   ]
  },
  {
   "cell_type": "code",
   "execution_count": null,
   "id": "f45711fd-1a68-4dd2-a6f4-45a3ee4fada1",
   "metadata": {},
   "outputs": [],
   "source": [
    "string = \"spark.é.uma.biblioteca\"\n",
    "string.split(\".\")"
   ]
  },
  {
   "cell_type": "code",
   "execution_count": null,
   "id": "ac2f4a7b-8d56-46f6-8a4c-67f55bb229ac",
   "metadata": {},
   "outputs": [],
   "source": [
    "lista_int + lista_str"
   ]
  },
  {
   "cell_type": "code",
   "execution_count": null,
   "id": "57d07f42-ab16-49f4-9ac0-2ae746f27ae7",
   "metadata": {},
   "outputs": [],
   "source": [
    "'Spark' + ' é uma biblioteca'"
   ]
  },
  {
   "cell_type": "code",
   "execution_count": null,
   "id": "c839bc39-84b3-4f30-b2d5-229f5c4dfb28",
   "metadata": {},
   "outputs": [],
   "source": [
    "lista = [0, 1, 2]\n",
    "lista * 3"
   ]
  },
  {
   "cell_type": "code",
   "execution_count": null,
   "id": "716828a1-0417-4554-b4c5-5159fafb6b46",
   "metadata": {},
   "outputs": [],
   "source": [
    "# Operações numéricas com listas requerem NumPy\n",
    "import numpy as np\n",
    "np.array([0, 1, 2]) + 5"
   ]
  },
  {
   "cell_type": "code",
   "execution_count": null,
   "id": "4d5641d0-f425-422d-967a-78edfd6f3f8f",
   "metadata": {},
   "outputs": [],
   "source": [
    "lista = ['a', 'b', 'c', 0, 1, 2, 50, 100, [5,6,7,8,9]]"
   ]
  },
  {
   "cell_type": "code",
   "execution_count": null,
   "id": "917e68b9-0b37-4f67-a0c9-ce51d679fd08",
   "metadata": {},
   "outputs": [],
   "source": [
    "for item in lista:\n",
    "    if type(item) == list:\n",
    "        print(item, 'é uma lista com', len(item), 'valores.')\n",
    "    elif type(item) == str:\n",
    "        print(item, 'é uma string.')\n",
    "    else:\n",
    "        if item < 3:\n",
    "            print(item, 'é um número pequeno.')\n",
    "        else:\n",
    "            print(item, 'é um numero maior.')"
   ]
  },
  {
   "cell_type": "code",
   "execution_count": null,
   "id": "55de2948-565d-4caa-93b7-ab369472fda9",
   "metadata": {},
   "outputs": [],
   "source": [
    "if 0 > 1:\n",
    "    print(\"ok\")"
   ]
  },
  {
   "cell_type": "code",
   "execution_count": null,
   "id": "256e656d-80eb-48ca-8fc8-4860f09772fb",
   "metadata": {},
   "outputs": [],
   "source": [
    "type(item) == str"
   ]
  },
  {
   "cell_type": "markdown",
   "id": "00e1b83d-5a56-4e1e-a23b-04f5ab43ddcc",
   "metadata": {},
   "source": [
    "### Para próxima aula\n",
    "\n",
    "- Fatiando strings (exemplo: `\"município/UF\"`, iniciais de um nome)"
   ]
  },
  {
   "cell_type": "markdown",
   "id": "a95d31d6-27cc-439e-8b5f-459870672f55",
   "metadata": {},
   "source": [
    "### Encontro 6 - 14 de julho de 2021\n",
    "\n",
    "- Processando strings\n",
    "    - Formatando strings\n",
    "    - Rodando for loops em strings e listas"
   ]
  },
  {
   "cell_type": "code",
   "execution_count": null,
   "id": "882bba39-0365-4438-8aee-d7fa36295730",
   "metadata": {},
   "outputs": [],
   "source": [
    "cpfs = ['839284900-74',\n",
    "        '764.637.222-33',\n",
    "        '83838800797',\n",
    "        '042.324.495.23']"
   ]
  },
  {
   "cell_type": "code",
   "execution_count": null,
   "id": "99085aa3-3f7e-4746-8a00-cbab25b3e7f2",
   "metadata": {},
   "outputs": [],
   "source": [
    "cpf = '764.637.222-33'"
   ]
  },
  {
   "cell_type": "code",
   "execution_count": null,
   "id": "55cffff0-7692-4b45-9612-0aa47f36dbba",
   "metadata": {},
   "outputs": [],
   "source": [
    "cpf.replace(\".\", \"\").replace(\"-\", \"\")"
   ]
  },
  {
   "cell_type": "code",
   "execution_count": null,
   "id": "b88db775-65a1-4dc2-b3be-83dba32524d1",
   "metadata": {},
   "outputs": [],
   "source": [
    "def formatar_cpf(cpf):\n",
    "    \"\"\"\n",
    "    Remove ponto e hífen do CPF.\n",
    "    \"\"\"\n",
    "    return cpf.replace(\".\", \"\").replace(\"-\", \"\")"
   ]
  },
  {
   "cell_type": "code",
   "execution_count": null,
   "id": "96f0102d-b728-446e-819e-2350537a617c",
   "metadata": {},
   "outputs": [],
   "source": [
    "cpfs_formatados = []\n",
    "for item in cpfs:\n",
    "    # corpo do loop\n",
    "    item_formatado = formatar_cpf(item)\n",
    "    cpfs_formatados.append(item_formatado)"
   ]
  },
  {
   "cell_type": "code",
   "execution_count": null,
   "id": "54cbfd14-2cbb-4fd6-9db0-8d443d18a86f",
   "metadata": {},
   "outputs": [],
   "source": [
    "import pandas as pd"
   ]
  },
  {
   "cell_type": "code",
   "execution_count": null,
   "id": "407d7946-1992-4683-b95a-19b9d51eef82",
   "metadata": {},
   "outputs": [],
   "source": [
    "cpfs_pd = pd.Series(cpfs, name='cpfs')"
   ]
  },
  {
   "cell_type": "code",
   "execution_count": null,
   "id": "bec8768c-d1e6-44af-b476-d21bfaa5bc46",
   "metadata": {},
   "outputs": [],
   "source": [
    "for item in cpfs_pd:\n",
    "    formatar_cpf(item)"
   ]
  },
  {
   "cell_type": "code",
   "execution_count": null,
   "id": "a2e17688-16fe-41b3-a1c1-167687f34bce",
   "metadata": {},
   "outputs": [],
   "source": [
    "cpfs_pd.apply(formatar_cpf)"
   ]
  },
  {
   "cell_type": "code",
   "execution_count": null,
   "id": "6f1f8c2a-90bf-42c3-81fe-fdf1a0696b97",
   "metadata": {},
   "outputs": [],
   "source": [
    "def replace_many(string, characters_string):\n",
    "    for character in characters_string:\n",
    "        string = string.replace(character, \"\")\n",
    "        \n",
    "    return string"
   ]
  },
  {
   "cell_type": "code",
   "execution_count": null,
   "id": "735594c1-b717-4d38-9e15-c301ad57040e",
   "metadata": {},
   "outputs": [],
   "source": [
    "replace_many(cpf, \".-\")"
   ]
  },
  {
   "cell_type": "markdown",
   "id": "4e758a50-d3d3-4908-b36a-43898b1004a3",
   "metadata": {},
   "source": [
    "### Semana que vem\n",
    "\n",
    "- Revisar condicionais `if/else`\n",
    "- Regex com Python\n",
    "- Git"
   ]
  }
 ],
 "metadata": {
  "kernelspec": {
   "display_name": "Python [conda env:xlab]",
   "language": "python",
   "name": "conda-env-xlab-py"
  },
  "language_info": {
   "codemirror_mode": {
    "name": "ipython",
    "version": 3
   },
   "file_extension": ".py",
   "mimetype": "text/x-python",
   "name": "python",
   "nbconvert_exporter": "python",
   "pygments_lexer": "ipython3",
   "version": "3.9.2"
  }
 },
 "nbformat": 4,
 "nbformat_minor": 5
}
