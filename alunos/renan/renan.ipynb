{
 "cells": [
  {
   "cell_type": "markdown",
   "source": [
    "### Encontro 1 - 01 de julho de 2021\n",
    "\n",
    "* Usando o JupyterLab\n",
    "    * Tipos de célula\n",
    "    * Atalhos do teclado\n",
    "* Revisão Python básico\n",
    "    * Jogo de pergunta/resposta\n",
    "        * Interpretador Python sempre RETORNA algo (pode ser nada).\n",
    "    * Variáveis\n",
    "    * Tipos de dados\n",
    "        * `str` -> texto (\"a string of characters\")\n",
    "        * `int` -> inteiro\n",
    "        * `float` -> número com vírgula (ponto flutuante)\n",
    "        * `bool` -> `True` ou `False`\n",
    "        * __Também servem como funções built-in!__\n",
    "    * Operadores matemáticos\n",
    "    * Operadores lógicos\n",
    "* Funções embutidas (_built-in_)\n",
    "    * [Docs Python](https://docs.python.org/pt-br/3/library/functions.html) \n",
    "    * `type()`\n",
    "    * `print()`\n",
    "    \n",
    "### Ponto-chave\n",
    "* O tipo de um objeto determina as operações que posso fazer com ele.\n",
    "* Objetos podem ser de tipos diferentes e compartilhar propriedades em comum."
   ],
   "metadata": {}
  },
  {
   "cell_type": "code",
   "execution_count": null,
   "source": [
    "# operadores matemáticos\n",
    "2 + 2\n",
    "2 - 2\n",
    "2 * 2\n",
    "2 / 2\n",
    "2 ** 3  # power\n",
    "10 % 3  # modulo\n",
    "10 // 3  # floor division"
   ],
   "outputs": [],
   "metadata": {}
  },
  {
   "cell_type": "code",
   "execution_count": null,
   "source": [
    "resultado = 10 // 3"
   ],
   "outputs": [],
   "metadata": {}
  },
  {
   "cell_type": "code",
   "execution_count": null,
   "source": [
    "resultado"
   ],
   "outputs": [],
   "metadata": {}
  },
  {
   "cell_type": "code",
   "execution_count": null,
   "source": [
    "resultado_print = print(resultado)"
   ],
   "outputs": [],
   "metadata": {}
  },
  {
   "cell_type": "code",
   "execution_count": null,
   "source": [
    "print(resultado_print)"
   ],
   "outputs": [],
   "metadata": {}
  },
  {
   "cell_type": "code",
   "execution_count": null,
   "source": [
    "resultado = '2' + 2"
   ],
   "outputs": [],
   "metadata": {}
  },
  {
   "cell_type": "code",
   "execution_count": null,
   "source": [
    "'2' + '2'"
   ],
   "outputs": [],
   "metadata": {}
  },
  {
   "cell_type": "code",
   "execution_count": null,
   "source": [
    "2.0 + 2.5"
   ],
   "outputs": [],
   "metadata": {}
  },
  {
   "cell_type": "code",
   "execution_count": null,
   "source": [
    "2 + 2.5"
   ],
   "outputs": [],
   "metadata": {}
  },
  {
   "cell_type": "code",
   "execution_count": null,
   "source": [
    "10 / 5"
   ],
   "outputs": [],
   "metadata": {}
  },
  {
   "cell_type": "code",
   "execution_count": null,
   "source": [
    "2 * 2"
   ],
   "outputs": [],
   "metadata": {}
  },
  {
   "cell_type": "code",
   "execution_count": null,
   "source": [
    "type(2 * 2.5)"
   ],
   "outputs": [],
   "metadata": {}
  },
  {
   "cell_type": "code",
   "execution_count": null,
   "source": [
    "float(2)"
   ],
   "outputs": [],
   "metadata": {}
  },
  {
   "cell_type": "code",
   "execution_count": null,
   "source": [
    "int(2.5)"
   ],
   "outputs": [],
   "metadata": {}
  },
  {
   "cell_type": "code",
   "execution_count": null,
   "source": [
    "str(3.14) + \" é o número Pi\""
   ],
   "outputs": [],
   "metadata": {}
  },
  {
   "cell_type": "code",
   "execution_count": null,
   "source": [
    "type(1 > 0)"
   ],
   "outputs": [],
   "metadata": {}
  },
  {
   "cell_type": "code",
   "execution_count": null,
   "source": [
    "bool(1)"
   ],
   "outputs": [],
   "metadata": {}
  },
  {
   "cell_type": "code",
   "execution_count": null,
   "source": [
    "bool(0)"
   ],
   "outputs": [],
   "metadata": {}
  },
  {
   "cell_type": "code",
   "execution_count": null,
   "source": [
    "bool(0)"
   ],
   "outputs": [],
   "metadata": {}
  },
  {
   "cell_type": "code",
   "execution_count": null,
   "source": [
    "1 > 0"
   ],
   "outputs": [],
   "metadata": {}
  },
  {
   "cell_type": "code",
   "execution_count": null,
   "source": [
    "1 < 0"
   ],
   "outputs": [],
   "metadata": {}
  },
  {
   "cell_type": "code",
   "execution_count": null,
   "source": [
    "1 == 1"
   ],
   "outputs": [],
   "metadata": {}
  },
  {
   "cell_type": "code",
   "execution_count": null,
   "source": [
    "1 != 0"
   ],
   "outputs": [],
   "metadata": {}
  },
  {
   "cell_type": "code",
   "execution_count": null,
   "source": [
    "1 >= 0"
   ],
   "outputs": [],
   "metadata": {}
  },
  {
   "cell_type": "code",
   "execution_count": null,
   "source": [
    "0 <= 1"
   ],
   "outputs": [],
   "metadata": {}
  },
  {
   "cell_type": "code",
   "execution_count": null,
   "source": [
    "'A' * 3"
   ],
   "outputs": [],
   "metadata": {}
  },
  {
   "cell_type": "code",
   "execution_count": null,
   "source": [
    "'A' * 3.0  # dá erro"
   ],
   "outputs": [],
   "metadata": {}
  },
  {
   "cell_type": "code",
   "execution_count": null,
   "source": [
    "['a', 'b', 'c'] * 3.0  # listas e strings são ambas 'sequências'"
   ],
   "outputs": [],
   "metadata": {}
  },
  {
   "cell_type": "code",
   "execution_count": null,
   "source": [
    "lista_com_varios_tipos = ['uma_string',\n",
    "                          42,\n",
    "                          3.14,\n",
    "                          ['outra_listra', 'outra_lista']\n",
    "                         ]  # no entanto, listas podem ter valores de qualquer tipo"
   ],
   "outputs": [],
   "metadata": {}
  },
  {
   "cell_type": "code",
   "execution_count": null,
   "source": [
    "frutas = ['maçã', 'laranja', 'banana']\n",
    "palavra = 'amendoim'"
   ],
   "outputs": [],
   "metadata": {}
  },
  {
   "cell_type": "code",
   "execution_count": null,
   "source": [
    "for fruta in frutas:\n",
    "    print(fruta)"
   ],
   "outputs": [],
   "metadata": {}
  },
  {
   "cell_type": "code",
   "execution_count": null,
   "source": [
    "for letra in palavra:\n",
    "    print(letra)"
   ],
   "outputs": [],
   "metadata": {}
  },
  {
   "cell_type": "code",
   "execution_count": null,
   "source": [
    "print(frutas[0] == 'maçã')\n",
    "print(palavra[0] == 'a')"
   ],
   "outputs": [],
   "metadata": {}
  },
  {
   "cell_type": "markdown",
   "source": [
    "### Encontro 2 - 06 de julho de 2021\n",
    "\n",
    "### Estudo\n",
    "* Exercícios HackerRank\n",
    "* Funções embutidas\n",
    "    * `len()`\n",
    "    * `max()`\n",
    "    * `min()`\n",
    "    * `range()`\n",
    "    * `help()`\n",
    "* Condicionais\n",
    "* Bibliotecas\n",
    "    * `time`\n",
    "* Site [QuantConnect](http://quantconnect.com)\n",
    "    * Cloud com dados\n",
    "\n",
    "### Conteúdo\n",
    "* Funções\n",
    "    * **Para que servem funções?** Para abstrair tarefas dentro do nosso programa, assim evitando a duplicação de informação.\n",
    "* Bibliotecas\n",
    "    * Três formas de importar bibliotecas\n",
    "        * Lib inteira `import math`\n",
    "        * Funções específicas `from math import cos, pi`\n",
    "        * Com atalho `import math as m`\n",
    "* Pedindo ajuda\n",
    "    * Três formas diferentes\n",
    "        * Com a função embutida `help(funcao)`\n",
    "        * `funcao?` -> mostra a docstring\n",
    "        * `funcao??` -> mostra docstring + código fonte\n",
    "    * Usando a tecla TAB\n",
    "* Zen do Python\n",
    "    * Filosofia por trás da linguagem com princípios para escrever código bonito/Pythonico\n",
    "    * `import this`\n",
    "    \n",
    "### Homework\n",
    "\n",
    "Usando o módulo `math` e dado uma esfera de raio `r`, criar funções para:\n",
    "- determinar a circunferência\n",
    "- determinar a área\n",
    "- determinar o volume\n",
    "- imprimir todas essas informações"
   ],
   "metadata": {}
  },
  {
   "cell_type": "markdown",
   "source": [
    "#### Exemplo de função\n",
    "\n",
    "Quero escrever uma função que diz se um ano é bissexto ou não.\n",
    "\n",
    "Um ano é bissexto se:\n",
    " - é divisível por 4, a não ser que\n",
    " - seja divisível por 100, a não ser que seja divisível por 400\n",
    " \n",
    "**Entrada:** um ano (`int`)  \n",
    "**O que faz:** faz as operações para determinar se o ano é bissexto  \n",
    "**Saída:** `bool`"
   ],
   "metadata": {}
  },
  {
   "cell_type": "code",
   "execution_count": null,
   "source": [
    "import this"
   ],
   "outputs": [],
   "metadata": {}
  },
  {
   "cell_type": "code",
   "execution_count": null,
   "source": [
    "def calcular_bissexto(ano):\n",
    "    \"\"\"\n",
    "    Calcula se um ano é bissexto ou não.\n",
    "    \n",
    "    args:\n",
    "        ano -> ano dado como inteiro (int)\n",
    "        \n",
    "    retorna:\n",
    "        bool -> se o ano é bissexto (True) ou não (False)\n",
    "    \"\"\"\n",
    "    divisivel_por_4 = ano % 4 == 0  # bool\n",
    "    divisivel_por_100 = ano % 100 == 0  # bool\n",
    "    divisivel_por_400 = ano % 400 == 0  # bool\n",
    "    \n",
    "    bissexto = divisivel_por_4 and (divisivel_por_400 or not divisivel_por_100)\n",
    "    return bissexto"
   ],
   "outputs": [],
   "metadata": {}
  },
  {
   "cell_type": "code",
   "execution_count": null,
   "source": [
    "def assar_bolo(farinha, ovos, acucar, tempo_de_forno):\n",
    "    massa = farinha + ovos + acucar\n",
    "    bolo = Forno.assar(massa, tempo_de_forno)\n",
    "    \n",
    "    return bolo"
   ],
   "outputs": [],
   "metadata": {}
  },
  {
   "cell_type": "code",
   "execution_count": null,
   "source": [
    "import math  # importa a lib inteira (acessar com math.)\n",
    "from math import cos, pi  # importo funções específicas\n",
    "import math as m  # como atalho"
   ],
   "outputs": [],
   "metadata": {}
  },
  {
   "cell_type": "markdown",
   "source": [
    "### Encontro 3 - 07 de julho de 2021\n",
    "\n",
    "- Observações homework\n",
    "    - Cuidar com o nome das funções (para não sobreescrever)\n",
    "        - Dar nomes descritivos, colocar docstring\n",
    "    - Observar parâmetros de entrada -> `def calcular_area(raio)` recebe o valor de `raio` como entrada\n",
    "    - Observar parâmetros de saída -> `return round(circunferencia, 2)` retorna a circunferência arredondada em duas casas\n",
    "    - Diferença entre definir e chamar a função\n",
    "- Aprofundamento de funções\n",
    "    - Escopo da função -> variáveis só existem no corpo da função\n",
    "    \n",
    "### Encontro que vem\n",
    "- Listas\n",
    "- Loops\n",
    "- Condicionais"
   ],
   "metadata": {}
  },
  {
   "cell_type": "code",
   "execution_count": null,
   "source": [
    "from math import pi\n",
    "\n",
    "\n",
    "def calcular_circunferencia(raio):\n",
    "    \"\"\"\n",
    "    Calcula a circunferência de um círculo a partir do raio.\n",
    "    \"\"\"\n",
    "    circunferencia = 2 * pi * raio\n",
    "    return round(circunferencia, 2)\n",
    "\n",
    "\n",
    "def calcular_area(raio):\n",
    "    \"\"\"\n",
    "    Calcula a área de superfície da esfera a partir do raio.\n",
    "    \"\"\"\n",
    "    area = 4 * pi * (raio ** 2)\n",
    "    return round(area, 2)\n",
    "\n",
    "\n",
    "def calcular_volume(raio):\n",
    "    \"\"\"\n",
    "    Calcula o volume da esfera a partir do raio.      \n",
    "    \"\"\"\n",
    "    volume = 4/3 * pi * (raio ** 3)\n",
    "    return round(volume, 2)\n",
    "\n",
    "\n",
    "def calcular_estatisticas_esfera(raio):\n",
    "    \"\"\"\n",
    "    Calcula a circunferência, área de superfície e volume de\n",
    "    uma esfera a partir do raio.\n",
    "    \"\"\"\n",
    "    circunferencia = calcular_circunferencia(raio)\n",
    "    area = calcular_area(raio)\n",
    "    volume = calcular_volume(raio)\n",
    "    \n",
    "    print(\"O raio é\", raio)\n",
    "    print(\"A sua circunferência é\", circunferencia)\n",
    "    print(\"A área é\", area)\n",
    "    print(\"O volume é\", volume)\n",
    "    \n",
    "    return circunferencia, area, volume"
   ],
   "outputs": [],
   "metadata": {}
  },
  {
   "cell_type": "code",
   "execution_count": null,
   "source": [
    "raio = int(input(\"Dê o tamanho do raio: \"))\n",
    "calcular_estatisticas_esfera(raio)"
   ],
   "outputs": [],
   "metadata": {}
  },
  {
   "cell_type": "code",
   "execution_count": null,
   "source": [
    "raio = 5.5\n",
    "calcular_circunferencia(raio)"
   ],
   "outputs": [],
   "metadata": {}
  },
  {
   "cell_type": "code",
   "execution_count": null,
   "source": [
    "def imprime_e_retorna_algo(algo):\n",
    "    print(\"O valor de algo é\", algo)\n",
    "    return algo"
   ],
   "outputs": [],
   "metadata": {}
  },
  {
   "cell_type": "code",
   "execution_count": null,
   "source": [
    "resultado = imprime_e_retorna_algo(10)"
   ],
   "outputs": [],
   "metadata": {}
  },
  {
   "cell_type": "code",
   "execution_count": null,
   "source": [
    "def elevar_a_potencia(valor, expoente):\n",
    "    return valor ** expoente"
   ],
   "outputs": [],
   "metadata": {}
  },
  {
   "cell_type": "code",
   "execution_count": null,
   "source": [
    "elevar_a_potencia(2, 3)"
   ],
   "outputs": [],
   "metadata": {}
  },
  {
   "cell_type": "code",
   "execution_count": null,
   "source": [
    "elevar_a_potencia = lambda valor, expoente: valor ** expoente"
   ],
   "outputs": [],
   "metadata": {}
  },
  {
   "cell_type": "code",
   "execution_count": null,
   "source": [
    "elevar_a_potencia(2, 3)"
   ],
   "outputs": [],
   "metadata": {}
  },
  {
   "cell_type": "markdown",
   "source": [
    "### Listas\n",
    "\n",
    "- Sequência (coleção de valores ordenados) de valores de qualquer tipo\n",
    "- Mutável (posso modificar, acrescentar ou retirar valores)\n",
    "    - Diferente de tuplas, que são imutáveis\n",
    "    \n",
    "#### Em seguida: métodos de listas e strings + strings como sequências"
   ],
   "metadata": {}
  },
  {
   "cell_type": "code",
   "execution_count": null,
   "source": [
    "lista = ['a', 0, 'b', 1, 'c', 3.0, True]"
   ],
   "outputs": [],
   "metadata": {}
  },
  {
   "cell_type": "code",
   "execution_count": null,
   "source": [
    "# tamanho da lista\n",
    "len(lista)\n",
    "\n",
    "# indexando\n",
    "lista[0]\n",
    "lista[-1]\n",
    "\n",
    "# fatiando\n",
    "lista[1:]\n",
    "lista[:3]"
   ],
   "outputs": [],
   "metadata": {}
  },
  {
   "cell_type": "code",
   "execution_count": null,
   "source": [
    "# sintaxe das fatias\n",
    "inicio = 0\n",
    "fim = 8\n",
    "step = 2\n",
    "lista[inicio:fim]\n",
    "lista[inicio:fim:step]"
   ],
   "outputs": [],
   "metadata": {}
  },
  {
   "cell_type": "code",
   "execution_count": null,
   "source": [
    "lista = ['a', 0, 'b', 1, 'c', 2]\n",
    "letras, numeros = lista[::2], lista[1::2]"
   ],
   "outputs": [],
   "metadata": {}
  },
  {
   "cell_type": "code",
   "execution_count": null,
   "source": [
    "lista[::-1]"
   ],
   "outputs": [],
   "metadata": {}
  },
  {
   "cell_type": "code",
   "execution_count": null,
   "source": [
    "# listas tentam lidar com fatias da melhor forma\n",
    "lista[3:757]\n",
    "\n",
    "# o mesmo não acontece para itens individuais\n",
    "lista[757]"
   ],
   "outputs": [],
   "metadata": {}
  },
  {
   "cell_type": "code",
   "execution_count": null,
   "source": [
    "locality = \"Sydney/NSW\"\n",
    "state = locality[-3:]"
   ],
   "outputs": [],
   "metadata": {}
  },
  {
   "cell_type": "markdown",
   "source": [
    "### Homework\n",
    "\n",
    "Escreva uma função que, dada uma string representando um tempo no formato `\"HH:MM:SS\"`, retornar o número total de segundos.\n",
    "\n",
    "Exemplo: `\"01:00:00\"` retorna `3600`.\n",
    "\n",
    "Bônus = fazer uma versão alternativa que retorna o dia em formato de fração. \n",
    "\n",
    "Exemplo: `\"12:00:00\"` retorna `0.5`"
   ],
   "metadata": {}
  },
  {
   "cell_type": "markdown",
   "source": [
    "### Encontro 3 - 08 de julho de 2021\n",
    "\n",
    "* Uso do Git e GitHub\n",
    "    * Criando um fork\n",
    "    * Adicionando um remote\n",
    "    * `git add` e `git commit`\n",
    "    * `git push <nome-do-remote>`\n",
    "* Métodos de listas e strings\n",
    "- **Métodos:** funções próprios de um determinado **tipo** (`str`, `int`, `list`, etc)\n",
    "- `obj.` + `TAB`: métodos disponíveis no objeto\n",
    "- `Shift` + `TAB`: help interativo\n",
    "\n",
    "### Homework\n",
    "- Completar a função abaixo\n",
    "- Explorar métodos de listas e strings\n",
    "\n",
    "### Próximo encontro\n",
    "- For loops\n",
    "- Condicionais"
   ],
   "metadata": {}
  },
  {
   "cell_type": "code",
   "execution_count": null,
   "source": [
    "# Home work\n",
    "def get_capital_and_state(locality):\n",
    "    \"\"\"\n",
    "    Splits 'locality' into capital and state.\n",
    "    \"\"\"\n",
    "    # Preencha usando o split\n",
    "    \n",
    "    return capital, state"
   ],
   "outputs": [],
   "metadata": {}
  },
  {
   "cell_type": "code",
   "execution_count": null,
   "source": [
    "lista = ['a', 0, 'b', 1, 'c', 2]\n",
    "locality = \"Sydney/NSW\"\n",
    "state = locality[-3:]"
   ],
   "outputs": [],
   "metadata": {}
  },
  {
   "cell_type": "code",
   "execution_count": null,
   "source": [
    "capitals = [\"Sydney/NSW\",\n",
    "            \"Melbourne/VIC\",\n",
    "            \"Perth/WA\",\n",
    "            \"Darwin/NT\",\n",
    "            \"Adelaide/SA\",\n",
    "            \"Brisbane/QLD\",\n",
    "            \"Canberra/ACT\"]"
   ],
   "outputs": [],
   "metadata": {}
  },
  {
   "cell_type": "code",
   "execution_count": null,
   "source": [],
   "outputs": [],
   "metadata": {}
  },
  {
   "cell_type": "code",
   "execution_count": null,
   "source": [
    "get_capital_and_state(capitals[2])"
   ],
   "outputs": [],
   "metadata": {}
  },
  {
   "cell_type": "code",
   "execution_count": null,
   "source": [
    "nsw = \"Sydney/NSW\""
   ],
   "outputs": [],
   "metadata": {}
  },
  {
   "cell_type": "code",
   "execution_count": null,
   "source": [
    "nsw.split(\"/\")"
   ],
   "outputs": [],
   "metadata": {}
  },
  {
   "cell_type": "code",
   "execution_count": null,
   "source": [
    "cidade = \"Florianópolis SC           Brasil\""
   ],
   "outputs": [],
   "metadata": {}
  },
  {
   "cell_type": "code",
   "execution_count": null,
   "source": [
    "cidade.split()"
   ],
   "outputs": [],
   "metadata": {}
  },
  {
   "cell_type": "code",
   "execution_count": null,
   "source": [
    "capitals.append(\"Hobart/TAS\")"
   ],
   "outputs": [],
   "metadata": {}
  },
  {
   "cell_type": "code",
   "execution_count": null,
   "source": [
    "capitals.pop()"
   ],
   "outputs": [],
   "metadata": {}
  },
  {
   "cell_type": "code",
   "execution_count": null,
   "source": [
    "capitals"
   ],
   "outputs": [],
   "metadata": {}
  },
  {
   "cell_type": "code",
   "execution_count": null,
   "source": [
    "for city in capitals:\n",
    "    print(city)"
   ],
   "outputs": [],
   "metadata": {}
  },
  {
   "cell_type": "code",
   "execution_count": null,
   "source": [
    "for letra in nsw:\n",
    "    # corpo do loop\n",
    "    print(letra)"
   ],
   "outputs": [],
   "metadata": {}
  },
  {
   "cell_type": "code",
   "execution_count": null,
   "source": [
    "for letra in nsw:\n",
    "    print(character)"
   ],
   "outputs": [],
   "metadata": {}
  },
  {
   "cell_type": "markdown",
   "source": [
    "### Encontro 4 - 13 de julho de 2021\n",
    "\n",
    "- Revisão funções, listas e strings\n",
    "- Praticando funções e loops\n",
    "\n",
    "\n",
    "### Aula que vem\n",
    "- Condicionais"
   ],
   "metadata": {}
  },
  {
   "cell_type": "code",
   "execution_count": null,
   "source": [
    "capitals = [\"Sydney/NSW\",\n",
    "            \"Melbourne/VIC\",\n",
    "            \"Perth/WA\",\n",
    "            \"Darwin/NT\",\n",
    "            \"Adelaide/SA\",\n",
    "            \"Brisbane/QLD\",\n",
    "            \"Canberra/ACT\",\n",
    "            \"Hobart/TAS\"\n",
    "           ]"
   ],
   "outputs": [],
   "metadata": {}
  },
  {
   "cell_type": "code",
   "execution_count": null,
   "source": [
    "def split_location(location):\n",
    "    \"\"\"\n",
    "    Splits location into [city, state] by the '/' character.\n",
    "    \n",
    "    args:\n",
    "        location -> string in the format city/STATE, e.g. 'Hobart/TAS'\n",
    "        \n",
    "    return:\n",
    "        list with [city, state]\n",
    "    \"\"\"\n",
    "    city_state = location.split(\"/\")\n",
    "    return city_state"
   ],
   "outputs": [],
   "metadata": {}
  },
  {
   "cell_type": "code",
   "execution_count": null,
   "source": [
    "split_location(\"Rio de Janeiro - RJ\")"
   ],
   "outputs": [],
   "metadata": {}
  },
  {
   "cell_type": "code",
   "execution_count": null,
   "source": [
    "for location in capitals:\n",
    "    lista = split_location(location)\n",
    "    print(lista)"
   ],
   "outputs": [],
   "metadata": {}
  },
  {
   "cell_type": "code",
   "execution_count": null,
   "source": [
    "def split_locations_list(locations_list):\n",
    "    \"\"\"\n",
    "    Docstring.\n",
    "    \"\"\"\n",
    "    split_locations_list = []\n",
    "    for location in locations_list:\n",
    "        split_locations_list.append(split_location(location))\n",
    "        \n",
    "    return split_locations_list"
   ],
   "outputs": [],
   "metadata": {}
  },
  {
   "cell_type": "code",
   "execution_count": null,
   "source": [
    "split_locations_list(capitals)"
   ],
   "outputs": [],
   "metadata": {}
  },
  {
   "cell_type": "code",
   "execution_count": null,
   "source": [
    "brazil_capitals = [\"Rio de Janeiro/RJ\", \"Florianópolis/SC\", \"Belo Horizonte/MG\"]"
   ],
   "outputs": [],
   "metadata": {}
  },
  {
   "cell_type": "code",
   "execution_count": null,
   "source": [
    "split_locations_list(brazil_capitals)"
   ],
   "outputs": [],
   "metadata": {}
  },
  {
   "cell_type": "code",
   "execution_count": null,
   "source": [
    "def imprimir_algo(numero):\n",
    "    print(numero + 10)"
   ],
   "outputs": [],
   "metadata": {}
  },
  {
   "cell_type": "code",
   "execution_count": null,
   "source": [
    "capitals = [\"Sydney/NSW\",\n",
    "            \"Melbourne/VIC\",\n",
    "            \"Perth/WA\",\n",
    "            \"Darwin/NT\",\n",
    "            \"Adelaide/SA\",\n",
    "            \"Brisbane/QLD\",\n",
    "            \"Canberra/ACT\",\n",
    "            \"Hobart/TAS\"\n",
    "           ]"
   ],
   "outputs": [],
   "metadata": {}
  },
  {
   "cell_type": "markdown",
   "source": [
    "### Desafio\n",
    "\n",
    "A partir da lista `capitals`, criar uma lista só com os estados."
   ],
   "metadata": {}
  },
  {
   "cell_type": "code",
   "execution_count": null,
   "source": [
    "states_list = []\n",
    "cities_list = []\n",
    "for location in capitals:\n",
    "    city_state_split = location.split(\"/\")\n",
    "    city = city_state_split[0]\n",
    "    state = city_state_split[1]\n",
    "    cities_list.append(city)\n",
    "    states_list.append(state)"
   ],
   "outputs": [],
   "metadata": {}
  },
  {
   "cell_type": "code",
   "execution_count": null,
   "source": [
    "states_list, cities_list = [], []\n",
    "for location in capitals:\n",
    "    city, state = location.split(\"/\")\n",
    "    cities_list.append(city)\n",
    "    states_list.append(state)"
   ],
   "outputs": [],
   "metadata": {}
  },
  {
   "cell_type": "code",
   "execution_count": null,
   "source": [
    "peso = 100\n",
    "\n",
    "if peso > 80:\n",
    "    print(peso, \"kg é pesado\")"
   ],
   "outputs": [],
   "metadata": {}
  },
  {
   "cell_type": "code",
   "execution_count": null,
   "source": [
    "pesos = [100, 80, 60, 120, 56]\n",
    "\n",
    "for p in pesos:\n",
    "    if p > 70:\n",
    "        print(p, \"kg é pesado\")"
   ],
   "outputs": [],
   "metadata": {}
  },
  {
   "cell_type": "code",
   "execution_count": null,
   "source": [
    "p = 10`"
   ],
   "outputs": [],
   "metadata": {}
  },
  {
   "cell_type": "markdown",
   "source": [
    "### Encontro 5 - 14 de julho de 2021\n",
    "\n",
    "* Condicionais"
   ],
   "metadata": {}
  },
  {
   "cell_type": "code",
   "execution_count": null,
   "source": [
    "velocidades = [50, 100, 20, 30, 40, -20]\n",
    "\n",
    "# Sempre tenho um 'if'\n",
    "for v in velocidades:\n",
    "    if v > 50:\n",
    "        print(\"Objeto rápido!\")\n",
    "        \n",
    "    # Posso ter um ou mais elif\n",
    "    elif 20 < v <= 50:\n",
    "        print(\"Objeto em velocidade OK.\")\n",
    "    elif v < 0:\n",
    "        print(\"Andando para trás!\")\n",
    "    \n",
    "    # Posso ter um else para todos os outros casos\n",
    "    else:\n",
    "        print(\"Objeto lento.\")"
   ],
   "outputs": [],
   "metadata": {}
  },
  {
   "cell_type": "code",
   "execution_count": null,
   "source": [
    "# A ordem das condicionais importa\n",
    "nota = 100\n",
    "\n",
    "if nota >= 70:\n",
    "    print(\"Nota C\")  \n",
    "elif nota >= 80:\n",
    "    print(\"Nota B\")\n",
    "elif nota >= 90:\n",
    "    print(\"Nota A\")\n",
    "else:\n",
    "    print(\"Nota insuficiente.\")"
   ],
   "outputs": [],
   "metadata": {}
  },
  {
   "cell_type": "code",
   "execution_count": null,
   "source": [
    "for i in range(5):\n",
    "    print(i+1)"
   ],
   "outputs": [],
   "metadata": {}
  },
  {
   "cell_type": "code",
   "execution_count": null,
   "source": [
    "# Condicionais que modificam variáveis\n",
    "velocidade = 10.0\n",
    "\n",
    "for i in range(5):  # executo o loop 5x\n",
    "    print(i, ':', velocidade)\n",
    "    if velocidade > 20.0:\n",
    "        print('Muito rápido!')\n",
    "        velocidade = velocidade - 5.0\n",
    "    else:\n",
    "        print('Muito lento!')\n",
    "        velocidade = velocidade + 10.0\n",
    "        \n",
    "print('Velocidade final:', velocidade)"
   ],
   "outputs": [],
   "metadata": {}
  },
  {
   "cell_type": "code",
   "execution_count": null,
   "source": [
    "pressao = 72.9\n",
    "\n",
    "if pressao > 50.0:\n",
    "    pressao = 25.0\n",
    "elif pressao <= 50.0:\n",
    "    pressao = 0.0\n",
    "    \n",
    "print(pressao)"
   ],
   "outputs": [],
   "metadata": {}
  },
  {
   "cell_type": "code",
   "execution_count": null,
   "source": [
    "# Preencher \n",
    "original = [-1.5, 0.2, 0.42, -1, -0.75, 0.3]\n",
    "resultado = ___\n",
    "\n",
    "for value in original:\n",
    "    if ___:\n",
    "        resultado.append(0)\n",
    "    else:\n",
    "        ___\n",
    "        \n",
    "print(resultado)"
   ],
   "outputs": [],
   "metadata": {}
  },
  {
   "cell_type": "code",
   "execution_count": null,
   "source": [
    "# Saída esperada\n",
    "[0, 1, 1, 0, 0, 1]"
   ],
   "outputs": [],
   "metadata": {}
  },
  {
   "cell_type": "code",
   "execution_count": null,
   "source": [
    "lista = ['a', 'b', 'c']\n",
    "\n",
    "# Variável acumuladora\n",
    "ix = 0\n",
    "for value in lista:\n",
    "    value = lista[ix]\n",
    "    print(value)\n",
    "    ix += 1  # equivalente a `ix = ix + 1`"
   ],
   "outputs": [],
   "metadata": {}
  },
  {
   "cell_type": "code",
   "execution_count": null,
   "source": [
    "frutas = ['Banana',\n",
    "          'Uva',\n",
    "          'Coco',\n",
    "          'Kiwi',\n",
    "          'Melancia',\n",
    "          'Abacate']\n",
    "\n",
    "for f in frutas:\n",
    "    if f[-1] == 'a' or len(f) < 5:\n",
    "        print(f, 'é uma fruta que termina em \"a\".')\n",
    "    elif f[-1] != 'a':\n",
    "        print(f, 'não termina em \"a\".')\n",
    "    else:\n",
    "        print(f, 'não atendeu nenhuma condição.')"
   ],
   "outputs": [],
   "metadata": {}
  },
  {
   "cell_type": "code",
   "execution_count": null,
   "source": [
    "frutas = ['Coco',\n",
    "          'Kiwi',\n",
    "          'Pêssego',\n",
    "          'Umbu',\n",
    "          'Figo',\n",
    "          'Abacate',\n",
    "          'Banana'\n",
    "         ]\n",
    "\n",
    "# imprimir frutas sem a letra 'a'\n",
    "for f in frutas:\n",
    "    if 'a' not in f:  # Dá na mesma que `if not 'a' in f`\n",
    "        print(f, 'não tem a letra \"a\".')\n",
    "    else:\n",
    "        print(f, 'tem a letra \"a\".')"
   ],
   "outputs": [],
   "metadata": {}
  },
  {
   "cell_type": "code",
   "execution_count": null,
   "source": [
    "print('Coco' in frutas)\n",
    "print('Morango' in frutas)\n",
    "print('Morango' not in frutas)"
   ],
   "outputs": [],
   "metadata": {}
  },
  {
   "cell_type": "code",
   "execution_count": null,
   "source": [
    "print(1 > 0)\n",
    "print(2 == 2)\n",
    "print('a' in 'Banana')\n",
    "print('a' in 'Côco')"
   ],
   "outputs": [],
   "metadata": {}
  },
  {
   "cell_type": "code",
   "execution_count": null,
   "source": [
    "if not False:\n",
    "    print(\"Verdadeiro\")\n",
    "else:\n",
    "    print(\"Falso\")"
   ],
   "outputs": [],
   "metadata": {}
  },
  {
   "cell_type": "code",
   "execution_count": null,
   "source": [
    "not True or not False"
   ],
   "outputs": [],
   "metadata": {}
  },
  {
   "cell_type": "markdown",
   "source": [
    "### Encontro 6\n",
    "- Dependências\n",
    "    - Ambientes Conda\n",
    "    - Usando ambientes Conda dentro do Jupyter\n",
    "- Introdução ao Pandas\n",
    "    - Importar a planilha\n",
    "    - Selecionar dados"
   ],
   "metadata": {}
  },
  {
   "cell_type": "code",
   "execution_count": null,
   "source": [
    "import pandas as pd"
   ],
   "outputs": [],
   "metadata": {}
  },
  {
   "cell_type": "code",
   "execution_count": null,
   "source": [
    "df = pd.read_excel(\"ANZ synthesised transaction dataset.xlsx\")"
   ],
   "outputs": [],
   "metadata": {}
  },
  {
   "cell_type": "code",
   "execution_count": null,
   "source": [
    "type(df)"
   ],
   "outputs": [],
   "metadata": {}
  },
  {
   "cell_type": "code",
   "execution_count": null,
   "source": [
    "# Inspecionar as N primeiras linhas\n",
    "df.head()"
   ],
   "outputs": [],
   "metadata": {}
  },
  {
   "cell_type": "code",
   "execution_count": null,
   "source": [
    "df.tail()"
   ],
   "outputs": [],
   "metadata": {}
  },
  {
   "cell_type": "code",
   "execution_count": null,
   "source": [
    "df.info()"
   ],
   "outputs": [],
   "metadata": {}
  },
  {
   "cell_type": "code",
   "execution_count": null,
   "source": [
    "df.columns"
   ],
   "outputs": [],
   "metadata": {}
  },
  {
   "cell_type": "code",
   "execution_count": null,
   "source": [
    "df.index"
   ],
   "outputs": [],
   "metadata": {}
  },
  {
   "cell_type": "code",
   "execution_count": null,
   "source": [
    "df.head()"
   ],
   "outputs": [],
   "metadata": {}
  },
  {
   "cell_type": "code",
   "execution_count": null,
   "source": [
    "amount = df['amount']"
   ],
   "outputs": [],
   "metadata": {}
  },
  {
   "cell_type": "code",
   "execution_count": null,
   "source": [
    "type(amount)"
   ],
   "outputs": [],
   "metadata": {}
  },
  {
   "cell_type": "code",
   "execution_count": null,
   "source": [
    "df['amount']"
   ],
   "outputs": [],
   "metadata": {}
  },
  {
   "cell_type": "code",
   "execution_count": null,
   "source": [
    "df.head()"
   ],
   "outputs": [],
   "metadata": {}
  },
  {
   "cell_type": "code",
   "execution_count": null,
   "source": [
    "# .iloc seleciona pela posição numérica\n",
    "df.iloc[1, 3]"
   ],
   "outputs": [],
   "metadata": {}
  },
  {
   "cell_type": "code",
   "execution_count": null,
   "source": [
    "# .loc seleciona pelo NOME da linha/coluna\n",
    "df.loc[0, 'amount']"
   ],
   "outputs": [],
   "metadata": {}
  },
  {
   "cell_type": "markdown",
   "source": [
    "### Semana que vem\n",
    "- Explorar mais as fatias com `.loc` e `.iloc`\n",
    "- Explorar outros métodos do `DataFrame`\n",
    "\n",
    "### Exercício\n",
    "- Tente selecionar múltiplas linhas/colunas\n",
    "    - Tanto \"ranges\" quanto conjuntos específicos\n",
    "    \n",
    "## Encontro 7 - 20 de julho de 2021\n",
    "- Explorando o objeto `DataFrame`\n",
    "    - `.loc` e `.iloc`\n",
    "        - Diferentes consultas retornam objetos diferentes\n",
    "    - Condicionais"
   ],
   "metadata": {}
  },
  {
   "cell_type": "code",
   "execution_count": null,
   "source": [
    "import pandas as pd"
   ],
   "outputs": [],
   "metadata": {}
  },
  {
   "cell_type": "code",
   "execution_count": null,
   "source": [
    "df = pd.read_excel(\"ANZ synthesised transaction dataset.xlsx\")"
   ],
   "outputs": [],
   "metadata": {}
  },
  {
   "cell_type": "code",
   "execution_count": null,
   "source": [
    "# Ponto\n",
    "type(df.loc[0, 'amount'])"
   ],
   "outputs": [],
   "metadata": {}
  },
  {
   "cell_type": "code",
   "execution_count": null,
   "source": [
    "# 'Linha' ou vetor\n",
    "type(df.iloc[:5, 17])"
   ],
   "outputs": [],
   "metadata": {}
  },
  {
   "cell_type": "code",
   "execution_count": null,
   "source": [
    "# 'Plano' ou objeto 2D (DataFrame)\n",
    "type(df.iloc[:4, [17, 21]])"
   ],
   "outputs": [],
   "metadata": {}
  },
  {
   "cell_type": "code",
   "execution_count": null,
   "source": [
    "df.iloc[0, :5]"
   ],
   "outputs": [],
   "metadata": {}
  },
  {
   "cell_type": "code",
   "execution_count": null,
   "source": [
    "df.iloc[[0], :5]"
   ],
   "outputs": [],
   "metadata": {}
  },
  {
   "cell_type": "code",
   "execution_count": null,
   "source": [
    "df.iloc[[0], [0]]"
   ],
   "outputs": [],
   "metadata": {}
  },
  {
   "cell_type": "code",
   "execution_count": null,
   "source": [
    "# Intervalos: posso usar o ':'\n",
    "df.loc[:5, 'amount':'merchant_long_lat']"
   ],
   "outputs": [],
   "metadata": {}
  },
  {
   "cell_type": "code",
   "execution_count": null,
   "source": [
    "colunas_interesse = ['merchant_long_lat', 'amount']\n",
    "df.loc[:5, colunas_interesse]"
   ],
   "outputs": [],
   "metadata": {}
  },
  {
   "cell_type": "code",
   "execution_count": null,
   "source": [
    "# Quando quero colunas específicas, não preciso do loc/iloc\n",
    "df.loc[:, colunas_interesse]\n",
    "df[colunas_interesse]"
   ],
   "outputs": [],
   "metadata": {}
  },
  {
   "cell_type": "code",
   "execution_count": null,
   "source": [
    "# Posso usar a notação para reordenar\n",
    "colunas_reordenadas = [...]\n",
    "df = df[colunas_reordenadas]"
   ],
   "outputs": [],
   "metadata": {}
  },
  {
   "cell_type": "markdown",
   "source": [
    "### Condicionais"
   ],
   "metadata": {}
  },
  {
   "cell_type": "code",
   "execution_count": null,
   "source": [
    "# Python 'puro'\n",
    "rich_people = []\n",
    "for row in df:\n",
    "    if row['amount'] > 1000:\n",
    "        rich_people.append(row)"
   ],
   "outputs": [],
   "metadata": {}
  },
  {
   "cell_type": "code",
   "execution_count": null,
   "source": [
    "# Selecione todos os IDs de transações maiores que $1000\n",
    "df[df['amount'] > 1000]['transaction_id']\n",
    "\n",
    "# equivalente em SQL\n",
    "# SELECT 'transaction_id' FROM df WHERE amount > 1000;"
   ],
   "outputs": [],
   "metadata": {}
  },
  {
   "cell_type": "code",
   "execution_count": null,
   "source": [
    "df['status'].value_counts()"
   ],
   "outputs": [],
   "metadata": {}
  },
  {
   "cell_type": "code",
   "execution_count": null,
   "source": [
    "# Combinando diferentes condições\n",
    "cond1 = df['amount'] > 1000\n",
    "cond2 = df['status'] == 'authorized'\n",
    "df[cond1 & cond2].head()  # equivalente do Pandas de 'and'\n",
    "df[cond1 | cond2].head()  # equivalente do Pandas de 'or'"
   ],
   "outputs": [],
   "metadata": {}
  },
  {
   "cell_type": "code",
   "execution_count": null,
   "source": [
    "df[(df['amount'] < 50) | (df['merchant_state'] == 'NSW')].head()"
   ],
   "outputs": [],
   "metadata": {}
  },
  {
   "cell_type": "code",
   "execution_count": null,
   "source": [
    "df[~(df['merchant_state'] == 'NSW')]  # equivalente do Pandas de 'not'"
   ],
   "outputs": [],
   "metadata": {}
  },
  {
   "cell_type": "code",
   "execution_count": null,
   "source": [
    "df['txn_description'].value_counts()"
   ],
   "outputs": [],
   "metadata": {}
  },
  {
   "cell_type": "code",
   "execution_count": null,
   "source": [
    "cond1 = df['txn_description'] == 'PHONE BANK'\n",
    "cond2 = df['txn_description'] == 'INTER BANK'\n",
    "df[cond1 | cond2].head()"
   ],
   "outputs": [],
   "metadata": {}
  },
  {
   "cell_type": "code",
   "execution_count": null,
   "source": [
    "descriptions = [\"PHONE BANK\", \"INTER BANK\", \"POS\"]\n",
    "df[df['txn_description'].isin(descriptions)]"
   ],
   "outputs": [],
   "metadata": {}
  },
  {
   "cell_type": "markdown",
   "source": [
    "### Encontro 8 - 21 de julho 2021\n",
    "- Groupby - agrupando dados"
   ],
   "metadata": {}
  },
  {
   "cell_type": "code",
   "execution_count": null,
   "source": [
    "import pandas as pd\n",
    "from matplotlib import pyplot as plt"
   ],
   "outputs": [],
   "metadata": {}
  },
  {
   "cell_type": "code",
   "execution_count": null,
   "source": [
    "df = pd.read_excel(\"ANZ synthesised transaction dataset.xlsx\")"
   ],
   "outputs": [],
   "metadata": {}
  },
  {
   "cell_type": "code",
   "execution_count": null,
   "source": [
    "# Variáveis contínuas e categóricas\n",
    "ss = df[[\"amount\", \"merchant_state\"]] # <- ss quer dizer 'subset'"
   ],
   "outputs": [],
   "metadata": {}
  },
  {
   "cell_type": "code",
   "execution_count": null,
   "source": [
    "# 'value_counts' útil para variáveis categóricas\n",
    "ss[\"merchant_state\"].value_counts()"
   ],
   "outputs": [],
   "metadata": {}
  },
  {
   "cell_type": "code",
   "execution_count": null,
   "source": [
    "# 'describe' útil para variáveis contínuas\n",
    "ss[\"amount\"].describe()"
   ],
   "outputs": [],
   "metadata": {}
  },
  {
   "cell_type": "code",
   "execution_count": null,
   "source": [
    "# Método `hist` para 'olhar a cara' das distribuições\n",
    "ss[\"amount\"].hist(bins=100)\n",
    "plt.xlim(0, 1000)"
   ],
   "outputs": [],
   "metadata": {}
  },
  {
   "cell_type": "code",
   "execution_count": null,
   "source": [
    "gb = df.groupby(\"merchant_state\")  # <- 'gb' quer dizer GroupBy"
   ],
   "outputs": [],
   "metadata": {}
  },
  {
   "cell_type": "code",
   "execution_count": null,
   "source": [
    "gb.describe()['amount'].loc[:, 'mean']\n",
    "\n",
    "# é equivalente a:\n",
    "gb.mean()['amount']"
   ],
   "outputs": [],
   "metadata": {}
  },
  {
   "cell_type": "code",
   "execution_count": null,
   "source": [
    "df['status'].value_counts()"
   ],
   "outputs": [],
   "metadata": {}
  },
  {
   "cell_type": "code",
   "execution_count": null,
   "source": [
    "gb = df.groupby(['merchant_state',\n",
    "                 'txn_description']).sum()"
   ],
   "outputs": [],
   "metadata": {}
  },
  {
   "cell_type": "code",
   "execution_count": null,
   "source": [
    "gb"
   ],
   "outputs": [],
   "metadata": {}
  },
  {
   "cell_type": "markdown",
   "source": [
    "### Encontro 9 - 22 de julho de 2021\n",
    "\n",
    "- Merge, join e concatenate\n",
    "- **Merge** é o nome que o Pandas dá para um JOIN\n",
    "- [Explicação visual dos tipos de join](https://blog.codinghorror.com/a-visual-explanation-of-sql-joins/)\n",
    "\n",
    "Métodos Pandas\n",
    "- `idxmax()` e `idxmin()`: retornam o nome da linha (index) para o maior (no caso de max) ou menor valor\n",
    "- `.copy()` cria uma cópia do DataFrame, invés de só uma **view**\n",
    "- `.reset_index()` reseta o nome das linhas"
   ],
   "metadata": {}
  },
  {
   "cell_type": "code",
   "execution_count": null,
   "source": [
    "import pandas as pd"
   ],
   "outputs": [],
   "metadata": {}
  },
  {
   "cell_type": "code",
   "execution_count": null,
   "source": [
    "df = pd.read_excel(\"ANZ synthesised transaction dataset.xlsx\")"
   ],
   "outputs": [],
   "metadata": {}
  },
  {
   "cell_type": "code",
   "execution_count": null,
   "source": [
    "cond1 = df['status'] == 'authorized'\n",
    "cond2 = df['status'] == 'posted'\n",
    "auth = df[cond1].copy().reset_index(drop=True)\n",
    "post = df[cond2].copy().reset_index(drop=True)"
   ],
   "outputs": [],
   "metadata": {}
  },
  {
   "cell_type": "code",
   "execution_count": null,
   "source": [
    "# Concatenar ao longo das linhas\n",
    "df = pd.concat([auth, post], ignore_index=True)  # 'ignore_index' é similar ao 'reset_index'"
   ],
   "outputs": [],
   "metadata": {}
  },
  {
   "cell_type": "code",
   "execution_count": null,
   "source": [
    "# Concatenar ao longo das colunas\n",
    "pd.concat([df['amount'], df['merchant_state']], axis=1)"
   ],
   "outputs": [],
   "metadata": {}
  },
  {
   "cell_type": "markdown",
   "source": [
    "### JOINS (ou `merge` no Pandas)"
   ],
   "metadata": {}
  },
  {
   "cell_type": "code",
   "execution_count": null,
   "source": [
    "# Criando dois dataframes com uma coluna em comum\n",
    "df1 = df[['amount', 'transaction_id']]\n",
    "df2 = df[['transaction_id', 'customer_id']]\n",
    "\n",
    "# Embaralhando os dataframes\n",
    "df1 = df1.sample(frac=1).reset_index(drop=True)\n",
    "df2 = df2.sample(frac=1).reset_index(drop=True)"
   ],
   "outputs": [],
   "metadata": {}
  },
  {
   "cell_type": "code",
   "execution_count": null,
   "source": [
    "df1.merge(df2, on='transaction_id')"
   ],
   "outputs": [],
   "metadata": {}
  },
  {
   "cell_type": "markdown",
   "source": [
    "### Encontro 10 - 27 de julho de 2021\n",
    "\n",
    "* Conversa sobre stack científico Python e aplicações para finanças\n",
    "* Dicionários\n",
    "* Aula de Git: no Anaconda Prompt\n",
    "    * `git init` *\n",
    "    * `git status`\n",
    "    * `git diff`\n",
    "    * `git stash`\n",
    "    * `git pull`\n",
    "    * `git add` *\n",
    "    * `git commit` *\n",
    "    * `git push` *\n",
    "\n",
    "### Encontro 11 - 28 de julho de 2021\n",
    "\n",
    "* Evitar de versionar dados - incluir somente código no controle de versão\n",
    "* Revisão de conceitos do Git\n",
    "\n",
    "### Para amanhã\n",
    "Explicação do código em `ANZ_dataset.ipynb`"
   ],
   "metadata": {}
  },
  {
   "cell_type": "code",
   "execution_count": null,
   "source": [
    "import pandas as pd"
   ],
   "outputs": [],
   "metadata": {}
  },
  {
   "cell_type": "code",
   "execution_count": null,
   "source": [
    "df = pd.read_excel(\"ANZ synthesised transaction dataset.xlsx\")"
   ],
   "outputs": [],
   "metadata": {}
  },
  {
   "cell_type": "markdown",
   "source": [
    "### Perguntas\n",
    "\n",
    "Execute as seguintes consultas no Pandas:\n",
    "- Qual o valor médio das transações por gênero?\n",
    "- Qual o valor médio das transações por faixa etária?"
   ],
   "metadata": {}
  },
  {
   "cell_type": "code",
   "execution_count": null,
   "source": [
    "# Por gênero\n",
    "df.groupby(\"gender\").mean()"
   ],
   "outputs": [],
   "metadata": {}
  },
  {
   "cell_type": "code",
   "execution_count": null,
   "source": [
    "# Por faixa etária\n",
    "bins=[df['age'].min(), 20, 60, df['age'].max()]\n",
    "labels=['Jovem', 'Adulto', 'Idoso']\n",
    "df['age_group'] = pd.cut(df['age'], bins, labels=labels)\n",
    "df.groubpy(\"age_group\").mean()"
   ],
   "outputs": [],
   "metadata": {}
  },
  {
   "cell_type": "code",
   "execution_count": null,
   "source": [
    "df[\"age_group\"].value_counts()"
   ],
   "outputs": [],
   "metadata": {}
  },
  {
   "cell_type": "markdown",
   "source": [
    "### Encontro 12 - 29 de julho de 2021\n",
    "\n",
    "- Exame CQF\n",
    "- PyMC3\n",
    "- Latex no Jupyter\n",
    "- Operações rolling window\n",
    "\n",
    "### Encontro 13 - 3 de agosto de 2021\n",
    "\n",
    "- Continuação exame\n",
    "- Módulos SciPy\n",
    "\n",
    "```python\n",
    "from scipy.stats import norm\n",
    "from scipy.special import ndtri, ndtr\n",
    "```\n",
    "\n",
    "- Cálculo de breaches\n",
    "    - Breaches consecutivos\n",
    "- Revisão diferença `.loc` e `.iloc`\n",
    "\n",
    "\n",
    "### Encontro 14 - 4 de agosto de 2021\n",
    "\n",
    "- Continuação exame\n",
    "- Uso de dicionários para construir DataFrames\n",
    "- Selecionando e filtrando valores do DataFrame\n",
    "\n",
    "\n",
    "### Encontro 15 - 5 de agosto de 2021:\n",
    "- Anotação em gráfico de série temporal com `ax.annotate()`\n",
    "    - [Docs Matplotlib](https://matplotlib.org/stable/gallery/text_labels_and_annotations/annotation_demo.html)\n",
    "- Exportar PDF do notebook com LaTeX e Pandoc\n",
    "- Revisão outras questões exame\n",
    "\n",
    "### Encontro 16 - 9 de agosto de 2021\n",
    "- Revisão final exame CQF\n",
    "- Cálculo de log, uso da função `pd.Series.shift()`\n",
    "- Criar função `main()` para abstrair operações\n",
    "- [Matriz de covariância: `numpy.cov`](https://numpy.org/doc/stable/reference/generated/numpy.cov.html)\n",
    "\n",
    "### Encontro 17 - 10 de agosto de 2021\n",
    "- Exportando notebooks Jupyter\n",
    "- Cálculo de matrizes\n",
    "- Criar funções separadas para cálculo de *breaches* e plots\n",
    "\n",
    "\n",
    "### Encontro 18 - 11 de agosto de 2021\n",
    "- Notebooks x scripts Python\n",
    "- Uso do `plt.show()`\n",
    "- Comando `jupyter nbconvert`\n",
    "- Boas práticas para scripts\n",
    "    - Shebang: executável usado para rodar o script `#!/usr/env/bin python`\n",
    "    - Encoding: utf-8\n",
    "- Uso do `argparse`\n",
    "- Ideias de projeto\n",
    "    - Dashboards\n",
    "        - Streamlit\n",
    "        - Plotly\n",
    "    - VSCode\n",
    "    \n",
    "### Encontro 19 - 17 de agosto de 2021\n",
    "- Conversa sobre containers\n",
    "    - Docker\n",
    "    - Ambientes virtuais (*e.g.* `conda`)\n",
    "- Revisão geral\n",
    "- Início projeto Portfolio Management\n",
    "- Inicializando projeto no GitHub"
   ],
   "metadata": {}
  }
 ],
 "metadata": {
  "kernelspec": {
   "display_name": "Python [conda env:xlab]",
   "language": "python",
   "name": "conda-env-xlab-py"
  },
  "language_info": {
   "codemirror_mode": {
    "name": "ipython",
    "version": 3
   },
   "file_extension": ".py",
   "mimetype": "text/x-python",
   "name": "python",
   "nbconvert_exporter": "python",
   "pygments_lexer": "ipython3",
   "version": "3.9.2"
  }
 },
 "nbformat": 4,
 "nbformat_minor": 5
}