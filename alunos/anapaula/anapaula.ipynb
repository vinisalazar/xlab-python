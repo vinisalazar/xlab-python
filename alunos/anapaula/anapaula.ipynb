{
 "cells": [
  {
   "cell_type": "markdown",
   "id": "ead1c239",
   "metadata": {},
   "source": [
    "### Encontro 1 - 11 de junho de 2021\n",
    "* Controles básicos do Jupyter\n",
    "    * Modo de comando: `ESC`\n",
    "    * Criar célula: `A` ou `B`\n",
    "    * Deleter célula: `DD`\n",
    "* Exemplo: aplicação TM1\n",
    "    * [Biblioteca TM1py](https://code.cubewise.com/tm1py-overview)\n",
    "* Operadores aritméticos\n",
    "    * `+`\n",
    "    * `*`\n",
    "    * `-`\n",
    "    * `/`\n",
    "    * `%`  # módulo, ou resto de divisão\n",
    "    * `//`  # 'floor' division, maior número inteiro\n",
    "    * `**`\n",
    "* Tipos de dados\n",
    "    * **Tipos de dados determinam as operações**\n",
    "    * Numéricos: `float` e `int`\n",
    "    * Texto: `str`\n",
    "    * Posso verificar o tipo de dado com a função `type()`\n",
    "    * Os tipos básicos são tanto tipos, quanto funções embutidas para converter de um tipo em outro (ver abaixo)\n",
    "* Funções embutidas - [Docs do Python](https://docs.python.org/pt-br/3/library/functions.html)\n",
    "    * `print()`\n",
    "    * `type()`\n",
    "    * `int()`\n",
    "    * `str()`\n",
    "    * `float()`\n",
    "* Variáveis"
   ]
  },
  {
   "cell_type": "code",
   "execution_count": null,
   "id": "0d547c93",
   "metadata": {},
   "outputs": [],
   "source": [
    "2 + 2"
   ]
  },
  {
   "cell_type": "code",
   "execution_count": null,
   "id": "66b1aee5",
   "metadata": {},
   "outputs": [],
   "source": [
    "2 * 4"
   ]
  },
  {
   "cell_type": "code",
   "execution_count": null,
   "id": "9df8891f",
   "metadata": {},
   "outputs": [],
   "source": [
    "2 - 2"
   ]
  },
  {
   "cell_type": "code",
   "execution_count": null,
   "id": "b00bc6bc",
   "metadata": {},
   "outputs": [],
   "source": [
    "resultado = 10 / 4"
   ]
  },
  {
   "cell_type": "code",
   "execution_count": null,
   "id": "69de2417",
   "metadata": {},
   "outputs": [],
   "source": [
    "print(resultado)"
   ]
  },
  {
   "cell_type": "code",
   "execution_count": null,
   "id": "a0aa8950",
   "metadata": {},
   "outputs": [],
   "source": [
    "type(2.5)"
   ]
  },
  {
   "cell_type": "code",
   "execution_count": null,
   "id": "52171f12",
   "metadata": {},
   "outputs": [],
   "source": [
    "type(3)"
   ]
  },
  {
   "cell_type": "code",
   "execution_count": null,
   "id": "301bfcb5",
   "metadata": {},
   "outputs": [],
   "source": [
    "type(\"Vini\")"
   ]
  },
  {
   "cell_type": "code",
   "execution_count": null,
   "id": "42651faa",
   "metadata": {},
   "outputs": [],
   "source": [
    "nome = \"Vini\"\n",
    "print(nome)"
   ]
  },
  {
   "cell_type": "code",
   "execution_count": null,
   "id": "3ad1fffa",
   "metadata": {},
   "outputs": [],
   "source": [
    "print(\"Primeira linha\")\n",
    "print(\"Segunda linha\")\n",
    "print(10 / 4)\n",
    "print(\"Quarta linha\")"
   ]
  },
  {
   "cell_type": "code",
   "execution_count": null,
   "id": "9bf4dc7e",
   "metadata": {},
   "outputs": [],
   "source": [
    "resultado = 10 / 4\n",
    "print(\"Resultado é\", resultado)"
   ]
  },
  {
   "cell_type": "code",
   "execution_count": null,
   "id": "0e99858f",
   "metadata": {},
   "outputs": [],
   "source": [
    "resultado = print(10 / 4)\n",
    "print(\"Resultado é\", resultado)"
   ]
  },
  {
   "cell_type": "code",
   "execution_count": null,
   "id": "116c00ac",
   "metadata": {},
   "outputs": [],
   "source": [
    "print(10 / 4)"
   ]
  },
  {
   "cell_type": "code",
   "execution_count": null,
   "id": "b76265ff",
   "metadata": {},
   "outputs": [],
   "source": [
    "2 + 2"
   ]
  },
  {
   "cell_type": "code",
   "execution_count": null,
   "id": "33dc3d94",
   "metadata": {},
   "outputs": [],
   "source": [
    "\"2\" + \"2\""
   ]
  },
  {
   "cell_type": "code",
   "execution_count": null,
   "id": "dad92f50",
   "metadata": {},
   "outputs": [],
   "source": [
    "12.0 / 4.0"
   ]
  },
  {
   "cell_type": "code",
   "execution_count": null,
   "id": "a1151a3d",
   "metadata": {},
   "outputs": [],
   "source": [
    "print(\"DDD do Rio é\", 21)"
   ]
  },
  {
   "cell_type": "code",
   "execution_count": null,
   "id": "b49a20d8",
   "metadata": {},
   "outputs": [],
   "source": [
    "\"DDD do Rio é \" + str(21)"
   ]
  },
  {
   "cell_type": "code",
   "execution_count": null,
   "id": "dd26a0c6",
   "metadata": {},
   "outputs": [],
   "source": [
    "type(\"Vini\")"
   ]
  },
  {
   "cell_type": "code",
   "execution_count": null,
   "id": "c8908a8e",
   "metadata": {},
   "outputs": [],
   "source": [
    "int(2.5)"
   ]
  },
  {
   "cell_type": "code",
   "execution_count": null,
   "id": "9b24cf62",
   "metadata": {},
   "outputs": [],
   "source": [
    "float(\"2\")"
   ]
  },
  {
   "cell_type": "code",
   "execution_count": null,
   "id": "70e6fbbe",
   "metadata": {},
   "outputs": [],
   "source": [
    "str(10e-3)"
   ]
  },
  {
   "cell_type": "code",
   "execution_count": null,
   "id": "fa29be94",
   "metadata": {},
   "outputs": [],
   "source": [
    "\"abc \" * 3"
   ]
  },
  {
   "cell_type": "markdown",
   "id": "a1be5c79",
   "metadata": {},
   "source": [
    "### Encontro 2 - 18 de junho de 2021\n",
    "\n",
    "* Revisão da última aula\n",
    "* Funções embutidas\n",
    "    * `help()`\n",
    "        * Outras formas de chamar o help: com `?` ou `??`\n",
    "        * Para funções: Shift + TAB\n",
    "* Bibliotecas\n",
    "    * `math.` + TAB para olhar os objetos de uma biblioteca\n",
    "    * Diferentes formas de importar os objetos de uma biblioteca\n",
    "        * `import math`\n",
    "        * `from math import cos, pi`\n",
    "        * `import math as m`\n",
    "* Importar dados com o Pandas\n",
    "    * Função `pd.read_csv()`\n",
    "\n",
    "\n",
    "### Pontos-chave\n",
    "\n",
    "Como usar bibliotecas. Como ver a ajuda para a função/biblioteca. O que são DataFrames: **matrizes com nome nas linhas e nas colunas.**\n",
    "\n",
    "### Semana que vem\n",
    "* Explicação do `numpy` e `ndarray`\n",
    "* Filtrando e selecionando dados"
   ]
  },
  {
   "cell_type": "code",
   "execution_count": null,
   "id": "bb5fbbca",
   "metadata": {},
   "outputs": [],
   "source": [
    "# import math\n",
    "# from math import cos, pi\n",
    "# import math as m\n",
    "import pandas as pd"
   ]
  },
  {
   "cell_type": "code",
   "execution_count": null,
   "id": "c71c6352",
   "metadata": {},
   "outputs": [],
   "source": [
    "df = pd.read_csv('gapminder_all.csv', index_col='country')"
   ]
  },
  {
   "cell_type": "code",
   "execution_count": null,
   "id": "e545b2ab",
   "metadata": {},
   "outputs": [],
   "source": [
    "# type(df.index)\n",
    "# type(df.index)\n",
    "type(df.values)"
   ]
  },
  {
   "cell_type": "code",
   "execution_count": null,
   "id": "3a75c1c2",
   "metadata": {},
   "outputs": [],
   "source": [
    "print(df.columns)\n",
    "print(df.index)\n",
    "print(df.values)"
   ]
  },
  {
   "cell_type": "markdown",
   "id": "a842375b",
   "metadata": {},
   "source": [
    "### Encontro 3 - 25 de junho de 2021\n",
    "\n",
    "#### Exemplos de IDEs:\n",
    "* VSCode\n",
    "* PyCharm\n",
    "* RStudio\n",
    "* Atom\n",
    "* Sublime\n",
    "* Spyder\n",
    "\n",
    "### Conteúdo\n",
    "\n",
    "* Continuação Pandas\n",
    "* Indexando e selecionando dados\n",
    "    * Diferentes consultas retornam diferentes objetos\n",
    "        * Célula única (`int`/`str`/`float`)\n",
    "        * Vetor unidimensional (`pd.Series`)\n",
    "        * Tabela bidimensional (`pd.DataFrame`)\n",
    "    * Dois métodos\n",
    "        * `.loc` -> nome de linha ou coluna\n",
    "        * `.iloc` -> número da linha e da coluna\n",
    "        * Passar múltiplas linhas/colunas \n",
    "* Condicionais\n",
    "    * Posso combinar condições com `&` e `|`\n",
    "    \n",
    "    \n",
    "### Pontos-chave\n",
    "* Consigo selecionar e filtrar dados no Pandas baseado no nome ou posição da linha/coluna\n",
    "* Consultas podem retornar objetos diferentes"
   ]
  },
  {
   "cell_type": "code",
   "execution_count": null,
   "id": "389b0336",
   "metadata": {},
   "outputs": [],
   "source": [
    "import pandas as pd"
   ]
  },
  {
   "cell_type": "code",
   "execution_count": null,
   "id": "68299e99",
   "metadata": {},
   "outputs": [],
   "source": [
    "df = pd.read_csv(\"gapminder_all.csv\", index_col=\"country\")"
   ]
  },
  {
   "cell_type": "code",
   "execution_count": null,
   "id": "1869bd56",
   "metadata": {},
   "outputs": [],
   "source": [
    "# Primeiro método - .loc\n",
    "df.loc['Brazil', 'continent']"
   ]
  },
  {
   "cell_type": "code",
   "execution_count": null,
   "id": "985a7841",
   "metadata": {},
   "outputs": [],
   "source": [
    "linhas = ['United States', 'Jamaica']\n",
    "df.loc[linhas, 'continent']"
   ]
  },
  {
   "cell_type": "code",
   "execution_count": null,
   "id": "bee04c61",
   "metadata": {},
   "outputs": [],
   "source": [
    "colunas = ['lifeExp_1957', 'lifeExp_1987', 'lifeExp_2007']\n",
    "df.loc['Brazil', colunas]"
   ]
  },
  {
   "cell_type": "code",
   "execution_count": null,
   "id": "fab3d072",
   "metadata": {},
   "outputs": [],
   "source": [
    "df.loc[linhas, colunas]"
   ]
  },
  {
   "cell_type": "code",
   "execution_count": null,
   "id": "15926267",
   "metadata": {},
   "outputs": [],
   "source": [
    "# único ponto\n",
    "ponto = df.loc['Brazil', 'continent']\n",
    "\n",
    "# unidimensionais\n",
    "coluna = df.loc[linhas, 'continent']\n",
    "linha = df.loc['Brazil', colunas]\n",
    "\n",
    "# bidimensional\n",
    "tabela = df.loc[linhas, colunas]"
   ]
  },
  {
   "cell_type": "code",
   "execution_count": null,
   "id": "d55033ed",
   "metadata": {},
   "outputs": [],
   "source": [
    "type(ponto)"
   ]
  },
  {
   "cell_type": "code",
   "execution_count": null,
   "id": "ac981ad7",
   "metadata": {},
   "outputs": [],
   "source": [
    "type(coluna)"
   ]
  },
  {
   "cell_type": "code",
   "execution_count": null,
   "id": "e786637a",
   "metadata": {},
   "outputs": [],
   "source": [
    "type(linha)"
   ]
  },
  {
   "cell_type": "code",
   "execution_count": null,
   "id": "ae50387c",
   "metadata": {},
   "outputs": [],
   "source": [
    "type(tabela)"
   ]
  },
  {
   "cell_type": "code",
   "execution_count": null,
   "id": "4c17a2ba",
   "metadata": {},
   "outputs": [],
   "source": [
    "df.iloc[10:21, 0]"
   ]
  },
  {
   "cell_type": "code",
   "execution_count": null,
   "id": "07e1975a",
   "metadata": {},
   "outputs": [],
   "source": [
    "df[df['continent'] == 'Africa']"
   ]
  },
  {
   "cell_type": "code",
   "execution_count": null,
   "id": "e9bb1d17",
   "metadata": {},
   "outputs": [],
   "source": [
    "# Posso combinar múltiplas condições com '&'\n",
    "df[(df['continent'] == 'Africa') & (df['gdpPercap_1952'] > 1000)]"
   ]
  },
  {
   "cell_type": "code",
   "execution_count": null,
   "id": "55b66c00",
   "metadata": {},
   "outputs": [],
   "source": [
    "# ou posso combinar com ou '|'\n",
    "df[(df['continent'] == 'Africa') | (df['continent'] == 'Americas')]"
   ]
  },
  {
   "cell_type": "code",
   "execution_count": null,
   "id": "4af3bf60",
   "metadata": {},
   "outputs": [],
   "source": [
    "1 > 0"
   ]
  },
  {
   "cell_type": "code",
   "execution_count": null,
   "id": "29044c10",
   "metadata": {},
   "outputs": [],
   "source": [
    "1 < 0"
   ]
  },
  {
   "cell_type": "code",
   "execution_count": null,
   "id": "048692c8",
   "metadata": {},
   "outputs": [],
   "source": [
    "1 != 0"
   ]
  },
  {
   "cell_type": "code",
   "execution_count": null,
   "id": "49a44aaf",
   "metadata": {},
   "outputs": [],
   "source": [
    "1 == 0"
   ]
  },
  {
   "cell_type": "markdown",
   "id": "0270118b-dabf-4ac9-95f6-996481fe5359",
   "metadata": {},
   "source": [
    "### Encontro 4 - 09 de julho de 2021\n",
    "\n",
    "- Métodos do `pd.DataFrame()`\n",
    "    - `.head()` -> primeiras linhas do DataFrame\n",
    "    - `.tail()`\n",
    "- Importar planilha `Match.xlsx`"
   ]
  },
  {
   "cell_type": "code",
   "execution_count": null,
   "id": "dd6c88a6-dc37-4a12-a28f-84c7b027fb0a",
   "metadata": {},
   "outputs": [],
   "source": [
    "import pandas as pd"
   ]
  },
  {
   "cell_type": "code",
   "execution_count": null,
   "id": "e3fe8de3-8f78-40d8-b2eb-e21e3ee3000f",
   "metadata": {},
   "outputs": [],
   "source": [
    "vari = pd.read_excel(\"Match.xlsx\", sheet_name=\"vari\")"
   ]
  },
  {
   "cell_type": "code",
   "execution_count": null,
   "id": "451c82ab-ab5a-4e50-989e-812840846ddd",
   "metadata": {},
   "outputs": [],
   "source": [
    "vari.head()"
   ]
  },
  {
   "cell_type": "code",
   "execution_count": null,
   "id": "f2279a65-46a9-4506-8c16-1eca906ee369",
   "metadata": {},
   "outputs": [],
   "source": [
    "vari.tail()"
   ]
  },
  {
   "cell_type": "code",
   "execution_count": null,
   "id": "dd529c6c-0929-49b0-9342-e86914bfd164",
   "metadata": {},
   "outputs": [],
   "source": [
    "vari.columns"
   ]
  },
  {
   "cell_type": "code",
   "execution_count": null,
   "id": "ec2fbd14-f19d-40c9-9a5c-cccf64117e82",
   "metadata": {},
   "outputs": [],
   "source": [
    "vari.info()"
   ]
  },
  {
   "cell_type": "code",
   "execution_count": null,
   "id": "11a8ba44-6bac-42e7-ab41-a70567bf09ef",
   "metadata": {},
   "outputs": [],
   "source": [
    "vari.iloc[:, 20]"
   ]
  },
  {
   "cell_type": "code",
   "execution_count": null,
   "id": "7413a095-a8e4-40a8-bcc5-069b9f782a64",
   "metadata": {},
   "outputs": [],
   "source": [
    "vari.loc[:, \"Base Comm USD\"]"
   ]
  },
  {
   "cell_type": "code",
   "execution_count": null,
   "id": "2186f298-d135-4b15-820c-65d00b4dd4e2",
   "metadata": {},
   "outputs": [],
   "source": [
    "vari.describe()"
   ]
  },
  {
   "cell_type": "code",
   "execution_count": null,
   "id": "296c5204-1b1a-4183-84a8-77d66ed10821",
   "metadata": {},
   "outputs": [],
   "source": [
    "# criando novas colunas usando fórmulas\n",
    "vari[\"Acceleration\"] = (vari[\"Base Attnmt Perc\"] - 100) / 100 * vari[\"Plan TI USD\"]\n",
    "vari[\"Acceleration\"]"
   ]
  },
  {
   "cell_type": "code",
   "execution_count": null,
   "id": "af8a7722-8b07-4286-a226-1f111b381877",
   "metadata": {},
   "outputs": [],
   "source": [
    "def subtract_if_larger_than_hundred(number):\n",
    "    \"\"\"\n",
    "    Subtracts 100 if number > 100.\n",
    "    Else, returns 0.\n",
    "    \"\"\"\n",
    "    if number > 100:\n",
    "        return number - 100\n",
    "    else:\n",
    "        return 0"
   ]
  },
  {
   "cell_type": "code",
   "execution_count": null,
   "id": "d92475d1-e277-4cb5-9a43-241cae08cf38",
   "metadata": {},
   "outputs": [],
   "source": [
    "subtract_if_larger_than_hundred(92)"
   ]
  },
  {
   "cell_type": "code",
   "execution_count": null,
   "id": "fb168660-b7db-4964-8b63-1e22af489235",
   "metadata": {},
   "outputs": [],
   "source": [
    "formatted_base_attnmt = vari[\"Base Attnmt Perc\"].apply(subtract_if_larger_than_hundred)"
   ]
  },
  {
   "cell_type": "code",
   "execution_count": null,
   "id": "78276424-21ad-4668-97cd-d4c0d77ad191",
   "metadata": {},
   "outputs": [],
   "source": [
    "formatted_base_attnmt"
   ]
  },
  {
   "cell_type": "code",
   "execution_count": null,
   "id": "16e0e927-f51e-4580-bc18-f4b06519594b",
   "metadata": {},
   "outputs": [],
   "source": [
    "vari[\"Acceleration\"] = formatted_base_attnmt / 100 * vari[\"Plan TI USD\"]"
   ]
  },
  {
   "cell_type": "code",
   "execution_count": null,
   "id": "52924ed0-f903-494a-92e2-7ceed1df2f81",
   "metadata": {},
   "outputs": [],
   "source": [
    "vari[\"Acceleration\"]"
   ]
  },
  {
   "cell_type": "code",
   "execution_count": null,
   "id": "58c07191-4195-4f39-b772-a1daeed3de5b",
   "metadata": {},
   "outputs": [],
   "source": [
    "vari.to_excel(\"Match-acceleration.xlsx\", sheet_name=\"vari\", index=False)"
   ]
  },
  {
   "cell_type": "code",
   "execution_count": null,
   "id": "587ac2b0-2e2c-42a7-8936-dbab2b7afa13",
   "metadata": {},
   "outputs": [],
   "source": [
    "vari.sample(100).to_excel(\"Match-100.xlsx\")"
   ]
  },
  {
   "cell_type": "code",
   "execution_count": null,
   "id": "f8ad2894-acf3-4d51-85fb-d63d749d2607",
   "metadata": {},
   "outputs": [],
   "source": [
    "print(\"O total da acceleration foi\",vari[\"Acceleration\"].sum() / 1e6)"
   ]
  },
  {
   "cell_type": "markdown",
   "id": "a468b355-d801-4650-b25b-b038b13144cc",
   "metadata": {},
   "source": [
    "### Encontro 5 - 23 de julho de 2021\n",
    "\n",
    "* Recapitular fatias\n",
    "    * `loc` e `iloc`\n",
    "* Continuação Pandas\n",
    "    * Equivalente a SUMIF\n",
    "    * Groupby\n",
    "    * Merge e concatenate"
   ]
  },
  {
   "cell_type": "code",
   "execution_count": null,
   "id": "cfb4d5aa-49ce-41ef-89c3-660e881a50fa",
   "metadata": {},
   "outputs": [],
   "source": [
    "import pandas as pd"
   ]
  },
  {
   "cell_type": "code",
   "execution_count": null,
   "id": "b5b334e5-2b19-4ee3-aca5-7285a6367c79",
   "metadata": {},
   "outputs": [],
   "source": [
    "df = pd.read_excel(\"Match-100.xlsx\")"
   ]
  },
  {
   "cell_type": "code",
   "execution_count": null,
   "id": "eedc8873-0120-4661-817c-9661286c8e1f",
   "metadata": {},
   "outputs": [],
   "source": [
    "# Exercício - como seleciono todas as colunas exceto a primeira?\n",
    "df = df.iloc[:, 1:]\n",
    "# df.to_excel(\"Match-100.xlsx\", index=False)"
   ]
  },
  {
   "cell_type": "code",
   "execution_count": null,
   "id": "7e6e223c-d2df-4fa2-acd4-dbd3f29ab882",
   "metadata": {},
   "outputs": [],
   "source": [
    "df = pd.read_excel(\"Match-100.xlsx\")"
   ]
  },
  {
   "cell_type": "code",
   "execution_count": null,
   "id": "9d21faf6-db6b-4d51-a57d-efdd21fa5e85",
   "metadata": {},
   "outputs": [],
   "source": [
    "df2 = df[[2, 8]]\n",
    "df1 = df.iloc[:, 9:] \n",
    "df1 = pd.concat([df[2], df1], axis=1)\n",
    "df2.columns = \"Plano\", 8"
   ]
  },
  {
   "cell_type": "code",
   "execution_count": null,
   "id": "5892eac1-36f7-4478-9bf8-4091ff314ffb",
   "metadata": {},
   "outputs": [],
   "source": [
    "df2.head()"
   ]
  },
  {
   "cell_type": "code",
   "execution_count": null,
   "id": "63b6db0a-cd14-4b3f-90c2-5825f6d92765",
   "metadata": {},
   "outputs": [],
   "source": [
    "df_merge = df1.merge(df2, left_on=2, right_on=\"Plano\")"
   ]
  },
  {
   "cell_type": "markdown",
   "id": "263ce0f7-1408-48ab-8d18-4a2c49a858f5",
   "metadata": {},
   "source": [
    "#### Supôr uma planilha com 2 abas\n",
    "\n",
    "```python\n",
    "aba1 = pd.read_excel(\"planilha.xlsx\", sheet_name=\"aba1\")\n",
    "aba2 = pd.read_excel(\"planilha.xlsx\", sheet_name=\"aba2\")\n",
    "\n",
    "merge = aba1.merge(aba2, on=\"coluna_para_lookup\")\n",
    "merge.to_excel(\"planilha.xlsx\", sheet_name=\"merge_aba1e2\")\n",
    "```"
   ]
  },
  {
   "cell_type": "code",
   "execution_count": null,
   "id": "699d65a1-bbae-4e4b-8dee-4618fb0f5f6d",
   "metadata": {},
   "outputs": [],
   "source": []
  }
 ],
 "metadata": {
  "kernelspec": {
   "display_name": "Python [conda env:xlab]",
   "language": "python",
   "name": "conda-env-xlab-py"
  },
  "language_info": {
   "codemirror_mode": {
    "name": "ipython",
    "version": 3
   },
   "file_extension": ".py",
   "mimetype": "text/x-python",
   "name": "python",
   "nbconvert_exporter": "python",
   "pygments_lexer": "ipython3",
   "version": "3.9.2"
  }
 },
 "nbformat": 4,
 "nbformat_minor": 5
}
