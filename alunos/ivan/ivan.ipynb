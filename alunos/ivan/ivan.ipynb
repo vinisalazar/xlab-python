{
 "cells": [
  {
   "cell_type": "markdown",
   "id": "e70a87d5",
   "metadata": {},
   "source": [
    "### Aula 1 - 26 de maio de 2021\n",
    "\n",
    "* Introdução ao Jupyter\n",
    "* Usando o Python como uma calculadora\n",
    "* Operadores aritméticos\n",
    "    * Os 4 básicos: `+`, `-`, `*`, `/`\n",
    "    * Outros: `%`, `//`, `**`\n",
    "* Variáveis\n",
    "* Tipos de dados\n",
    "    * `int`\n",
    "    * `float`\n",
    "    * `str`\n",
    "* Funções embutidas\n",
    "    * `type()`\n",
    "    * `print()`\n",
    "    * `round()`\n",
    "    * `str()`\n",
    "* Importância dos tipos de dados\n",
    "    * Conversão para string\n",
    "    \n",
    "* Três maneiras de usar variáveis com o `print`\n",
    "    * Usando o operador `+`\n",
    "    * Usando `print(\"uma string\", variavel, \"outra string\")`\n",
    "    * Usando F-strings **(avançado)**\n",
    "\n",
    "\n",
    "\n",
    "\n",
    "**Próxima aula:** diferença de `print` e `return`\n",
    "\n",
    "### Aula 2 - 02 de junho de 2021\n",
    "\n",
    "* Funções embutidas\n",
    "    * [Documentação do Python](https://docs.python.org/pt-br/3/library/functions.html)\n",
    "* Funções definidas pelo usuário\n",
    "    * Quatro componentes na definição\n",
    "        * `def`, nome da função, parâmetros, e `:`\n",
    "    * Diferença entre `print()` e `return`\n",
    "* O que significa `string[0]`?\n",
    "    * Sintaxe para escolher objetos da sequência pelo **índice**\n",
    "    * Dois detalhes para lembrar:\n",
    "        * Começa do zero (índice baseado em zero, ou zero-based index)\n",
    "        * Fatia não-inclusiva\n",
    "    * Sintaxe de fatia\n",
    "        * `sequencia[indice]`\n",
    "        * `sequencia[inicio:fim]`\n",
    "        * `sequencia[:6]` início até posição 5\n",
    "        * `sequencia[-10:]` últimos 10 itens\n",
    "        * `sequencia[1:6:2]` pulando de dois em dois\n",
    "\n",
    "**Próxima aula:** Listas, fatiando e indexando."
   ]
  },
  {
   "cell_type": "code",
   "execution_count": null,
   "id": "425c370d",
   "metadata": {},
   "outputs": [],
   "source": [
    "def concatenar_strings(string1, string2):\n",
    "    print(string1 + string2)"
   ]
  },
  {
   "cell_type": "code",
   "execution_count": null,
   "id": "b1daedcf",
   "metadata": {},
   "outputs": [],
   "source": [
    "string_um = \"Santa \"\n",
    "string_dois = \"Catarina\"\n",
    "\n",
    "concatenar_strings(\"Santa \", \"Catarina\")"
   ]
  },
  {
   "cell_type": "code",
   "execution_count": null,
   "id": "a4c93cbb",
   "metadata": {},
   "outputs": [],
   "source": [
    "def retornar_strings(string1, string2):\n",
    "    return string1 + string2"
   ]
  },
  {
   "cell_type": "code",
   "execution_count": null,
   "id": "e11219d3",
   "metadata": {},
   "outputs": [],
   "source": [
    "retornar_strings(\"São \", \"Paulo\")"
   ]
  },
  {
   "cell_type": "code",
   "execution_count": null,
   "id": "9c785bdf",
   "metadata": {},
   "outputs": [],
   "source": [
    "estado = retornar_strings(\"São \", \"Paulo\")\n",
    "print(\"O valor de 'estado' é\", estado)"
   ]
  },
  {
   "cell_type": "code",
   "execution_count": null,
   "id": "f578b6d0",
   "metadata": {},
   "outputs": [],
   "source": [
    "estado = concatenar_strings(\"São \", \"Paulo\")"
   ]
  },
  {
   "cell_type": "code",
   "execution_count": null,
   "id": "87666f97",
   "metadata": {},
   "outputs": [],
   "source": [
    "print(\"O valor de 'estado' é\", estado)"
   ]
  },
  {
   "cell_type": "code",
   "execution_count": null,
   "id": "fd1249f6",
   "metadata": {},
   "outputs": [],
   "source": [
    "string2"
   ]
  },
  {
   "cell_type": "code",
   "execution_count": null,
   "id": "e1b65570",
   "metadata": {},
   "outputs": [],
   "source": [
    "string3 = print(\"Catarina\")"
   ]
  },
  {
   "cell_type": "code",
   "execution_count": null,
   "id": "560caa55",
   "metadata": {},
   "outputs": [],
   "source": [
    "def pegar_primeira_letra_da_string(string):  # recebe um dado de entrada\n",
    "    \n",
    "    # faz alguma coisa\n",
    "    primeira_letra = string[0]\n",
    "    print(\"A primeira letra é\", primeira_letra)\n",
    "    \n",
    "    return primeira_letra  # retorna um dado de saída"
   ]
  },
  {
   "cell_type": "code",
   "execution_count": null,
   "id": "e3a38b71",
   "metadata": {},
   "outputs": [],
   "source": [
    "pegar_primeira_letra_da_string(\"Brasil\")"
   ]
  },
  {
   "cell_type": "code",
   "execution_count": null,
   "id": "555f3556",
   "metadata": {},
   "outputs": [],
   "source": [
    "sequencia = \"Brasil é penta\""
   ]
  },
  {
   "cell_type": "code",
   "execution_count": null,
   "id": "1e1276f6",
   "metadata": {},
   "outputs": [],
   "source": [
    "sequencia[0]"
   ]
  },
  {
   "cell_type": "code",
   "execution_count": null,
   "id": "35b95260",
   "metadata": {},
   "outputs": [],
   "source": [
    "# Fatiando sequências\n",
    "sequencia[inicio:fim]\n",
    "sequencia[inicio:fim:degrau]"
   ]
  },
  {
   "cell_type": "code",
   "execution_count": null,
   "id": "ab16d17f",
   "metadata": {},
   "outputs": [],
   "source": [
    "len(sequencia)  # len() vem de length"
   ]
  },
  {
   "cell_type": "code",
   "execution_count": null,
   "id": "ddee5cb8",
   "metadata": {},
   "outputs": [],
   "source": [
    "tamanho_da_sequencia = len(sequencia)"
   ]
  },
  {
   "cell_type": "code",
   "execution_count": null,
   "id": "2633fb42",
   "metadata": {},
   "outputs": [],
   "source": [
    "sequencia[-5:]"
   ]
  },
  {
   "cell_type": "code",
   "execution_count": null,
   "id": "d282aa36",
   "metadata": {},
   "outputs": [],
   "source": [
    "nome = \"Ivan\""
   ]
  },
  {
   "cell_type": "code",
   "execution_count": null,
   "id": "d88fbe24",
   "metadata": {},
   "outputs": [],
   "source": [
    "nome[::-1]"
   ]
  },
  {
   "cell_type": "code",
   "execution_count": null,
   "id": "f257d35e",
   "metadata": {},
   "outputs": [],
   "source": [
    "sequencia"
   ]
  },
  {
   "cell_type": "code",
   "execution_count": null,
   "id": "303b42ad",
   "metadata": {},
   "outputs": [],
   "source": [
    "nome_do_estado = [\"Rio\", \"de\", \"Janeiro\", 21]\n",
    "nome_do_estado[0]"
   ]
  },
  {
   "cell_type": "code",
   "execution_count": null,
   "id": "926be4ab",
   "metadata": {},
   "outputs": [],
   "source": [
    "print(\"O DDD do estado do\", nome_do_estado[0], \"é\", nome_do_estado[-1])"
   ]
  },
  {
   "cell_type": "markdown",
   "id": "f8054135",
   "metadata": {},
   "source": [
    "### Aula 3 - 09 de junho de 2021\n",
    "\n",
    "#### Listas\n",
    "* Ideias das listas\n",
    "    * Coleção de objetos\n",
    "    * Mantém a ordenação\n",
    "    * São **mutáveis**\n",
    "* Criando listas\n",
    "    * Função embutida `list()`\n",
    "* Indexando e fatiando\n",
    "* Métodos de lista\n",
    "    * `.append()`\n",
    "    * `.remove()`\n",
    "    * `.pop()`\n",
    "    * `.insert()`\n",
    "    * `.sort()`\n",
    "    \n",
    "### Próxima aula:\n",
    "\n",
    "* Condicionais\n",
    "* `for` loops\n",
    "* Problema com `lista.remove()` no `for` loop\n",
    "    * Resposta [nesse link](https://stackoverflow.com/questions/742371/why-does-python-skip-elements-when-i-modify-a-list-while-iterating-over-it)\n",
    "    * Quando eu removo um item da lista, eu \"pulo\" o próximo item na iteração, por que eu encurtei a lista\n",
    "    * Moral da história: não modificar a lista em um for loop\n",
    "    * Usar list comprehensions no lugar\n",
    "\n",
    "#### Importante\n",
    "**As operações no Python dependem do tipo do dado.**  \n",
    "**Exemplo: tente multiplicar listas ou strings.**\n",
    "* Para multiplicar coleções de valores numéricos, preciso usar a NumPy"
   ]
  },
  {
   "cell_type": "code",
   "execution_count": null,
   "id": "b362a56e",
   "metadata": {},
   "outputs": [],
   "source": [
    "lista = [10, 20, 30, 40, \"cinquenta\"]\n",
    "lista_2 = [100, 200, 300, 400, 500]"
   ]
  },
  {
   "cell_type": "code",
   "execution_count": null,
   "id": "3ccf1ca3",
   "metadata": {},
   "outputs": [],
   "source": [
    "# Para multiplicar vetores numéricos, é necessário a NumPy (Numerical Python)\n",
    "import numpy as np\n",
    "\n",
    "lista_de_numeros = [10,20,30,40,50]\n",
    "lista_de_numeros_dois = [2,3,4,5,6,7]\n",
    "arranjo = np.array(lista_de_numeros)\n",
    "arranjo_dois = np.array(lista_de_numeros_dois)"
   ]
  },
  {
   "cell_type": "code",
   "execution_count": null,
   "id": "060c8af6",
   "metadata": {},
   "outputs": [],
   "source": [
    "lista[-1] = 60"
   ]
  },
  {
   "cell_type": "code",
   "execution_count": null,
   "id": "6173422c",
   "metadata": {},
   "outputs": [],
   "source": [
    "string = \"cinquenta\""
   ]
  },
  {
   "cell_type": "code",
   "execution_count": null,
   "id": "cddb6a97",
   "metadata": {},
   "outputs": [],
   "source": [
    "string = string[:-1]"
   ]
  },
  {
   "cell_type": "code",
   "execution_count": null,
   "id": "ca566e90",
   "metadata": {},
   "outputs": [],
   "source": [
    "lista.append(100)"
   ]
  },
  {
   "cell_type": "code",
   "execution_count": null,
   "id": "19804373",
   "metadata": {},
   "outputs": [],
   "source": [
    "lista.append(\"duzentos\")"
   ]
  },
  {
   "cell_type": "code",
   "execution_count": null,
   "id": "7304ec25",
   "metadata": {},
   "outputs": [],
   "source": [
    "lista.pop()"
   ]
  },
  {
   "cell_type": "code",
   "execution_count": null,
   "id": "4396a38c",
   "metadata": {},
   "outputs": [],
   "source": [
    "lista = [10, 20, 30, 40, 50, 60, 10, 21, 31, 100, 200, 300]\n",
    "\n",
    "for item in lista:  # usar lista[:] para um fix\n",
    "    print(item, lista.index(item))\n",
    "    if item > 50:\n",
    "        lista.remove(item)\n",
    "\n",
    "print(lista)"
   ]
  },
  {
   "cell_type": "code",
   "execution_count": null,
   "id": "6ab32f61",
   "metadata": {},
   "outputs": [],
   "source": [
    "lista\n"
   ]
  },
  {
   "cell_type": "code",
   "execution_count": null,
   "id": "1c16433c",
   "metadata": {},
   "outputs": [],
   "source": [
    "lista = lista[::-1]\n",
    "lista.sort(reverse=True)"
   ]
  },
  {
   "cell_type": "code",
   "execution_count": null,
   "id": "96b9bc22",
   "metadata": {},
   "outputs": [],
   "source": [
    "lista = [0, 10, 35, 22, \"uma string\"]"
   ]
  },
  {
   "cell_type": "code",
   "execution_count": null,
   "id": "d20e20ff",
   "metadata": {},
   "outputs": [],
   "source": [
    "lista_de_listas = [0, 22, [\"a\", \"b\", \"c\", \"d\"]]"
   ]
  },
  {
   "cell_type": "markdown",
   "id": "79d07958",
   "metadata": {},
   "source": [
    "### Encontro 4 - 16 de junho de 2021\n",
    "\n",
    "* Diferença entre criar um ponteiro vs cópia de uma lista\n",
    "    * `lista_dois = lista_um[:]`\n",
    "    * `lista_dois = lista_um.copy()`\n",
    "* `for` loops, condicionais\n",
    "    * Posso combinar declarações booleanas com `and` e `or`"
   ]
  },
  {
   "cell_type": "code",
   "execution_count": null,
   "id": "6c82d74e",
   "metadata": {},
   "outputs": [],
   "source": [
    "lista = [10, 20, 30, 40, 50]\n",
    "\n",
    "\n",
    "for item in lista[:]:  # usar lista[:] para um fix\n",
    "    # print(item, lista.index(item))\n",
    "    if item > 25:\n",
    "        lista.remove(item)\n",
    "\n",
    "print(lista)"
   ]
  },
  {
   "cell_type": "code",
   "execution_count": null,
   "id": "db39b255",
   "metadata": {},
   "outputs": [],
   "source": [
    "lista_um[:]"
   ]
  },
  {
   "cell_type": "code",
   "execution_count": null,
   "id": "0b87ca80",
   "metadata": {},
   "outputs": [],
   "source": [
    "pesos = [10, 20, 30, 40, 50, 60, 70, 80, 90, 100]\n",
    "\n",
    "for peso in pesos:\n",
    "    if peso < 30:\n",
    "        print(\"Peso menor que 30!\")\n",
    "        if peso < 20:\n",
    "            print(\"Peso menor 20!\")"
   ]
  },
  {
   "cell_type": "code",
   "execution_count": null,
   "id": "3414bae8",
   "metadata": {
    "scrolled": true,
    "tags": []
   },
   "outputs": [],
   "source": [
    "massa_e_velocidades = [(60.0, 10), (12.0, 10)]\n",
    "\n",
    "for massa, velocidade in massa_e_velocidades:\n",
    "    print(massa, velocidade)\n",
    "    if (massa > 50) or (velocidade > 5) and ():\n",
    "        print(\"Objeto pesado e rápido.\")"
   ]
  },
  {
   "cell_type": "markdown",
   "id": "9200ccaf",
   "metadata": {},
   "source": [
    "### Pandas e DataFrames\n",
    "\n",
    "* Diferença métodos e atributos\n",
    "* Métodos de DataFrame\n",
    "    * `df.head()`\n",
    "    * `df.info()`\n",
    "    * `df.describe()`\n",
    "\n",
    "### Ponto-chave\n",
    "**Pensar num DataFrame como uma matriz cujo as linhas e colunas tem nomes.**"
   ]
  },
  {
   "cell_type": "code",
   "execution_count": null,
   "id": "8ab0e617",
   "metadata": {},
   "outputs": [],
   "source": [
    "import pandas as pd"
   ]
  },
  {
   "cell_type": "code",
   "execution_count": null,
   "id": "dd915ed4",
   "metadata": {},
   "outputs": [],
   "source": [
    "df = pd.read_csv(\"gapminder_all.csv\", index_col=\"country\")"
   ]
  },
  {
   "cell_type": "code",
   "execution_count": null,
   "id": "e348fbb0",
   "metadata": {},
   "outputs": [],
   "source": [
    "len(df.columns)"
   ]
  },
  {
   "cell_type": "code",
   "execution_count": null,
   "id": "d774a424",
   "metadata": {},
   "outputs": [],
   "source": [
    "type(df)"
   ]
  },
  {
   "cell_type": "code",
   "execution_count": null,
   "id": "de03c671",
   "metadata": {},
   "outputs": [],
   "source": [
    "type(df.values)"
   ]
  },
  {
   "cell_type": "code",
   "execution_count": null,
   "id": "294764de",
   "metadata": {},
   "outputs": [],
   "source": [
    "df.head()"
   ]
  },
  {
   "cell_type": "code",
   "execution_count": null,
   "id": "85283cee",
   "metadata": {},
   "outputs": [],
   "source": [
    "df.head()\n",
    "# df.info()\n",
    "df.describe()"
   ]
  },
  {
   "cell_type": "code",
   "execution_count": null,
   "id": "0367fd45",
   "metadata": {},
   "outputs": [],
   "source": [
    "df.shape"
   ]
  },
  {
   "cell_type": "markdown",
   "id": "f59ad38d",
   "metadata": {},
   "source": [
    "### Encontro 5 - 23 de junho de 2021\n",
    "\n",
    "* Uso do NumPy\n",
    "    * Tipos numéricos do NumPy (`float64` e `int64`)\n",
    "* Fatiando, filtrando e indexando DataFrames\n",
    "    * `.loc` -> nome de linhas e colunas\n",
    "    * `.iloc` -> posição numérica da linha e da coluna\n",
    "* NumPy como base do Pandas (`ndarray`)\n",
    "\n",
    "### Pontos-chave\n",
    "* Diferentes consultas retornam diferentes valores dependendo da dimensão:\n",
    "    * Ponto (0 dimensões) = valor da célula\n",
    "    * Vetor (1 dimensão) = `pd.Series`\n",
    "    * Campo (2 dimensões) = `pd.DataFrame`\n",
    "* Objetos são compostos por atributos, que podem ter tipos distintos"
   ]
  },
  {
   "cell_type": "code",
   "execution_count": null,
   "id": "4c71631a",
   "metadata": {},
   "outputs": [],
   "source": [
    "lista = [23, 564, 7, 20, 932, -4]"
   ]
  },
  {
   "cell_type": "code",
   "execution_count": null,
   "id": "05f744f3",
   "metadata": {},
   "outputs": [],
   "source": [
    "lista_dois = []\n",
    "\n",
    "for item in lista:\n",
    "    lista_dois.append(item * 2)"
   ]
  },
  {
   "cell_type": "code",
   "execution_count": null,
   "id": "6c983cc6",
   "metadata": {},
   "outputs": [],
   "source": [
    "arranjo = np.array(lista)\n",
    "arranjo_2 = arranjo * 2"
   ]
  },
  {
   "cell_type": "code",
   "execution_count": null,
   "id": "45b7e5e0",
   "metadata": {},
   "outputs": [],
   "source": [
    "import pandas as pd\n",
    "import numpy as np"
   ]
  },
  {
   "cell_type": "code",
   "execution_count": null,
   "id": "993a9aa5",
   "metadata": {},
   "outputs": [],
   "source": [
    "df = pd.read_csv(\"gapminder_all.csv\", index_col='country')"
   ]
  },
  {
   "cell_type": "code",
   "execution_count": null,
   "id": "9ce3c401",
   "metadata": {},
   "outputs": [],
   "source": [
    "df.loc['Brazil', 'continent']"
   ]
  },
  {
   "cell_type": "code",
   "execution_count": null,
   "id": "f56589e3",
   "metadata": {},
   "outputs": [],
   "source": [
    "type(df.values)"
   ]
  },
  {
   "cell_type": "code",
   "execution_count": null,
   "id": "967c3e81",
   "metadata": {},
   "outputs": [],
   "source": [
    "df.loc['Brazil', 'continent']"
   ]
  },
  {
   "cell_type": "code",
   "execution_count": null,
   "id": "ae600ab6",
   "metadata": {},
   "outputs": [],
   "source": [
    "df.iloc[0, 0]"
   ]
  },
  {
   "cell_type": "code",
   "execution_count": null,
   "id": "d22d1090",
   "metadata": {},
   "outputs": [],
   "source": [
    "# Múltiplas linhas e colunas\n",
    "countries = ['United States', 'Jamaica']\n",
    "df.loc[countries, 'continent']"
   ]
  },
  {
   "cell_type": "code",
   "execution_count": null,
   "id": "5c6e58f5",
   "metadata": {},
   "outputs": [],
   "source": [
    "lifeExp_cols = ['lifeExp_1957', 'lifeExp_1987', 'lifeExp_2007']\n",
    "df.loc['Brazil', lifeExp_cols]"
   ]
  },
  {
   "cell_type": "code",
   "execution_count": null,
   "id": "d4776edc",
   "metadata": {},
   "outputs": [],
   "source": [
    "df.loc[countries, lifeExp_cols]"
   ]
  },
  {
   "cell_type": "code",
   "execution_count": null,
   "id": "5f331bcc",
   "metadata": {},
   "outputs": [],
   "source": [
    "df.loc['Brazil', 'continent']"
   ]
  },
  {
   "cell_type": "code",
   "execution_count": null,
   "id": "f11f2a05",
   "metadata": {},
   "outputs": [],
   "source": [
    "type(df.loc['Brazil', 'continent'])"
   ]
  },
  {
   "cell_type": "code",
   "execution_count": null,
   "id": "d7e55ecf",
   "metadata": {},
   "outputs": [],
   "source": [
    "df.loc[countries, 'continent']"
   ]
  },
  {
   "cell_type": "code",
   "execution_count": null,
   "id": "b6c8a0dd",
   "metadata": {},
   "outputs": [],
   "source": [
    "type(df.loc[countries, 'continent'])"
   ]
  },
  {
   "cell_type": "code",
   "execution_count": null,
   "id": "e0c1a1ce",
   "metadata": {},
   "outputs": [],
   "source": [
    "df.loc[countries, lifeExp_cols]"
   ]
  },
  {
   "cell_type": "code",
   "execution_count": null,
   "id": "00fbed15",
   "metadata": {},
   "outputs": [],
   "source": [
    "type(df.loc[countries, lifeExp_cols])"
   ]
  },
  {
   "cell_type": "code",
   "execution_count": null,
   "id": "24cce69d",
   "metadata": {},
   "outputs": [],
   "source": [
    "df.loc[['Brazil'], ['continent']]"
   ]
  },
  {
   "cell_type": "code",
   "execution_count": null,
   "id": "c19e4d53",
   "metadata": {},
   "outputs": [],
   "source": [
    "class Book:\n",
    "    \"\"\"\n",
    "    Classe para representar um livro.\n",
    "    \"\"\"\n",
    "    def __init__(self, title, authors, pages):\n",
    "        self.title = title\n",
    "        self.authors = authors\n",
    "        self.pages = pages\n",
    "        "
   ]
  },
  {
   "cell_type": "code",
   "execution_count": null,
   "id": "76cdbad5",
   "metadata": {},
   "outputs": [],
   "source": [
    "livro = Book(\"Senhor dos Anéis\", [\"JRR Tolkien\", \"Christian Tolkien\"], 1278)"
   ]
  },
  {
   "cell_type": "code",
   "execution_count": null,
   "id": "c9f0f245",
   "metadata": {},
   "outputs": [],
   "source": [
    "type(livro.title)"
   ]
  },
  {
   "cell_type": "code",
   "execution_count": null,
   "id": "2dc39984",
   "metadata": {},
   "outputs": [],
   "source": [
    "type(livro.authors)"
   ]
  },
  {
   "cell_type": "code",
   "execution_count": null,
   "id": "3096da55",
   "metadata": {},
   "outputs": [],
   "source": [
    "type(livro.pages)"
   ]
  },
  {
   "cell_type": "markdown",
   "id": "5b0ea608",
   "metadata": {},
   "source": [
    "### Encontro 6 - 30 de junho de 2021\n",
    "\n",
    "* Continuação Pandas\n",
    "* Condicionais\n",
    "* `merge` e `concat`\n",
    "\n",
    "### Pontos-chave\n",
    "* Posso filtrar meu DataFrame com condicionais\n",
    "    * Posso combinar condicionais com  os operadores `&` (AND) e `|` (OR)\n",
    "* Posso concatenar e fazer join em DataFrames com `merge` e `concat`"
   ]
  },
  {
   "cell_type": "code",
   "execution_count": null,
   "id": "53531470",
   "metadata": {},
   "outputs": [],
   "source": [
    "import pandas as pd"
   ]
  },
  {
   "cell_type": "code",
   "execution_count": null,
   "id": "73d108c9",
   "metadata": {},
   "outputs": [],
   "source": [
    "df = pd.read_csv(\"gapminder_all.csv\", index_col=\"country\")"
   ]
  },
  {
   "cell_type": "code",
   "execution_count": null,
   "id": "df80bd88",
   "metadata": {},
   "outputs": [],
   "source": [
    "cond1 = df['continent'] == 'Europe'\n",
    "cond2 = df['pop_2007'] > 10e6\n",
    "cond3 = df['continent'] == 'Americas'\n",
    "df[cond1 & cond2]  # operador AND\n",
    "df[cond1 | cond2]  # operador OR"
   ]
  },
  {
   "cell_type": "code",
   "execution_count": null,
   "id": "222583d6",
   "metadata": {},
   "outputs": [],
   "source": [
    "# não esquecer dos parênteses para evitar erros!\n",
    "df[(df['continent'] == 'Europe') & (df['pop_2007'] > 10e6)]"
   ]
  },
  {
   "cell_type": "code",
   "execution_count": null,
   "id": "168bab7a",
   "metadata": {},
   "outputs": [],
   "source": [
    "europa = df[cond1]\n",
    "americas = df[cond3]\n",
    "asia = df[df['continent'] == 'Asia']"
   ]
  },
  {
   "cell_type": "code",
   "execution_count": null,
   "id": "1fc8b29d",
   "metadata": {},
   "outputs": [],
   "source": [
    "paises = pd.concat([europa, americas, asia])"
   ]
  },
  {
   "cell_type": "code",
   "execution_count": null,
   "id": "84fc375e",
   "metadata": {},
   "outputs": [],
   "source": [
    "gdp_cols, life_cols, pop_cols, outras_colunas = [], [], [], []\n",
    "\n",
    "for coluna in df.columns:\n",
    "    if 'gdp' in coluna:\n",
    "        gdp_cols.append(coluna)\n",
    "    elif 'life' in coluna:\n",
    "        life_cols.append(coluna)\n",
    "    elif 'pop' in coluna:\n",
    "        pop_cols.append(coluna)\n",
    "    else:\n",
    "        outras_colunas.append(coluna)"
   ]
  },
  {
   "cell_type": "code",
   "execution_count": null,
   "id": "c7aac9dd",
   "metadata": {},
   "outputs": [],
   "source": [
    "gdp_df, life_df, pop_df = df[gdp_cols], df[life_cols], df[pop_cols]"
   ]
  },
  {
   "cell_type": "code",
   "execution_count": null,
   "id": "c4a7b665",
   "metadata": {},
   "outputs": [],
   "source": [
    "pd.concat([life_df, pop_df, gdp_df], axis=1)"
   ]
  },
  {
   "cell_type": "code",
   "execution_count": null,
   "id": "cae8eb82",
   "metadata": {},
   "outputs": [],
   "source": [
    "df = pd.read_csv(\"gapminder_all.csv\")"
   ]
  },
  {
   "cell_type": "code",
   "execution_count": null,
   "id": "9dd60357",
   "metadata": {},
   "outputs": [],
   "source": [
    "gdp_df, life_df, pop_df = df[['country'] + gdp_cols], df[['country'] + life_cols], df[['country'] + pop_cols]"
   ]
  },
  {
   "cell_type": "code",
   "execution_count": null,
   "id": "e0928b87",
   "metadata": {},
   "outputs": [],
   "source": [
    "df_mergeado = gdp_df.merge(life_df, on='country')"
   ]
  },
  {
   "cell_type": "code",
   "execution_count": null,
   "id": "a7f19b43",
   "metadata": {},
   "outputs": [],
   "source": [
    "df_mergeado = df_mergeado.merge(pop_df, on='country')"
   ]
  },
  {
   "cell_type": "code",
   "execution_count": null,
   "id": "bf3b3fd1",
   "metadata": {},
   "outputs": [],
   "source": [
    "pop_df.copy().rename(columns={\"country\": \"nation\"}, inplace=True)"
   ]
  },
  {
   "cell_type": "code",
   "execution_count": null,
   "id": "13584e32",
   "metadata": {},
   "outputs": [],
   "source": [
    "gdp_df.merge(pop_df, left_on='country', right_on='nation')"
   ]
  },
  {
   "cell_type": "code",
   "execution_count": null,
   "id": "34dc8442",
   "metadata": {},
   "outputs": [],
   "source": [
    "# merge pelo index\n",
    "df = pd.read_csv(\"gapminder_all.csv\", index_col='country')"
   ]
  },
  {
   "cell_type": "code",
   "execution_count": null,
   "id": "c9c2d141",
   "metadata": {},
   "outputs": [],
   "source": [
    "gdp_df, life_df, pop_df = df[gdp_cols], df[life_cols], df[pop_cols]"
   ]
  },
  {
   "cell_type": "code",
   "execution_count": null,
   "id": "769e7f12",
   "metadata": {},
   "outputs": [],
   "source": [
    "gdp_df.merge(life_df, left_index=True, right_index=True)"
   ]
  },
  {
   "cell_type": "markdown",
   "id": "2d60e234-f174-421c-a87a-91772f78222a",
   "metadata": {},
   "source": [
    "### Encontro 7 - 07 de julho de 2021\n",
    "\n",
    "#### Experiência prévia\n",
    "- Tableau\n",
    "- PowerBI\n",
    "\n",
    "#### Visualização\n",
    "- Com `pandas`\n",
    "- Com `matplotlib`\n",
    "- Com `seaborn`\n",
    "- Customizando visualizações"
   ]
  },
  {
   "cell_type": "code",
   "execution_count": null,
   "id": "eb5a9ab3-6a61-40c2-ab58-bb9f447af168",
   "metadata": {},
   "outputs": [],
   "source": [
    "import pandas as pd\n",
    "df = pd.read_csv(\"gapminder_all.csv\", index_col=\"country\")"
   ]
  },
  {
   "cell_type": "code",
   "execution_count": null,
   "id": "482a9d3a-4c7c-405d-9dc4-50473342f9e7",
   "metadata": {},
   "outputs": [],
   "source": [
    "gdp_cols = [i for i in df.columns if 'gdp' in i]\n",
    "df = df[gdp_cols]\n",
    "gdp_cols = [int(i.replace(\"gdpPercap_\", \"\")) for i in df.columns]\n",
    "df.columns = gdp_cols"
   ]
  },
  {
   "cell_type": "code",
   "execution_count": null,
   "id": "640d2763-6924-496a-838e-aa7f199d65f4",
   "metadata": {},
   "outputs": [],
   "source": [
    "ax = df.loc[[\"Brazil\", \"Bolivia\", \"Algeria\"]].T.plot()"
   ]
  },
  {
   "cell_type": "code",
   "execution_count": null,
   "id": "be4d0e7e-99dd-4814-97e5-4d132d6dd088",
   "metadata": {},
   "outputs": [],
   "source": [
    "from matplotlib import pyplot as plt\n",
    "# import matplotlib.pyplot as plt"
   ]
  },
  {
   "cell_type": "code",
   "execution_count": null,
   "id": "72748cee-797a-489c-8f43-fca4bce4a75d",
   "metadata": {},
   "outputs": [],
   "source": [
    "df.loc[[\"Brazil\", \"Bolivia\", \"Algeria\"]].T.plot()\n",
    "title = plt.title(\"GDP per capita\")\n",
    "ylabel = plt.ylabel(\"USD\")\n",
    "xlabel = plt.xlabel(\"Year\")"
   ]
  },
  {
   "cell_type": "code",
   "execution_count": null,
   "id": "573a1573-1dcf-4dae-9e76-8c2867a61308",
   "metadata": {},
   "outputs": [],
   "source": [
    "df = pd.read_csv(\"gapminder_all.csv\", index_col=\"country\")"
   ]
  },
  {
   "cell_type": "code",
   "execution_count": null,
   "id": "3762e0e1-56de-47cf-a82d-367a8ef7788d",
   "metadata": {},
   "outputs": [],
   "source": [
    "df.plot(kind=\"scatter\", x=\"gdpPercap_2007\", y=\"lifeExp_2007\", s=df[\"pop_2007\"]/1e6, title=\"Scatterplot de GDP x Expectativa de vida\")"
   ]
  },
  {
   "cell_type": "code",
   "execution_count": null,
   "id": "25767d17-a043-4d38-ae27-faaa4ee2fa92",
   "metadata": {},
   "outputs": [],
   "source": [
    "import seaborn as sns"
   ]
  },
  {
   "cell_type": "code",
   "execution_count": null,
   "id": "c8422bd8-c1ae-4de4-93d8-151a8289e14d",
   "metadata": {},
   "outputs": [],
   "source": [
    "sns.scatterplot(data=df, x=\"gdpPercap_2007\", y=\"lifeExp_2007\", hue=\"continent\", size=\"pop_2007\")"
   ]
  },
  {
   "cell_type": "code",
   "execution_count": null,
   "id": "f7bf16c9-1752-4613-88f2-7c91c29f1828",
   "metadata": {},
   "outputs": [],
   "source": [
    "sns.jointplot(data=df, x=\"gdpPercap_2007\", y=\"lifeExp_2007\", hue=\"continent\")"
   ]
  },
  {
   "cell_type": "code",
   "execution_count": null,
   "id": "e612637b-f89f-4de6-ae48-6678b1154f14",
   "metadata": {},
   "outputs": [],
   "source": [
    "sns.lmplot(data=df[df[\"continent\"] == \"Europe\"], x=\"gdpPercap_2007\", y=\"lifeExp_2007\", )"
   ]
  },
  {
   "cell_type": "code",
   "execution_count": null,
   "id": "47e00153-c6ef-43e1-a51f-b2d32f5e9eee",
   "metadata": {},
   "outputs": [],
   "source": [
    "df_2007 = df[[\"gdpPercap_2007\", \"pop_2007\", \"lifeExp_2007\"]]"
   ]
  },
  {
   "cell_type": "code",
   "execution_count": null,
   "id": "597c894e-cd4d-403d-8c49-bb338b853a07",
   "metadata": {},
   "outputs": [],
   "source": [
    "long = pd.read_csv(\"gapminder_kaggle/gapminder_full.csv\")\n",
    "wide = pd.read_csv(\"gapminder_all.csv\")"
   ]
  },
  {
   "cell_type": "code",
   "execution_count": null,
   "id": "3ff3e4e9-ef36-4b58-ab98-01f30005942b",
   "metadata": {},
   "outputs": [],
   "source": [
    "long"
   ]
  },
  {
   "cell_type": "code",
   "execution_count": null,
   "id": "d008f610-8c8d-4c7b-9a6e-1fcf143c3c7a",
   "metadata": {},
   "outputs": [],
   "source": [
    "wide"
   ]
  },
  {
   "cell_type": "code",
   "execution_count": null,
   "id": "485b2876-2ba5-4eb1-ba94-2f7991e2f402",
   "metadata": {},
   "outputs": [],
   "source": [
    "df = wide.melt(id_vars=\"country\", value_vars=[i for i in wide.columns if '_' in i])\n",
    "df[['variable', 'year']] = df['variable'].str.split(\"_\", expand=True)\n",
    "df"
   ]
  },
  {
   "cell_type": "code",
   "execution_count": null,
   "id": "ad6be490-5d55-4676-b1b0-00bf092b9567",
   "metadata": {},
   "outputs": [],
   "source": [
    "tidy"
   ]
  },
  {
   "cell_type": "markdown",
   "id": "c63515aa-bb35-4354-94f6-798d2547416b",
   "metadata": {},
   "source": [
    "### Encontro 8 - 13 de julho de 2021\n",
    "\n",
    "- Trabalhando com dados reais\n",
    "    - Índices hierárquicos\n",
    "- Automatizando tarefas\n",
    "    - Criando funções\n",
    "    - Usando o glob para encontrar arquivos\n",
    "    - Iterando os arquivos\n",
    "    \n",
    "### Semana que vem\n",
    "- Datas no Pandas\n",
    "- Mexer nas planilhas `estoque` e `venda`\n",
    "- Integrar dados das planilhas pela data (estoque: diário, venda: mensal)\n",
    "- Índice hierárquicos"
   ]
  },
  {
   "cell_type": "code",
   "execution_count": null,
   "id": "f10780bb-043c-4b40-9aa3-d87a394a3539",
   "metadata": {},
   "outputs": [],
   "source": [
    "import pandas as pd\n",
    "import numpy as np\n",
    "from glob import glob"
   ]
  },
  {
   "cell_type": "code",
   "execution_count": null,
   "id": "dfdd7aa2-6948-4df1-8fc0-77f817cb3a6c",
   "metadata": {},
   "outputs": [],
   "source": [
    "df = pd.read_excel(\"Venda.xlsx\")"
   ]
  },
  {
   "cell_type": "code",
   "execution_count": null,
   "id": "f3e23b36-312d-4ad1-882c-d5a9dc2358e7",
   "metadata": {},
   "outputs": [],
   "source": [
    "def unmerge_cells(dataframe):\n",
    "    \"\"\"\n",
    "    Para todas as células de um DataFrame, se o valor for NaN,\n",
    "    substituir pelo valor da linha de cima.\n",
    "    É necessário que o nome das linhas sejam inteiros.\n",
    "    \n",
    "    args:\n",
    "        dataframe -> pd.DataFrame\n",
    "        \n",
    "    returns:\n",
    "        dataframe_unmerged -> pd.DataFrame\n",
    "    \"\"\"\n",
    "    for nomedalinha, linha in dataframe.iterrows():\n",
    "        if nomedalinha == 0:\n",
    "            continue\n",
    "        for nomedacoluna, valordacelula in linha.iteritems():\n",
    "            if valordacelula != valordacelula:  # vê se é nan\n",
    "                dataframe.loc[nomedalinha,\n",
    "                                       nomedacoluna] = dataframe.loc[nomedalinha-1,\n",
    "                                                                     nomedacoluna]\n",
    "            \n",
    "    return dataframe"
   ]
  },
  {
   "cell_type": "code",
   "execution_count": null,
   "id": "c8309708-bcbc-4a23-b64d-df1958ca2563",
   "metadata": {},
   "outputs": [],
   "source": [
    "estoque = pd.read_excel(\"Estoque.xlsx\")"
   ]
  },
  {
   "cell_type": "code",
   "execution_count": null,
   "id": "482b5b8a-2a6d-46ae-b4cd-183aff92d7a6",
   "metadata": {},
   "outputs": [],
   "source": [
    "estoque = unmerge_cells(estoque)"
   ]
  },
  {
   "cell_type": "code",
   "execution_count": null,
   "id": "f40c262f-9b2e-4476-97b2-95af40c69c78",
   "metadata": {},
   "outputs": [],
   "source": [
    "planilhas = glob(\"./*.xlsx\")\n",
    "\n",
    "for planilha in planilhas:\n",
    "    \n",
    "    # Leio\n",
    "    df = pd.read_excel(planilha)\n",
    "    \n",
    "    # Processo\n",
    "    df = unmerge_cells(df)\n",
    "    \n",
    "    # Exportar\n",
    "    novo_nome = planilha.replace(\".xlsx\", \"_pandas_formatted.xlsx\")\n",
    "    df.to_excel(novo_nome, index=False)"
   ]
  },
  {
   "cell_type": "code",
   "execution_count": null,
   "id": "75da9515-5d49-4222-9f41-e7d264fd6c84",
   "metadata": {},
   "outputs": [],
   "source": [
    "df = pd.read_excel(\"Estoque_pandas_formatted.xlsx\")"
   ]
  },
  {
   "cell_type": "code",
   "execution_count": null,
   "id": "ed28ac5f-e06b-4072-b87c-79e2e1cd77d7",
   "metadata": {},
   "outputs": [],
   "source": [
    "df"
   ]
  },
  {
   "cell_type": "markdown",
   "id": "89666f80-e6f9-41c7-aa60-38cb22144e8b",
   "metadata": {},
   "source": [
    "### Encontro 9 - 21 de julho de 2021\n",
    "\n",
    "* Continuação Pandas\n",
    "    * Usando `fillna` em `Series` e `DataFrame`\n",
    "    * Visualizando valores nulos\n",
    "* Perguntas\n",
    "    * Que tipo de cliente vende mais em cada base?"
   ]
  },
  {
   "cell_type": "code",
   "execution_count": null,
   "id": "9d131a3a-788a-4985-bce8-e79a186241f7",
   "metadata": {},
   "outputs": [],
   "source": [
    "import pandas as pd\n",
    "import numpy as np"
   ]
  },
  {
   "cell_type": "code",
   "execution_count": null,
   "id": "e289924b-f830-4caf-9616-19c93191287d",
   "metadata": {},
   "outputs": [],
   "source": [
    "# 'dfe' é df_estoque\n",
    "dfe = pd.read_excel('Estoque.xlsx')\n",
    "dfe['Base Estq.'].fillna(method='ffill', inplace=True)\n",
    "dfe['Soma de Volume'].fillna(0, inplace=True)\n",
    "\n",
    "# 'dfv' é df_venda\n",
    "dfv = pd.read_excel('Venda.xlsx')\n",
    "dfv.fillna(method='ffill', inplace=True)"
   ]
  },
  {
   "cell_type": "code",
   "execution_count": null,
   "id": "a09053e2-f01e-454b-8a52-c71cad5bb52c",
   "metadata": {},
   "outputs": [],
   "source": [
    "# Vendo valores nulos\n",
    "# dfe.info()\n",
    "dfe.isnull().sum()\n",
    "dfv.isnull().sum()"
   ]
  },
  {
   "cell_type": "code",
   "execution_count": null,
   "id": "dd65a69e-3d7e-42d2-8a10-aaa9895587a8",
   "metadata": {},
   "outputs": [],
   "source": [
    "dfe.head()"
   ]
  },
  {
   "cell_type": "code",
   "execution_count": null,
   "id": "fd8d1025-c959-4308-9895-70ca63b48013",
   "metadata": {},
   "outputs": [],
   "source": [
    "# Que tipo de cliente vende mais em cada base?\n",
    "dfv[\"Base\"].value_counts()  # método útil para variáveis categóricas\n",
    "\n",
    "# 'gbv' = groupby_vendas\n",
    "gbv = dfv.groupby([\"Base\", \"Cliente\"]).sum()  # Quando aplico um método no objeto GroupBy, crio um DataFrame"
   ]
  },
  {
   "cell_type": "code",
   "execution_count": null,
   "id": "81c71a60-bfff-4dd1-97b7-2cc0c7073cba",
   "metadata": {},
   "outputs": [],
   "source": [
    "gbv.head()"
   ]
  },
  {
   "cell_type": "code",
   "execution_count": null,
   "id": "402d4dee-4d3f-494c-a06d-2742d8f51ca5",
   "metadata": {},
   "outputs": [],
   "source": [
    "gbv.loc[(gbv.index.get_level_values('Base').unique(), \"TRR\"), :]"
   ]
  },
  {
   "cell_type": "code",
   "execution_count": null,
   "id": "0ba00d1d-9570-4682-bf19-7625afd5fd2c",
   "metadata": {},
   "outputs": [],
   "source": [
    "gbv"
   ]
  },
  {
   "cell_type": "code",
   "execution_count": null,
   "id": "a0498d5a-9694-44a1-a84e-5977e4ac2c3b",
   "metadata": {},
   "outputs": [],
   "source": [
    "import seaborn as sns\n",
    "from matplotlib import pyplot as plt"
   ]
  },
  {
   "cell_type": "code",
   "execution_count": null,
   "id": "c35c6b8c-2f17-4ba9-b09f-b7b206a7e407",
   "metadata": {},
   "outputs": [],
   "source": [
    "fig, ax = plt.subplots(figsize=(10, 10))\n",
    "_ = sns.barplot(data=gbv.reset_index(), y=\"Base\", x=\"Volume\", hue=\"Cliente\", ax=ax)\n",
    "# _ = plt.xticks(rotation=90)"
   ]
  },
  {
   "cell_type": "code",
   "execution_count": null,
   "id": "6fb8ce20-c1e9-433b-a9ac-4748709d5243",
   "metadata": {},
   "outputs": [],
   "source": [
    "dfv = pd.read_excel(\"Venda.xlsx\")\n",
    "dfv.fillna(method='ffill', inplace=True)"
   ]
  },
  {
   "cell_type": "code",
   "execution_count": null,
   "id": "9bce93da-8ae9-46c9-af34-2ae556c5a284",
   "metadata": {},
   "outputs": [],
   "source": [
    "fig, ax = plt.subplots(figsize=(10, 10))\n",
    "_ = sns.barplot(data=dfv, y=\"Base\", x=\"Volume\", hue=\"Cliente\", ax=ax)\n",
    "# _ = plt.xticks(rotation=90)"
   ]
  },
  {
   "cell_type": "markdown",
   "id": "fd4b40a3-91cc-4b4b-b449-890c0edfd7a9",
   "metadata": {},
   "source": [
    "### Encontro 10\n",
    "\n",
    "- **Dúvidas**\n",
    "    - Diferença entre `print()` e `return`\n",
    "    - Condicionais\n",
    "    - Diferença entre `if/elif` e dois `if`\n",
    "    - Conceito de escopo\n",
    "    - Substituir loop `if` por dicionário de funções\n",
    "    - Método `.get()` de dicionários\n",
    "    - Caminhos relativos vs absolutos\n",
    "        - Caminhos relativos se relacionam com a pasta atual (working directory) e caminhos absolutos são o caminho inteiro na máquina (desde `C://Users/...`)\n",
    "\n",
    "\n",
    "- **Zen do Python**\n",
    "- **Próximos passos**\n",
    "    - Continuação do estudo Python\n",
    "    - Praticar com uma IDE (integrated development environment)\n",
    "        - VSCode  <- boa para começar\n",
    "        - Spyder\n",
    "        - PyCharm\n",
    "    - Git, GitHub e controle de versão\n",
    "    - Recursos\n",
    "        - [Pense Python](https://penseallen.github.io/PensePython2e/)\n",
    "        - [Python Data Science Handbook](https://jakevdp.github.io/PythonDataScienceHandbook/)\n",
    "        - [Talk Joel Grus](https://www.youtube.com/watch?v=7jiPeIFXb6U)"
   ]
  },
  {
   "cell_type": "code",
   "execution_count": null,
   "id": "0e40383f-8f7c-4edd-868b-cf621b4a09b3",
   "metadata": {},
   "outputs": [],
   "source": [
    "import this"
   ]
  },
  {
   "cell_type": "code",
   "execution_count": null,
   "id": "ac54cd64-2198-43bb-a67c-bc8d81a0c88c",
   "metadata": {},
   "outputs": [],
   "source": [
    "type(print)"
   ]
  },
  {
   "cell_type": "code",
   "execution_count": null,
   "id": "a36179a9-7b7c-4580-a2bd-b5e10fa41e86",
   "metadata": {},
   "outputs": [],
   "source": [
    "def print_modificado(x):\n",
    "    print(x)\n",
    "    return x"
   ]
  },
  {
   "cell_type": "code",
   "execution_count": null,
   "id": "492fe52c-57ca-4d4e-8b00-7537f087424e",
   "metadata": {},
   "outputs": [],
   "source": [
    "type(print_modificado)"
   ]
  },
  {
   "cell_type": "code",
   "execution_count": null,
   "id": "56ac67c6-0a86-492a-a945-ba880cabbc20",
   "metadata": {},
   "outputs": [],
   "source": [
    "print_modificado('valor')"
   ]
  },
  {
   "cell_type": "code",
   "execution_count": 1,
   "id": "b3590f6d-9a72-479c-95f4-b9219e59f1c5",
   "metadata": {},
   "outputs": [],
   "source": [
    "import pandas as pd\n",
    "\n",
    "df = pd.read_csv(\"gapminder_wide.csv\")"
   ]
  },
  {
   "cell_type": "code",
   "execution_count": null,
   "id": "7a04b1dc-8b22-4829-971f-141ec12da191",
   "metadata": {},
   "outputs": [],
   "source": [
    "df_processado\n",
    "\n",
    "df_processado.to_csv(\"nome_do_arquivo.csv\", index=False)"
   ]
  },
  {
   "cell_type": "code",
   "execution_count": null,
   "id": "9637a18f-d90d-4277-b883-9f983c820f78",
   "metadata": {},
   "outputs": [],
   "source": [
    "minhavariavel = print(\"algumacoisa\")"
   ]
  },
  {
   "cell_type": "code",
   "execution_count": null,
   "id": "e7791ab7-b04b-4c45-a022-854ff4e5d0b2",
   "metadata": {},
   "outputs": [],
   "source": [
    "if minhavariavel:\n",
    "    print(\"O print retornou algo.\")"
   ]
  },
  {
   "cell_type": "code",
   "execution_count": null,
   "id": "6a4ca319-c148-462c-99e3-dac445214c95",
   "metadata": {},
   "outputs": [],
   "source": [
    "def tamanho_numero(n):\n",
    "    resultado = \"\"\n",
    "    if n > 10e6:\n",
    "        resultado = \"Número grande\"\n",
    "        n = 10\n",
    "    elif n > 10e3:\n",
    "        resultado = \"Número médio\"\n",
    "    else:\n",
    "        resultado = \"Número pequeno\"\n",
    "      \n",
    "    # continua daqui\n",
    "    return resultado\n",
    "\n",
    "def tamanho_numero_2(n):\n",
    "    resultado = \"\"\n",
    "    if n > 10e6:\n",
    "        resultado = \"Número grande\"\n",
    "        n = 10\n",
    "\n",
    "    if n > 10e3:\n",
    "        resultado = \"Número médio\"\n",
    "    else:\n",
    "        resultado = \"Número pequeno\"\n",
    "      \n",
    "    # continua daqui\n",
    "    return resultado"
   ]
  },
  {
   "cell_type": "code",
   "execution_count": null,
   "id": "44432b77-1dd0-401e-8017-c9ad4a08311c",
   "metadata": {},
   "outputs": [],
   "source": [
    "print(tamanho_numero(10e7))\n",
    "print(tamanho_numero_2(10e7))"
   ]
  },
  {
   "cell_type": "code",
   "execution_count": null,
   "id": "5eaff738-f8a8-470d-95da-48e4d94dde25",
   "metadata": {},
   "outputs": [],
   "source": [
    "# objeto função\n",
    "tamanho_numero"
   ]
  },
  {
   "cell_type": "code",
   "execution_count": null,
   "id": "93df829e-637a-4f46-8fcf-d67e999941c5",
   "metadata": {},
   "outputs": [],
   "source": [
    "type(tamanho_numero)"
   ]
  },
  {
   "cell_type": "code",
   "execution_count": null,
   "id": "e300cadc-733c-4d3a-a21d-46e98cdf58c8",
   "metadata": {},
   "outputs": [],
   "source": [
    "# chamar a função -> precisa do ()\n",
    "tamanho_numero(10e10)"
   ]
  },
  {
   "cell_type": "code",
   "execution_count": null,
   "id": "24f17491-6f50-45e1-8042-588b1f0a7d45",
   "metadata": {},
   "outputs": [],
   "source": [
    "def nome_da_funcao():\n",
    "    pass"
   ]
  },
  {
   "cell_type": "code",
   "execution_count": null,
   "id": "fb8783c6-fa90-4274-bd0e-27e776840e6d",
   "metadata": {},
   "outputs": [],
   "source": [
    "def nome_da_funcao():\n",
    "    return 'valor'"
   ]
  },
  {
   "cell_type": "code",
   "execution_count": null,
   "id": "fd40d577-a03a-49fa-8653-ad92629b7605",
   "metadata": {},
   "outputs": [],
   "source": [
    "def nome_da_funcao(x='x'):\n",
    "    return x"
   ]
  },
  {
   "cell_type": "code",
   "execution_count": null,
   "id": "5ddde2b1-e4ad-4660-a730-65c594617221",
   "metadata": {},
   "outputs": [],
   "source": [
    "nome_da_funcao()"
   ]
  },
  {
   "cell_type": "code",
   "execution_count": null,
   "id": "be0fa3d4-8e56-4309-815f-7217ffb9599f",
   "metadata": {},
   "outputs": [],
   "source": [
    "def funcao_a():\n",
    "    # fazer ação a\n",
    "    print(\"a\")\n",
    "    pass\n",
    "\n",
    "\n",
    "def funcao_b():\n",
    "    # fazer ação b\n",
    "    print(\"b\")\n",
    "    pass\n",
    "\n",
    "\n",
    "def funcao_c():\n",
    "    # fazer ação c\n",
    "    print(\"c\")\n",
    "    pass"
   ]
  },
  {
   "cell_type": "markdown",
   "id": "cf2f996e-ff56-4c46-a5e9-aae56f45f290",
   "metadata": {},
   "source": [
    "#### Substituindo padrão `if/elif/else` por dicionários\n",
    "\n",
    "Dicionário pode ser usado para mapear ações ou valores."
   ]
  },
  {
   "cell_type": "code",
   "execution_count": null,
   "id": "1171763d-0643-4f73-98bc-82195ef38d6c",
   "metadata": {},
   "outputs": [],
   "source": [
    "acao = input()\n",
    "\n",
    "if acao == \"a\":\n",
    "    funcao_a(acao)\n",
    "elif acao == \"b\":\n",
    "    funcao_b(acao)\n",
    "elif acao == \"c\":\n",
    "    funcao_c(acao)\n",
    "else:\n",
    "    print(\"Ação inválida.\")"
   ]
  },
  {
   "cell_type": "code",
   "execution_count": null,
   "id": "9ebeb8e9-e7bf-4f32-b93c-6b3d0321050f",
   "metadata": {},
   "outputs": [],
   "source": [
    "dicionario_acoes = {\n",
    "    \"a\": funcao_a,\n",
    "    \"b\": funcao_b,\n",
    "    \"c\": funcao_c\n",
    "}\n",
    "\n",
    "acao = input()\n",
    "dicionario_acoes.get(acao, \"Ação inválida\")"
   ]
  },
  {
   "cell_type": "code",
   "execution_count": null,
   "id": "e9f0b0a8-aae1-49f7-b98a-6f2daf611bc5",
   "metadata": {},
   "outputs": [],
   "source": [
    "capitais = {\n",
    "    \"RJ\": \"Rio de Janeiro\",\n",
    "    \"RS\": \"Porto Alegre\",\n",
    "    \"SC\": \"Florianópolis\"\n",
    "}"
   ]
  },
  {
   "cell_type": "code",
   "execution_count": null,
   "id": "86032a54-fd00-4cad-a277-1ee86e4c3cba",
   "metadata": {},
   "outputs": [],
   "source": [
    "capitais.get(\"RJ\")  # é diferente de\n",
    "capitais[\"RJ\"]"
   ]
  },
  {
   "cell_type": "code",
   "execution_count": null,
   "id": "b11deebf-cc75-4a1e-a0b0-6209cbd24558",
   "metadata": {},
   "outputs": [],
   "source": [
    "valor = capitais.get(\"XX\", \"Inválido\")"
   ]
  }
 ],
 "metadata": {
  "kernelspec": {
   "display_name": "Python [conda env:xlab]",
   "language": "python",
   "name": "conda-env-xlab-py"
  },
  "language_info": {
   "codemirror_mode": {
    "name": "ipython",
    "version": 3
   },
   "file_extension": ".py",
   "mimetype": "text/x-python",
   "name": "python",
   "nbconvert_exporter": "python",
   "pygments_lexer": "ipython3",
   "version": "3.9.2"
  }
 },
 "nbformat": 4,
 "nbformat_minor": 5
}
