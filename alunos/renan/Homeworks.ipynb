{
 "cells": [
  {
   "cell_type": "markdown",
   "metadata": {},
   "source": [
    "### Homework encontro 2\n",
    "\n",
    "Usando o módulo `math` e dado uma esfera de raio `r`, criar funções para:\n",
    "- determinar a circunferência\n",
    "- determinar a área\n",
    "- determinar o volume\n",
    "- imprimir todas essas informações"
   ]
  },
  {
   "cell_type": "code",
   "execution_count": null,
   "metadata": {},
   "outputs": [],
   "source": [
    "from math import pi\n",
    "\n",
    "\n",
    "def calcular_circunferencia(raio):\n",
    "    \"\"\"\n",
    "    Calcula a circunferência de um círculo a partir do raio.\n",
    "    \"\"\"\n",
    "    circunferencia = 2 * pi * raio\n",
    "    return round(circunferencia, 2)\n",
    "\n",
    "\n",
    "def calcular_area(raio):\n",
    "    \"\"\"\n",
    "    Calcula a área de superfície da esfera a partir do raio.\n",
    "    \"\"\"\n",
    "    area = 4 * pi * (raio ** 2)\n",
    "    return round(area, 2)\n",
    "\n",
    "\n",
    "def calcular_volume(raio):\n",
    "    \"\"\"\n",
    "    Calcula o volume da esfera a partir do raio.      \n",
    "    \"\"\"\n",
    "    volume = 4/3 * pi * (raio ** 3)\n",
    "    return round(volume, 2)\n",
    "\n",
    "\n",
    "def calcular_estatisticas_esfera(raio):\n",
    "    \"\"\"\n",
    "    Calcula a circunferência, área de superfície e volume de\n",
    "    uma esfera a partir do raio.\n",
    "    \"\"\"\n",
    "    circunferencia = calcular_circunferencia(raio)\n",
    "    area = calcular_area(raio)\n",
    "    volume = calcular_volume(raio)\n",
    "    \n",
    "    print(\"O raio é\", raio, \" cm\")\n",
    "    print(\"A sua circunferência é\", circunferencia, \" cm\")\n",
    "    print(\"A área é\", area, \" cm^2\")\n",
    "    print(\"O volume é\", volume, \" cm^3\")\n",
    "    \n",
    "    return circunferencia, area, volume\n",
    "raio = float(input(\"Dê o tamanho do raio em cm: \"))\n",
    "calcular_estatisticas_esfera(raio)"
   ]
  },
  {
   "cell_type": "markdown",
   "metadata": {},
   "source": [
    "### Homework Encontro 3\n",
    "\n",
    "Escreva uma função que, dada uma string representando um tempo no formato `\"HH:MM:SS\"`, retornar o número total de segundos.\n",
    "\n",
    "Exemplo: `\"01:00:00\"` retorna `3600`.\n",
    "\n",
    "Bônus = fazer uma versão alternativa que retorna o dia em formato de fração. \n",
    "\n",
    "Exemplo: `\"12:00:00\"` retorna `0.5`"
   ]
  },
  {
   "cell_type": "code",
   "execution_count": null,
   "metadata": {},
   "outputs": [],
   "source": [
    "\n",
    "\n",
    "\n",
    "    "
   ]
  },
  {
   "cell_type": "code",
   "execution_count": null,
   "metadata": {},
   "outputs": [],
   "source": [
    "def conversao_tempo(horario):\n",
    "    segundos = horario[-2:]\n",
    "    minutos = horario[3:5]\n",
    "    horas = horario[0:2]\n",
    "    print(str(int(horas) * 3600 + int(minutos) * 60 + int(segundos) * 1), \"segundos\")"
   ]
  },
  {
   "cell_type": "code",
   "execution_count": null,
   "metadata": {},
   "outputs": [],
   "source": [
    "horario = str(input(\"Insira o tempo no formato HH:MM:SS\"))\n",
    "conversao_tempo(horario)"
   ]
  },
  {
   "cell_type": "code",
   "execution_count": null,
   "metadata": {},
   "outputs": [],
   "source": [
    "def elevar_potencia(base, potencia):\n",
    "    return base ** potencia"
   ]
  },
  {
   "cell_type": "code",
   "execution_count": null,
   "metadata": {},
   "outputs": [],
   "source": [
    "elevar_potencia(3,5)"
   ]
  },
  {
   "cell_type": "code",
   "execution_count": null,
   "metadata": {},
   "outputs": [],
   "source": [
    "elevar_potencia(potencia = 2, base = 3)"
   ]
  },
  {
   "cell_type": "code",
   "execution_count": null,
   "metadata": {},
   "outputs": [],
   "source": []
  }
 ],
 "metadata": {
  "kernelspec": {
   "display_name": "Python 3",
   "language": "python",
   "name": "python3"
  },
  "language_info": {
   "codemirror_mode": {
    "name": "ipython",
    "version": 3
   },
   "file_extension": ".py",
   "mimetype": "text/x-python",
   "name": "python",
   "nbconvert_exporter": "python",
   "pygments_lexer": "ipython3",
   "version": "3.7.10"
  }
 },
 "nbformat": 4,
 "nbformat_minor": 4
}
